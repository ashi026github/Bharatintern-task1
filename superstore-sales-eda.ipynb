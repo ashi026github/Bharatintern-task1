{
 "cells": [
  {
   "cell_type": "code",
   "execution_count": 1,
   "id": "928b4813",
   "metadata": {
    "_cell_guid": "b1076dfc-b9ad-4769-8c92-a6c4dae69d19",
    "_uuid": "8f2839f25d086af736a60e9eeb907d3b93b6e0e5",
    "execution": {
     "iopub.execute_input": "2023-08-03T15:12:41.825438Z",
     "iopub.status.busy": "2023-08-03T15:12:41.825030Z",
     "iopub.status.idle": "2023-08-03T15:12:41.844115Z",
     "shell.execute_reply": "2023-08-03T15:12:41.843248Z"
    },
    "papermill": {
     "duration": 0.039265,
     "end_time": "2023-08-03T15:12:41.847364",
     "exception": false,
     "start_time": "2023-08-03T15:12:41.808099",
     "status": "completed"
    },
    "tags": []
   },
   "outputs": [
    {
     "name": "stdout",
     "output_type": "stream",
     "text": [
      "/kaggle/input/sales-forecasting/train.csv\n"
     ]
    }
   ],
   "source": [
    "# This Python 3 environment comes with many helpful analytics libraries installed\n",
    "# It is defined by the kaggle/python Docker image: https://github.com/kaggle/docker-python\n",
    "# For example, here's several helpful packages to load\n",
    "\n",
    "import numpy as np # linear algebra\n",
    "import pandas as pd # data processing, CSV file I/O (e.g. pd.read_csv)\n",
    "\n",
    "# Input data files are available in the read-only \"../input/\" directory\n",
    "# For example, running this (by clicking run or pressing Shift+Enter) will list all files under the input directory\n",
    "\n",
    "import os\n",
    "for dirname, _, filenames in os.walk('/kaggle/input'):\n",
    "    for filename in filenames:\n",
    "        print(os.path.join(dirname, filename))\n",
    "\n",
    "# You can write up to 20GB to the current directory (/kaggle/working/) that gets preserved as output when you create a version using \"Save & Run All\" \n",
    "# You can also write temporary files to /kaggle/temp/, but they won't be saved outside of the current session"
   ]
  },
  {
   "cell_type": "code",
   "execution_count": 2,
   "id": "3539a4ec",
   "metadata": {
    "execution": {
     "iopub.execute_input": "2023-08-03T15:12:41.878714Z",
     "iopub.status.busy": "2023-08-03T15:12:41.878257Z",
     "iopub.status.idle": "2023-08-03T15:12:44.157920Z",
     "shell.execute_reply": "2023-08-03T15:12:44.156595Z"
    },
    "papermill": {
     "duration": 2.299483,
     "end_time": "2023-08-03T15:12:44.161447",
     "exception": false,
     "start_time": "2023-08-03T15:12:41.861964",
     "status": "completed"
    },
    "tags": []
   },
   "outputs": [
    {
     "name": "stderr",
     "output_type": "stream",
     "text": [
      "/opt/conda/lib/python3.10/site-packages/scipy/__init__.py:146: UserWarning: A NumPy version >=1.16.5 and <1.23.0 is required for this version of SciPy (detected version 1.23.5\n",
      "  warnings.warn(f\"A NumPy version >={np_minversion} and <{np_maxversion}\"\n"
     ]
    }
   ],
   "source": [
    "#importing libraries\n",
    "import pandas as pd\n",
    "import numpy as np\n",
    "import matplotlib.pyplot as plt\n",
    "import seaborn as sns\n",
    "import plotly.express as px"
   ]
  },
  {
   "cell_type": "code",
   "execution_count": 3,
   "id": "e6a09e25",
   "metadata": {
    "execution": {
     "iopub.execute_input": "2023-08-03T15:12:44.196140Z",
     "iopub.status.busy": "2023-08-03T15:12:44.195673Z",
     "iopub.status.idle": "2023-08-03T15:12:44.318734Z",
     "shell.execute_reply": "2023-08-03T15:12:44.317360Z"
    },
    "papermill": {
     "duration": 0.142514,
     "end_time": "2023-08-03T15:12:44.321603",
     "exception": false,
     "start_time": "2023-08-03T15:12:44.179089",
     "status": "completed"
    },
    "tags": []
   },
   "outputs": [],
   "source": [
    "df = pd.read_csv(\"/kaggle/input/sales-forecasting/train.csv\")"
   ]
  },
  {
   "cell_type": "code",
   "execution_count": 4,
   "id": "2a95af13",
   "metadata": {
    "execution": {
     "iopub.execute_input": "2023-08-03T15:12:44.352820Z",
     "iopub.status.busy": "2023-08-03T15:12:44.351493Z",
     "iopub.status.idle": "2023-08-03T15:12:44.403322Z",
     "shell.execute_reply": "2023-08-03T15:12:44.402016Z"
    },
    "papermill": {
     "duration": 0.070077,
     "end_time": "2023-08-03T15:12:44.405973",
     "exception": false,
     "start_time": "2023-08-03T15:12:44.335896",
     "status": "completed"
    },
    "tags": []
   },
   "outputs": [
    {
     "data": {
      "text/html": [
       "<div>\n",
       "<style scoped>\n",
       "    .dataframe tbody tr th:only-of-type {\n",
       "        vertical-align: middle;\n",
       "    }\n",
       "\n",
       "    .dataframe tbody tr th {\n",
       "        vertical-align: top;\n",
       "    }\n",
       "\n",
       "    .dataframe thead th {\n",
       "        text-align: right;\n",
       "    }\n",
       "</style>\n",
       "<table border=\"1\" class=\"dataframe\">\n",
       "  <thead>\n",
       "    <tr style=\"text-align: right;\">\n",
       "      <th></th>\n",
       "      <th>Row ID</th>\n",
       "      <th>Order ID</th>\n",
       "      <th>Order Date</th>\n",
       "      <th>Ship Date</th>\n",
       "      <th>Ship Mode</th>\n",
       "      <th>Customer ID</th>\n",
       "      <th>Customer Name</th>\n",
       "      <th>Segment</th>\n",
       "      <th>Country</th>\n",
       "      <th>City</th>\n",
       "      <th>State</th>\n",
       "      <th>Postal Code</th>\n",
       "      <th>Region</th>\n",
       "      <th>Product ID</th>\n",
       "      <th>Category</th>\n",
       "      <th>Sub-Category</th>\n",
       "      <th>Product Name</th>\n",
       "      <th>Sales</th>\n",
       "    </tr>\n",
       "  </thead>\n",
       "  <tbody>\n",
       "    <tr>\n",
       "      <th>0</th>\n",
       "      <td>1</td>\n",
       "      <td>CA-2017-152156</td>\n",
       "      <td>08/11/2017</td>\n",
       "      <td>11/11/2017</td>\n",
       "      <td>Second Class</td>\n",
       "      <td>CG-12520</td>\n",
       "      <td>Claire Gute</td>\n",
       "      <td>Consumer</td>\n",
       "      <td>United States</td>\n",
       "      <td>Henderson</td>\n",
       "      <td>Kentucky</td>\n",
       "      <td>42420.0</td>\n",
       "      <td>South</td>\n",
       "      <td>FUR-BO-10001798</td>\n",
       "      <td>Furniture</td>\n",
       "      <td>Bookcases</td>\n",
       "      <td>Bush Somerset Collection Bookcase</td>\n",
       "      <td>261.9600</td>\n",
       "    </tr>\n",
       "    <tr>\n",
       "      <th>1</th>\n",
       "      <td>2</td>\n",
       "      <td>CA-2017-152156</td>\n",
       "      <td>08/11/2017</td>\n",
       "      <td>11/11/2017</td>\n",
       "      <td>Second Class</td>\n",
       "      <td>CG-12520</td>\n",
       "      <td>Claire Gute</td>\n",
       "      <td>Consumer</td>\n",
       "      <td>United States</td>\n",
       "      <td>Henderson</td>\n",
       "      <td>Kentucky</td>\n",
       "      <td>42420.0</td>\n",
       "      <td>South</td>\n",
       "      <td>FUR-CH-10000454</td>\n",
       "      <td>Furniture</td>\n",
       "      <td>Chairs</td>\n",
       "      <td>Hon Deluxe Fabric Upholstered Stacking Chairs,...</td>\n",
       "      <td>731.9400</td>\n",
       "    </tr>\n",
       "    <tr>\n",
       "      <th>2</th>\n",
       "      <td>3</td>\n",
       "      <td>CA-2017-138688</td>\n",
       "      <td>12/06/2017</td>\n",
       "      <td>16/06/2017</td>\n",
       "      <td>Second Class</td>\n",
       "      <td>DV-13045</td>\n",
       "      <td>Darrin Van Huff</td>\n",
       "      <td>Corporate</td>\n",
       "      <td>United States</td>\n",
       "      <td>Los Angeles</td>\n",
       "      <td>California</td>\n",
       "      <td>90036.0</td>\n",
       "      <td>West</td>\n",
       "      <td>OFF-LA-10000240</td>\n",
       "      <td>Office Supplies</td>\n",
       "      <td>Labels</td>\n",
       "      <td>Self-Adhesive Address Labels for Typewriters b...</td>\n",
       "      <td>14.6200</td>\n",
       "    </tr>\n",
       "    <tr>\n",
       "      <th>3</th>\n",
       "      <td>4</td>\n",
       "      <td>US-2016-108966</td>\n",
       "      <td>11/10/2016</td>\n",
       "      <td>18/10/2016</td>\n",
       "      <td>Standard Class</td>\n",
       "      <td>SO-20335</td>\n",
       "      <td>Sean O'Donnell</td>\n",
       "      <td>Consumer</td>\n",
       "      <td>United States</td>\n",
       "      <td>Fort Lauderdale</td>\n",
       "      <td>Florida</td>\n",
       "      <td>33311.0</td>\n",
       "      <td>South</td>\n",
       "      <td>FUR-TA-10000577</td>\n",
       "      <td>Furniture</td>\n",
       "      <td>Tables</td>\n",
       "      <td>Bretford CR4500 Series Slim Rectangular Table</td>\n",
       "      <td>957.5775</td>\n",
       "    </tr>\n",
       "    <tr>\n",
       "      <th>4</th>\n",
       "      <td>5</td>\n",
       "      <td>US-2016-108966</td>\n",
       "      <td>11/10/2016</td>\n",
       "      <td>18/10/2016</td>\n",
       "      <td>Standard Class</td>\n",
       "      <td>SO-20335</td>\n",
       "      <td>Sean O'Donnell</td>\n",
       "      <td>Consumer</td>\n",
       "      <td>United States</td>\n",
       "      <td>Fort Lauderdale</td>\n",
       "      <td>Florida</td>\n",
       "      <td>33311.0</td>\n",
       "      <td>South</td>\n",
       "      <td>OFF-ST-10000760</td>\n",
       "      <td>Office Supplies</td>\n",
       "      <td>Storage</td>\n",
       "      <td>Eldon Fold 'N Roll Cart System</td>\n",
       "      <td>22.3680</td>\n",
       "    </tr>\n",
       "    <tr>\n",
       "      <th>...</th>\n",
       "      <td>...</td>\n",
       "      <td>...</td>\n",
       "      <td>...</td>\n",
       "      <td>...</td>\n",
       "      <td>...</td>\n",
       "      <td>...</td>\n",
       "      <td>...</td>\n",
       "      <td>...</td>\n",
       "      <td>...</td>\n",
       "      <td>...</td>\n",
       "      <td>...</td>\n",
       "      <td>...</td>\n",
       "      <td>...</td>\n",
       "      <td>...</td>\n",
       "      <td>...</td>\n",
       "      <td>...</td>\n",
       "      <td>...</td>\n",
       "      <td>...</td>\n",
       "    </tr>\n",
       "    <tr>\n",
       "      <th>9795</th>\n",
       "      <td>9796</td>\n",
       "      <td>CA-2017-125920</td>\n",
       "      <td>21/05/2017</td>\n",
       "      <td>28/05/2017</td>\n",
       "      <td>Standard Class</td>\n",
       "      <td>SH-19975</td>\n",
       "      <td>Sally Hughsby</td>\n",
       "      <td>Corporate</td>\n",
       "      <td>United States</td>\n",
       "      <td>Chicago</td>\n",
       "      <td>Illinois</td>\n",
       "      <td>60610.0</td>\n",
       "      <td>Central</td>\n",
       "      <td>OFF-BI-10003429</td>\n",
       "      <td>Office Supplies</td>\n",
       "      <td>Binders</td>\n",
       "      <td>Cardinal HOLDit! Binder Insert Strips,Extra St...</td>\n",
       "      <td>3.7980</td>\n",
       "    </tr>\n",
       "    <tr>\n",
       "      <th>9796</th>\n",
       "      <td>9797</td>\n",
       "      <td>CA-2016-128608</td>\n",
       "      <td>12/01/2016</td>\n",
       "      <td>17/01/2016</td>\n",
       "      <td>Standard Class</td>\n",
       "      <td>CS-12490</td>\n",
       "      <td>Cindy Schnelling</td>\n",
       "      <td>Corporate</td>\n",
       "      <td>United States</td>\n",
       "      <td>Toledo</td>\n",
       "      <td>Ohio</td>\n",
       "      <td>43615.0</td>\n",
       "      <td>East</td>\n",
       "      <td>OFF-AR-10001374</td>\n",
       "      <td>Office Supplies</td>\n",
       "      <td>Art</td>\n",
       "      <td>BIC Brite Liner Highlighters, Chisel Tip</td>\n",
       "      <td>10.3680</td>\n",
       "    </tr>\n",
       "    <tr>\n",
       "      <th>9797</th>\n",
       "      <td>9798</td>\n",
       "      <td>CA-2016-128608</td>\n",
       "      <td>12/01/2016</td>\n",
       "      <td>17/01/2016</td>\n",
       "      <td>Standard Class</td>\n",
       "      <td>CS-12490</td>\n",
       "      <td>Cindy Schnelling</td>\n",
       "      <td>Corporate</td>\n",
       "      <td>United States</td>\n",
       "      <td>Toledo</td>\n",
       "      <td>Ohio</td>\n",
       "      <td>43615.0</td>\n",
       "      <td>East</td>\n",
       "      <td>TEC-PH-10004977</td>\n",
       "      <td>Technology</td>\n",
       "      <td>Phones</td>\n",
       "      <td>GE 30524EE4</td>\n",
       "      <td>235.1880</td>\n",
       "    </tr>\n",
       "    <tr>\n",
       "      <th>9798</th>\n",
       "      <td>9799</td>\n",
       "      <td>CA-2016-128608</td>\n",
       "      <td>12/01/2016</td>\n",
       "      <td>17/01/2016</td>\n",
       "      <td>Standard Class</td>\n",
       "      <td>CS-12490</td>\n",
       "      <td>Cindy Schnelling</td>\n",
       "      <td>Corporate</td>\n",
       "      <td>United States</td>\n",
       "      <td>Toledo</td>\n",
       "      <td>Ohio</td>\n",
       "      <td>43615.0</td>\n",
       "      <td>East</td>\n",
       "      <td>TEC-PH-10000912</td>\n",
       "      <td>Technology</td>\n",
       "      <td>Phones</td>\n",
       "      <td>Anker 24W Portable Micro USB Car Charger</td>\n",
       "      <td>26.3760</td>\n",
       "    </tr>\n",
       "    <tr>\n",
       "      <th>9799</th>\n",
       "      <td>9800</td>\n",
       "      <td>CA-2016-128608</td>\n",
       "      <td>12/01/2016</td>\n",
       "      <td>17/01/2016</td>\n",
       "      <td>Standard Class</td>\n",
       "      <td>CS-12490</td>\n",
       "      <td>Cindy Schnelling</td>\n",
       "      <td>Corporate</td>\n",
       "      <td>United States</td>\n",
       "      <td>Toledo</td>\n",
       "      <td>Ohio</td>\n",
       "      <td>43615.0</td>\n",
       "      <td>East</td>\n",
       "      <td>TEC-AC-10000487</td>\n",
       "      <td>Technology</td>\n",
       "      <td>Accessories</td>\n",
       "      <td>SanDisk Cruzer 4 GB USB Flash Drive</td>\n",
       "      <td>10.3840</td>\n",
       "    </tr>\n",
       "  </tbody>\n",
       "</table>\n",
       "<p>9800 rows × 18 columns</p>\n",
       "</div>"
      ],
      "text/plain": [
       "      Row ID        Order ID  Order Date   Ship Date       Ship Mode  \\\n",
       "0          1  CA-2017-152156  08/11/2017  11/11/2017    Second Class   \n",
       "1          2  CA-2017-152156  08/11/2017  11/11/2017    Second Class   \n",
       "2          3  CA-2017-138688  12/06/2017  16/06/2017    Second Class   \n",
       "3          4  US-2016-108966  11/10/2016  18/10/2016  Standard Class   \n",
       "4          5  US-2016-108966  11/10/2016  18/10/2016  Standard Class   \n",
       "...      ...             ...         ...         ...             ...   \n",
       "9795    9796  CA-2017-125920  21/05/2017  28/05/2017  Standard Class   \n",
       "9796    9797  CA-2016-128608  12/01/2016  17/01/2016  Standard Class   \n",
       "9797    9798  CA-2016-128608  12/01/2016  17/01/2016  Standard Class   \n",
       "9798    9799  CA-2016-128608  12/01/2016  17/01/2016  Standard Class   \n",
       "9799    9800  CA-2016-128608  12/01/2016  17/01/2016  Standard Class   \n",
       "\n",
       "     Customer ID     Customer Name    Segment        Country             City  \\\n",
       "0       CG-12520       Claire Gute   Consumer  United States        Henderson   \n",
       "1       CG-12520       Claire Gute   Consumer  United States        Henderson   \n",
       "2       DV-13045   Darrin Van Huff  Corporate  United States      Los Angeles   \n",
       "3       SO-20335    Sean O'Donnell   Consumer  United States  Fort Lauderdale   \n",
       "4       SO-20335    Sean O'Donnell   Consumer  United States  Fort Lauderdale   \n",
       "...          ...               ...        ...            ...              ...   \n",
       "9795    SH-19975     Sally Hughsby  Corporate  United States          Chicago   \n",
       "9796    CS-12490  Cindy Schnelling  Corporate  United States           Toledo   \n",
       "9797    CS-12490  Cindy Schnelling  Corporate  United States           Toledo   \n",
       "9798    CS-12490  Cindy Schnelling  Corporate  United States           Toledo   \n",
       "9799    CS-12490  Cindy Schnelling  Corporate  United States           Toledo   \n",
       "\n",
       "           State  Postal Code   Region       Product ID         Category  \\\n",
       "0       Kentucky      42420.0    South  FUR-BO-10001798        Furniture   \n",
       "1       Kentucky      42420.0    South  FUR-CH-10000454        Furniture   \n",
       "2     California      90036.0     West  OFF-LA-10000240  Office Supplies   \n",
       "3        Florida      33311.0    South  FUR-TA-10000577        Furniture   \n",
       "4        Florida      33311.0    South  OFF-ST-10000760  Office Supplies   \n",
       "...          ...          ...      ...              ...              ...   \n",
       "9795    Illinois      60610.0  Central  OFF-BI-10003429  Office Supplies   \n",
       "9796        Ohio      43615.0     East  OFF-AR-10001374  Office Supplies   \n",
       "9797        Ohio      43615.0     East  TEC-PH-10004977       Technology   \n",
       "9798        Ohio      43615.0     East  TEC-PH-10000912       Technology   \n",
       "9799        Ohio      43615.0     East  TEC-AC-10000487       Technology   \n",
       "\n",
       "     Sub-Category                                       Product Name     Sales  \n",
       "0       Bookcases                  Bush Somerset Collection Bookcase  261.9600  \n",
       "1          Chairs  Hon Deluxe Fabric Upholstered Stacking Chairs,...  731.9400  \n",
       "2          Labels  Self-Adhesive Address Labels for Typewriters b...   14.6200  \n",
       "3          Tables      Bretford CR4500 Series Slim Rectangular Table  957.5775  \n",
       "4         Storage                     Eldon Fold 'N Roll Cart System   22.3680  \n",
       "...           ...                                                ...       ...  \n",
       "9795      Binders  Cardinal HOLDit! Binder Insert Strips,Extra St...    3.7980  \n",
       "9796          Art           BIC Brite Liner Highlighters, Chisel Tip   10.3680  \n",
       "9797       Phones                                        GE 30524EE4  235.1880  \n",
       "9798       Phones           Anker 24W Portable Micro USB Car Charger   26.3760  \n",
       "9799  Accessories                SanDisk Cruzer 4 GB USB Flash Drive   10.3840  \n",
       "\n",
       "[9800 rows x 18 columns]"
      ]
     },
     "execution_count": 4,
     "metadata": {},
     "output_type": "execute_result"
    }
   ],
   "source": [
    "df"
   ]
  },
  {
   "cell_type": "markdown",
   "id": "0672d7e3",
   "metadata": {
    "papermill": {
     "duration": 0.014203,
     "end_time": "2023-08-03T15:12:44.434889",
     "exception": false,
     "start_time": "2023-08-03T15:12:44.420686",
     "status": "completed"
    },
    "tags": []
   },
   "source": [
    "**<font size=\"6\">Exploring data</font>**"
   ]
  },
  {
   "cell_type": "code",
   "execution_count": 5,
   "id": "9e7d170c",
   "metadata": {
    "execution": {
     "iopub.execute_input": "2023-08-03T15:12:44.466330Z",
     "iopub.status.busy": "2023-08-03T15:12:44.465775Z",
     "iopub.status.idle": "2023-08-03T15:12:44.491220Z",
     "shell.execute_reply": "2023-08-03T15:12:44.489879Z"
    },
    "papermill": {
     "duration": 0.044514,
     "end_time": "2023-08-03T15:12:44.493837",
     "exception": false,
     "start_time": "2023-08-03T15:12:44.449323",
     "status": "completed"
    },
    "tags": []
   },
   "outputs": [
    {
     "data": {
      "text/html": [
       "<div>\n",
       "<style scoped>\n",
       "    .dataframe tbody tr th:only-of-type {\n",
       "        vertical-align: middle;\n",
       "    }\n",
       "\n",
       "    .dataframe tbody tr th {\n",
       "        vertical-align: top;\n",
       "    }\n",
       "\n",
       "    .dataframe thead th {\n",
       "        text-align: right;\n",
       "    }\n",
       "</style>\n",
       "<table border=\"1\" class=\"dataframe\">\n",
       "  <thead>\n",
       "    <tr style=\"text-align: right;\">\n",
       "      <th></th>\n",
       "      <th>Row ID</th>\n",
       "      <th>Order ID</th>\n",
       "      <th>Order Date</th>\n",
       "      <th>Ship Date</th>\n",
       "      <th>Ship Mode</th>\n",
       "      <th>Customer ID</th>\n",
       "      <th>Customer Name</th>\n",
       "      <th>Segment</th>\n",
       "      <th>Country</th>\n",
       "      <th>City</th>\n",
       "      <th>State</th>\n",
       "      <th>Postal Code</th>\n",
       "      <th>Region</th>\n",
       "      <th>Product ID</th>\n",
       "      <th>Category</th>\n",
       "      <th>Sub-Category</th>\n",
       "      <th>Product Name</th>\n",
       "      <th>Sales</th>\n",
       "    </tr>\n",
       "  </thead>\n",
       "  <tbody>\n",
       "    <tr>\n",
       "      <th>0</th>\n",
       "      <td>1</td>\n",
       "      <td>CA-2017-152156</td>\n",
       "      <td>08/11/2017</td>\n",
       "      <td>11/11/2017</td>\n",
       "      <td>Second Class</td>\n",
       "      <td>CG-12520</td>\n",
       "      <td>Claire Gute</td>\n",
       "      <td>Consumer</td>\n",
       "      <td>United States</td>\n",
       "      <td>Henderson</td>\n",
       "      <td>Kentucky</td>\n",
       "      <td>42420.0</td>\n",
       "      <td>South</td>\n",
       "      <td>FUR-BO-10001798</td>\n",
       "      <td>Furniture</td>\n",
       "      <td>Bookcases</td>\n",
       "      <td>Bush Somerset Collection Bookcase</td>\n",
       "      <td>261.9600</td>\n",
       "    </tr>\n",
       "    <tr>\n",
       "      <th>1</th>\n",
       "      <td>2</td>\n",
       "      <td>CA-2017-152156</td>\n",
       "      <td>08/11/2017</td>\n",
       "      <td>11/11/2017</td>\n",
       "      <td>Second Class</td>\n",
       "      <td>CG-12520</td>\n",
       "      <td>Claire Gute</td>\n",
       "      <td>Consumer</td>\n",
       "      <td>United States</td>\n",
       "      <td>Henderson</td>\n",
       "      <td>Kentucky</td>\n",
       "      <td>42420.0</td>\n",
       "      <td>South</td>\n",
       "      <td>FUR-CH-10000454</td>\n",
       "      <td>Furniture</td>\n",
       "      <td>Chairs</td>\n",
       "      <td>Hon Deluxe Fabric Upholstered Stacking Chairs,...</td>\n",
       "      <td>731.9400</td>\n",
       "    </tr>\n",
       "    <tr>\n",
       "      <th>2</th>\n",
       "      <td>3</td>\n",
       "      <td>CA-2017-138688</td>\n",
       "      <td>12/06/2017</td>\n",
       "      <td>16/06/2017</td>\n",
       "      <td>Second Class</td>\n",
       "      <td>DV-13045</td>\n",
       "      <td>Darrin Van Huff</td>\n",
       "      <td>Corporate</td>\n",
       "      <td>United States</td>\n",
       "      <td>Los Angeles</td>\n",
       "      <td>California</td>\n",
       "      <td>90036.0</td>\n",
       "      <td>West</td>\n",
       "      <td>OFF-LA-10000240</td>\n",
       "      <td>Office Supplies</td>\n",
       "      <td>Labels</td>\n",
       "      <td>Self-Adhesive Address Labels for Typewriters b...</td>\n",
       "      <td>14.6200</td>\n",
       "    </tr>\n",
       "    <tr>\n",
       "      <th>3</th>\n",
       "      <td>4</td>\n",
       "      <td>US-2016-108966</td>\n",
       "      <td>11/10/2016</td>\n",
       "      <td>18/10/2016</td>\n",
       "      <td>Standard Class</td>\n",
       "      <td>SO-20335</td>\n",
       "      <td>Sean O'Donnell</td>\n",
       "      <td>Consumer</td>\n",
       "      <td>United States</td>\n",
       "      <td>Fort Lauderdale</td>\n",
       "      <td>Florida</td>\n",
       "      <td>33311.0</td>\n",
       "      <td>South</td>\n",
       "      <td>FUR-TA-10000577</td>\n",
       "      <td>Furniture</td>\n",
       "      <td>Tables</td>\n",
       "      <td>Bretford CR4500 Series Slim Rectangular Table</td>\n",
       "      <td>957.5775</td>\n",
       "    </tr>\n",
       "    <tr>\n",
       "      <th>4</th>\n",
       "      <td>5</td>\n",
       "      <td>US-2016-108966</td>\n",
       "      <td>11/10/2016</td>\n",
       "      <td>18/10/2016</td>\n",
       "      <td>Standard Class</td>\n",
       "      <td>SO-20335</td>\n",
       "      <td>Sean O'Donnell</td>\n",
       "      <td>Consumer</td>\n",
       "      <td>United States</td>\n",
       "      <td>Fort Lauderdale</td>\n",
       "      <td>Florida</td>\n",
       "      <td>33311.0</td>\n",
       "      <td>South</td>\n",
       "      <td>OFF-ST-10000760</td>\n",
       "      <td>Office Supplies</td>\n",
       "      <td>Storage</td>\n",
       "      <td>Eldon Fold 'N Roll Cart System</td>\n",
       "      <td>22.3680</td>\n",
       "    </tr>\n",
       "  </tbody>\n",
       "</table>\n",
       "</div>"
      ],
      "text/plain": [
       "   Row ID        Order ID  Order Date   Ship Date       Ship Mode Customer ID  \\\n",
       "0       1  CA-2017-152156  08/11/2017  11/11/2017    Second Class    CG-12520   \n",
       "1       2  CA-2017-152156  08/11/2017  11/11/2017    Second Class    CG-12520   \n",
       "2       3  CA-2017-138688  12/06/2017  16/06/2017    Second Class    DV-13045   \n",
       "3       4  US-2016-108966  11/10/2016  18/10/2016  Standard Class    SO-20335   \n",
       "4       5  US-2016-108966  11/10/2016  18/10/2016  Standard Class    SO-20335   \n",
       "\n",
       "     Customer Name    Segment        Country             City       State  \\\n",
       "0      Claire Gute   Consumer  United States        Henderson    Kentucky   \n",
       "1      Claire Gute   Consumer  United States        Henderson    Kentucky   \n",
       "2  Darrin Van Huff  Corporate  United States      Los Angeles  California   \n",
       "3   Sean O'Donnell   Consumer  United States  Fort Lauderdale     Florida   \n",
       "4   Sean O'Donnell   Consumer  United States  Fort Lauderdale     Florida   \n",
       "\n",
       "   Postal Code Region       Product ID         Category Sub-Category  \\\n",
       "0      42420.0  South  FUR-BO-10001798        Furniture    Bookcases   \n",
       "1      42420.0  South  FUR-CH-10000454        Furniture       Chairs   \n",
       "2      90036.0   West  OFF-LA-10000240  Office Supplies       Labels   \n",
       "3      33311.0  South  FUR-TA-10000577        Furniture       Tables   \n",
       "4      33311.0  South  OFF-ST-10000760  Office Supplies      Storage   \n",
       "\n",
       "                                        Product Name     Sales  \n",
       "0                  Bush Somerset Collection Bookcase  261.9600  \n",
       "1  Hon Deluxe Fabric Upholstered Stacking Chairs,...  731.9400  \n",
       "2  Self-Adhesive Address Labels for Typewriters b...   14.6200  \n",
       "3      Bretford CR4500 Series Slim Rectangular Table  957.5775  \n",
       "4                     Eldon Fold 'N Roll Cart System   22.3680  "
      ]
     },
     "execution_count": 5,
     "metadata": {},
     "output_type": "execute_result"
    }
   ],
   "source": [
    "df.head()"
   ]
  },
  {
   "cell_type": "code",
   "execution_count": 6,
   "id": "aabbc47c",
   "metadata": {
    "execution": {
     "iopub.execute_input": "2023-08-03T15:12:44.526378Z",
     "iopub.status.busy": "2023-08-03T15:12:44.525865Z",
     "iopub.status.idle": "2023-08-03T15:12:44.605298Z",
     "shell.execute_reply": "2023-08-03T15:12:44.603338Z"
    },
    "papermill": {
     "duration": 0.099422,
     "end_time": "2023-08-03T15:12:44.608102",
     "exception": false,
     "start_time": "2023-08-03T15:12:44.508680",
     "status": "completed"
    },
    "tags": []
   },
   "outputs": [
    {
     "name": "stdout",
     "output_type": "stream",
     "text": [
      "<class 'pandas.core.frame.DataFrame'>\n",
      "RangeIndex: 9800 entries, 0 to 9799\n",
      "Data columns (total 18 columns):\n",
      " #   Column         Non-Null Count  Dtype  \n",
      "---  ------         --------------  -----  \n",
      " 0   Row ID         9800 non-null   int64  \n",
      " 1   Order ID       9800 non-null   object \n",
      " 2   Order Date     9800 non-null   object \n",
      " 3   Ship Date      9800 non-null   object \n",
      " 4   Ship Mode      9800 non-null   object \n",
      " 5   Customer ID    9800 non-null   object \n",
      " 6   Customer Name  9800 non-null   object \n",
      " 7   Segment        9800 non-null   object \n",
      " 8   Country        9800 non-null   object \n",
      " 9   City           9800 non-null   object \n",
      " 10  State          9800 non-null   object \n",
      " 11  Postal Code    9789 non-null   float64\n",
      " 12  Region         9800 non-null   object \n",
      " 13  Product ID     9800 non-null   object \n",
      " 14  Category       9800 non-null   object \n",
      " 15  Sub-Category   9800 non-null   object \n",
      " 16  Product Name   9800 non-null   object \n",
      " 17  Sales          9800 non-null   float64\n",
      "dtypes: float64(2), int64(1), object(15)\n",
      "memory usage: 1.3+ MB\n"
     ]
    }
   ],
   "source": [
    "df.info()"
   ]
  },
  {
   "cell_type": "code",
   "execution_count": 7,
   "id": "0fc4747e",
   "metadata": {
    "execution": {
     "iopub.execute_input": "2023-08-03T15:12:44.641462Z",
     "iopub.status.busy": "2023-08-03T15:12:44.640972Z",
     "iopub.status.idle": "2023-08-03T15:12:44.683850Z",
     "shell.execute_reply": "2023-08-03T15:12:44.682228Z"
    },
    "papermill": {
     "duration": 0.063398,
     "end_time": "2023-08-03T15:12:44.686608",
     "exception": false,
     "start_time": "2023-08-03T15:12:44.623210",
     "status": "completed"
    },
    "tags": []
   },
   "outputs": [
    {
     "data": {
      "text/html": [
       "<div>\n",
       "<style scoped>\n",
       "    .dataframe tbody tr th:only-of-type {\n",
       "        vertical-align: middle;\n",
       "    }\n",
       "\n",
       "    .dataframe tbody tr th {\n",
       "        vertical-align: top;\n",
       "    }\n",
       "\n",
       "    .dataframe thead th {\n",
       "        text-align: right;\n",
       "    }\n",
       "</style>\n",
       "<table border=\"1\" class=\"dataframe\">\n",
       "  <thead>\n",
       "    <tr style=\"text-align: right;\">\n",
       "      <th></th>\n",
       "      <th>Row ID</th>\n",
       "      <th>Order ID</th>\n",
       "      <th>Order Date</th>\n",
       "      <th>Ship Date</th>\n",
       "      <th>Ship Mode</th>\n",
       "      <th>Customer ID</th>\n",
       "      <th>Customer Name</th>\n",
       "      <th>Segment</th>\n",
       "      <th>Country</th>\n",
       "      <th>City</th>\n",
       "      <th>State</th>\n",
       "      <th>Postal Code</th>\n",
       "      <th>Region</th>\n",
       "      <th>Product ID</th>\n",
       "      <th>Category</th>\n",
       "      <th>Sub-Category</th>\n",
       "      <th>Product Name</th>\n",
       "      <th>Sales</th>\n",
       "    </tr>\n",
       "  </thead>\n",
       "  <tbody>\n",
       "  </tbody>\n",
       "</table>\n",
       "</div>"
      ],
      "text/plain": [
       "Empty DataFrame\n",
       "Columns: [Row ID, Order ID, Order Date, Ship Date, Ship Mode, Customer ID, Customer Name, Segment, Country, City, State, Postal Code, Region, Product ID, Category, Sub-Category, Product Name, Sales]\n",
       "Index: []"
      ]
     },
     "execution_count": 7,
     "metadata": {},
     "output_type": "execute_result"
    }
   ],
   "source": [
    "df[df.duplicated()]"
   ]
  },
  {
   "cell_type": "code",
   "execution_count": 8,
   "id": "9fd39d2f",
   "metadata": {
    "execution": {
     "iopub.execute_input": "2023-08-03T15:12:44.721933Z",
     "iopub.status.busy": "2023-08-03T15:12:44.721415Z",
     "iopub.status.idle": "2023-08-03T15:12:44.749795Z",
     "shell.execute_reply": "2023-08-03T15:12:44.748390Z"
    },
    "papermill": {
     "duration": 0.048489,
     "end_time": "2023-08-03T15:12:44.752424",
     "exception": false,
     "start_time": "2023-08-03T15:12:44.703935",
     "status": "completed"
    },
    "tags": []
   },
   "outputs": [
    {
     "data": {
      "text/html": [
       "<div>\n",
       "<style scoped>\n",
       "    .dataframe tbody tr th:only-of-type {\n",
       "        vertical-align: middle;\n",
       "    }\n",
       "\n",
       "    .dataframe tbody tr th {\n",
       "        vertical-align: top;\n",
       "    }\n",
       "\n",
       "    .dataframe thead th {\n",
       "        text-align: right;\n",
       "    }\n",
       "</style>\n",
       "<table border=\"1\" class=\"dataframe\">\n",
       "  <thead>\n",
       "    <tr style=\"text-align: right;\">\n",
       "      <th></th>\n",
       "      <th>Row ID</th>\n",
       "      <th>Postal Code</th>\n",
       "      <th>Sales</th>\n",
       "    </tr>\n",
       "  </thead>\n",
       "  <tbody>\n",
       "    <tr>\n",
       "      <th>count</th>\n",
       "      <td>9800.000000</td>\n",
       "      <td>9789.000000</td>\n",
       "      <td>9800.000000</td>\n",
       "    </tr>\n",
       "    <tr>\n",
       "      <th>mean</th>\n",
       "      <td>4900.500000</td>\n",
       "      <td>55273.322403</td>\n",
       "      <td>230.769059</td>\n",
       "    </tr>\n",
       "    <tr>\n",
       "      <th>std</th>\n",
       "      <td>2829.160653</td>\n",
       "      <td>32041.223413</td>\n",
       "      <td>626.651875</td>\n",
       "    </tr>\n",
       "    <tr>\n",
       "      <th>min</th>\n",
       "      <td>1.000000</td>\n",
       "      <td>1040.000000</td>\n",
       "      <td>0.444000</td>\n",
       "    </tr>\n",
       "    <tr>\n",
       "      <th>25%</th>\n",
       "      <td>2450.750000</td>\n",
       "      <td>23223.000000</td>\n",
       "      <td>17.248000</td>\n",
       "    </tr>\n",
       "    <tr>\n",
       "      <th>50%</th>\n",
       "      <td>4900.500000</td>\n",
       "      <td>58103.000000</td>\n",
       "      <td>54.490000</td>\n",
       "    </tr>\n",
       "    <tr>\n",
       "      <th>75%</th>\n",
       "      <td>7350.250000</td>\n",
       "      <td>90008.000000</td>\n",
       "      <td>210.605000</td>\n",
       "    </tr>\n",
       "    <tr>\n",
       "      <th>max</th>\n",
       "      <td>9800.000000</td>\n",
       "      <td>99301.000000</td>\n",
       "      <td>22638.480000</td>\n",
       "    </tr>\n",
       "  </tbody>\n",
       "</table>\n",
       "</div>"
      ],
      "text/plain": [
       "            Row ID   Postal Code         Sales\n",
       "count  9800.000000   9789.000000   9800.000000\n",
       "mean   4900.500000  55273.322403    230.769059\n",
       "std    2829.160653  32041.223413    626.651875\n",
       "min       1.000000   1040.000000      0.444000\n",
       "25%    2450.750000  23223.000000     17.248000\n",
       "50%    4900.500000  58103.000000     54.490000\n",
       "75%    7350.250000  90008.000000    210.605000\n",
       "max    9800.000000  99301.000000  22638.480000"
      ]
     },
     "execution_count": 8,
     "metadata": {},
     "output_type": "execute_result"
    }
   ],
   "source": [
    "df.describe()"
   ]
  },
  {
   "cell_type": "code",
   "execution_count": 9,
   "id": "f1d09211",
   "metadata": {
    "execution": {
     "iopub.execute_input": "2023-08-03T15:12:44.786334Z",
     "iopub.status.busy": "2023-08-03T15:12:44.785797Z",
     "iopub.status.idle": "2023-08-03T15:12:44.849420Z",
     "shell.execute_reply": "2023-08-03T15:12:44.848094Z"
    },
    "papermill": {
     "duration": 0.083906,
     "end_time": "2023-08-03T15:12:44.851964",
     "exception": false,
     "start_time": "2023-08-03T15:12:44.768058",
     "status": "completed"
    },
    "tags": []
   },
   "outputs": [
    {
     "data": {
      "text/plain": [
       "Row ID            0\n",
       "Order ID          0\n",
       "Order Date        0\n",
       "Ship Date         0\n",
       "Ship Mode         0\n",
       "Customer ID       0\n",
       "Customer Name     0\n",
       "Segment           0\n",
       "Country           0\n",
       "City              0\n",
       "State             0\n",
       "Postal Code      11\n",
       "Region            0\n",
       "Product ID        0\n",
       "Category          0\n",
       "Sub-Category      0\n",
       "Product Name      0\n",
       "Sales             0\n",
       "dtype: int64"
      ]
     },
     "execution_count": 9,
     "metadata": {},
     "output_type": "execute_result"
    }
   ],
   "source": [
    "df.isnull().sum()"
   ]
  },
  {
   "cell_type": "markdown",
   "id": "e57143e2",
   "metadata": {
    "papermill": {
     "duration": 0.015818,
     "end_time": "2023-08-03T15:12:44.883499",
     "exception": false,
     "start_time": "2023-08-03T15:12:44.867681",
     "status": "completed"
    },
    "tags": []
   },
   "source": [
    "**<font size=\"6\">Data Cleaning</font>**"
   ]
  },
  {
   "cell_type": "code",
   "execution_count": 10,
   "id": "7c82388b",
   "metadata": {
    "execution": {
     "iopub.execute_input": "2023-08-03T15:12:44.917682Z",
     "iopub.status.busy": "2023-08-03T15:12:44.917166Z",
     "iopub.status.idle": "2023-08-03T15:12:44.947667Z",
     "shell.execute_reply": "2023-08-03T15:12:44.946198Z"
    },
    "papermill": {
     "duration": 0.05096,
     "end_time": "2023-08-03T15:12:44.950362",
     "exception": false,
     "start_time": "2023-08-03T15:12:44.899402",
     "status": "completed"
    },
    "tags": []
   },
   "outputs": [
    {
     "data": {
      "text/html": [
       "<div>\n",
       "<style scoped>\n",
       "    .dataframe tbody tr th:only-of-type {\n",
       "        vertical-align: middle;\n",
       "    }\n",
       "\n",
       "    .dataframe tbody tr th {\n",
       "        vertical-align: top;\n",
       "    }\n",
       "\n",
       "    .dataframe thead th {\n",
       "        text-align: right;\n",
       "    }\n",
       "</style>\n",
       "<table border=\"1\" class=\"dataframe\">\n",
       "  <thead>\n",
       "    <tr style=\"text-align: right;\">\n",
       "      <th></th>\n",
       "      <th>Row ID</th>\n",
       "      <th>Order ID</th>\n",
       "      <th>Order Date</th>\n",
       "      <th>Ship Date</th>\n",
       "      <th>Ship Mode</th>\n",
       "      <th>Customer ID</th>\n",
       "      <th>Customer Name</th>\n",
       "      <th>Segment</th>\n",
       "      <th>Country</th>\n",
       "      <th>City</th>\n",
       "      <th>State</th>\n",
       "      <th>Postal Code</th>\n",
       "      <th>Region</th>\n",
       "      <th>Product ID</th>\n",
       "      <th>Category</th>\n",
       "      <th>Sub-Category</th>\n",
       "      <th>Product Name</th>\n",
       "      <th>Sales</th>\n",
       "    </tr>\n",
       "  </thead>\n",
       "  <tbody>\n",
       "    <tr>\n",
       "      <th>2234</th>\n",
       "      <td>2235</td>\n",
       "      <td>CA-2018-104066</td>\n",
       "      <td>05/12/2018</td>\n",
       "      <td>10/12/2018</td>\n",
       "      <td>Standard Class</td>\n",
       "      <td>QJ-19255</td>\n",
       "      <td>Quincy Jones</td>\n",
       "      <td>Corporate</td>\n",
       "      <td>United States</td>\n",
       "      <td>Burlington</td>\n",
       "      <td>Vermont</td>\n",
       "      <td>NaN</td>\n",
       "      <td>East</td>\n",
       "      <td>TEC-AC-10001013</td>\n",
       "      <td>Technology</td>\n",
       "      <td>Accessories</td>\n",
       "      <td>Logitech ClearChat Comfort/USB Headset H390</td>\n",
       "      <td>205.03</td>\n",
       "    </tr>\n",
       "    <tr>\n",
       "      <th>5274</th>\n",
       "      <td>5275</td>\n",
       "      <td>CA-2016-162887</td>\n",
       "      <td>07/11/2016</td>\n",
       "      <td>09/11/2016</td>\n",
       "      <td>Second Class</td>\n",
       "      <td>SV-20785</td>\n",
       "      <td>Stewart Visinsky</td>\n",
       "      <td>Consumer</td>\n",
       "      <td>United States</td>\n",
       "      <td>Burlington</td>\n",
       "      <td>Vermont</td>\n",
       "      <td>NaN</td>\n",
       "      <td>East</td>\n",
       "      <td>FUR-CH-10000595</td>\n",
       "      <td>Furniture</td>\n",
       "      <td>Chairs</td>\n",
       "      <td>Safco Contoured Stacking Chairs</td>\n",
       "      <td>715.20</td>\n",
       "    </tr>\n",
       "    <tr>\n",
       "      <th>8798</th>\n",
       "      <td>8799</td>\n",
       "      <td>US-2017-150140</td>\n",
       "      <td>06/04/2017</td>\n",
       "      <td>10/04/2017</td>\n",
       "      <td>Standard Class</td>\n",
       "      <td>VM-21685</td>\n",
       "      <td>Valerie Mitchum</td>\n",
       "      <td>Home Office</td>\n",
       "      <td>United States</td>\n",
       "      <td>Burlington</td>\n",
       "      <td>Vermont</td>\n",
       "      <td>NaN</td>\n",
       "      <td>East</td>\n",
       "      <td>TEC-PH-10002555</td>\n",
       "      <td>Technology</td>\n",
       "      <td>Phones</td>\n",
       "      <td>Nortel Meridian M5316 Digital phone</td>\n",
       "      <td>1294.75</td>\n",
       "    </tr>\n",
       "    <tr>\n",
       "      <th>9146</th>\n",
       "      <td>9147</td>\n",
       "      <td>US-2017-165505</td>\n",
       "      <td>23/01/2017</td>\n",
       "      <td>27/01/2017</td>\n",
       "      <td>Standard Class</td>\n",
       "      <td>CB-12535</td>\n",
       "      <td>Claudia Bergmann</td>\n",
       "      <td>Corporate</td>\n",
       "      <td>United States</td>\n",
       "      <td>Burlington</td>\n",
       "      <td>Vermont</td>\n",
       "      <td>NaN</td>\n",
       "      <td>East</td>\n",
       "      <td>TEC-AC-10002926</td>\n",
       "      <td>Technology</td>\n",
       "      <td>Accessories</td>\n",
       "      <td>Logitech Wireless Marathon Mouse M705</td>\n",
       "      <td>99.98</td>\n",
       "    </tr>\n",
       "    <tr>\n",
       "      <th>9147</th>\n",
       "      <td>9148</td>\n",
       "      <td>US-2017-165505</td>\n",
       "      <td>23/01/2017</td>\n",
       "      <td>27/01/2017</td>\n",
       "      <td>Standard Class</td>\n",
       "      <td>CB-12535</td>\n",
       "      <td>Claudia Bergmann</td>\n",
       "      <td>Corporate</td>\n",
       "      <td>United States</td>\n",
       "      <td>Burlington</td>\n",
       "      <td>Vermont</td>\n",
       "      <td>NaN</td>\n",
       "      <td>East</td>\n",
       "      <td>OFF-AR-10003477</td>\n",
       "      <td>Office Supplies</td>\n",
       "      <td>Art</td>\n",
       "      <td>4009 Highlighters</td>\n",
       "      <td>8.04</td>\n",
       "    </tr>\n",
       "    <tr>\n",
       "      <th>9148</th>\n",
       "      <td>9149</td>\n",
       "      <td>US-2017-165505</td>\n",
       "      <td>23/01/2017</td>\n",
       "      <td>27/01/2017</td>\n",
       "      <td>Standard Class</td>\n",
       "      <td>CB-12535</td>\n",
       "      <td>Claudia Bergmann</td>\n",
       "      <td>Corporate</td>\n",
       "      <td>United States</td>\n",
       "      <td>Burlington</td>\n",
       "      <td>Vermont</td>\n",
       "      <td>NaN</td>\n",
       "      <td>East</td>\n",
       "      <td>OFF-ST-10001526</td>\n",
       "      <td>Office Supplies</td>\n",
       "      <td>Storage</td>\n",
       "      <td>Iceberg Mobile Mega Data/Printer Cart</td>\n",
       "      <td>1564.29</td>\n",
       "    </tr>\n",
       "    <tr>\n",
       "      <th>9386</th>\n",
       "      <td>9387</td>\n",
       "      <td>US-2018-127292</td>\n",
       "      <td>19/01/2018</td>\n",
       "      <td>23/01/2018</td>\n",
       "      <td>Standard Class</td>\n",
       "      <td>RM-19375</td>\n",
       "      <td>Raymond Messe</td>\n",
       "      <td>Consumer</td>\n",
       "      <td>United States</td>\n",
       "      <td>Burlington</td>\n",
       "      <td>Vermont</td>\n",
       "      <td>NaN</td>\n",
       "      <td>East</td>\n",
       "      <td>OFF-PA-10000157</td>\n",
       "      <td>Office Supplies</td>\n",
       "      <td>Paper</td>\n",
       "      <td>Xerox 191</td>\n",
       "      <td>79.92</td>\n",
       "    </tr>\n",
       "    <tr>\n",
       "      <th>9387</th>\n",
       "      <td>9388</td>\n",
       "      <td>US-2018-127292</td>\n",
       "      <td>19/01/2018</td>\n",
       "      <td>23/01/2018</td>\n",
       "      <td>Standard Class</td>\n",
       "      <td>RM-19375</td>\n",
       "      <td>Raymond Messe</td>\n",
       "      <td>Consumer</td>\n",
       "      <td>United States</td>\n",
       "      <td>Burlington</td>\n",
       "      <td>Vermont</td>\n",
       "      <td>NaN</td>\n",
       "      <td>East</td>\n",
       "      <td>OFF-PA-10001970</td>\n",
       "      <td>Office Supplies</td>\n",
       "      <td>Paper</td>\n",
       "      <td>Xerox 1881</td>\n",
       "      <td>12.28</td>\n",
       "    </tr>\n",
       "    <tr>\n",
       "      <th>9388</th>\n",
       "      <td>9389</td>\n",
       "      <td>US-2018-127292</td>\n",
       "      <td>19/01/2018</td>\n",
       "      <td>23/01/2018</td>\n",
       "      <td>Standard Class</td>\n",
       "      <td>RM-19375</td>\n",
       "      <td>Raymond Messe</td>\n",
       "      <td>Consumer</td>\n",
       "      <td>United States</td>\n",
       "      <td>Burlington</td>\n",
       "      <td>Vermont</td>\n",
       "      <td>NaN</td>\n",
       "      <td>East</td>\n",
       "      <td>OFF-AP-10000828</td>\n",
       "      <td>Office Supplies</td>\n",
       "      <td>Appliances</td>\n",
       "      <td>Avanti 4.4 Cu. Ft. Refrigerator</td>\n",
       "      <td>542.94</td>\n",
       "    </tr>\n",
       "    <tr>\n",
       "      <th>9389</th>\n",
       "      <td>9390</td>\n",
       "      <td>US-2018-127292</td>\n",
       "      <td>19/01/2018</td>\n",
       "      <td>23/01/2018</td>\n",
       "      <td>Standard Class</td>\n",
       "      <td>RM-19375</td>\n",
       "      <td>Raymond Messe</td>\n",
       "      <td>Consumer</td>\n",
       "      <td>United States</td>\n",
       "      <td>Burlington</td>\n",
       "      <td>Vermont</td>\n",
       "      <td>NaN</td>\n",
       "      <td>East</td>\n",
       "      <td>OFF-EN-10001509</td>\n",
       "      <td>Office Supplies</td>\n",
       "      <td>Envelopes</td>\n",
       "      <td>Poly String Tie Envelopes</td>\n",
       "      <td>2.04</td>\n",
       "    </tr>\n",
       "    <tr>\n",
       "      <th>9741</th>\n",
       "      <td>9742</td>\n",
       "      <td>CA-2016-117086</td>\n",
       "      <td>08/11/2016</td>\n",
       "      <td>12/11/2016</td>\n",
       "      <td>Standard Class</td>\n",
       "      <td>QJ-19255</td>\n",
       "      <td>Quincy Jones</td>\n",
       "      <td>Corporate</td>\n",
       "      <td>United States</td>\n",
       "      <td>Burlington</td>\n",
       "      <td>Vermont</td>\n",
       "      <td>NaN</td>\n",
       "      <td>East</td>\n",
       "      <td>FUR-BO-10004834</td>\n",
       "      <td>Furniture</td>\n",
       "      <td>Bookcases</td>\n",
       "      <td>Riverside Palais Royal Lawyers Bookcase, Royal...</td>\n",
       "      <td>4404.90</td>\n",
       "    </tr>\n",
       "  </tbody>\n",
       "</table>\n",
       "</div>"
      ],
      "text/plain": [
       "      Row ID        Order ID  Order Date   Ship Date       Ship Mode  \\\n",
       "2234    2235  CA-2018-104066  05/12/2018  10/12/2018  Standard Class   \n",
       "5274    5275  CA-2016-162887  07/11/2016  09/11/2016    Second Class   \n",
       "8798    8799  US-2017-150140  06/04/2017  10/04/2017  Standard Class   \n",
       "9146    9147  US-2017-165505  23/01/2017  27/01/2017  Standard Class   \n",
       "9147    9148  US-2017-165505  23/01/2017  27/01/2017  Standard Class   \n",
       "9148    9149  US-2017-165505  23/01/2017  27/01/2017  Standard Class   \n",
       "9386    9387  US-2018-127292  19/01/2018  23/01/2018  Standard Class   \n",
       "9387    9388  US-2018-127292  19/01/2018  23/01/2018  Standard Class   \n",
       "9388    9389  US-2018-127292  19/01/2018  23/01/2018  Standard Class   \n",
       "9389    9390  US-2018-127292  19/01/2018  23/01/2018  Standard Class   \n",
       "9741    9742  CA-2016-117086  08/11/2016  12/11/2016  Standard Class   \n",
       "\n",
       "     Customer ID     Customer Name      Segment        Country        City  \\\n",
       "2234    QJ-19255      Quincy Jones    Corporate  United States  Burlington   \n",
       "5274    SV-20785  Stewart Visinsky     Consumer  United States  Burlington   \n",
       "8798    VM-21685   Valerie Mitchum  Home Office  United States  Burlington   \n",
       "9146    CB-12535  Claudia Bergmann    Corporate  United States  Burlington   \n",
       "9147    CB-12535  Claudia Bergmann    Corporate  United States  Burlington   \n",
       "9148    CB-12535  Claudia Bergmann    Corporate  United States  Burlington   \n",
       "9386    RM-19375     Raymond Messe     Consumer  United States  Burlington   \n",
       "9387    RM-19375     Raymond Messe     Consumer  United States  Burlington   \n",
       "9388    RM-19375     Raymond Messe     Consumer  United States  Burlington   \n",
       "9389    RM-19375     Raymond Messe     Consumer  United States  Burlington   \n",
       "9741    QJ-19255      Quincy Jones    Corporate  United States  Burlington   \n",
       "\n",
       "        State  Postal Code Region       Product ID         Category  \\\n",
       "2234  Vermont          NaN   East  TEC-AC-10001013       Technology   \n",
       "5274  Vermont          NaN   East  FUR-CH-10000595        Furniture   \n",
       "8798  Vermont          NaN   East  TEC-PH-10002555       Technology   \n",
       "9146  Vermont          NaN   East  TEC-AC-10002926       Technology   \n",
       "9147  Vermont          NaN   East  OFF-AR-10003477  Office Supplies   \n",
       "9148  Vermont          NaN   East  OFF-ST-10001526  Office Supplies   \n",
       "9386  Vermont          NaN   East  OFF-PA-10000157  Office Supplies   \n",
       "9387  Vermont          NaN   East  OFF-PA-10001970  Office Supplies   \n",
       "9388  Vermont          NaN   East  OFF-AP-10000828  Office Supplies   \n",
       "9389  Vermont          NaN   East  OFF-EN-10001509  Office Supplies   \n",
       "9741  Vermont          NaN   East  FUR-BO-10004834        Furniture   \n",
       "\n",
       "     Sub-Category                                       Product Name    Sales  \n",
       "2234  Accessories        Logitech ClearChat Comfort/USB Headset H390   205.03  \n",
       "5274       Chairs                    Safco Contoured Stacking Chairs   715.20  \n",
       "8798       Phones                Nortel Meridian M5316 Digital phone  1294.75  \n",
       "9146  Accessories              Logitech Wireless Marathon Mouse M705    99.98  \n",
       "9147          Art                                  4009 Highlighters     8.04  \n",
       "9148      Storage              Iceberg Mobile Mega Data/Printer Cart  1564.29  \n",
       "9386        Paper                                          Xerox 191    79.92  \n",
       "9387        Paper                                         Xerox 1881    12.28  \n",
       "9388   Appliances                    Avanti 4.4 Cu. Ft. Refrigerator   542.94  \n",
       "9389    Envelopes                          Poly String Tie Envelopes     2.04  \n",
       "9741    Bookcases  Riverside Palais Royal Lawyers Bookcase, Royal...  4404.90  "
      ]
     },
     "execution_count": 10,
     "metadata": {},
     "output_type": "execute_result"
    }
   ],
   "source": [
    "df[df[\"Postal Code\"].isnull()]"
   ]
  },
  {
   "cell_type": "markdown",
   "id": "498680c4",
   "metadata": {
    "papermill": {
     "duration": 0.016085,
     "end_time": "2023-08-03T15:12:44.982885",
     "exception": false,
     "start_time": "2023-08-03T15:12:44.966800",
     "status": "completed"
    },
    "tags": []
   },
   "source": [
    "<font size=\"4\">Postal code of Burlington is 5401 so filling the NaN values with 5401</font>"
   ]
  },
  {
   "cell_type": "code",
   "execution_count": 11,
   "id": "0a5076f3",
   "metadata": {
    "execution": {
     "iopub.execute_input": "2023-08-03T15:12:45.019616Z",
     "iopub.status.busy": "2023-08-03T15:12:45.018677Z",
     "iopub.status.idle": "2023-08-03T15:12:45.025102Z",
     "shell.execute_reply": "2023-08-03T15:12:45.024148Z"
    },
    "papermill": {
     "duration": 0.028084,
     "end_time": "2023-08-03T15:12:45.027538",
     "exception": false,
     "start_time": "2023-08-03T15:12:44.999454",
     "status": "completed"
    },
    "tags": []
   },
   "outputs": [],
   "source": [
    "df['Postal Code'] = df[\"Postal Code\"].fillna(5401)"
   ]
  },
  {
   "cell_type": "code",
   "execution_count": 12,
   "id": "402cceb1",
   "metadata": {
    "execution": {
     "iopub.execute_input": "2023-08-03T15:12:45.063738Z",
     "iopub.status.busy": "2023-08-03T15:12:45.063199Z",
     "iopub.status.idle": "2023-08-03T15:12:45.126136Z",
     "shell.execute_reply": "2023-08-03T15:12:45.124828Z"
    },
    "papermill": {
     "duration": 0.085351,
     "end_time": "2023-08-03T15:12:45.129739",
     "exception": false,
     "start_time": "2023-08-03T15:12:45.044388",
     "status": "completed"
    },
    "tags": []
   },
   "outputs": [
    {
     "data": {
      "text/plain": [
       "Row ID           0\n",
       "Order ID         0\n",
       "Order Date       0\n",
       "Ship Date        0\n",
       "Ship Mode        0\n",
       "Customer ID      0\n",
       "Customer Name    0\n",
       "Segment          0\n",
       "Country          0\n",
       "City             0\n",
       "State            0\n",
       "Postal Code      0\n",
       "Region           0\n",
       "Product ID       0\n",
       "Category         0\n",
       "Sub-Category     0\n",
       "Product Name     0\n",
       "Sales            0\n",
       "dtype: int64"
      ]
     },
     "execution_count": 12,
     "metadata": {},
     "output_type": "execute_result"
    }
   ],
   "source": [
    "df.isnull().sum()"
   ]
  },
  {
   "cell_type": "code",
   "execution_count": 13,
   "id": "d24b09e9",
   "metadata": {
    "execution": {
     "iopub.execute_input": "2023-08-03T15:12:45.167508Z",
     "iopub.status.busy": "2023-08-03T15:12:45.167098Z",
     "iopub.status.idle": "2023-08-03T15:12:45.176214Z",
     "shell.execute_reply": "2023-08-03T15:12:45.174699Z"
    },
    "papermill": {
     "duration": 0.031798,
     "end_time": "2023-08-03T15:12:45.178966",
     "exception": false,
     "start_time": "2023-08-03T15:12:45.147168",
     "status": "completed"
    },
    "tags": []
   },
   "outputs": [],
   "source": [
    "#droping the columns which are unimportant\n",
    "df.drop(['Row ID','Order ID','Customer Name','Customer ID'],axis=1,inplace=True)"
   ]
  },
  {
   "cell_type": "code",
   "execution_count": 14,
   "id": "6c08ad3d",
   "metadata": {
    "execution": {
     "iopub.execute_input": "2023-08-03T15:12:45.217821Z",
     "iopub.status.busy": "2023-08-03T15:12:45.217348Z",
     "iopub.status.idle": "2023-08-03T15:12:45.237807Z",
     "shell.execute_reply": "2023-08-03T15:12:45.236139Z"
    },
    "papermill": {
     "duration": 0.043712,
     "end_time": "2023-08-03T15:12:45.241076",
     "exception": false,
     "start_time": "2023-08-03T15:12:45.197364",
     "status": "completed"
    },
    "tags": []
   },
   "outputs": [
    {
     "data": {
      "text/html": [
       "<div>\n",
       "<style scoped>\n",
       "    .dataframe tbody tr th:only-of-type {\n",
       "        vertical-align: middle;\n",
       "    }\n",
       "\n",
       "    .dataframe tbody tr th {\n",
       "        vertical-align: top;\n",
       "    }\n",
       "\n",
       "    .dataframe thead th {\n",
       "        text-align: right;\n",
       "    }\n",
       "</style>\n",
       "<table border=\"1\" class=\"dataframe\">\n",
       "  <thead>\n",
       "    <tr style=\"text-align: right;\">\n",
       "      <th></th>\n",
       "      <th>Order Date</th>\n",
       "      <th>Ship Date</th>\n",
       "      <th>Ship Mode</th>\n",
       "      <th>Segment</th>\n",
       "      <th>Country</th>\n",
       "      <th>City</th>\n",
       "      <th>State</th>\n",
       "      <th>Postal Code</th>\n",
       "      <th>Region</th>\n",
       "      <th>Product ID</th>\n",
       "      <th>Category</th>\n",
       "      <th>Sub-Category</th>\n",
       "      <th>Product Name</th>\n",
       "      <th>Sales</th>\n",
       "    </tr>\n",
       "  </thead>\n",
       "  <tbody>\n",
       "    <tr>\n",
       "      <th>0</th>\n",
       "      <td>08/11/2017</td>\n",
       "      <td>11/11/2017</td>\n",
       "      <td>Second Class</td>\n",
       "      <td>Consumer</td>\n",
       "      <td>United States</td>\n",
       "      <td>Henderson</td>\n",
       "      <td>Kentucky</td>\n",
       "      <td>42420.0</td>\n",
       "      <td>South</td>\n",
       "      <td>FUR-BO-10001798</td>\n",
       "      <td>Furniture</td>\n",
       "      <td>Bookcases</td>\n",
       "      <td>Bush Somerset Collection Bookcase</td>\n",
       "      <td>261.9600</td>\n",
       "    </tr>\n",
       "    <tr>\n",
       "      <th>1</th>\n",
       "      <td>08/11/2017</td>\n",
       "      <td>11/11/2017</td>\n",
       "      <td>Second Class</td>\n",
       "      <td>Consumer</td>\n",
       "      <td>United States</td>\n",
       "      <td>Henderson</td>\n",
       "      <td>Kentucky</td>\n",
       "      <td>42420.0</td>\n",
       "      <td>South</td>\n",
       "      <td>FUR-CH-10000454</td>\n",
       "      <td>Furniture</td>\n",
       "      <td>Chairs</td>\n",
       "      <td>Hon Deluxe Fabric Upholstered Stacking Chairs,...</td>\n",
       "      <td>731.9400</td>\n",
       "    </tr>\n",
       "    <tr>\n",
       "      <th>2</th>\n",
       "      <td>12/06/2017</td>\n",
       "      <td>16/06/2017</td>\n",
       "      <td>Second Class</td>\n",
       "      <td>Corporate</td>\n",
       "      <td>United States</td>\n",
       "      <td>Los Angeles</td>\n",
       "      <td>California</td>\n",
       "      <td>90036.0</td>\n",
       "      <td>West</td>\n",
       "      <td>OFF-LA-10000240</td>\n",
       "      <td>Office Supplies</td>\n",
       "      <td>Labels</td>\n",
       "      <td>Self-Adhesive Address Labels for Typewriters b...</td>\n",
       "      <td>14.6200</td>\n",
       "    </tr>\n",
       "    <tr>\n",
       "      <th>3</th>\n",
       "      <td>11/10/2016</td>\n",
       "      <td>18/10/2016</td>\n",
       "      <td>Standard Class</td>\n",
       "      <td>Consumer</td>\n",
       "      <td>United States</td>\n",
       "      <td>Fort Lauderdale</td>\n",
       "      <td>Florida</td>\n",
       "      <td>33311.0</td>\n",
       "      <td>South</td>\n",
       "      <td>FUR-TA-10000577</td>\n",
       "      <td>Furniture</td>\n",
       "      <td>Tables</td>\n",
       "      <td>Bretford CR4500 Series Slim Rectangular Table</td>\n",
       "      <td>957.5775</td>\n",
       "    </tr>\n",
       "    <tr>\n",
       "      <th>4</th>\n",
       "      <td>11/10/2016</td>\n",
       "      <td>18/10/2016</td>\n",
       "      <td>Standard Class</td>\n",
       "      <td>Consumer</td>\n",
       "      <td>United States</td>\n",
       "      <td>Fort Lauderdale</td>\n",
       "      <td>Florida</td>\n",
       "      <td>33311.0</td>\n",
       "      <td>South</td>\n",
       "      <td>OFF-ST-10000760</td>\n",
       "      <td>Office Supplies</td>\n",
       "      <td>Storage</td>\n",
       "      <td>Eldon Fold 'N Roll Cart System</td>\n",
       "      <td>22.3680</td>\n",
       "    </tr>\n",
       "  </tbody>\n",
       "</table>\n",
       "</div>"
      ],
      "text/plain": [
       "   Order Date   Ship Date       Ship Mode    Segment        Country  \\\n",
       "0  08/11/2017  11/11/2017    Second Class   Consumer  United States   \n",
       "1  08/11/2017  11/11/2017    Second Class   Consumer  United States   \n",
       "2  12/06/2017  16/06/2017    Second Class  Corporate  United States   \n",
       "3  11/10/2016  18/10/2016  Standard Class   Consumer  United States   \n",
       "4  11/10/2016  18/10/2016  Standard Class   Consumer  United States   \n",
       "\n",
       "              City       State  Postal Code Region       Product ID  \\\n",
       "0        Henderson    Kentucky      42420.0  South  FUR-BO-10001798   \n",
       "1        Henderson    Kentucky      42420.0  South  FUR-CH-10000454   \n",
       "2      Los Angeles  California      90036.0   West  OFF-LA-10000240   \n",
       "3  Fort Lauderdale     Florida      33311.0  South  FUR-TA-10000577   \n",
       "4  Fort Lauderdale     Florida      33311.0  South  OFF-ST-10000760   \n",
       "\n",
       "          Category Sub-Category  \\\n",
       "0        Furniture    Bookcases   \n",
       "1        Furniture       Chairs   \n",
       "2  Office Supplies       Labels   \n",
       "3        Furniture       Tables   \n",
       "4  Office Supplies      Storage   \n",
       "\n",
       "                                        Product Name     Sales  \n",
       "0                  Bush Somerset Collection Bookcase  261.9600  \n",
       "1  Hon Deluxe Fabric Upholstered Stacking Chairs,...  731.9400  \n",
       "2  Self-Adhesive Address Labels for Typewriters b...   14.6200  \n",
       "3      Bretford CR4500 Series Slim Rectangular Table  957.5775  \n",
       "4                     Eldon Fold 'N Roll Cart System   22.3680  "
      ]
     },
     "execution_count": 14,
     "metadata": {},
     "output_type": "execute_result"
    }
   ],
   "source": [
    "df.head()"
   ]
  },
  {
   "cell_type": "code",
   "execution_count": 15,
   "id": "d2f0aea3",
   "metadata": {
    "execution": {
     "iopub.execute_input": "2023-08-03T15:12:45.278760Z",
     "iopub.status.busy": "2023-08-03T15:12:45.277559Z",
     "iopub.status.idle": "2023-08-03T15:12:45.315412Z",
     "shell.execute_reply": "2023-08-03T15:12:45.313858Z"
    },
    "papermill": {
     "duration": 0.059532,
     "end_time": "2023-08-03T15:12:45.318110",
     "exception": false,
     "start_time": "2023-08-03T15:12:45.258578",
     "status": "completed"
    },
    "tags": []
   },
   "outputs": [
    {
     "data": {
      "text/html": [
       "<div>\n",
       "<style scoped>\n",
       "    .dataframe tbody tr th:only-of-type {\n",
       "        vertical-align: middle;\n",
       "    }\n",
       "\n",
       "    .dataframe tbody tr th {\n",
       "        vertical-align: top;\n",
       "    }\n",
       "\n",
       "    .dataframe thead th {\n",
       "        text-align: right;\n",
       "    }\n",
       "</style>\n",
       "<table border=\"1\" class=\"dataframe\">\n",
       "  <thead>\n",
       "    <tr style=\"text-align: right;\">\n",
       "      <th></th>\n",
       "      <th>Order Date</th>\n",
       "      <th>Ship Date</th>\n",
       "      <th>Ship Mode</th>\n",
       "      <th>Segment</th>\n",
       "      <th>Country</th>\n",
       "      <th>City</th>\n",
       "      <th>State</th>\n",
       "      <th>Postal Code</th>\n",
       "      <th>Region</th>\n",
       "      <th>Product ID</th>\n",
       "      <th>Category</th>\n",
       "      <th>Sub-Category</th>\n",
       "      <th>Product Name</th>\n",
       "      <th>Sales</th>\n",
       "    </tr>\n",
       "  </thead>\n",
       "  <tbody>\n",
       "    <tr>\n",
       "      <th>3406</th>\n",
       "      <td>23/04/2015</td>\n",
       "      <td>27/04/2015</td>\n",
       "      <td>Standard Class</td>\n",
       "      <td>Home Office</td>\n",
       "      <td>United States</td>\n",
       "      <td>Columbus</td>\n",
       "      <td>Ohio</td>\n",
       "      <td>43229.0</td>\n",
       "      <td>East</td>\n",
       "      <td>FUR-CH-10002965</td>\n",
       "      <td>Furniture</td>\n",
       "      <td>Chairs</td>\n",
       "      <td>Global Leather Highback Executive Chair with P...</td>\n",
       "      <td>281.372</td>\n",
       "    </tr>\n",
       "  </tbody>\n",
       "</table>\n",
       "</div>"
      ],
      "text/plain": [
       "      Order Date   Ship Date       Ship Mode      Segment        Country  \\\n",
       "3406  23/04/2015  27/04/2015  Standard Class  Home Office  United States   \n",
       "\n",
       "          City State  Postal Code Region       Product ID   Category  \\\n",
       "3406  Columbus  Ohio      43229.0   East  FUR-CH-10002965  Furniture   \n",
       "\n",
       "     Sub-Category                                       Product Name    Sales  \n",
       "3406       Chairs  Global Leather Highback Executive Chair with P...  281.372  "
      ]
     },
     "execution_count": 15,
     "metadata": {},
     "output_type": "execute_result"
    }
   ],
   "source": [
    "df[df.duplicated()]"
   ]
  },
  {
   "cell_type": "code",
   "execution_count": 16,
   "id": "11949a4b",
   "metadata": {
    "execution": {
     "iopub.execute_input": "2023-08-03T15:12:45.354139Z",
     "iopub.status.busy": "2023-08-03T15:12:45.353711Z",
     "iopub.status.idle": "2023-08-03T15:12:45.380380Z",
     "shell.execute_reply": "2023-08-03T15:12:45.378652Z"
    },
    "papermill": {
     "duration": 0.048151,
     "end_time": "2023-08-03T15:12:45.383277",
     "exception": false,
     "start_time": "2023-08-03T15:12:45.335126",
     "status": "completed"
    },
    "tags": []
   },
   "outputs": [],
   "source": [
    "df.drop_duplicates(inplace=True)"
   ]
  },
  {
   "cell_type": "code",
   "execution_count": 17,
   "id": "51e09831",
   "metadata": {
    "execution": {
     "iopub.execute_input": "2023-08-03T15:12:45.419838Z",
     "iopub.status.busy": "2023-08-03T15:12:45.419332Z",
     "iopub.status.idle": "2023-08-03T15:12:45.491555Z",
     "shell.execute_reply": "2023-08-03T15:12:45.490600Z"
    },
    "papermill": {
     "duration": 0.093788,
     "end_time": "2023-08-03T15:12:45.494186",
     "exception": false,
     "start_time": "2023-08-03T15:12:45.400398",
     "status": "completed"
    },
    "tags": []
   },
   "outputs": [
    {
     "name": "stderr",
     "output_type": "stream",
     "text": [
      "/tmp/ipykernel_20/3949181741.py:1: UserWarning: Parsing dates in DD/MM/YYYY format when dayfirst=False (the default) was specified. This may lead to inconsistently parsed dates! Specify a format to ensure consistent parsing.\n",
      "  df['Order Date']=pd.to_datetime(df['Order Date'])\n",
      "/tmp/ipykernel_20/3949181741.py:2: UserWarning: Parsing dates in DD/MM/YYYY format when dayfirst=False (the default) was specified. This may lead to inconsistently parsed dates! Specify a format to ensure consistent parsing.\n",
      "  df['Ship Date']=pd.to_datetime(df['Ship Date'])\n"
     ]
    }
   ],
   "source": [
    "df['Order Date']=pd.to_datetime(df['Order Date'])\n",
    "df['Ship Date']=pd.to_datetime(df['Ship Date'])"
   ]
  },
  {
   "cell_type": "markdown",
   "id": "18d43438",
   "metadata": {
    "papermill": {
     "duration": 0.017397,
     "end_time": "2023-08-03T15:12:45.528791",
     "exception": false,
     "start_time": "2023-08-03T15:12:45.511394",
     "status": "completed"
    },
    "tags": []
   },
   "source": [
    "**<font size=\"6\">Data Visualization</font>**"
   ]
  },
  {
   "cell_type": "code",
   "execution_count": 18,
   "id": "b7ffaace",
   "metadata": {
    "execution": {
     "iopub.execute_input": "2023-08-03T15:12:45.565035Z",
     "iopub.status.busy": "2023-08-03T15:12:45.564639Z",
     "iopub.status.idle": "2023-08-03T15:12:45.573426Z",
     "shell.execute_reply": "2023-08-03T15:12:45.572377Z"
    },
    "papermill": {
     "duration": 0.02987,
     "end_time": "2023-08-03T15:12:45.575858",
     "exception": false,
     "start_time": "2023-08-03T15:12:45.545988",
     "status": "completed"
    },
    "tags": []
   },
   "outputs": [],
   "source": [
    "df['month'] = df['Order Date'].dt.month"
   ]
  },
  {
   "cell_type": "code",
   "execution_count": 19,
   "id": "a88af84d",
   "metadata": {
    "execution": {
     "iopub.execute_input": "2023-08-03T15:12:45.615284Z",
     "iopub.status.busy": "2023-08-03T15:12:45.614768Z",
     "iopub.status.idle": "2023-08-03T15:12:45.637793Z",
     "shell.execute_reply": "2023-08-03T15:12:45.636355Z"
    },
    "papermill": {
     "duration": 0.0479,
     "end_time": "2023-08-03T15:12:45.640872",
     "exception": false,
     "start_time": "2023-08-03T15:12:45.592972",
     "status": "completed"
    },
    "tags": []
   },
   "outputs": [
    {
     "data": {
      "text/html": [
       "<div>\n",
       "<style scoped>\n",
       "    .dataframe tbody tr th:only-of-type {\n",
       "        vertical-align: middle;\n",
       "    }\n",
       "\n",
       "    .dataframe tbody tr th {\n",
       "        vertical-align: top;\n",
       "    }\n",
       "\n",
       "    .dataframe thead th {\n",
       "        text-align: right;\n",
       "    }\n",
       "</style>\n",
       "<table border=\"1\" class=\"dataframe\">\n",
       "  <thead>\n",
       "    <tr style=\"text-align: right;\">\n",
       "      <th></th>\n",
       "      <th>Order Date</th>\n",
       "      <th>Ship Date</th>\n",
       "      <th>Ship Mode</th>\n",
       "      <th>Segment</th>\n",
       "      <th>Country</th>\n",
       "      <th>City</th>\n",
       "      <th>State</th>\n",
       "      <th>Postal Code</th>\n",
       "      <th>Region</th>\n",
       "      <th>Product ID</th>\n",
       "      <th>Category</th>\n",
       "      <th>Sub-Category</th>\n",
       "      <th>Product Name</th>\n",
       "      <th>Sales</th>\n",
       "      <th>month</th>\n",
       "    </tr>\n",
       "  </thead>\n",
       "  <tbody>\n",
       "    <tr>\n",
       "      <th>0</th>\n",
       "      <td>2017-08-11</td>\n",
       "      <td>2017-11-11</td>\n",
       "      <td>Second Class</td>\n",
       "      <td>Consumer</td>\n",
       "      <td>United States</td>\n",
       "      <td>Henderson</td>\n",
       "      <td>Kentucky</td>\n",
       "      <td>42420.0</td>\n",
       "      <td>South</td>\n",
       "      <td>FUR-BO-10001798</td>\n",
       "      <td>Furniture</td>\n",
       "      <td>Bookcases</td>\n",
       "      <td>Bush Somerset Collection Bookcase</td>\n",
       "      <td>261.9600</td>\n",
       "      <td>8</td>\n",
       "    </tr>\n",
       "    <tr>\n",
       "      <th>1</th>\n",
       "      <td>2017-08-11</td>\n",
       "      <td>2017-11-11</td>\n",
       "      <td>Second Class</td>\n",
       "      <td>Consumer</td>\n",
       "      <td>United States</td>\n",
       "      <td>Henderson</td>\n",
       "      <td>Kentucky</td>\n",
       "      <td>42420.0</td>\n",
       "      <td>South</td>\n",
       "      <td>FUR-CH-10000454</td>\n",
       "      <td>Furniture</td>\n",
       "      <td>Chairs</td>\n",
       "      <td>Hon Deluxe Fabric Upholstered Stacking Chairs,...</td>\n",
       "      <td>731.9400</td>\n",
       "      <td>8</td>\n",
       "    </tr>\n",
       "    <tr>\n",
       "      <th>2</th>\n",
       "      <td>2017-12-06</td>\n",
       "      <td>2017-06-16</td>\n",
       "      <td>Second Class</td>\n",
       "      <td>Corporate</td>\n",
       "      <td>United States</td>\n",
       "      <td>Los Angeles</td>\n",
       "      <td>California</td>\n",
       "      <td>90036.0</td>\n",
       "      <td>West</td>\n",
       "      <td>OFF-LA-10000240</td>\n",
       "      <td>Office Supplies</td>\n",
       "      <td>Labels</td>\n",
       "      <td>Self-Adhesive Address Labels for Typewriters b...</td>\n",
       "      <td>14.6200</td>\n",
       "      <td>12</td>\n",
       "    </tr>\n",
       "    <tr>\n",
       "      <th>3</th>\n",
       "      <td>2016-11-10</td>\n",
       "      <td>2016-10-18</td>\n",
       "      <td>Standard Class</td>\n",
       "      <td>Consumer</td>\n",
       "      <td>United States</td>\n",
       "      <td>Fort Lauderdale</td>\n",
       "      <td>Florida</td>\n",
       "      <td>33311.0</td>\n",
       "      <td>South</td>\n",
       "      <td>FUR-TA-10000577</td>\n",
       "      <td>Furniture</td>\n",
       "      <td>Tables</td>\n",
       "      <td>Bretford CR4500 Series Slim Rectangular Table</td>\n",
       "      <td>957.5775</td>\n",
       "      <td>11</td>\n",
       "    </tr>\n",
       "    <tr>\n",
       "      <th>4</th>\n",
       "      <td>2016-11-10</td>\n",
       "      <td>2016-10-18</td>\n",
       "      <td>Standard Class</td>\n",
       "      <td>Consumer</td>\n",
       "      <td>United States</td>\n",
       "      <td>Fort Lauderdale</td>\n",
       "      <td>Florida</td>\n",
       "      <td>33311.0</td>\n",
       "      <td>South</td>\n",
       "      <td>OFF-ST-10000760</td>\n",
       "      <td>Office Supplies</td>\n",
       "      <td>Storage</td>\n",
       "      <td>Eldon Fold 'N Roll Cart System</td>\n",
       "      <td>22.3680</td>\n",
       "      <td>11</td>\n",
       "    </tr>\n",
       "  </tbody>\n",
       "</table>\n",
       "</div>"
      ],
      "text/plain": [
       "  Order Date  Ship Date       Ship Mode    Segment        Country  \\\n",
       "0 2017-08-11 2017-11-11    Second Class   Consumer  United States   \n",
       "1 2017-08-11 2017-11-11    Second Class   Consumer  United States   \n",
       "2 2017-12-06 2017-06-16    Second Class  Corporate  United States   \n",
       "3 2016-11-10 2016-10-18  Standard Class   Consumer  United States   \n",
       "4 2016-11-10 2016-10-18  Standard Class   Consumer  United States   \n",
       "\n",
       "              City       State  Postal Code Region       Product ID  \\\n",
       "0        Henderson    Kentucky      42420.0  South  FUR-BO-10001798   \n",
       "1        Henderson    Kentucky      42420.0  South  FUR-CH-10000454   \n",
       "2      Los Angeles  California      90036.0   West  OFF-LA-10000240   \n",
       "3  Fort Lauderdale     Florida      33311.0  South  FUR-TA-10000577   \n",
       "4  Fort Lauderdale     Florida      33311.0  South  OFF-ST-10000760   \n",
       "\n",
       "          Category Sub-Category  \\\n",
       "0        Furniture    Bookcases   \n",
       "1        Furniture       Chairs   \n",
       "2  Office Supplies       Labels   \n",
       "3        Furniture       Tables   \n",
       "4  Office Supplies      Storage   \n",
       "\n",
       "                                        Product Name     Sales  month  \n",
       "0                  Bush Somerset Collection Bookcase  261.9600      8  \n",
       "1  Hon Deluxe Fabric Upholstered Stacking Chairs,...  731.9400      8  \n",
       "2  Self-Adhesive Address Labels for Typewriters b...   14.6200     12  \n",
       "3      Bretford CR4500 Series Slim Rectangular Table  957.5775     11  \n",
       "4                     Eldon Fold 'N Roll Cart System   22.3680     11  "
      ]
     },
     "execution_count": 19,
     "metadata": {},
     "output_type": "execute_result"
    }
   ],
   "source": [
    "df.head()"
   ]
  },
  {
   "cell_type": "markdown",
   "id": "532bee09",
   "metadata": {
    "papermill": {
     "duration": 0.017787,
     "end_time": "2023-08-03T15:12:45.677067",
     "exception": false,
     "start_time": "2023-08-03T15:12:45.659280",
     "status": "completed"
    },
    "tags": []
   },
   "source": [
    "**<font size=\"5\">Monthly Average Sales<font/>**"
   ]
  },
  {
   "cell_type": "code",
   "execution_count": 20,
   "id": "7d8423be",
   "metadata": {
    "execution": {
     "iopub.execute_input": "2023-08-03T15:12:45.716810Z",
     "iopub.status.busy": "2023-08-03T15:12:45.716268Z",
     "iopub.status.idle": "2023-08-03T15:12:46.177335Z",
     "shell.execute_reply": "2023-08-03T15:12:46.174561Z"
    },
    "papermill": {
     "duration": 0.485936,
     "end_time": "2023-08-03T15:12:46.181172",
     "exception": false,
     "start_time": "2023-08-03T15:12:45.695236",
     "status": "completed"
    },
    "tags": []
   },
   "outputs": [
    {
     "data": {
      "image/png": "[encoded data removed]",
      "text/plain": [
       "<Figure size 640x480 with 1 Axes>"
      ]
     },
     "metadata": {},
     "output_type": "display_data"
    }
   ],
   "source": [
    "df_monthly_average = df.groupby(['month']).agg({'Sales':'mean'}).reset_index()\n",
    "sns.barplot(x='month',y='Sales',data=df_monthly_average).set(title=\"Monthly Average Sales\");"
   ]
  },
  {
   "cell_type": "markdown",
   "id": "cbc0a995",
   "metadata": {
    "papermill": {
     "duration": 0.019033,
     "end_time": "2023-08-03T15:12:46.224808",
     "exception": false,
     "start_time": "2023-08-03T15:12:46.205775",
     "status": "completed"
    },
    "tags": []
   },
   "source": [
    "<font size=\"5\">January has the maximum average sales</font>"
   ]
  },
  {
   "cell_type": "markdown",
   "id": "cd73d3ff",
   "metadata": {
    "papermill": {
     "duration": 0.018095,
     "end_time": "2023-08-03T15:12:46.261730",
     "exception": false,
     "start_time": "2023-08-03T15:12:46.243635",
     "status": "completed"
    },
    "tags": []
   },
   "source": [
    "**<font size=\"5\">Top 10 Cities</font>**"
   ]
  },
  {
   "cell_type": "code",
   "execution_count": 21,
   "id": "b8a6a78a",
   "metadata": {
    "execution": {
     "iopub.execute_input": "2023-08-03T15:12:46.302009Z",
     "iopub.status.busy": "2023-08-03T15:12:46.301173Z",
     "iopub.status.idle": "2023-08-03T15:12:48.062032Z",
     "shell.execute_reply": "2023-08-03T15:12:48.060744Z"
    },
    "papermill": {
     "duration": 1.784258,
     "end_time": "2023-08-03T15:12:48.064950",
     "exception": false,
     "start_time": "2023-08-03T15:12:46.280692",
     "status": "completed"
    },
    "tags": []
   },
   "outputs": [
    {
     "name": "stderr",
     "output_type": "stream",
     "text": [
      "/tmp/ipykernel_20/1969777716.py:1: FutureWarning: The default value of numeric_only in DataFrameGroupBy.sum is deprecated. In a future version, numeric_only will default to False. Either specify numeric_only or select only columns which should be valid for the function.\n",
      "  top_cities= df.groupby(\"City\").sum().sort_values(\"Sales\",ascending=False).head(10)\n"
     ]
    },
    {
     "data": {
      "text/html": [
       "        <script type=\"text/javascript\">\n",
       "        window.PlotlyConfig = {MathJaxConfig: 'local'};\n",
       "        if (window.MathJax && window.MathJax.Hub && window.MathJax.Hub.Config) {window.MathJax.Hub.Config({SVG: {font: \"STIX-Web\"}});}\n",
       "        if (typeof require !== 'undefined') {\n",
       "        require.undef(\"plotly\");\n",
       "        requirejs.config({\n",
       "            paths: {\n",
       "                'plotly': ['https://cdn.plot.ly/plotly-2.24.1.min']\n",
       "            }\n",
       "        });\n",
       "        require(['plotly'], function(Plotly) {\n",
       "            window._Plotly = Plotly;\n",
       "        });\n",
       "        }\n",
       "        </script>\n",
       "        "
      ]
     },
     "metadata": {},
     "output_type": "display_data"
    },
    {
     "data": {
      "text/html": [
       "<div>                            <div id=\"c92e865b-1455-4849-88b4-6f2c39834cd7\" class=\"plotly-graph-div\" style=\"height:525px; width:100%;\"></div>            <script type=\"text/javascript\">                require([\"plotly\"], function(Plotly) {                    window.PLOTLYENV=window.PLOTLYENV || {};                                    if (document.getElementById(\"c92e865b-1455-4849-88b4-6f2c39834cd7\")) {                    Plotly.newPlot(                        \"c92e865b-1455-4849-88b4-6f2c39834cd7\",                        [{\"alignmentgroup\":\"True\",\"hovertemplate\":\"City=%{x}\\u003cbr\\u003eSales=%{y}\\u003cextra\\u003e\\u003c\\u002fextra\\u003e\",\"legendgroup\":\"\",\"marker\":{\"color\":\"#0d0887\",\"pattern\":{\"shape\":\"\"}},\"name\":\"\",\"offsetgroup\":\"\",\"orientation\":\"v\",\"showlegend\":false,\"textposition\":\"auto\",\"x\":[\"New York City\",\"Los Angeles\",\"Seattle\",\"San Francisco\",\"Philadelphia\",\"Houston\",\"Chicago\",\"San Diego\",\"Jacksonville\",\"Detroit\"],\"xaxis\":\"x\",\"y\":[252462.55,173420.18,116106.32,109041.12,108841.75,63956.14,47820.13,47521.03,44713.18,42446.94],\"yaxis\":\"y\",\"type\":\"bar\"}],                        {\"template\":{\"data\":{\"histogram2dcontour\":[{\"type\":\"histogram2dcontour\",\"colorbar\":{\"outlinewidth\":0,\"ticks\":\"\"},\"colorscale\":[[0.0,\"#0d0887\"],[0.1111111111111111,\"#46039f\"],[0.2222222222222222,\"#7201a8\"],[0.3333333333333333,\"#9c179e\"],[0.4444444444444444,\"#bd3786\"],[0.5555555555555556,\"#d8576b\"],[0.6666666666666666,\"#ed7953\"],[0.7777777777777778,\"#fb9f3a\"],[0.8888888888888888,\"#fdca26\"],[1.0,\"#f0f921\"]]}],\"choropleth\":[{\"type\":\"choropleth\",\"colorbar\":{\"outlinewidth\":0,\"ticks\":\"\"}}],\"histogram2d\":[{\"type\":\"histogram2d\",\"colorbar\":{\"outlinewidth\":0,\"ticks\":\"\"},\"colorscale\":[[0.0,\"#0d0887\"],[0.1111111111111111,\"#46039f\"],[0.2222222222222222,\"#7201a8\"],[0.3333333333333333,\"#9c179e\"],[0.4444444444444444,\"#bd3786\"],[0.5555555555555556,\"#d8576b\"],[0.6666666666666666,\"#ed7953\"],[0.7777777777777778,\"#fb9f3a\"],[0.8888888888888888,\"#fdca26\"],[1.0,\"#f0f921\"]]}],\"heatmap\":[{\"type\":\"heatmap\",\"colorbar\":{\"outlinewidth\":0,\"ticks\":\"\"},\"colorscale\":[[0.0,\"#0d0887\"],[0.1111111111111111,\"#46039f\"],[0.2222222222222222,\"#7201a8\"],[0.3333333333333333,\"#9c179e\"],[0.4444444444444444,\"#bd3786\"],[0.5555555555555556,\"#d8576b\"],[0.6666666666666666,\"#ed7953\"],[0.7777777777777778,\"#fb9f3a\"],[0.8888888888888888,\"#fdca26\"],[1.0,\"#f0f921\"]]}],\"heatmapgl\":[{\"type\":\"heatmapgl\",\"colorbar\":{\"outlinewidth\":0,\"ticks\":\"\"},\"colorscale\":[[0.0,\"#0d0887\"],[0.1111111111111111,\"#46039f\"],[0.2222222222222222,\"#7201a8\"],[0.3333333333333333,\"#9c179e\"],[0.4444444444444444,\"#bd3786\"],[0.5555555555555556,\"#d8576b\"],[0.6666666666666666,\"#ed7953\"],[0.7777777777777778,\"#fb9f3a\"],[0.8888888888888888,\"#fdca26\"],[1.0,\"#f0f921\"]]}],\"contourcarpet\":[{\"type\":\"contourcarpet\",\"colorbar\":{\"outlinewidth\":0,\"ticks\":\"\"}}],\"contour\":[{\"type\":\"contour\",\"colorbar\":{\"outlinewidth\":0,\"ticks\":\"\"},\"colorscale\":[[0.0,\"#0d0887\"],[0.1111111111111111,\"#46039f\"],[0.2222222222222222,\"#7201a8\"],[0.3333333333333333,\"#9c179e\"],[0.4444444444444444,\"#bd3786\"],[0.5555555555555556,\"#d8576b\"],[0.6666666666666666,\"#ed7953\"],[0.7777777777777778,\"#fb9f3a\"],[0.8888888888888888,\"#fdca26\"],[1.0,\"#f0f921\"]]}],\"surface\":[{\"type\":\"surface\",\"colorbar\":{\"outlinewidth\":0,\"ticks\":\"\"},\"colorscale\":[[0.0,\"#0d0887\"],[0.1111111111111111,\"#46039f\"],[0.2222222222222222,\"#7201a8\"],[0.3333333333333333,\"#9c179e\"],[0.4444444444444444,\"#bd3786\"],[0.5555555555555556,\"#d8576b\"],[0.6666666666666666,\"#ed7953\"],[0.7777777777777778,\"#fb9f3a\"],[0.8888888888888888,\"#fdca26\"],[1.0,\"#f0f921\"]]}],\"mesh3d\":[{\"type\":\"mesh3d\",\"colorbar\":{\"outlinewidth\":0,\"ticks\":\"\"}}],\"scatter\":[{\"fillpattern\":{\"fillmode\":\"overlay\",\"size\":10,\"solidity\":0.2},\"type\":\"scatter\"}],\"parcoords\":[{\"type\":\"parcoords\",\"line\":{\"colorbar\":{\"outlinewidth\":0,\"ticks\":\"\"}}}],\"scatterpolargl\":[{\"type\":\"scatterpolargl\",\"marker\":{\"colorbar\":{\"outlinewidth\":0,\"ticks\":\"\"}}}],\"bar\":[{\"error_x\":{\"color\":\"#2a3f5f\"},\"error_y\":{\"color\":\"#2a3f5f\"},\"marker\":{\"line\":{\"color\":\"#E5ECF6\",\"width\":0.5},\"pattern\":{\"fillmode\":\"overlay\",\"size\":10,\"solidity\":0.2}},\"type\":\"bar\"}],\"scattergeo\":[{\"type\":\"scattergeo\",\"marker\":{\"colorbar\":{\"outlinewidth\":0,\"ticks\":\"\"}}}],\"scatterpolar\":[{\"type\":\"scatterpolar\",\"marker\":{\"colorbar\":{\"outlinewidth\":0,\"ticks\":\"\"}}}],\"histogram\":[{\"marker\":{\"pattern\":{\"fillmode\":\"overlay\",\"size\":10,\"solidity\":0.2}},\"type\":\"histogram\"}],\"scattergl\":[{\"type\":\"scattergl\",\"marker\":{\"colorbar\":{\"outlinewidth\":0,\"ticks\":\"\"}}}],\"scatter3d\":[{\"type\":\"scatter3d\",\"line\":{\"colorbar\":{\"outlinewidth\":0,\"ticks\":\"\"}},\"marker\":{\"colorbar\":{\"outlinewidth\":0,\"ticks\":\"\"}}}],\"scattermapbox\":[{\"type\":\"scattermapbox\",\"marker\":{\"colorbar\":{\"outlinewidth\":0,\"ticks\":\"\"}}}],\"scatterternary\":[{\"type\":\"scatterternary\",\"marker\":{\"colorbar\":{\"outlinewidth\":0,\"ticks\":\"\"}}}],\"scattercarpet\":[{\"type\":\"scattercarpet\",\"marker\":{\"colorbar\":{\"outlinewidth\":0,\"ticks\":\"\"}}}],\"carpet\":[{\"aaxis\":{\"endlinecolor\":\"#2a3f5f\",\"gridcolor\":\"white\",\"linecolor\":\"white\",\"minorgridcolor\":\"white\",\"startlinecolor\":\"#2a3f5f\"},\"baxis\":{\"endlinecolor\":\"#2a3f5f\",\"gridcolor\":\"white\",\"linecolor\":\"white\",\"minorgridcolor\":\"white\",\"startlinecolor\":\"#2a3f5f\"},\"type\":\"carpet\"}],\"table\":[{\"cells\":{\"fill\":{\"color\":\"#EBF0F8\"},\"line\":{\"color\":\"white\"}},\"header\":{\"fill\":{\"color\":\"#C8D4E3\"},\"line\":{\"color\":\"white\"}},\"type\":\"table\"}],\"barpolar\":[{\"marker\":{\"line\":{\"color\":\"#E5ECF6\",\"width\":0.5},\"pattern\":{\"fillmode\":\"overlay\",\"size\":10,\"solidity\":0.2}},\"type\":\"barpolar\"}],\"pie\":[{\"automargin\":true,\"type\":\"pie\"}]},\"layout\":{\"autotypenumbers\":\"strict\",\"colorway\":[\"#636efa\",\"#EF553B\",\"#00cc96\",\"#ab63fa\",\"#FFA15A\",\"#19d3f3\",\"#FF6692\",\"#B6E880\",\"#FF97FF\",\"#FECB52\"],\"font\":{\"color\":\"#2a3f5f\"},\"hovermode\":\"closest\",\"hoverlabel\":{\"align\":\"left\"},\"paper_bgcolor\":\"white\",\"plot_bgcolor\":\"#E5ECF6\",\"polar\":{\"bgcolor\":\"#E5ECF6\",\"angularaxis\":{\"gridcolor\":\"white\",\"linecolor\":\"white\",\"ticks\":\"\"},\"radialaxis\":{\"gridcolor\":\"white\",\"linecolor\":\"white\",\"ticks\":\"\"}},\"ternary\":{\"bgcolor\":\"#E5ECF6\",\"aaxis\":{\"gridcolor\":\"white\",\"linecolor\":\"white\",\"ticks\":\"\"},\"baxis\":{\"gridcolor\":\"white\",\"linecolor\":\"white\",\"ticks\":\"\"},\"caxis\":{\"gridcolor\":\"white\",\"linecolor\":\"white\",\"ticks\":\"\"}},\"coloraxis\":{\"colorbar\":{\"outlinewidth\":0,\"ticks\":\"\"}},\"colorscale\":{\"sequential\":[[0.0,\"#0d0887\"],[0.1111111111111111,\"#46039f\"],[0.2222222222222222,\"#7201a8\"],[0.3333333333333333,\"#9c179e\"],[0.4444444444444444,\"#bd3786\"],[0.5555555555555556,\"#d8576b\"],[0.6666666666666666,\"#ed7953\"],[0.7777777777777778,\"#fb9f3a\"],[0.8888888888888888,\"#fdca26\"],[1.0,\"#f0f921\"]],\"sequentialminus\":[[0.0,\"#0d0887\"],[0.1111111111111111,\"#46039f\"],[0.2222222222222222,\"#7201a8\"],[0.3333333333333333,\"#9c179e\"],[0.4444444444444444,\"#bd3786\"],[0.5555555555555556,\"#d8576b\"],[0.6666666666666666,\"#ed7953\"],[0.7777777777777778,\"#fb9f3a\"],[0.8888888888888888,\"#fdca26\"],[1.0,\"#f0f921\"]],\"diverging\":[[0,\"#8e0152\"],[0.1,\"#c51b7d\"],[0.2,\"#de77ae\"],[0.3,\"#f1b6da\"],[0.4,\"#fde0ef\"],[0.5,\"#f7f7f7\"],[0.6,\"#e6f5d0\"],[0.7,\"#b8e186\"],[0.8,\"#7fbc41\"],[0.9,\"#4d9221\"],[1,\"#276419\"]]},\"xaxis\":{\"gridcolor\":\"white\",\"linecolor\":\"white\",\"ticks\":\"\",\"title\":{\"standoff\":15},\"zerolinecolor\":\"white\",\"automargin\":true,\"zerolinewidth\":2},\"yaxis\":{\"gridcolor\":\"white\",\"linecolor\":\"white\",\"ticks\":\"\",\"title\":{\"standoff\":15},\"zerolinecolor\":\"white\",\"automargin\":true,\"zerolinewidth\":2},\"scene\":{\"xaxis\":{\"backgroundcolor\":\"#E5ECF6\",\"gridcolor\":\"white\",\"linecolor\":\"white\",\"showbackground\":true,\"ticks\":\"\",\"zerolinecolor\":\"white\",\"gridwidth\":2},\"yaxis\":{\"backgroundcolor\":\"#E5ECF6\",\"gridcolor\":\"white\",\"linecolor\":\"white\",\"showbackground\":true,\"ticks\":\"\",\"zerolinecolor\":\"white\",\"gridwidth\":2},\"zaxis\":{\"backgroundcolor\":\"#E5ECF6\",\"gridcolor\":\"white\",\"linecolor\":\"white\",\"showbackground\":true,\"ticks\":\"\",\"zerolinecolor\":\"white\",\"gridwidth\":2}},\"shapedefaults\":{\"line\":{\"color\":\"#2a3f5f\"}},\"annotationdefaults\":{\"arrowcolor\":\"#2a3f5f\",\"arrowhead\":0,\"arrowwidth\":1},\"geo\":{\"bgcolor\":\"white\",\"landcolor\":\"#E5ECF6\",\"subunitcolor\":\"white\",\"showland\":true,\"showlakes\":true,\"lakecolor\":\"white\"},\"title\":{\"x\":0.05},\"mapbox\":{\"style\":\"light\"}}},\"xaxis\":{\"anchor\":\"y\",\"domain\":[0.0,1.0],\"title\":{\"text\":\"City\"}},\"yaxis\":{\"anchor\":\"x\",\"domain\":[0.0,1.0],\"title\":{\"text\":\"Sales\"}},\"legend\":{\"tracegroupgap\":0},\"title\":{\"text\":\"Top 10 Cities\"},\"barmode\":\"relative\"},                        {\"responsive\": true}                    ).then(function(){\n",
       "                            \n",
       "var gd = document.getElementById('c92e865b-1455-4849-88b4-6f2c39834cd7');\n",
       "var x = new MutationObserver(function (mutations, observer) {{\n",
       "        var display = window.getComputedStyle(gd).display;\n",
       "        if (!display || display === 'none') {{\n",
       "            console.log([gd, 'removed!']);\n",
       "            Plotly.purge(gd);\n",
       "            observer.disconnect();\n",
       "        }}\n",
       "}});\n",
       "\n",
       "// Listen for the removal of the full notebook cells\n",
       "var notebookContainer = gd.closest('#notebook-container');\n",
       "if (notebookContainer) {{\n",
       "    x.observe(notebookContainer, {childList: true});\n",
       "}}\n",
       "\n",
       "// Listen for the clearing of the current output cell\n",
       "var outputEl = gd.closest('.output');\n",
       "if (outputEl) {{\n",
       "    x.observe(outputEl, {childList: true});\n",
       "}}\n",
       "\n",
       "                        })                };                });            </script>        </div>"
      ]
     },
     "metadata": {},
     "output_type": "display_data"
    }
   ],
   "source": [
    "top_cities= df.groupby(\"City\").sum().sort_values(\"Sales\",ascending=False).head(10)\n",
    "top_cities= top_cities[['Sales']].round(2)\n",
    "top_cities.reset_index(inplace=True)\n",
    "top_cities\n",
    "\n",
    "fig=px.bar(top_cities,x='City',y='Sales',title=\"Top 10 Cities\",color_discrete_sequence=px.colors.sequential.Plasma)\n",
    "fig.show()"
   ]
  },
  {
   "cell_type": "markdown",
   "id": "1084e09a",
   "metadata": {
    "papermill": {
     "duration": 0.019871,
     "end_time": "2023-08-03T15:12:48.105154",
     "exception": false,
     "start_time": "2023-08-03T15:12:48.085283",
     "status": "completed"
    },
    "tags": []
   },
   "source": [
    "<font size=\"5\">New York City has the maximum sales</font>"
   ]
  },
  {
   "cell_type": "markdown",
   "id": "92a45978",
   "metadata": {
    "papermill": {
     "duration": 0.019345,
     "end_time": "2023-08-03T15:12:48.143809",
     "exception": false,
     "start_time": "2023-08-03T15:12:48.124464",
     "status": "completed"
    },
    "tags": []
   },
   "source": [
    "**<font size=\"5\">Top 10 States</font>**"
   ]
  },
  {
   "cell_type": "code",
   "execution_count": 22,
   "id": "5b903607",
   "metadata": {
    "execution": {
     "iopub.execute_input": "2023-08-03T15:12:48.186002Z",
     "iopub.status.busy": "2023-08-03T15:12:48.185513Z",
     "iopub.status.idle": "2023-08-03T15:12:48.445007Z",
     "shell.execute_reply": "2023-08-03T15:12:48.444057Z"
    },
    "papermill": {
     "duration": 0.283985,
     "end_time": "2023-08-03T15:12:48.447320",
     "exception": false,
     "start_time": "2023-08-03T15:12:48.163335",
     "status": "completed"
    },
    "tags": []
   },
   "outputs": [
    {
     "name": "stderr",
     "output_type": "stream",
     "text": [
      "/tmp/ipykernel_20/1909233441.py:1: FutureWarning:\n",
      "\n",
      "The default value of numeric_only in DataFrameGroupBy.sum is deprecated. In a future version, numeric_only will default to False. Either specify numeric_only or select only columns which should be valid for the function.\n",
      "\n"
     ]
    },
    {
     "data": {
      "text/html": [
       "<div>                            <div id=\"2ca20c59-beea-43bb-8421-771abae3fb00\" class=\"plotly-graph-div\" style=\"height:525px; width:100%;\"></div>            <script type=\"text/javascript\">                require([\"plotly\"], function(Plotly) {                    window.PLOTLYENV=window.PLOTLYENV || {};                                    if (document.getElementById(\"2ca20c59-beea-43bb-8421-771abae3fb00\")) {                    Plotly.newPlot(                        \"2ca20c59-beea-43bb-8421-771abae3fb00\",                        [{\"alignmentgroup\":\"True\",\"hovertemplate\":\"State=%{x}\\u003cbr\\u003eSales=%{y}\\u003cextra\\u003e\\u003c\\u002fextra\\u003e\",\"legendgroup\":\"\",\"marker\":{\"color\":\"#0d0887\",\"pattern\":{\"shape\":\"\"}},\"name\":\"\",\"offsetgroup\":\"\",\"orientation\":\"v\",\"showlegend\":false,\"textposition\":\"auto\",\"x\":[\"California\",\"New York\",\"Texas\",\"Washington\",\"Pennsylvania\",\"Florida\",\"Illinois\",\"Michigan\",\"Ohio\",\"Virginia\"],\"xaxis\":\"x\",\"y\":[446306.46,306361.15,168572.53,135206.85,116276.65,88436.53,79236.52,76136.07,74848.98,70636.72],\"yaxis\":\"y\",\"type\":\"bar\"}],                        {\"template\":{\"data\":{\"histogram2dcontour\":[{\"type\":\"histogram2dcontour\",\"colorbar\":{\"outlinewidth\":0,\"ticks\":\"\"},\"colorscale\":[[0.0,\"#0d0887\"],[0.1111111111111111,\"#46039f\"],[0.2222222222222222,\"#7201a8\"],[0.3333333333333333,\"#9c179e\"],[0.4444444444444444,\"#bd3786\"],[0.5555555555555556,\"#d8576b\"],[0.6666666666666666,\"#ed7953\"],[0.7777777777777778,\"#fb9f3a\"],[0.8888888888888888,\"#fdca26\"],[1.0,\"#f0f921\"]]}],\"choropleth\":[{\"type\":\"choropleth\",\"colorbar\":{\"outlinewidth\":0,\"ticks\":\"\"}}],\"histogram2d\":[{\"type\":\"histogram2d\",\"colorbar\":{\"outlinewidth\":0,\"ticks\":\"\"},\"colorscale\":[[0.0,\"#0d0887\"],[0.1111111111111111,\"#46039f\"],[0.2222222222222222,\"#7201a8\"],[0.3333333333333333,\"#9c179e\"],[0.4444444444444444,\"#bd3786\"],[0.5555555555555556,\"#d8576b\"],[0.6666666666666666,\"#ed7953\"],[0.7777777777777778,\"#fb9f3a\"],[0.8888888888888888,\"#fdca26\"],[1.0,\"#f0f921\"]]}],\"heatmap\":[{\"type\":\"heatmap\",\"colorbar\":{\"outlinewidth\":0,\"ticks\":\"\"},\"colorscale\":[[0.0,\"#0d0887\"],[0.1111111111111111,\"#46039f\"],[0.2222222222222222,\"#7201a8\"],[0.3333333333333333,\"#9c179e\"],[0.4444444444444444,\"#bd3786\"],[0.5555555555555556,\"#d8576b\"],[0.6666666666666666,\"#ed7953\"],[0.7777777777777778,\"#fb9f3a\"],[0.8888888888888888,\"#fdca26\"],[1.0,\"#f0f921\"]]}],\"heatmapgl\":[{\"type\":\"heatmapgl\",\"colorbar\":{\"outlinewidth\":0,\"ticks\":\"\"},\"colorscale\":[[0.0,\"#0d0887\"],[0.1111111111111111,\"#46039f\"],[0.2222222222222222,\"#7201a8\"],[0.3333333333333333,\"#9c179e\"],[0.4444444444444444,\"#bd3786\"],[0.5555555555555556,\"#d8576b\"],[0.6666666666666666,\"#ed7953\"],[0.7777777777777778,\"#fb9f3a\"],[0.8888888888888888,\"#fdca26\"],[1.0,\"#f0f921\"]]}],\"contourcarpet\":[{\"type\":\"contourcarpet\",\"colorbar\":{\"outlinewidth\":0,\"ticks\":\"\"}}],\"contour\":[{\"type\":\"contour\",\"colorbar\":{\"outlinewidth\":0,\"ticks\":\"\"},\"colorscale\":[[0.0,\"#0d0887\"],[0.1111111111111111,\"#46039f\"],[0.2222222222222222,\"#7201a8\"],[0.3333333333333333,\"#9c179e\"],[0.4444444444444444,\"#bd3786\"],[0.5555555555555556,\"#d8576b\"],[0.6666666666666666,\"#ed7953\"],[0.7777777777777778,\"#fb9f3a\"],[0.8888888888888888,\"#fdca26\"],[1.0,\"#f0f921\"]]}],\"surface\":[{\"type\":\"surface\",\"colorbar\":{\"outlinewidth\":0,\"ticks\":\"\"},\"colorscale\":[[0.0,\"#0d0887\"],[0.1111111111111111,\"#46039f\"],[0.2222222222222222,\"#7201a8\"],[0.3333333333333333,\"#9c179e\"],[0.4444444444444444,\"#bd3786\"],[0.5555555555555556,\"#d8576b\"],[0.6666666666666666,\"#ed7953\"],[0.7777777777777778,\"#fb9f3a\"],[0.8888888888888888,\"#fdca26\"],[1.0,\"#f0f921\"]]}],\"mesh3d\":[{\"type\":\"mesh3d\",\"colorbar\":{\"outlinewidth\":0,\"ticks\":\"\"}}],\"scatter\":[{\"fillpattern\":{\"fillmode\":\"overlay\",\"size\":10,\"solidity\":0.2},\"type\":\"scatter\"}],\"parcoords\":[{\"type\":\"parcoords\",\"line\":{\"colorbar\":{\"outlinewidth\":0,\"ticks\":\"\"}}}],\"scatterpolargl\":[{\"type\":\"scatterpolargl\",\"marker\":{\"colorbar\":{\"outlinewidth\":0,\"ticks\":\"\"}}}],\"bar\":[{\"error_x\":{\"color\":\"#2a3f5f\"},\"error_y\":{\"color\":\"#2a3f5f\"},\"marker\":{\"line\":{\"color\":\"#E5ECF6\",\"width\":0.5},\"pattern\":{\"fillmode\":\"overlay\",\"size\":10,\"solidity\":0.2}},\"type\":\"bar\"}],\"scattergeo\":[{\"type\":\"scattergeo\",\"marker\":{\"colorbar\":{\"outlinewidth\":0,\"ticks\":\"\"}}}],\"scatterpolar\":[{\"type\":\"scatterpolar\",\"marker\":{\"colorbar\":{\"outlinewidth\":0,\"ticks\":\"\"}}}],\"histogram\":[{\"marker\":{\"pattern\":{\"fillmode\":\"overlay\",\"size\":10,\"solidity\":0.2}},\"type\":\"histogram\"}],\"scattergl\":[{\"type\":\"scattergl\",\"marker\":{\"colorbar\":{\"outlinewidth\":0,\"ticks\":\"\"}}}],\"scatter3d\":[{\"type\":\"scatter3d\",\"line\":{\"colorbar\":{\"outlinewidth\":0,\"ticks\":\"\"}},\"marker\":{\"colorbar\":{\"outlinewidth\":0,\"ticks\":\"\"}}}],\"scattermapbox\":[{\"type\":\"scattermapbox\",\"marker\":{\"colorbar\":{\"outlinewidth\":0,\"ticks\":\"\"}}}],\"scatterternary\":[{\"type\":\"scatterternary\",\"marker\":{\"colorbar\":{\"outlinewidth\":0,\"ticks\":\"\"}}}],\"scattercarpet\":[{\"type\":\"scattercarpet\",\"marker\":{\"colorbar\":{\"outlinewidth\":0,\"ticks\":\"\"}}}],\"carpet\":[{\"aaxis\":{\"endlinecolor\":\"#2a3f5f\",\"gridcolor\":\"white\",\"linecolor\":\"white\",\"minorgridcolor\":\"white\",\"startlinecolor\":\"#2a3f5f\"},\"baxis\":{\"endlinecolor\":\"#2a3f5f\",\"gridcolor\":\"white\",\"linecolor\":\"white\",\"minorgridcolor\":\"white\",\"startlinecolor\":\"#2a3f5f\"},\"type\":\"carpet\"}],\"table\":[{\"cells\":{\"fill\":{\"color\":\"#EBF0F8\"},\"line\":{\"color\":\"white\"}},\"header\":{\"fill\":{\"color\":\"#C8D4E3\"},\"line\":{\"color\":\"white\"}},\"type\":\"table\"}],\"barpolar\":[{\"marker\":{\"line\":{\"color\":\"#E5ECF6\",\"width\":0.5},\"pattern\":{\"fillmode\":\"overlay\",\"size\":10,\"solidity\":0.2}},\"type\":\"barpolar\"}],\"pie\":[{\"automargin\":true,\"type\":\"pie\"}]},\"layout\":{\"autotypenumbers\":\"strict\",\"colorway\":[\"#636efa\",\"#EF553B\",\"#00cc96\",\"#ab63fa\",\"#FFA15A\",\"#19d3f3\",\"#FF6692\",\"#B6E880\",\"#FF97FF\",\"#FECB52\"],\"font\":{\"color\":\"#2a3f5f\"},\"hovermode\":\"closest\",\"hoverlabel\":{\"align\":\"left\"},\"paper_bgcolor\":\"white\",\"plot_bgcolor\":\"#E5ECF6\",\"polar\":{\"bgcolor\":\"#E5ECF6\",\"angularaxis\":{\"gridcolor\":\"white\",\"linecolor\":\"white\",\"ticks\":\"\"},\"radialaxis\":{\"gridcolor\":\"white\",\"linecolor\":\"white\",\"ticks\":\"\"}},\"ternary\":{\"bgcolor\":\"#E5ECF6\",\"aaxis\":{\"gridcolor\":\"white\",\"linecolor\":\"white\",\"ticks\":\"\"},\"baxis\":{\"gridcolor\":\"white\",\"linecolor\":\"white\",\"ticks\":\"\"},\"caxis\":{\"gridcolor\":\"white\",\"linecolor\":\"white\",\"ticks\":\"\"}},\"coloraxis\":{\"colorbar\":{\"outlinewidth\":0,\"ticks\":\"\"}},\"colorscale\":{\"sequential\":[[0.0,\"#0d0887\"],[0.1111111111111111,\"#46039f\"],[0.2222222222222222,\"#7201a8\"],[0.3333333333333333,\"#9c179e\"],[0.4444444444444444,\"#bd3786\"],[0.5555555555555556,\"#d8576b\"],[0.6666666666666666,\"#ed7953\"],[0.7777777777777778,\"#fb9f3a\"],[0.8888888888888888,\"#fdca26\"],[1.0,\"#f0f921\"]],\"sequentialminus\":[[0.0,\"#0d0887\"],[0.1111111111111111,\"#46039f\"],[0.2222222222222222,\"#7201a8\"],[0.3333333333333333,\"#9c179e\"],[0.4444444444444444,\"#bd3786\"],[0.5555555555555556,\"#d8576b\"],[0.6666666666666666,\"#ed7953\"],[0.7777777777777778,\"#fb9f3a\"],[0.8888888888888888,\"#fdca26\"],[1.0,\"#f0f921\"]],\"diverging\":[[0,\"#8e0152\"],[0.1,\"#c51b7d\"],[0.2,\"#de77ae\"],[0.3,\"#f1b6da\"],[0.4,\"#fde0ef\"],[0.5,\"#f7f7f7\"],[0.6,\"#e6f5d0\"],[0.7,\"#b8e186\"],[0.8,\"#7fbc41\"],[0.9,\"#4d9221\"],[1,\"#276419\"]]},\"xaxis\":{\"gridcolor\":\"white\",\"linecolor\":\"white\",\"ticks\":\"\",\"title\":{\"standoff\":15},\"zerolinecolor\":\"white\",\"automargin\":true,\"zerolinewidth\":2},\"yaxis\":{\"gridcolor\":\"white\",\"linecolor\":\"white\",\"ticks\":\"\",\"title\":{\"standoff\":15},\"zerolinecolor\":\"white\",\"automargin\":true,\"zerolinewidth\":2},\"scene\":{\"xaxis\":{\"backgroundcolor\":\"#E5ECF6\",\"gridcolor\":\"white\",\"linecolor\":\"white\",\"showbackground\":true,\"ticks\":\"\",\"zerolinecolor\":\"white\",\"gridwidth\":2},\"yaxis\":{\"backgroundcolor\":\"#E5ECF6\",\"gridcolor\":\"white\",\"linecolor\":\"white\",\"showbackground\":true,\"ticks\":\"\",\"zerolinecolor\":\"white\",\"gridwidth\":2},\"zaxis\":{\"backgroundcolor\":\"#E5ECF6\",\"gridcolor\":\"white\",\"linecolor\":\"white\",\"showbackground\":true,\"ticks\":\"\",\"zerolinecolor\":\"white\",\"gridwidth\":2}},\"shapedefaults\":{\"line\":{\"color\":\"#2a3f5f\"}},\"annotationdefaults\":{\"arrowcolor\":\"#2a3f5f\",\"arrowhead\":0,\"arrowwidth\":1},\"geo\":{\"bgcolor\":\"white\",\"landcolor\":\"#E5ECF6\",\"subunitcolor\":\"white\",\"showland\":true,\"showlakes\":true,\"lakecolor\":\"white\"},\"title\":{\"x\":0.05},\"mapbox\":{\"style\":\"light\"}}},\"xaxis\":{\"anchor\":\"y\",\"domain\":[0.0,1.0],\"title\":{\"text\":\"State\"}},\"yaxis\":{\"anchor\":\"x\",\"domain\":[0.0,1.0],\"title\":{\"text\":\"Sales\"}},\"legend\":{\"tracegroupgap\":0},\"title\":{\"text\":\"Top 10 States\"},\"barmode\":\"relative\"},                        {\"responsive\": true}                    ).then(function(){\n",
       "                            \n",
       "var gd = document.getElementById('2ca20c59-beea-43bb-8421-771abae3fb00');\n",
       "var x = new MutationObserver(function (mutations, observer) {{\n",
       "        var display = window.getComputedStyle(gd).display;\n",
       "        if (!display || display === 'none') {{\n",
       "            console.log([gd, 'removed!']);\n",
       "            Plotly.purge(gd);\n",
       "            observer.disconnect();\n",
       "        }}\n",
       "}});\n",
       "\n",
       "// Listen for the removal of the full notebook cells\n",
       "var notebookContainer = gd.closest('#notebook-container');\n",
       "if (notebookContainer) {{\n",
       "    x.observe(notebookContainer, {childList: true});\n",
       "}}\n",
       "\n",
       "// Listen for the clearing of the current output cell\n",
       "var outputEl = gd.closest('.output');\n",
       "if (outputEl) {{\n",
       "    x.observe(outputEl, {childList: true});\n",
       "}}\n",
       "\n",
       "                        })                };                });            </script>        </div>"
      ]
     },
     "metadata": {},
     "output_type": "display_data"
    }
   ],
   "source": [
    "top_states= df.groupby(\"State\").sum().sort_values(\"Sales\",ascending=False).head(10)\n",
    "top_states= top_states[['Sales']].round(2)\n",
    "top_states.reset_index(inplace=True)\n",
    "top_states\n",
    "fig=px.bar(top_states,x='State',y='Sales',title=\"Top 10 States\",color_discrete_sequence=px.colors.sequential.Plasma)\n",
    "fig.show()"
   ]
  },
  {
   "cell_type": "markdown",
   "id": "24f30610",
   "metadata": {
    "papermill": {
     "duration": 0.019156,
     "end_time": "2023-08-03T15:12:48.486057",
     "exception": false,
     "start_time": "2023-08-03T15:12:48.466901",
     "status": "completed"
    },
    "tags": []
   },
   "source": [
    "<font size=\"5\">Among all states, California has the maximum sales</font>"
   ]
  },
  {
   "cell_type": "markdown",
   "id": "c923c6f2",
   "metadata": {
    "papermill": {
     "duration": 0.020158,
     "end_time": "2023-08-03T15:12:48.525892",
     "exception": false,
     "start_time": "2023-08-03T15:12:48.505734",
     "status": "completed"
    },
    "tags": []
   },
   "source": [
    "**<font size=\"5\">Best Category</font>**"
   ]
  },
  {
   "cell_type": "code",
   "execution_count": 23,
   "id": "9dfe3d56",
   "metadata": {
    "execution": {
     "iopub.execute_input": "2023-08-03T15:12:48.569649Z",
     "iopub.status.busy": "2023-08-03T15:12:48.569103Z",
     "iopub.status.idle": "2023-08-03T15:12:48.904501Z",
     "shell.execute_reply": "2023-08-03T15:12:48.903314Z"
    },
    "papermill": {
     "duration": 0.361088,
     "end_time": "2023-08-03T15:12:48.907634",
     "exception": false,
     "start_time": "2023-08-03T15:12:48.546546",
     "status": "completed"
    },
    "tags": []
   },
   "outputs": [
    {
     "data": {
      "image/png": "[encoded data removed]",
      "text/plain": [
       "<Figure size 640x480 with 1 Axes>"
      ]
     },
     "metadata": {},
     "output_type": "display_data"
    }
   ],
   "source": [
    "df_category = df.groupby(['Category']).agg({'Sales':'sum'}).reset_index().sort_values(by='Sales', ascending=False)\n",
    "sns.barplot(x='Category', y='Sales', data=df_category).set(title=\"Sales by Category\");"
   ]
  },
  {
   "cell_type": "markdown",
   "id": "f003ab93",
   "metadata": {
    "papermill": {
     "duration": 0.020375,
     "end_time": "2023-08-03T15:12:48.948595",
     "exception": false,
     "start_time": "2023-08-03T15:12:48.928220",
     "status": "completed"
    },
    "tags": []
   },
   "source": [
    "<font size=\"5\">Technological products have the most sales</font>"
   ]
  },
  {
   "cell_type": "markdown",
   "id": "fec0cf38",
   "metadata": {
    "papermill": {
     "duration": 0.020537,
     "end_time": "2023-08-03T15:12:48.989438",
     "exception": false,
     "start_time": "2023-08-03T15:12:48.968901",
     "status": "completed"
    },
    "tags": []
   },
   "source": [
    "**<font size=\"5\">Best Segment</font>**"
   ]
  },
  {
   "cell_type": "code",
   "execution_count": 24,
   "id": "e57acf29",
   "metadata": {
    "execution": {
     "iopub.execute_input": "2023-08-03T15:12:49.039853Z",
     "iopub.status.busy": "2023-08-03T15:12:49.039396Z",
     "iopub.status.idle": "2023-08-03T15:12:49.356969Z",
     "shell.execute_reply": "2023-08-03T15:12:49.355512Z"
    },
    "papermill": {
     "duration": 0.344097,
     "end_time": "2023-08-03T15:12:49.360119",
     "exception": false,
     "start_time": "2023-08-03T15:12:49.016022",
     "status": "completed"
    },
    "tags": []
   },
   "outputs": [
    {
     "data": {
      "text/plain": [
       "[Text(0.5, 1.0, 'Sales by Segment')]"
      ]
     },
     "execution_count": 24,
     "metadata": {},
     "output_type": "execute_result"
    },
    {
     "data": {
      "image/png": "[encoded data removed]",
      "text/plain": [
       "<Figure size 640x480 with 1 Axes>"
      ]
     },
     "metadata": {},
     "output_type": "display_data"
    }
   ],
   "source": [
    "df_segment = df.groupby(['Segment']).agg({'Sales':'sum'}).reset_index().sort_values(by='Sales',ascending=False)\n",
    "sns.barplot(x='Segment',y='Sales',data=df_segment).set(title=\"Sales by Segment\")"
   ]
  },
  {
   "cell_type": "markdown",
   "id": "89cce82e",
   "metadata": {
    "papermill": {
     "duration": 0.021459,
     "end_time": "2023-08-03T15:12:49.402591",
     "exception": false,
     "start_time": "2023-08-03T15:12:49.381132",
     "status": "completed"
    },
    "tags": []
   },
   "source": [
    "<font size=\"5\">Consumers have the most sales</font>"
   ]
  },
  {
   "cell_type": "markdown",
   "id": "757262bc",
   "metadata": {
    "papermill": {
     "duration": 0.02096,
     "end_time": "2023-08-03T15:12:49.445350",
     "exception": false,
     "start_time": "2023-08-03T15:12:49.424390",
     "status": "completed"
    },
    "tags": []
   },
   "source": [
    "**<font size=\"5\">Best Sub-Category</font>**"
   ]
  },
  {
   "cell_type": "code",
   "execution_count": 25,
   "id": "7b3f1e67",
   "metadata": {
    "execution": {
     "iopub.execute_input": "2023-08-03T15:12:49.492767Z",
     "iopub.status.busy": "2023-08-03T15:12:49.492318Z",
     "iopub.status.idle": "2023-08-03T15:12:49.622779Z",
     "shell.execute_reply": "2023-08-03T15:12:49.621641Z"
    },
    "papermill": {
     "duration": 0.161566,
     "end_time": "2023-08-03T15:12:49.629207",
     "exception": false,
     "start_time": "2023-08-03T15:12:49.467641",
     "status": "completed"
    },
    "tags": []
   },
   "outputs": [
    {
     "data": {
      "text/html": [
       "<div>                            <div id=\"0b9ab3de-39bf-4fa7-87ce-ecb057090a9e\" class=\"plotly-graph-div\" style=\"height:525px; width:100%;\"></div>            <script type=\"text/javascript\">                require([\"plotly\"], function(Plotly) {                    window.PLOTLYENV=window.PLOTLYENV || {};                                    if (document.getElementById(\"0b9ab3de-39bf-4fa7-87ce-ecb057090a9e\")) {                    Plotly.newPlot(                        \"0b9ab3de-39bf-4fa7-87ce-ecb057090a9e\",                        [{\"domain\":{\"x\":[0.0,1.0],\"y\":[0.0,1.0]},\"hovertemplate\":\"Sub-Category=%{label}\\u003cbr\\u003evalue=%{value}\\u003cextra\\u003e\\u003c\\u002fextra\\u003e\",\"labels\":[\"Bookcases\",\"Chairs\",\"Labels\",\"Tables\",\"Storage\",\"Furnishings\",\"Art\",\"Phones\",\"Binders\",\"Appliances\",\"Tables\",\"Phones\",\"Paper\",\"Binders\",\"Appliances\",\"Binders\",\"Storage\",\"Storage\",\"Art\",\"Phones\",\"Binders\",\"Art\",\"Appliances\",\"Chairs\",\"Tables\",\"Binders\",\"Accessories\",\"Bookcases\",\"Binders\",\"Furnishings\",\"Envelopes\",\"Art\",\"Binders\",\"Art\",\"Paper\",\"Phones\",\"Furnishings\",\"Envelopes\",\"Bookcases\",\"Chairs\",\"Phones\",\"Phones\",\"Storage\",\"Storage\",\"Accessories\",\"Binders\",\"Storage\",\"Accessories\",\"Phones\",\"Binders\",\"Labels\",\"Furnishings\",\"Chairs\",\"Fasteners\",\"Phones\",\"Storage\",\"Paper\",\"Chairs\",\"Paper\",\"Accessories\",\"Binders\",\"Art\",\"Accessories\",\"Binders\",\"Paper\",\"Furnishings\",\"Chairs\",\"Art\",\"Phones\",\"Paper\",\"Binders\",\"Paper\",\"Chairs\",\"Furnishings\",\"Storage\",\"Binders\",\"Furnishings\",\"Storage\",\"Furnishings\",\"Appliances\",\"Binders\",\"Art\",\"Storage\",\"Envelopes\",\"Storage\",\"Chairs\",\"Accessories\",\"Labels\",\"Storage\",\"Art\",\"Phones\",\"Paper\",\"Paper\",\"Furnishings\",\"Binders\",\"Binders\",\"Furnishings\",\"Binders\",\"Appliances\",\"Paper\",\"Accessories\",\"Binders\",\"Paper\",\"Accessories\",\"Furnishings\",\"Binders\",\"Accessories\",\"Phones\",\"Art\",\"Accessories\",\"Furnishings\",\"Art\",\"Binders\",\"Fasteners\",\"Envelopes\",\"Paper\",\"Envelopes\",\"Tables\",\"Binders\",\"Furnishings\",\"Binders\",\"Storage\",\"Envelopes\",\"Phones\",\"Chairs\",\"Tables\",\"Binders\",\"Storage\",\"Chairs\",\"Furnishings\",\"Phones\",\"Paper\",\"Fasteners\",\"Paper\",\"Paper\",\"Art\",\"Fasteners\",\"Binders\",\"Supplies\",\"Furnishings\",\"Furnishings\",\"Art\",\"Envelopes\",\"Paper\",\"Appliances\",\"Storage\",\"Furnishings\",\"Phones\",\"Phones\",\"Chairs\",\"Binders\",\"Appliances\",\"Phones\",\"Paper\",\"Paper\",\"Storage\",\"Art\",\"Chairs\",\"Labels\",\"Phones\",\"Paper\",\"Accessories\",\"Envelopes\",\"Binders\",\"Art\",\"Machines\",\"Storage\",\"Chairs\",\"Art\",\"Appliances\",\"Phones\",\"Paper\",\"Paper\",\"Chairs\",\"Appliances\",\"Labels\",\"Appliances\",\"Chairs\",\"Supplies\",\"Art\",\"Storage\",\"Accessories\",\"Phones\",\"Phones\",\"Accessories\",\"Binders\",\"Accessories\",\"Storage\",\"Paper\",\"Bookcases\",\"Phones\",\"Paper\",\"Bookcases\",\"Art\",\"Envelopes\",\"Art\",\"Art\",\"Storage\",\"Binders\",\"Paper\",\"Paper\",\"Tables\",\"Appliances\",\"Appliances\",\"Furnishings\",\"Phones\",\"Storage\",\"Phones\",\"Binders\",\"Fasteners\",\"Storage\",\"Accessories\",\"Labels\",\"Bookcases\",\"Phones\",\"Machines\",\"Accessories\",\"Storage\",\"Phones\",\"Fasteners\",\"Paper\",\"Binders\",\"Furnishings\",\"Machines\",\"Art\",\"Art\",\"Tables\",\"Storage\",\"Chairs\",\"Chairs\",\"Binders\",\"Tables\",\"Tables\",\"Binders\",\"Furnishings\",\"Accessories\",\"Paper\",\"Paper\",\"Furnishings\",\"Furnishings\",\"Phones\",\"Tables\",\"Furnishings\",\"Art\",\"Chairs\",\"Storage\",\"Paper\",\"Appliances\",\"Paper\",\"Chairs\",\"Paper\",\"Accessories\",\"Storage\",\"Envelopes\",\"Furnishings\",\"Storage\",\"Storage\",\"Phones\",\"Accessories\",\"Storage\",\"Binders\",\"Appliances\",\"Machines\",\"Machines\",\"Phones\",\"Accessories\",\"Art\",\"Fasteners\",\"Storage\",\"Envelopes\",\"Storage\",\"Accessories\",\"Furnishings\",\"Binders\",\"Paper\",\"Art\",\"Paper\",\"Paper\",\"Storage\",\"Labels\",\"Binders\",\"Phones\",\"Tables\",\"Paper\",\"Accessories\",\"Paper\",\"Binders\",\"Appliances\",\"Supplies\",\"Fasteners\",\"Labels\",\"Accessories\",\"Bookcases\",\"Furnishings\",\"Chairs\",\"Furnishings\",\"Binders\",\"Fasteners\",\"Paper\",\"Storage\",\"Paper\",\"Furnishings\",\"Binders\",\"Tables\",\"Furnishings\",\"Art\",\"Binders\",\"Art\",\"Art\",\"Furnishings\",\"Chairs\",\"Furnishings\",\"Labels\",\"Furnishings\",\"Phones\",\"Paper\",\"Art\",\"Chairs\",\"Machines\",\"Phones\",\"Accessories\",\"Storage\",\"Fasteners\",\"Binders\",\"Accessories\",\"Furnishings\",\"Phones\",\"Storage\",\"Chairs\",\"Labels\",\"Binders\",\"Phones\",\"Binders\",\"Binders\",\"Binders\",\"Copiers\",\"Binders\",\"Binders\",\"Tables\",\"Fasteners\",\"Art\",\"Binders\",\"Fasteners\",\"Phones\",\"Storage\",\"Phones\",\"Art\",\"Paper\",\"Art\",\"Accessories\",\"Paper\",\"Binders\",\"Paper\",\"Binders\",\"Bookcases\",\"Envelopes\",\"Art\",\"Paper\",\"Paper\",\"Appliances\",\"Labels\",\"Labels\",\"Chairs\",\"Art\",\"Furnishings\",\"Storage\",\"Binders\",\"Supplies\",\"Storage\",\"Bookcases\",\"Paper\",\"Storage\",\"Binders\",\"Accessories\",\"Art\",\"Accessories\",\"Paper\",\"Tables\",\"Appliances\",\"Storage\",\"Binders\",\"Paper\",\"Binders\",\"Accessories\",\"Tables\",\"Accessories\",\"Machines\",\"Furnishings\",\"Art\",\"Binders\",\"Accessories\",\"Phones\",\"Copiers\",\"Binders\",\"Binders\",\"Storage\",\"Paper\",\"Supplies\",\"Storage\",\"Bookcases\",\"Storage\",\"Accessories\",\"Paper\",\"Art\",\"Appliances\",\"Accessories\",\"Copiers\",\"Paper\",\"Tables\",\"Paper\",\"Labels\",\"Paper\",\"Bookcases\",\"Chairs\",\"Paper\",\"Chairs\",\"Art\",\"Chairs\",\"Paper\",\"Art\",\"Envelopes\",\"Accessories\",\"Furnishings\",\"Storage\",\"Chairs\",\"Furnishings\",\"Binders\",\"Machines\",\"Art\",\"Binders\",\"Accessories\",\"Accessories\",\"Storage\",\"Storage\",\"Binders\",\"Accessories\",\"Machines\",\"Paper\",\"Paper\",\"Chairs\",\"Furnishings\",\"Storage\",\"Storage\",\"Paper\",\"Chairs\",\"Labels\",\"Furnishings\",\"Art\",\"Storage\",\"Art\",\"Art\",\"Art\",\"Phones\",\"Tables\",\"Storage\",\"Accessories\",\"Chairs\",\"Chairs\",\"Envelopes\",\"Appliances\",\"Accessories\",\"Binders\",\"Furnishings\",\"Tables\",\"Binders\",\"Supplies\",\"Appliances\",\"Furnishings\",\"Bookcases\",\"Binders\",\"Paper\",\"Storage\",\"Bookcases\",\"Phones\",\"Storage\",\"Paper\",\"Paper\",\"Phones\",\"Furnishings\",\"Art\",\"Storage\",\"Accessories\",\"Art\",\"Accessories\",\"Labels\",\"Bookcases\",\"Phones\",\"Phones\",\"Phones\",\"Accessories\",\"Art\",\"Storage\",\"Envelopes\",\"Accessories\",\"Tables\",\"Envelopes\",\"Binders\",\"Furnishings\",\"Chairs\",\"Furnishings\",\"Binders\",\"Binders\",\"Chairs\",\"Binders\",\"Paper\",\"Binders\",\"Art\",\"Art\",\"Storage\",\"Binders\",\"Furnishings\",\"Accessories\",\"Art\",\"Art\",\"Art\",\"Copiers\",\"Storage\",\"Paper\",\"Storage\",\"Accessories\",\"Storage\",\"Binders\",\"Tables\",\"Phones\",\"Accessories\",\"Fasteners\",\"Chairs\",\"Furnishings\",\"Storage\",\"Supplies\",\"Envelopes\",\"Chairs\",\"Furnishings\",\"Phones\",\"Binders\",\"Storage\",\"Binders\",\"Binders\",\"Appliances\",\"Chairs\",\"Accessories\",\"Phones\",\"Storage\",\"Accessories\",\"Phones\",\"Furnishings\",\"Binders\",\"Paper\",\"Storage\",\"Binders\",\"Supplies\",\"Chairs\",\"Furnishings\",\"Fasteners\",\"Storage\",\"Art\",\"Labels\",\"Tables\",\"Paper\",\"Furnishings\",\"Binders\",\"Appliances\",\"Furnishings\",\"Fasteners\",\"Labels\",\"Phones\",\"Paper\",\"Binders\",\"Paper\",\"Chairs\",\"Labels\",\"Fasteners\",\"Binders\",\"Phones\",\"Art\",\"Paper\",\"Paper\",\"Supplies\",\"Storage\",\"Furnishings\",\"Supplies\",\"Phones\",\"Phones\",\"Appliances\",\"Binders\",\"Phones\",\"Chairs\",\"Labels\",\"Phones\",\"Paper\",\"Binders\",\"Paper\",\"Art\",\"Accessories\",\"Appliances\",\"Copiers\",\"Phones\",\"Furnishings\",\"Supplies\",\"Phones\",\"Phones\",\"Supplies\",\"Storage\",\"Furnishings\",\"Binders\",\"Binders\",\"Paper\",\"Binders\",\"Art\",\"Phones\",\"Phones\",\"Labels\",\"Paper\",\"Phones\",\"Phones\",\"Binders\",\"Furnishings\",\"Furnishings\",\"Binders\",\"Phones\",\"Furnishings\",\"Binders\",\"Chairs\",\"Appliances\",\"Storage\",\"Art\",\"Furnishings\",\"Appliances\",\"Binders\",\"Paper\",\"Storage\",\"Accessories\",\"Phones\",\"Accessories\",\"Labels\",\"Chairs\",\"Binders\",\"Appliances\",\"Furnishings\",\"Binders\",\"Furnishings\",\"Storage\",\"Labels\",\"Accessories\",\"Paper\",\"Appliances\",\"Fasteners\",\"Appliances\",\"Furnishings\",\"Phones\",\"Accessories\",\"Paper\",\"Paper\",\"Accessories\",\"Appliances\",\"Binders\",\"Envelopes\",\"Chairs\",\"Binders\",\"Storage\",\"Storage\",\"Tables\",\"Binders\",\"Storage\",\"Fasteners\",\"Supplies\",\"Paper\",\"Phones\",\"Furnishings\",\"Furnishings\",\"Tables\",\"Paper\",\"Art\",\"Appliances\",\"Paper\",\"Accessories\",\"Appliances\",\"Accessories\",\"Furnishings\",\"Binders\",\"Binders\",\"Storage\",\"Storage\",\"Machines\",\"Appliances\",\"Accessories\",\"Labels\",\"Paper\",\"Bookcases\",\"Furnishings\",\"Phones\",\"Storage\",\"Accessories\",\"Paper\",\"Art\",\"Labels\",\"Envelopes\",\"Labels\",\"Art\",\"Binders\",\"Binders\",\"Furnishings\",\"Furnishings\",\"Tables\",\"Paper\",\"Appliances\",\"Accessories\",\"Accessories\",\"Bookcases\",\"Binders\",\"Paper\",\"Envelopes\",\"Appliances\",\"Phones\",\"Accessories\",\"Binders\",\"Furnishings\",\"Furnishings\",\"Binders\",\"Furnishings\",\"Paper\",\"Tables\",\"Storage\",\"Furnishings\",\"Supplies\",\"Envelopes\",\"Phones\",\"Paper\",\"Tables\",\"Storage\",\"Chairs\",\"Labels\",\"Storage\",\"Accessories\",\"Binders\",\"Binders\",\"Bookcases\",\"Binders\",\"Accessories\",\"Labels\",\"Storage\",\"Binders\",\"Supplies\",\"Paper\",\"Paper\",\"Supplies\",\"Tables\",\"Storage\",\"Phones\",\"Binders\",\"Furnishings\",\"Art\",\"Binders\",\"Copiers\",\"Furnishings\",\"Tables\",\"Storage\",\"Accessories\",\"Binders\",\"Paper\",\"Paper\",\"Labels\",\"Phones\",\"Envelopes\",\"Envelopes\",\"Accessories\",\"Binders\",\"Storage\",\"Furnishings\",\"Chairs\",\"Binders\",\"Phones\",\"Binders\",\"Binders\",\"Art\",\"Furnishings\",\"Art\",\"Chairs\",\"Paper\",\"Paper\",\"Paper\",\"Binders\",\"Accessories\",\"Bookcases\",\"Accessories\",\"Envelopes\",\"Binders\",\"Chairs\",\"Binders\",\"Storage\",\"Binders\",\"Chairs\",\"Phones\",\"Labels\",\"Paper\",\"Binders\",\"Paper\",\"Paper\",\"Labels\",\"Chairs\",\"Furnishings\",\"Phones\",\"Appliances\",\"Paper\",\"Furnishings\",\"Art\",\"Phones\",\"Furnishings\",\"Accessories\",\"Art\",\"Tables\",\"Appliances\",\"Accessories\",\"Furnishings\",\"Accessories\",\"Paper\",\"Paper\",\"Paper\",\"Binders\",\"Chairs\",\"Binders\",\"Paper\",\"Accessories\",\"Labels\",\"Accessories\",\"Accessories\",\"Fasteners\",\"Supplies\",\"Envelopes\",\"Chairs\",\"Appliances\",\"Phones\",\"Phones\",\"Art\",\"Appliances\",\"Machines\",\"Binders\",\"Paper\",\"Phones\",\"Art\",\"Art\",\"Bookcases\",\"Binders\",\"Binders\",\"Supplies\",\"Labels\",\"Phones\",\"Chairs\",\"Furnishings\",\"Accessories\",\"Art\",\"Paper\",\"Art\",\"Furnishings\",\"Storage\",\"Paper\",\"Supplies\",\"Storage\",\"Paper\",\"Fasteners\",\"Supplies\",\"Art\",\"Accessories\",\"Art\",\"Phones\",\"Labels\",\"Furnishings\",\"Labels\",\"Binders\",\"Binders\",\"Phones\",\"Paper\",\"Paper\",\"Binders\",\"Paper\",\"Furnishings\",\"Accessories\",\"Accessories\",\"Binders\",\"Binders\",\"Chairs\",\"Storage\",\"Art\",\"Furnishings\",\"Furnishings\",\"Binders\",\"Storage\",\"Binders\",\"Paper\",\"Accessories\",\"Binders\",\"Paper\",\"Art\",\"Phones\",\"Storage\",\"Binders\",\"Envelopes\",\"Labels\",\"Paper\",\"Binders\",\"Labels\",\"Binders\",\"Phones\",\"Paper\",\"Storage\",\"Paper\",\"Bookcases\",\"Phones\",\"Binders\",\"Phones\",\"Accessories\",\"Storage\",\"Furnishings\",\"Furnishings\",\"Accessories\",\"Tables\",\"Chairs\",\"Binders\",\"Envelopes\",\"Storage\",\"Storage\",\"Accessories\",\"Phones\",\"Appliances\",\"Binders\",\"Paper\",\"Accessories\",\"Art\",\"Appliances\",\"Art\",\"Art\",\"Paper\",\"Paper\",\"Paper\",\"Binders\",\"Paper\",\"Appliances\",\"Accessories\",\"Paper\",\"Appliances\",\"Paper\",\"Binders\",\"Tables\",\"Paper\",\"Storage\",\"Binders\",\"Tables\",\"Furnishings\",\"Furnishings\",\"Tables\",\"Paper\",\"Paper\",\"Furnishings\",\"Art\",\"Bookcases\",\"Storage\",\"Phones\",\"Binders\",\"Paper\",\"Furnishings\",\"Chairs\",\"Binders\",\"Envelopes\",\"Labels\",\"Labels\",\"Art\",\"Paper\",\"Paper\",\"Labels\",\"Storage\",\"Furnishings\",\"Phones\",\"Binders\",\"Labels\",\"Phones\",\"Binders\",\"Binders\",\"Machines\",\"Binders\",\"Paper\",\"Chairs\",\"Art\",\"Phones\",\"Chairs\",\"Labels\",\"Envelopes\",\"Machines\",\"Binders\",\"Furnishings\",\"Art\",\"Chairs\",\"Binders\",\"Fasteners\",\"Paper\",\"Binders\",\"Phones\",\"Envelopes\",\"Storage\",\"Furnishings\",\"Furnishings\",\"Art\",\"Accessories\",\"Tables\",\"Paper\",\"Storage\",\"Paper\",\"Envelopes\",\"Binders\",\"Paper\",\"Phones\",\"Furnishings\",\"Furnishings\",\"Storage\",\"Tables\",\"Accessories\",\"Paper\",\"Furnishings\",\"Furnishings\",\"Phones\",\"Storage\",\"Art\",\"Chairs\",\"Machines\",\"Envelopes\",\"Binders\",\"Paper\",\"Paper\",\"Phones\",\"Paper\",\"Phones\",\"Chairs\",\"Furnishings\",\"Labels\",\"Paper\",\"Binders\",\"Binders\",\"Furnishings\",\"Binders\",\"Art\",\"Art\",\"Tables\",\"Accessories\",\"Bookcases\",\"Art\",\"Appliances\",\"Chairs\",\"Phones\",\"Furnishings\",\"Phones\",\"Accessories\",\"Furnishings\",\"Paper\",\"Furnishings\",\"Art\",\"Furnishings\",\"Binders\",\"Binders\",\"Binders\",\"Binders\",\"Fasteners\",\"Chairs\",\"Appliances\",\"Fasteners\",\"Art\",\"Phones\",\"Fasteners\",\"Binders\",\"Chairs\",\"Supplies\",\"Binders\",\"Art\",\"Paper\",\"Binders\",\"Binders\",\"Binders\",\"Accessories\",\"Art\",\"Appliances\",\"Storage\",\"Binders\",\"Paper\",\"Chairs\",\"Tables\",\"Paper\",\"Storage\",\"Machines\",\"Paper\",\"Phones\",\"Labels\",\"Furnishings\",\"Phones\",\"Art\",\"Phones\",\"Paper\",\"Appliances\",\"Storage\",\"Binders\",\"Tables\",\"Art\",\"Furnishings\",\"Accessories\",\"Art\",\"Binders\",\"Binders\",\"Paper\",\"Storage\",\"Furnishings\",\"Binders\",\"Fasteners\",\"Envelopes\",\"Phones\",\"Paper\",\"Binders\",\"Binders\",\"Bookcases\",\"Accessories\",\"Labels\",\"Paper\",\"Accessories\",\"Paper\",\"Envelopes\",\"Phones\",\"Art\",\"Furnishings\",\"Art\",\"Envelopes\",\"Chairs\",\"Art\",\"Envelopes\",\"Tables\",\"Paper\",\"Envelopes\",\"Paper\",\"Storage\",\"Labels\",\"Storage\",\"Envelopes\",\"Appliances\",\"Paper\",\"Art\",\"Binders\",\"Furnishings\",\"Fasteners\",\"Paper\",\"Machines\",\"Storage\",\"Appliances\",\"Fasteners\",\"Binders\",\"Phones\",\"Copiers\",\"Furnishings\",\"Art\",\"Binders\",\"Storage\",\"Tables\",\"Binders\",\"Tables\",\"Chairs\",\"Appliances\",\"Binders\",\"Art\",\"Phones\",\"Binders\",\"Binders\",\"Binders\",\"Accessories\",\"Furnishings\",\"Storage\",\"Paper\",\"Storage\",\"Paper\",\"Binders\",\"Binders\",\"Binders\",\"Supplies\",\"Labels\",\"Chairs\",\"Phones\",\"Accessories\",\"Phones\",\"Art\",\"Envelopes\",\"Phones\",\"Binders\",\"Storage\",\"Paper\",\"Storage\",\"Appliances\",\"Phones\",\"Chairs\",\"Paper\",\"Paper\",\"Paper\",\"Furnishings\",\"Storage\",\"Furnishings\",\"Accessories\",\"Chairs\",\"Binders\",\"Chairs\",\"Binders\",\"Chairs\",\"Storage\",\"Storage\",\"Phones\",\"Storage\",\"Binders\",\"Fasteners\",\"Art\",\"Binders\",\"Bookcases\",\"Chairs\",\"Binders\",\"Binders\",\"Art\",\"Accessories\",\"Furnishings\",\"Accessories\",\"Phones\",\"Storage\",\"Phones\",\"Furnishings\",\"Accessories\",\"Binders\",\"Paper\",\"Storage\",\"Storage\",\"Envelopes\",\"Furnishings\",\"Art\",\"Art\",\"Envelopes\",\"Copiers\",\"Furnishings\",\"Binders\",\"Furnishings\",\"Furnishings\",\"Furnishings\",\"Art\",\"Fasteners\",\"Phones\",\"Binders\",\"Fasteners\",\"Envelopes\",\"Tables\",\"Tables\",\"Bookcases\",\"Art\",\"Chairs\",\"Appliances\",\"Art\",\"Phones\",\"Art\",\"Phones\",\"Furnishings\",\"Furnishings\",\"Binders\",\"Storage\",\"Accessories\",\"Phones\",\"Binders\",\"Binders\",\"Phones\",\"Furnishings\",\"Art\",\"Storage\",\"Chairs\",\"Furnishings\",\"Paper\",\"Storage\",\"Appliances\",\"Binders\",\"Paper\",\"Chairs\",\"Paper\",\"Accessories\",\"Art\",\"Accessories\",\"Accessories\",\"Phones\",\"Labels\",\"Binders\",\"Paper\",\"Binders\",\"Storage\",\"Art\",\"Furnishings\",\"Binders\",\"Art\",\"Binders\",\"Paper\",\"Supplies\",\"Paper\",\"Labels\",\"Appliances\",\"Binders\",\"Binders\",\"Phones\",\"Storage\",\"Furnishings\",\"Furnishings\",\"Bookcases\",\"Furnishings\",\"Phones\",\"Phones\",\"Paper\",\"Binders\",\"Appliances\",\"Storage\",\"Chairs\",\"Labels\",\"Labels\",\"Chairs\",\"Paper\",\"Furnishings\",\"Supplies\",\"Accessories\",\"Phones\",\"Binders\",\"Binders\",\"Storage\",\"Appliances\",\"Paper\",\"Storage\",\"Binders\",\"Furnishings\",\"Paper\",\"Art\",\"Furnishings\",\"Phones\",\"Storage\",\"Binders\",\"Appliances\",\"Binders\",\"Storage\",\"Furnishings\",\"Furnishings\",\"Phones\",\"Paper\",\"Machines\",\"Binders\",\"Binders\",\"Art\",\"Labels\",\"Appliances\",\"Paper\",\"Art\",\"Binders\",\"Binders\",\"Chairs\",\"Storage\",\"Phones\",\"Paper\",\"Tables\",\"Storage\",\"Storage\",\"Paper\",\"Furnishings\",\"Chairs\",\"Art\",\"Paper\",\"Phones\",\"Binders\",\"Machines\",\"Accessories\",\"Phones\",\"Chairs\",\"Furnishings\",\"Bookcases\",\"Art\",\"Accessories\",\"Labels\",\"Binders\",\"Tables\",\"Appliances\",\"Paper\",\"Art\",\"Phones\",\"Storage\",\"Binders\",\"Furnishings\",\"Storage\",\"Paper\",\"Fasteners\",\"Furnishings\",\"Bookcases\",\"Envelopes\",\"Phones\",\"Phones\",\"Paper\",\"Storage\",\"Paper\",\"Art\",\"Tables\",\"Tables\",\"Binders\",\"Paper\",\"Accessories\",\"Paper\",\"Phones\",\"Envelopes\",\"Tables\",\"Paper\",\"Supplies\",\"Tables\",\"Accessories\",\"Art\",\"Furnishings\",\"Tables\",\"Labels\",\"Chairs\",\"Furnishings\",\"Binders\",\"Accessories\",\"Furnishings\",\"Phones\",\"Accessories\",\"Furnishings\",\"Paper\",\"Binders\",\"Appliances\",\"Binders\",\"Storage\",\"Phones\",\"Storage\",\"Binders\",\"Envelopes\",\"Binders\",\"Labels\",\"Phones\",\"Binders\",\"Supplies\",\"Chairs\",\"Paper\",\"Paper\",\"Art\",\"Accessories\",\"Chairs\",\"Binders\",\"Paper\",\"Binders\",\"Paper\",\"Storage\",\"Phones\",\"Storage\",\"Chairs\",\"Phones\",\"Binders\",\"Phones\",\"Binders\",\"Paper\",\"Binders\",\"Binders\",\"Machines\",\"Binders\",\"Tables\",\"Binders\",\"Labels\",\"Furnishings\",\"Binders\",\"Tables\",\"Accessories\",\"Chairs\",\"Fasteners\",\"Furnishings\",\"Accessories\",\"Accessories\",\"Chairs\",\"Binders\",\"Paper\",\"Art\",\"Labels\",\"Furnishings\",\"Art\",\"Binders\",\"Labels\",\"Supplies\",\"Phones\",\"Paper\",\"Paper\",\"Storage\",\"Art\",\"Paper\",\"Accessories\",\"Fasteners\",\"Phones\",\"Accessories\",\"Furnishings\",\"Labels\",\"Envelopes\",\"Paper\",\"Chairs\",\"Furnishings\",\"Art\",\"Art\",\"Storage\",\"Art\",\"Binders\",\"Paper\",\"Paper\",\"Storage\",\"Phones\",\"Furnishings\",\"Art\",\"Tables\",\"Binders\",\"Machines\",\"Binders\",\"Furnishings\",\"Art\",\"Art\",\"Storage\",\"Binders\",\"Binders\",\"Chairs\",\"Tables\",\"Binders\",\"Binders\",\"Binders\",\"Art\",\"Furnishings\",\"Paper\",\"Paper\",\"Storage\",\"Art\",\"Art\",\"Furnishings\",\"Fasteners\",\"Paper\",\"Paper\",\"Storage\",\"Fasteners\",\"Storage\",\"Bookcases\",\"Storage\",\"Appliances\",\"Phones\",\"Art\",\"Bookcases\",\"Binders\",\"Furnishings\",\"Fasteners\",\"Binders\",\"Paper\",\"Bookcases\",\"Paper\",\"Binders\",\"Storage\",\"Copiers\",\"Appliances\",\"Paper\",\"Labels\",\"Binders\",\"Art\",\"Accessories\",\"Envelopes\",\"Art\",\"Tables\",\"Binders\",\"Labels\",\"Art\",\"Tables\",\"Paper\",\"Storage\",\"Phones\",\"Accessories\",\"Binders\",\"Paper\",\"Art\",\"Chairs\",\"Envelopes\",\"Accessories\",\"Chairs\",\"Phones\",\"Chairs\",\"Storage\",\"Paper\",\"Appliances\",\"Phones\",\"Tables\",\"Storage\",\"Binders\",\"Furnishings\",\"Furnishings\",\"Phones\",\"Paper\",\"Fasteners\",\"Accessories\",\"Art\",\"Art\",\"Fasteners\",\"Phones\",\"Paper\",\"Bookcases\",\"Chairs\",\"Furnishings\",\"Paper\",\"Supplies\",\"Art\",\"Furnishings\",\"Furnishings\",\"Art\",\"Art\",\"Phones\",\"Art\",\"Art\",\"Binders\",\"Paper\",\"Binders\",\"Bookcases\",\"Phones\",\"Phones\",\"Storage\",\"Accessories\",\"Labels\",\"Labels\",\"Art\",\"Storage\",\"Paper\",\"Furnishings\",\"Labels\",\"Binders\",\"Accessories\",\"Phones\",\"Accessories\",\"Appliances\",\"Chairs\",\"Furnishings\",\"Binders\",\"Storage\",\"Paper\",\"Paper\",\"Storage\",\"Accessories\",\"Paper\",\"Storage\",\"Phones\",\"Paper\",\"Binders\",\"Paper\",\"Furnishings\",\"Fasteners\",\"Storage\",\"Copiers\",\"Paper\",\"Accessories\",\"Fasteners\",\"Binders\",\"Phones\",\"Paper\",\"Paper\",\"Storage\",\"Accessories\",\"Fasteners\",\"Binders\",\"Storage\",\"Furnishings\",\"Phones\",\"Binders\",\"Binders\",\"Phones\",\"Binders\",\"Storage\",\"Accessories\",\"Fasteners\",\"Accessories\",\"Paper\",\"Art\",\"Tables\",\"Phones\",\"Accessories\",\"Phones\",\"Labels\",\"Furnishings\",\"Binders\",\"Storage\",\"Paper\",\"Storage\",\"Phones\",\"Furnishings\",\"Machines\",\"Paper\",\"Furnishings\",\"Appliances\",\"Binders\",\"Binders\",\"Paper\",\"Furnishings\",\"Tables\",\"Paper\",\"Binders\",\"Furnishings\",\"Accessories\",\"Accessories\",\"Binders\",\"Phones\",\"Appliances\",\"Labels\",\"Tables\",\"Binders\",\"Chairs\",\"Paper\",\"Fasteners\",\"Binders\",\"Binders\",\"Labels\",\"Phones\",\"Paper\",\"Chairs\",\"Art\",\"Appliances\",\"Paper\",\"Tables\",\"Bookcases\",\"Binders\",\"Appliances\",\"Storage\",\"Furnishings\",\"Furnishings\",\"Binders\",\"Phones\",\"Accessories\",\"Bookcases\",\"Appliances\",\"Appliances\",\"Appliances\",\"Tables\",\"Accessories\",\"Labels\",\"Paper\",\"Paper\",\"Storage\",\"Art\",\"Appliances\",\"Phones\",\"Art\",\"Storage\",\"Accessories\",\"Accessories\",\"Labels\",\"Paper\",\"Furnishings\",\"Storage\",\"Accessories\",\"Art\",\"Binders\",\"Paper\",\"Paper\",\"Art\",\"Tables\",\"Furnishings\",\"Storage\",\"Paper\",\"Paper\",\"Paper\",\"Phones\",\"Binders\",\"Accessories\",\"Art\",\"Bookcases\",\"Binders\",\"Bookcases\",\"Supplies\",\"Labels\",\"Furnishings\",\"Labels\",\"Binders\",\"Binders\",\"Supplies\",\"Binders\",\"Storage\",\"Accessories\",\"Binders\",\"Storage\",\"Art\",\"Labels\",\"Paper\",\"Art\",\"Accessories\",\"Storage\",\"Paper\",\"Binders\",\"Paper\",\"Accessories\",\"Binders\",\"Phones\",\"Phones\",\"Phones\",\"Accessories\",\"Paper\",\"Chairs\",\"Art\",\"Storage\",\"Art\",\"Storage\",\"Phones\",\"Binders\",\"Furnishings\",\"Fasteners\",\"Paper\",\"Furnishings\",\"Binders\",\"Supplies\",\"Accessories\",\"Phones\",\"Paper\",\"Accessories\",\"Phones\",\"Furnishings\",\"Paper\",\"Tables\",\"Furnishings\",\"Furnishings\",\"Tables\",\"Labels\",\"Art\",\"Labels\",\"Appliances\",\"Furnishings\",\"Appliances\",\"Fasteners\",\"Chairs\",\"Paper\",\"Binders\",\"Furnishings\",\"Furnishings\",\"Phones\",\"Paper\",\"Phones\",\"Phones\",\"Tables\",\"Chairs\",\"Machines\",\"Paper\",\"Art\",\"Appliances\",\"Labels\",\"Furnishings\",\"Appliances\",\"Paper\",\"Chairs\",\"Labels\",\"Furnishings\",\"Accessories\",\"Paper\",\"Furnishings\",\"Chairs\",\"Binders\",\"Storage\",\"Accessories\",\"Paper\",\"Envelopes\",\"Paper\",\"Storage\",\"Art\",\"Storage\",\"Binders\",\"Appliances\",\"Phones\",\"Bookcases\",\"Phones\",\"Storage\",\"Tables\",\"Furnishings\",\"Phones\",\"Furnishings\",\"Paper\",\"Storage\",\"Paper\",\"Art\",\"Chairs\",\"Tables\",\"Tables\",\"Paper\",\"Bookcases\",\"Phones\",\"Chairs\",\"Phones\",\"Binders\",\"Envelopes\",\"Chairs\",\"Storage\",\"Paper\",\"Labels\",\"Furnishings\",\"Fasteners\",\"Binders\",\"Appliances\",\"Tables\",\"Paper\",\"Art\",\"Envelopes\",\"Paper\",\"Art\",\"Binders\",\"Binders\",\"Envelopes\",\"Binders\",\"Tables\",\"Storage\",\"Phones\",\"Paper\",\"Chairs\",\"Accessories\",\"Storage\",\"Binders\",\"Binders\",\"Furnishings\",\"Furnishings\",\"Accessories\",\"Paper\",\"Machines\",\"Accessories\",\"Labels\",\"Art\",\"Labels\",\"Art\",\"Phones\",\"Binders\",\"Chairs\",\"Storage\",\"Phones\",\"Art\",\"Paper\",\"Accessories\",\"Phones\",\"Paper\",\"Paper\",\"Storage\",\"Phones\",\"Phones\",\"Bookcases\",\"Furnishings\",\"Paper\",\"Accessories\",\"Furnishings\",\"Binders\",\"Storage\",\"Binders\",\"Chairs\",\"Labels\",\"Storage\",\"Binders\",\"Accessories\",\"Paper\",\"Art\",\"Furnishings\",\"Tables\",\"Appliances\",\"Binders\",\"Phones\",\"Labels\",\"Chairs\",\"Art\",\"Accessories\",\"Accessories\",\"Paper\",\"Binders\",\"Appliances\",\"Accessories\",\"Accessories\",\"Binders\",\"Paper\",\"Storage\",\"Appliances\",\"Phones\",\"Supplies\",\"Paper\",\"Accessories\",\"Art\",\"Accessories\",\"Binders\",\"Fasteners\",\"Accessories\",\"Storage\",\"Phones\",\"Chairs\",\"Art\",\"Chairs\",\"Storage\",\"Binders\",\"Phones\",\"Appliances\",\"Furnishings\",\"Paper\",\"Copiers\",\"Binders\",\"Tables\",\"Envelopes\",\"Paper\",\"Binders\",\"Labels\",\"Art\",\"Fasteners\",\"Appliances\",\"Furnishings\",\"Labels\",\"Phones\",\"Phones\",\"Accessories\",\"Art\",\"Storage\",\"Chairs\",\"Binders\",\"Art\",\"Accessories\",\"Bookcases\",\"Art\",\"Appliances\",\"Paper\",\"Accessories\",\"Storage\",\"Chairs\",\"Paper\",\"Storage\",\"Binders\",\"Labels\",\"Supplies\",\"Paper\",\"Storage\",\"Paper\",\"Binders\",\"Chairs\",\"Binders\",\"Bookcases\",\"Binders\",\"Binders\",\"Binders\",\"Storage\",\"Binders\",\"Paper\",\"Paper\",\"Art\",\"Binders\",\"Chairs\",\"Paper\",\"Labels\",\"Paper\",\"Binders\",\"Binders\",\"Furnishings\",\"Binders\",\"Art\",\"Paper\",\"Appliances\",\"Phones\",\"Paper\",\"Furnishings\",\"Binders\",\"Binders\",\"Chairs\",\"Art\",\"Furnishings\",\"Furnishings\",\"Accessories\",\"Chairs\",\"Accessories\",\"Tables\",\"Fasteners\",\"Storage\",\"Binders\",\"Paper\",\"Binders\",\"Storage\",\"Chairs\",\"Accessories\",\"Art\",\"Accessories\",\"Tables\",\"Binders\",\"Chairs\",\"Binders\",\"Accessories\",\"Phones\",\"Furnishings\",\"Paper\",\"Appliances\",\"Paper\",\"Paper\",\"Phones\",\"Furnishings\",\"Paper\",\"Labels\",\"Labels\",\"Labels\",\"Storage\",\"Paper\",\"Fasteners\",\"Labels\",\"Binders\",\"Tables\",\"Chairs\",\"Supplies\",\"Art\",\"Binders\",\"Art\",\"Art\",\"Storage\",\"Accessories\",\"Storage\",\"Art\",\"Chairs\",\"Paper\",\"Accessories\",\"Paper\",\"Binders\",\"Paper\",\"Binders\",\"Art\",\"Fasteners\",\"Chairs\",\"Supplies\",\"Phones\",\"Storage\",\"Bookcases\",\"Tables\",\"Paper\",\"Paper\",\"Binders\",\"Binders\",\"Chairs\",\"Bookcases\",\"Labels\",\"Envelopes\",\"Phones\",\"Accessories\",\"Furnishings\",\"Paper\",\"Appliances\",\"Art\",\"Furnishings\",\"Paper\",\"Binders\",\"Fasteners\",\"Phones\",\"Furnishings\",\"Binders\",\"Paper\",\"Binders\",\"Supplies\",\"Tables\",\"Paper\",\"Phones\",\"Fasteners\",\"Chairs\",\"Binders\",\"Storage\",\"Furnishings\",\"Phones\",\"Chairs\",\"Accessories\",\"Paper\",\"Binders\",\"Furnishings\",\"Fasteners\",\"Storage\",\"Storage\",\"Art\",\"Binders\",\"Furnishings\",\"Art\",\"Paper\",\"Accessories\",\"Paper\",\"Furnishings\",\"Art\",\"Binders\",\"Art\",\"Accessories\",\"Phones\",\"Chairs\",\"Binders\",\"Binders\",\"Storage\",\"Paper\",\"Paper\",\"Binders\",\"Paper\",\"Binders\",\"Labels\",\"Chairs\",\"Machines\",\"Accessories\",\"Furnishings\",\"Binders\",\"Accessories\",\"Envelopes\",\"Furnishings\",\"Phones\",\"Appliances\",\"Binders\",\"Appliances\",\"Paper\",\"Appliances\",\"Accessories\",\"Art\",\"Art\",\"Paper\",\"Paper\",\"Furnishings\",\"Phones\",\"Binders\",\"Furnishings\",\"Furnishings\",\"Art\",\"Binders\",\"Phones\",\"Art\",\"Phones\",\"Binders\",\"Appliances\",\"Furnishings\",\"Binders\",\"Binders\",\"Appliances\",\"Chairs\",\"Art\",\"Binders\",\"Storage\",\"Phones\",\"Phones\",\"Art\",\"Chairs\",\"Paper\",\"Bookcases\",\"Fasteners\",\"Phones\",\"Tables\",\"Binders\",\"Appliances\",\"Furnishings\",\"Storage\",\"Phones\",\"Accessories\",\"Storage\",\"Art\",\"Supplies\",\"Furnishings\",\"Binders\",\"Binders\",\"Phones\",\"Storage\",\"Art\",\"Fasteners\",\"Appliances\",\"Phones\",\"Paper\",\"Binders\",\"Binders\",\"Appliances\",\"Paper\",\"Paper\",\"Appliances\",\"Appliances\",\"Phones\",\"Furnishings\",\"Chairs\",\"Paper\",\"Fasteners\",\"Accessories\",\"Accessories\",\"Bookcases\",\"Accessories\",\"Paper\",\"Binders\",\"Paper\",\"Paper\",\"Paper\",\"Binders\",\"Art\",\"Storage\",\"Furnishings\",\"Copiers\",\"Tables\",\"Chairs\",\"Storage\",\"Tables\",\"Accessories\",\"Chairs\",\"Chairs\",\"Bookcases\",\"Paper\",\"Phones\",\"Appliances\",\"Paper\",\"Appliances\",\"Appliances\",\"Art\",\"Tables\",\"Phones\",\"Furnishings\",\"Paper\",\"Phones\",\"Furnishings\",\"Paper\",\"Furnishings\",\"Phones\",\"Accessories\",\"Phones\",\"Binders\",\"Binders\",\"Accessories\",\"Chairs\",\"Paper\",\"Bookcases\",\"Paper\",\"Accessories\",\"Chairs\",\"Storage\",\"Art\",\"Art\",\"Storage\",\"Labels\",\"Appliances\",\"Binders\",\"Chairs\",\"Binders\",\"Accessories\",\"Appliances\",\"Accessories\",\"Binders\",\"Binders\",\"Binders\",\"Binders\",\"Binders\",\"Bookcases\",\"Paper\",\"Envelopes\",\"Furnishings\",\"Storage\",\"Paper\",\"Paper\",\"Paper\",\"Appliances\",\"Envelopes\",\"Appliances\",\"Paper\",\"Paper\",\"Art\",\"Art\",\"Furnishings\",\"Accessories\",\"Storage\",\"Appliances\",\"Paper\",\"Binders\",\"Tables\",\"Binders\",\"Binders\",\"Paper\",\"Appliances\",\"Art\",\"Bookcases\",\"Binders\",\"Accessories\",\"Machines\",\"Tables\",\"Tables\",\"Tables\",\"Paper\",\"Paper\",\"Binders\",\"Furnishings\",\"Appliances\",\"Binders\",\"Chairs\",\"Paper\",\"Furnishings\",\"Art\",\"Accessories\",\"Furnishings\",\"Fasteners\",\"Paper\",\"Chairs\",\"Fasteners\",\"Binders\",\"Supplies\",\"Paper\",\"Fasteners\",\"Paper\",\"Furnishings\",\"Appliances\",\"Art\",\"Binders\",\"Phones\",\"Copiers\",\"Fasteners\",\"Binders\",\"Paper\",\"Paper\",\"Accessories\",\"Furnishings\",\"Art\",\"Accessories\",\"Accessories\",\"Paper\",\"Labels\",\"Art\",\"Storage\",\"Storage\",\"Storage\",\"Envelopes\",\"Bookcases\",\"Accessories\",\"Phones\",\"Phones\",\"Art\",\"Phones\",\"Furnishings\",\"Fasteners\",\"Binders\",\"Paper\",\"Tables\",\"Chairs\",\"Bookcases\",\"Accessories\",\"Binders\",\"Machines\",\"Storage\",\"Accessories\",\"Storage\",\"Paper\",\"Accessories\",\"Binders\",\"Tables\",\"Fasteners\",\"Binders\",\"Binders\",\"Furnishings\",\"Labels\",\"Furnishings\",\"Chairs\",\"Phones\",\"Envelopes\",\"Appliances\",\"Furnishings\",\"Tables\",\"Paper\",\"Furnishings\",\"Phones\",\"Tables\",\"Appliances\",\"Accessories\",\"Envelopes\",\"Phones\",\"Envelopes\",\"Chairs\",\"Storage\",\"Binders\",\"Labels\",\"Phones\",\"Binders\",\"Accessories\",\"Accessories\",\"Storage\",\"Labels\",\"Art\",\"Storage\",\"Appliances\",\"Paper\",\"Binders\",\"Binders\",\"Binders\",\"Phones\",\"Labels\",\"Paper\",\"Storage\",\"Paper\",\"Storage\",\"Furnishings\",\"Bookcases\",\"Appliances\",\"Chairs\",\"Accessories\",\"Labels\",\"Appliances\",\"Tables\",\"Art\",\"Supplies\",\"Storage\",\"Storage\",\"Phones\",\"Tables\",\"Binders\",\"Art\",\"Storage\",\"Art\",\"Paper\",\"Phones\",\"Paper\",\"Paper\",\"Phones\",\"Tables\",\"Phones\",\"Chairs\",\"Storage\",\"Envelopes\",\"Binders\",\"Envelopes\",\"Paper\",\"Binders\",\"Binders\",\"Labels\",\"Storage\",\"Supplies\",\"Furnishings\",\"Appliances\",\"Phones\",\"Accessories\",\"Storage\",\"Accessories\",\"Binders\",\"Accessories\",\"Chairs\",\"Storage\",\"Envelopes\",\"Furnishings\",\"Labels\",\"Labels\",\"Appliances\",\"Paper\",\"Phones\",\"Binders\",\"Art\",\"Accessories\",\"Binders\",\"Binders\",\"Paper\",\"Paper\",\"Paper\",\"Binders\",\"Fasteners\",\"Accessories\",\"Storage\",\"Accessories\",\"Chairs\",\"Phones\",\"Phones\",\"Chairs\",\"Chairs\",\"Furnishings\",\"Appliances\",\"Bookcases\",\"Labels\",\"Storage\",\"Bookcases\",\"Art\",\"Phones\",\"Paper\",\"Labels\",\"Furnishings\",\"Binders\",\"Paper\",\"Phones\",\"Accessories\",\"Furnishings\",\"Appliances\",\"Bookcases\",\"Labels\",\"Storage\",\"Labels\",\"Paper\",\"Accessories\",\"Storage\",\"Accessories\",\"Binders\",\"Tables\",\"Storage\",\"Phones\",\"Art\",\"Art\",\"Accessories\",\"Furnishings\",\"Envelopes\",\"Binders\",\"Envelopes\",\"Appliances\",\"Furnishings\",\"Storage\",\"Paper\",\"Paper\",\"Phones\",\"Furnishings\",\"Phones\",\"Envelopes\",\"Storage\",\"Furnishings\",\"Storage\",\"Phones\",\"Furnishings\",\"Tables\",\"Phones\",\"Binders\",\"Envelopes\",\"Binders\",\"Phones\",\"Storage\",\"Paper\",\"Appliances\",\"Supplies\",\"Paper\",\"Machines\",\"Bookcases\",\"Furnishings\",\"Binders\",\"Art\",\"Accessories\",\"Labels\",\"Tables\",\"Labels\",\"Paper\",\"Furnishings\",\"Chairs\",\"Chairs\",\"Binders\",\"Labels\",\"Binders\",\"Art\",\"Phones\",\"Storage\",\"Labels\",\"Paper\",\"Copiers\",\"Phones\",\"Envelopes\",\"Phones\",\"Accessories\",\"Machines\",\"Binders\",\"Paper\",\"Furnishings\",\"Chairs\",\"Chairs\",\"Furnishings\",\"Binders\",\"Storage\",\"Paper\",\"Binders\",\"Art\",\"Chairs\",\"Accessories\",\"Paper\",\"Phones\",\"Furnishings\",\"Furnishings\",\"Binders\",\"Paper\",\"Furnishings\",\"Phones\",\"Bookcases\",\"Binders\",\"Binders\",\"Paper\",\"Bookcases\",\"Binders\",\"Storage\",\"Labels\",\"Envelopes\",\"Chairs\",\"Phones\",\"Envelopes\",\"Binders\",\"Labels\",\"Tables\",\"Binders\",\"Accessories\",\"Paper\",\"Chairs\",\"Appliances\",\"Paper\",\"Chairs\",\"Paper\",\"Storage\",\"Paper\",\"Art\",\"Appliances\",\"Binders\",\"Binders\",\"Binders\",\"Accessories\",\"Binders\",\"Machines\",\"Phones\",\"Binders\",\"Envelopes\",\"Binders\",\"Binders\",\"Paper\",\"Art\",\"Binders\",\"Paper\",\"Phones\",\"Furnishings\",\"Furnishings\",\"Paper\",\"Machines\",\"Machines\",\"Paper\",\"Art\",\"Furnishings\",\"Fasteners\",\"Furnishings\",\"Paper\",\"Accessories\",\"Supplies\",\"Paper\",\"Paper\",\"Furnishings\",\"Machines\",\"Binders\",\"Furnishings\",\"Art\",\"Phones\",\"Art\",\"Phones\",\"Accessories\",\"Phones\",\"Storage\",\"Furnishings\",\"Fasteners\",\"Appliances\",\"Storage\",\"Labels\",\"Binders\",\"Phones\",\"Tables\",\"Binders\",\"Phones\",\"Art\",\"Accessories\",\"Furnishings\",\"Phones\",\"Art\",\"Paper\",\"Phones\",\"Paper\",\"Bookcases\",\"Phones\",\"Supplies\",\"Accessories\",\"Envelopes\",\"Furnishings\",\"Furnishings\",\"Phones\",\"Accessories\",\"Tables\",\"Accessories\",\"Binders\",\"Chairs\",\"Storage\",\"Chairs\",\"Art\",\"Accessories\",\"Phones\",\"Appliances\",\"Paper\",\"Accessories\",\"Furnishings\",\"Storage\",\"Paper\",\"Accessories\",\"Binders\",\"Binders\",\"Binders\",\"Storage\",\"Appliances\",\"Appliances\",\"Appliances\",\"Accessories\",\"Accessories\",\"Storage\",\"Furnishings\",\"Binders\",\"Paper\",\"Storage\",\"Appliances\",\"Bookcases\",\"Furnishings\",\"Accessories\",\"Labels\",\"Art\",\"Phones\",\"Phones\",\"Phones\",\"Chairs\",\"Fasteners\",\"Furnishings\",\"Art\",\"Furnishings\",\"Appliances\",\"Appliances\",\"Paper\",\"Phones\",\"Phones\",\"Binders\",\"Bookcases\",\"Art\",\"Paper\",\"Binders\",\"Phones\",\"Art\",\"Furnishings\",\"Paper\",\"Paper\",\"Chairs\",\"Fasteners\",\"Paper\",\"Bookcases\",\"Chairs\",\"Paper\",\"Furnishings\",\"Tables\",\"Accessories\",\"Tables\",\"Binders\",\"Chairs\",\"Furnishings\",\"Storage\",\"Binders\",\"Tables\",\"Phones\",\"Art\",\"Storage\",\"Paper\",\"Bookcases\",\"Binders\",\"Envelopes\",\"Paper\",\"Storage\",\"Paper\",\"Storage\",\"Phones\",\"Art\",\"Binders\",\"Appliances\",\"Paper\",\"Binders\",\"Machines\",\"Storage\",\"Chairs\",\"Paper\",\"Storage\",\"Accessories\",\"Chairs\",\"Art\",\"Binders\",\"Furnishings\",\"Binders\",\"Binders\",\"Storage\",\"Paper\",\"Furnishings\",\"Furnishings\",\"Storage\",\"Labels\",\"Chairs\",\"Chairs\",\"Accessories\",\"Phones\",\"Bookcases\",\"Paper\",\"Paper\",\"Storage\",\"Appliances\",\"Art\",\"Supplies\",\"Supplies\",\"Storage\",\"Furnishings\",\"Paper\",\"Chairs\",\"Art\",\"Storage\",\"Fasteners\",\"Chairs\",\"Chairs\",\"Envelopes\",\"Art\",\"Accessories\",\"Binders\",\"Supplies\",\"Binders\",\"Furnishings\",\"Binders\",\"Chairs\",\"Art\",\"Paper\",\"Paper\",\"Paper\",\"Chairs\",\"Binders\",\"Paper\",\"Paper\",\"Furnishings\",\"Phones\",\"Art\",\"Copiers\",\"Chairs\",\"Copiers\",\"Labels\",\"Paper\",\"Paper\",\"Paper\",\"Chairs\",\"Storage\",\"Paper\",\"Storage\",\"Labels\",\"Fasteners\",\"Appliances\",\"Envelopes\",\"Art\",\"Binders\",\"Phones\",\"Binders\",\"Phones\",\"Art\",\"Fasteners\",\"Furnishings\",\"Furnishings\",\"Storage\",\"Binders\",\"Fasteners\",\"Appliances\",\"Furnishings\",\"Furnishings\",\"Art\",\"Binders\",\"Furnishings\",\"Binders\",\"Binders\",\"Chairs\",\"Phones\",\"Phones\",\"Envelopes\",\"Binders\",\"Paper\",\"Paper\",\"Binders\",\"Chairs\",\"Chairs\",\"Chairs\",\"Storage\",\"Furnishings\",\"Furnishings\",\"Furnishings\",\"Binders\",\"Envelopes\",\"Accessories\",\"Paper\",\"Chairs\",\"Furnishings\",\"Phones\",\"Phones\",\"Phones\",\"Chairs\",\"Binders\",\"Binders\",\"Fasteners\",\"Paper\",\"Labels\",\"Chairs\",\"Chairs\",\"Binders\",\"Furnishings\",\"Furnishings\",\"Storage\",\"Appliances\",\"Paper\",\"Binders\",\"Furnishings\",\"Storage\",\"Binders\",\"Tables\",\"Paper\",\"Chairs\",\"Storage\",\"Chairs\",\"Paper\",\"Furnishings\",\"Chairs\",\"Binders\",\"Storage\",\"Tables\",\"Furnishings\",\"Paper\",\"Storage\",\"Accessories\",\"Binders\",\"Storage\",\"Binders\",\"Appliances\",\"Binders\",\"Binders\",\"Storage\",\"Envelopes\",\"Furnishings\",\"Accessories\",\"Machines\",\"Appliances\",\"Binders\",\"Binders\",\"Binders\",\"Appliances\",\"Binders\",\"Appliances\",\"Binders\",\"Furnishings\",\"Appliances\",\"Binders\",\"Machines\",\"Binders\",\"Binders\",\"Paper\",\"Tables\",\"Storage\",\"Furnishings\",\"Accessories\",\"Fasteners\",\"Paper\",\"Furnishings\",\"Binders\",\"Bookcases\",\"Binders\",\"Paper\",\"Furnishings\",\"Binders\",\"Chairs\",\"Phones\",\"Bookcases\",\"Art\",\"Chairs\",\"Paper\",\"Accessories\",\"Binders\",\"Art\",\"Paper\",\"Furnishings\",\"Tables\",\"Furnishings\",\"Paper\",\"Envelopes\",\"Chairs\",\"Phones\",\"Art\",\"Paper\",\"Binders\",\"Tables\",\"Accessories\",\"Furnishings\",\"Appliances\",\"Paper\",\"Phones\",\"Binders\",\"Copiers\",\"Envelopes\",\"Labels\",\"Furnishings\",\"Tables\",\"Accessories\",\"Paper\",\"Phones\",\"Accessories\",\"Storage\",\"Phones\",\"Accessories\",\"Paper\",\"Paper\",\"Appliances\",\"Storage\",\"Furnishings\",\"Art\",\"Storage\",\"Bookcases\",\"Storage\",\"Furnishings\",\"Chairs\",\"Art\",\"Paper\",\"Phones\",\"Binders\",\"Phones\",\"Binders\",\"Binders\",\"Accessories\",\"Furnishings\",\"Appliances\",\"Furnishings\",\"Phones\",\"Binders\",\"Phones\",\"Paper\",\"Supplies\",\"Paper\",\"Fasteners\",\"Appliances\",\"Labels\",\"Bookcases\",\"Binders\",\"Bookcases\",\"Supplies\",\"Bookcases\",\"Binders\",\"Paper\",\"Labels\",\"Storage\",\"Paper\",\"Storage\",\"Paper\",\"Paper\",\"Storage\",\"Machines\",\"Envelopes\",\"Paper\",\"Chairs\",\"Appliances\",\"Supplies\",\"Chairs\",\"Phones\",\"Furnishings\",\"Art\",\"Binders\",\"Binders\",\"Storage\",\"Storage\",\"Phones\",\"Paper\",\"Furnishings\",\"Chairs\",\"Accessories\",\"Phones\",\"Furnishings\",\"Binders\",\"Binders\",\"Storage\",\"Phones\",\"Envelopes\",\"Accessories\",\"Furnishings\",\"Appliances\",\"Binders\",\"Accessories\",\"Art\",\"Chairs\",\"Chairs\",\"Phones\",\"Art\",\"Paper\",\"Labels\",\"Accessories\",\"Machines\",\"Phones\",\"Furnishings\",\"Binders\",\"Paper\",\"Tables\",\"Accessories\",\"Storage\",\"Accessories\",\"Binders\",\"Envelopes\",\"Envelopes\",\"Art\",\"Paper\",\"Phones\",\"Paper\",\"Furnishings\",\"Chairs\",\"Paper\",\"Binders\",\"Binders\",\"Chairs\",\"Art\",\"Art\",\"Bookcases\",\"Accessories\",\"Paper\",\"Furnishings\",\"Furnishings\",\"Appliances\",\"Binders\",\"Accessories\",\"Storage\",\"Storage\",\"Binders\",\"Envelopes\",\"Phones\",\"Labels\",\"Binders\",\"Storage\",\"Phones\",\"Binders\",\"Binders\",\"Paper\",\"Fasteners\",\"Phones\",\"Binders\",\"Phones\",\"Art\",\"Furnishings\",\"Paper\",\"Phones\",\"Accessories\",\"Furnishings\",\"Paper\",\"Furnishings\",\"Labels\",\"Accessories\",\"Phones\",\"Envelopes\",\"Binders\",\"Appliances\",\"Art\",\"Appliances\",\"Labels\",\"Accessories\",\"Binders\",\"Phones\",\"Paper\",\"Envelopes\",\"Accessories\",\"Paper\",\"Fasteners\",\"Phones\",\"Envelopes\",\"Supplies\",\"Phones\",\"Accessories\",\"Storage\",\"Furnishings\",\"Binders\",\"Binders\",\"Storage\",\"Binders\",\"Tables\",\"Storage\",\"Binders\",\"Chairs\",\"Phones\",\"Furnishings\",\"Storage\",\"Binders\",\"Phones\",\"Chairs\",\"Accessories\",\"Storage\",\"Art\",\"Chairs\",\"Phones\",\"Fasteners\",\"Furnishings\",\"Art\",\"Phones\",\"Phones\",\"Binders\",\"Labels\",\"Tables\",\"Binders\",\"Binders\",\"Paper\",\"Accessories\",\"Paper\",\"Appliances\",\"Labels\",\"Storage\",\"Envelopes\",\"Phones\",\"Phones\",\"Accessories\",\"Fasteners\",\"Accessories\",\"Chairs\",\"Copiers\",\"Fasteners\",\"Art\",\"Art\",\"Phones\",\"Paper\",\"Art\",\"Supplies\",\"Accessories\",\"Paper\",\"Furnishings\",\"Binders\",\"Art\",\"Appliances\",\"Phones\",\"Binders\",\"Accessories\",\"Accessories\",\"Art\",\"Supplies\",\"Furnishings\",\"Binders\",\"Machines\",\"Binders\",\"Appliances\",\"Machines\",\"Binders\",\"Storage\",\"Phones\",\"Furnishings\",\"Binders\",\"Envelopes\",\"Phones\",\"Phones\",\"Binders\",\"Accessories\",\"Binders\",\"Binders\",\"Furnishings\",\"Chairs\",\"Paper\",\"Chairs\",\"Binders\",\"Furnishings\",\"Art\",\"Labels\",\"Appliances\",\"Chairs\",\"Paper\",\"Appliances\",\"Furnishings\",\"Binders\",\"Binders\",\"Art\",\"Paper\",\"Paper\",\"Phones\",\"Phones\",\"Accessories\",\"Phones\",\"Furnishings\",\"Art\",\"Phones\",\"Furnishings\",\"Tables\",\"Binders\",\"Appliances\",\"Labels\",\"Paper\",\"Tables\",\"Phones\",\"Paper\",\"Fasteners\",\"Binders\",\"Art\",\"Binders\",\"Binders\",\"Accessories\",\"Bookcases\",\"Phones\",\"Phones\",\"Tables\",\"Binders\",\"Binders\",\"Paper\",\"Binders\",\"Accessories\",\"Paper\",\"Furnishings\",\"Paper\",\"Binders\",\"Furnishings\",\"Bookcases\",\"Paper\",\"Paper\",\"Bookcases\",\"Binders\",\"Accessories\",\"Binders\",\"Appliances\",\"Furnishings\",\"Chairs\",\"Phones\",\"Chairs\",\"Storage\",\"Binders\",\"Paper\",\"Furnishings\",\"Envelopes\",\"Envelopes\",\"Chairs\",\"Phones\",\"Storage\",\"Fasteners\",\"Phones\",\"Binders\",\"Tables\",\"Paper\",\"Phones\",\"Phones\",\"Binders\",\"Paper\",\"Storage\",\"Binders\",\"Paper\",\"Phones\",\"Paper\",\"Storage\",\"Art\",\"Furnishings\",\"Furnishings\",\"Storage\",\"Chairs\",\"Binders\",\"Furnishings\",\"Paper\",\"Paper\",\"Binders\",\"Art\",\"Paper\",\"Binders\",\"Fasteners\",\"Binders\",\"Appliances\",\"Supplies\",\"Chairs\",\"Appliances\",\"Paper\",\"Accessories\",\"Binders\",\"Machines\",\"Binders\",\"Chairs\",\"Paper\",\"Tables\",\"Paper\",\"Storage\",\"Furnishings\",\"Paper\",\"Binders\",\"Binders\",\"Binders\",\"Furnishings\",\"Furnishings\",\"Tables\",\"Storage\",\"Binders\",\"Paper\",\"Envelopes\",\"Appliances\",\"Storage\",\"Storage\",\"Paper\",\"Art\",\"Binders\",\"Appliances\",\"Storage\",\"Fasteners\",\"Phones\",\"Binders\",\"Art\",\"Paper\",\"Accessories\",\"Furnishings\",\"Binders\",\"Binders\",\"Accessories\",\"Phones\",\"Art\",\"Paper\",\"Accessories\",\"Appliances\",\"Bookcases\",\"Paper\",\"Furnishings\",\"Paper\",\"Furnishings\",\"Paper\",\"Accessories\",\"Chairs\",\"Accessories\",\"Accessories\",\"Binders\",\"Accessories\",\"Art\",\"Paper\",\"Tables\",\"Furnishings\",\"Phones\",\"Furnishings\",\"Tables\",\"Binders\",\"Phones\",\"Storage\",\"Chairs\",\"Chairs\",\"Storage\",\"Storage\",\"Paper\",\"Accessories\",\"Accessories\",\"Chairs\",\"Tables\",\"Appliances\",\"Binders\",\"Accessories\",\"Binders\",\"Art\",\"Paper\",\"Accessories\",\"Storage\",\"Phones\",\"Binders\",\"Bookcases\",\"Paper\",\"Paper\",\"Machines\",\"Storage\",\"Bookcases\",\"Paper\",\"Art\",\"Accessories\",\"Paper\",\"Phones\",\"Appliances\",\"Tables\",\"Binders\",\"Paper\",\"Phones\",\"Accessories\",\"Phones\",\"Accessories\",\"Phones\",\"Binders\",\"Phones\",\"Accessories\",\"Art\",\"Supplies\",\"Machines\",\"Art\",\"Art\",\"Fasteners\",\"Storage\",\"Storage\",\"Labels\",\"Labels\",\"Paper\",\"Furnishings\",\"Chairs\",\"Art\",\"Paper\",\"Appliances\",\"Storage\",\"Supplies\",\"Chairs\",\"Labels\",\"Paper\",\"Chairs\",\"Phones\",\"Binders\",\"Storage\",\"Phones\",\"Paper\",\"Binders\",\"Binders\",\"Accessories\",\"Art\",\"Binders\",\"Binders\",\"Paper\",\"Paper\",\"Fasteners\",\"Binders\",\"Furnishings\",\"Accessories\",\"Machines\",\"Accessories\",\"Phones\",\"Paper\",\"Art\",\"Art\",\"Paper\",\"Binders\",\"Paper\",\"Storage\",\"Paper\",\"Tables\",\"Paper\",\"Art\",\"Tables\",\"Chairs\",\"Labels\",\"Art\",\"Phones\",\"Supplies\",\"Binders\",\"Storage\",\"Supplies\",\"Storage\",\"Binders\",\"Storage\",\"Art\",\"Paper\",\"Accessories\",\"Furnishings\",\"Phones\",\"Accessories\",\"Paper\",\"Chairs\",\"Paper\",\"Furnishings\",\"Furnishings\",\"Envelopes\",\"Binders\",\"Labels\",\"Storage\",\"Storage\",\"Accessories\",\"Paper\",\"Accessories\",\"Tables\",\"Art\",\"Binders\",\"Binders\",\"Phones\",\"Storage\",\"Art\",\"Phones\",\"Furnishings\",\"Binders\",\"Chairs\",\"Art\",\"Art\",\"Accessories\",\"Binders\",\"Appliances\",\"Appliances\",\"Storage\",\"Storage\",\"Labels\",\"Phones\",\"Paper\",\"Paper\",\"Appliances\",\"Furnishings\",\"Paper\",\"Accessories\",\"Binders\",\"Binders\",\"Art\",\"Art\",\"Binders\",\"Paper\",\"Supplies\",\"Binders\",\"Fasteners\",\"Accessories\",\"Art\",\"Binders\",\"Paper\",\"Appliances\",\"Storage\",\"Accessories\",\"Envelopes\",\"Furnishings\",\"Furnishings\",\"Supplies\",\"Phones\",\"Accessories\",\"Paper\",\"Labels\",\"Binders\",\"Phones\",\"Supplies\",\"Accessories\",\"Labels\",\"Paper\",\"Storage\",\"Envelopes\",\"Binders\",\"Chairs\",\"Paper\",\"Furnishings\",\"Fasteners\",\"Machines\",\"Furnishings\",\"Labels\",\"Binders\",\"Art\",\"Binders\",\"Binders\",\"Storage\",\"Art\",\"Binders\",\"Paper\",\"Envelopes\",\"Machines\",\"Copiers\",\"Phones\",\"Furnishings\",\"Binders\",\"Envelopes\",\"Appliances\",\"Furnishings\",\"Storage\",\"Accessories\",\"Furnishings\",\"Furnishings\",\"Art\",\"Binders\",\"Copiers\",\"Paper\",\"Art\",\"Furnishings\",\"Appliances\",\"Accessories\",\"Tables\",\"Paper\",\"Accessories\",\"Furnishings\",\"Paper\",\"Chairs\",\"Fasteners\",\"Supplies\",\"Accessories\",\"Art\",\"Furnishings\",\"Binders\",\"Art\",\"Binders\",\"Art\",\"Appliances\",\"Storage\",\"Art\",\"Labels\",\"Storage\",\"Storage\",\"Phones\",\"Phones\",\"Binders\",\"Paper\",\"Furnishings\",\"Phones\",\"Binders\",\"Phones\",\"Accessories\",\"Appliances\",\"Envelopes\",\"Paper\",\"Binders\",\"Fasteners\",\"Storage\",\"Chairs\",\"Furnishings\",\"Appliances\",\"Copiers\",\"Supplies\",\"Chairs\",\"Paper\",\"Binders\",\"Storage\",\"Paper\",\"Chairs\",\"Art\",\"Art\",\"Supplies\",\"Furnishings\",\"Paper\",\"Bookcases\",\"Binders\",\"Binders\",\"Tables\",\"Art\",\"Phones\",\"Chairs\",\"Fasteners\",\"Tables\",\"Storage\",\"Accessories\",\"Fasteners\",\"Accessories\",\"Paper\",\"Accessories\",\"Furnishings\",\"Phones\",\"Paper\",\"Phones\",\"Phones\",\"Paper\",\"Storage\",\"Accessories\",\"Binders\",\"Storage\",\"Art\",\"Art\",\"Fasteners\",\"Binders\",\"Binders\",\"Art\",\"Art\",\"Storage\",\"Tables\",\"Art\",\"Paper\",\"Tables\",\"Phones\",\"Chairs\",\"Accessories\",\"Paper\",\"Supplies\",\"Envelopes\",\"Paper\",\"Art\",\"Binders\",\"Binders\",\"Chairs\",\"Phones\",\"Chairs\",\"Labels\",\"Labels\",\"Phones\",\"Paper\",\"Tables\",\"Phones\",\"Chairs\",\"Binders\",\"Bookcases\",\"Paper\",\"Binders\",\"Storage\",\"Copiers\",\"Binders\",\"Storage\",\"Chairs\",\"Chairs\",\"Chairs\",\"Appliances\",\"Furnishings\",\"Binders\",\"Phones\",\"Chairs\",\"Fasteners\",\"Paper\",\"Phones\",\"Chairs\",\"Furnishings\",\"Accessories\",\"Chairs\",\"Binders\",\"Supplies\",\"Supplies\",\"Bookcases\",\"Storage\",\"Storage\",\"Binders\",\"Accessories\",\"Paper\",\"Furnishings\",\"Binders\",\"Furnishings\",\"Storage\",\"Binders\",\"Phones\",\"Art\",\"Accessories\",\"Tables\",\"Phones\",\"Binders\",\"Binders\",\"Art\",\"Furnishings\",\"Accessories\",\"Accessories\",\"Accessories\",\"Chairs\",\"Chairs\",\"Paper\",\"Envelopes\",\"Chairs\",\"Envelopes\",\"Binders\",\"Phones\",\"Paper\",\"Binders\",\"Storage\",\"Storage\",\"Paper\",\"Storage\",\"Furnishings\",\"Furnishings\",\"Art\",\"Binders\",\"Phones\",\"Art\",\"Phones\",\"Storage\",\"Accessories\",\"Chairs\",\"Accessories\",\"Accessories\",\"Binders\",\"Accessories\",\"Fasteners\",\"Paper\",\"Fasteners\",\"Accessories\",\"Paper\",\"Accessories\",\"Storage\",\"Appliances\",\"Storage\",\"Binders\",\"Furnishings\",\"Phones\",\"Phones\",\"Furnishings\",\"Bookcases\",\"Phones\",\"Paper\",\"Furnishings\",\"Tables\",\"Chairs\",\"Paper\",\"Binders\",\"Chairs\",\"Storage\",\"Binders\",\"Phones\",\"Paper\",\"Paper\",\"Storage\",\"Storage\",\"Furnishings\",\"Binders\",\"Bookcases\",\"Paper\",\"Art\",\"Art\",\"Accessories\",\"Art\",\"Labels\",\"Phones\",\"Envelopes\",\"Paper\",\"Chairs\",\"Chairs\",\"Furnishings\",\"Binders\",\"Paper\",\"Supplies\",\"Paper\",\"Paper\",\"Supplies\",\"Art\",\"Labels\",\"Paper\",\"Chairs\",\"Binders\",\"Phones\",\"Paper\",\"Furnishings\",\"Art\",\"Furnishings\",\"Binders\",\"Art\",\"Furnishings\",\"Binders\",\"Phones\",\"Art\",\"Furnishings\",\"Art\",\"Art\",\"Art\",\"Binders\",\"Binders\",\"Paper\",\"Paper\",\"Art\",\"Paper\",\"Binders\",\"Furnishings\",\"Binders\",\"Furnishings\",\"Fasteners\",\"Phones\",\"Tables\",\"Appliances\",\"Furnishings\",\"Chairs\",\"Copiers\",\"Paper\",\"Bookcases\",\"Storage\",\"Appliances\",\"Furnishings\",\"Furnishings\",\"Supplies\",\"Furnishings\",\"Supplies\",\"Art\",\"Bookcases\",\"Chairs\",\"Phones\",\"Art\",\"Furnishings\",\"Bookcases\",\"Furnishings\",\"Accessories\",\"Tables\",\"Machines\",\"Envelopes\",\"Art\",\"Paper\",\"Accessories\",\"Art\",\"Furnishings\",\"Paper\",\"Storage\",\"Art\",\"Appliances\",\"Labels\",\"Paper\",\"Paper\",\"Paper\",\"Accessories\",\"Appliances\",\"Chairs\",\"Phones\",\"Chairs\",\"Bookcases\",\"Phones\",\"Paper\",\"Art\",\"Phones\",\"Binders\",\"Machines\",\"Chairs\",\"Appliances\",\"Paper\",\"Accessories\",\"Binders\",\"Accessories\",\"Storage\",\"Furnishings\",\"Paper\",\"Machines\",\"Binders\",\"Phones\",\"Labels\",\"Furnishings\",\"Furnishings\",\"Binders\",\"Appliances\",\"Paper\",\"Accessories\",\"Furnishings\",\"Chairs\",\"Art\",\"Tables\",\"Labels\",\"Paper\",\"Storage\",\"Tables\",\"Storage\",\"Phones\",\"Chairs\",\"Accessories\",\"Binders\",\"Accessories\",\"Art\",\"Supplies\",\"Fasteners\",\"Art\",\"Labels\",\"Phones\",\"Binders\",\"Binders\",\"Bookcases\",\"Copiers\",\"Phones\",\"Furnishings\",\"Furnishings\",\"Binders\",\"Fasteners\",\"Paper\",\"Phones\",\"Paper\",\"Binders\",\"Binders\",\"Paper\",\"Binders\",\"Phones\",\"Binders\",\"Binders\",\"Bookcases\",\"Labels\",\"Supplies\",\"Binders\",\"Storage\",\"Machines\",\"Accessories\",\"Phones\",\"Paper\",\"Storage\",\"Binders\",\"Binders\",\"Appliances\",\"Appliances\",\"Paper\",\"Furnishings\",\"Phones\",\"Binders\",\"Binders\",\"Storage\",\"Tables\",\"Phones\",\"Bookcases\",\"Paper\",\"Art\",\"Labels\",\"Phones\",\"Binders\",\"Binders\",\"Paper\",\"Storage\",\"Binders\",\"Accessories\",\"Paper\",\"Labels\",\"Binders\",\"Appliances\",\"Furnishings\",\"Art\",\"Storage\",\"Machines\",\"Appliances\",\"Binders\",\"Paper\",\"Paper\",\"Fasteners\",\"Machines\",\"Binders\",\"Storage\",\"Fasteners\",\"Binders\",\"Storage\",\"Furnishings\",\"Labels\",\"Binders\",\"Art\",\"Art\",\"Chairs\",\"Furnishings\",\"Binders\",\"Storage\",\"Accessories\",\"Storage\",\"Labels\",\"Paper\",\"Envelopes\",\"Binders\",\"Binders\",\"Accessories\",\"Binders\",\"Paper\",\"Art\",\"Phones\",\"Storage\",\"Labels\",\"Binders\",\"Accessories\",\"Storage\",\"Paper\",\"Storage\",\"Chairs\",\"Paper\",\"Paper\",\"Storage\",\"Binders\",\"Paper\",\"Binders\",\"Art\",\"Phones\",\"Paper\",\"Paper\",\"Binders\",\"Binders\",\"Accessories\",\"Paper\",\"Storage\",\"Bookcases\",\"Accessories\",\"Binders\",\"Binders\",\"Storage\",\"Paper\",\"Copiers\",\"Paper\",\"Tables\",\"Phones\",\"Art\",\"Furnishings\",\"Labels\",\"Appliances\",\"Binders\",\"Labels\",\"Copiers\",\"Paper\",\"Paper\",\"Art\",\"Paper\",\"Furnishings\",\"Binders\",\"Furnishings\",\"Chairs\",\"Tables\",\"Paper\",\"Paper\",\"Art\",\"Paper\",\"Binders\",\"Envelopes\",\"Labels\",\"Bookcases\",\"Machines\",\"Paper\",\"Binders\",\"Machines\",\"Storage\",\"Bookcases\",\"Binders\",\"Furnishings\",\"Fasteners\",\"Chairs\",\"Paper\",\"Furnishings\",\"Binders\",\"Paper\",\"Paper\",\"Binders\",\"Paper\",\"Labels\",\"Binders\",\"Art\",\"Art\",\"Paper\",\"Appliances\",\"Binders\",\"Phones\",\"Paper\",\"Accessories\",\"Art\",\"Furnishings\",\"Furnishings\",\"Binders\",\"Chairs\",\"Chairs\",\"Phones\",\"Art\",\"Phones\",\"Paper\",\"Binders\",\"Furnishings\",\"Binders\",\"Chairs\",\"Envelopes\",\"Labels\",\"Accessories\",\"Appliances\",\"Binders\",\"Tables\",\"Binders\",\"Bookcases\",\"Binders\",\"Accessories\",\"Tables\",\"Furnishings\",\"Furnishings\",\"Phones\",\"Art\",\"Binders\",\"Appliances\",\"Storage\",\"Machines\",\"Furnishings\",\"Binders\",\"Paper\",\"Chairs\",\"Labels\",\"Binders\",\"Bookcases\",\"Labels\",\"Copiers\",\"Storage\",\"Binders\",\"Paper\",\"Art\",\"Tables\",\"Appliances\",\"Phones\",\"Tables\",\"Furnishings\",\"Storage\",\"Phones\",\"Paper\",\"Appliances\",\"Furnishings\",\"Paper\",\"Art\",\"Envelopes\",\"Furnishings\",\"Phones\",\"Binders\",\"Binders\",\"Phones\",\"Tables\",\"Binders\",\"Paper\",\"Machines\",\"Appliances\",\"Art\",\"Binders\",\"Storage\",\"Envelopes\",\"Furnishings\",\"Phones\",\"Storage\",\"Binders\",\"Phones\",\"Binders\",\"Art\",\"Accessories\",\"Art\",\"Paper\",\"Paper\",\"Paper\",\"Appliances\",\"Accessories\",\"Binders\",\"Accessories\",\"Envelopes\",\"Envelopes\",\"Furnishings\",\"Accessories\",\"Paper\",\"Paper\",\"Art\",\"Storage\",\"Binders\",\"Phones\",\"Accessories\",\"Accessories\",\"Chairs\",\"Furnishings\",\"Binders\",\"Storage\",\"Storage\",\"Accessories\",\"Phones\",\"Paper\",\"Binders\",\"Binders\",\"Art\",\"Paper\",\"Furnishings\",\"Chairs\",\"Paper\",\"Phones\",\"Art\",\"Art\",\"Storage\",\"Fasteners\",\"Art\",\"Fasteners\",\"Paper\",\"Binders\",\"Art\",\"Labels\",\"Art\",\"Accessories\",\"Appliances\",\"Furnishings\",\"Appliances\",\"Chairs\",\"Envelopes\",\"Envelopes\",\"Art\",\"Tables\",\"Binders\",\"Bookcases\",\"Phones\",\"Bookcases\",\"Appliances\",\"Binders\",\"Paper\",\"Bookcases\",\"Phones\",\"Art\",\"Art\",\"Phones\",\"Storage\",\"Binders\",\"Phones\",\"Chairs\",\"Furnishings\",\"Envelopes\",\"Appliances\",\"Furnishings\",\"Art\",\"Art\",\"Accessories\",\"Storage\",\"Paper\",\"Paper\",\"Binders\",\"Labels\",\"Art\",\"Paper\",\"Phones\",\"Appliances\",\"Binders\",\"Phones\",\"Fasteners\",\"Binders\",\"Furnishings\",\"Binders\",\"Supplies\",\"Art\",\"Appliances\",\"Bookcases\",\"Phones\",\"Binders\",\"Phones\",\"Paper\",\"Chairs\",\"Art\",\"Fasteners\",\"Art\",\"Furnishings\",\"Art\",\"Tables\",\"Binders\",\"Art\",\"Appliances\",\"Paper\",\"Paper\",\"Accessories\",\"Storage\",\"Art\",\"Paper\",\"Envelopes\",\"Paper\",\"Binders\",\"Storage\",\"Furnishings\",\"Paper\",\"Envelopes\",\"Furnishings\",\"Envelopes\",\"Bookcases\",\"Storage\",\"Chairs\",\"Binders\",\"Paper\",\"Supplies\",\"Furnishings\",\"Storage\",\"Accessories\",\"Binders\",\"Paper\",\"Appliances\",\"Binders\",\"Art\",\"Envelopes\",\"Bookcases\",\"Paper\",\"Chairs\",\"Chairs\",\"Accessories\",\"Tables\",\"Paper\",\"Furnishings\",\"Paper\",\"Storage\",\"Tables\",\"Paper\",\"Fasteners\",\"Appliances\",\"Binders\",\"Paper\",\"Binders\",\"Paper\",\"Paper\",\"Binders\",\"Supplies\",\"Binders\",\"Tables\",\"Copiers\",\"Furnishings\",\"Paper\",\"Chairs\",\"Bookcases\",\"Paper\",\"Binders\",\"Paper\",\"Paper\",\"Binders\",\"Paper\",\"Fasteners\",\"Phones\",\"Appliances\",\"Accessories\",\"Phones\",\"Storage\",\"Furnishings\",\"Tables\",\"Furnishings\",\"Binders\",\"Binders\",\"Storage\",\"Chairs\",\"Art\",\"Paper\",\"Binders\",\"Art\",\"Storage\",\"Accessories\",\"Furnishings\",\"Fasteners\",\"Labels\",\"Furnishings\",\"Phones\",\"Paper\",\"Furnishings\",\"Accessories\",\"Binders\",\"Chairs\",\"Storage\",\"Chairs\",\"Envelopes\",\"Paper\",\"Furnishings\",\"Binders\",\"Art\",\"Art\",\"Phones\",\"Tables\",\"Binders\",\"Envelopes\",\"Chairs\",\"Phones\",\"Phones\",\"Binders\",\"Art\",\"Furnishings\",\"Phones\",\"Labels\",\"Tables\",\"Chairs\",\"Paper\",\"Binders\",\"Fasteners\",\"Storage\",\"Binders\",\"Envelopes\",\"Chairs\",\"Envelopes\",\"Phones\",\"Furnishings\",\"Chairs\",\"Storage\",\"Appliances\",\"Binders\",\"Paper\",\"Binders\",\"Furnishings\",\"Art\",\"Binders\",\"Copiers\",\"Phones\",\"Furnishings\",\"Art\",\"Storage\",\"Binders\",\"Binders\",\"Paper\",\"Accessories\",\"Furnishings\",\"Labels\",\"Art\",\"Envelopes\",\"Art\",\"Binders\",\"Fasteners\",\"Furnishings\",\"Storage\",\"Supplies\",\"Phones\",\"Chairs\",\"Appliances\",\"Tables\",\"Art\",\"Art\",\"Supplies\",\"Appliances\",\"Chairs\",\"Envelopes\",\"Fasteners\",\"Paper\",\"Paper\",\"Envelopes\",\"Accessories\",\"Phones\",\"Storage\",\"Binders\",\"Paper\",\"Furnishings\",\"Binders\",\"Art\",\"Paper\",\"Appliances\",\"Fasteners\",\"Accessories\",\"Phones\",\"Chairs\",\"Copiers\",\"Binders\",\"Storage\",\"Supplies\",\"Paper\",\"Storage\",\"Furnishings\",\"Storage\",\"Storage\",\"Art\",\"Storage\",\"Furnishings\",\"Labels\",\"Furnishings\",\"Bookcases\",\"Storage\",\"Storage\",\"Art\",\"Art\",\"Art\",\"Copiers\",\"Envelopes\",\"Binders\",\"Chairs\",\"Binders\",\"Machines\",\"Chairs\",\"Paper\",\"Chairs\",\"Paper\",\"Supplies\",\"Paper\",\"Paper\",\"Paper\",\"Storage\",\"Fasteners\",\"Storage\",\"Art\",\"Appliances\",\"Paper\",\"Appliances\",\"Accessories\",\"Chairs\",\"Storage\",\"Labels\",\"Binders\",\"Labels\",\"Furnishings\",\"Accessories\",\"Binders\",\"Bookcases\",\"Storage\",\"Appliances\",\"Phones\",\"Phones\",\"Furnishings\",\"Furnishings\",\"Binders\",\"Storage\",\"Accessories\",\"Storage\",\"Binders\",\"Fasteners\",\"Phones\",\"Tables\",\"Bookcases\",\"Binders\",\"Fasteners\",\"Phones\",\"Binders\",\"Furnishings\",\"Accessories\",\"Chairs\",\"Paper\",\"Paper\",\"Binders\",\"Chairs\",\"Chairs\",\"Chairs\",\"Furnishings\",\"Art\",\"Storage\",\"Paper\",\"Furnishings\",\"Appliances\",\"Supplies\",\"Labels\",\"Furnishings\",\"Binders\",\"Storage\",\"Art\",\"Accessories\",\"Binders\",\"Paper\",\"Furnishings\",\"Phones\",\"Phones\",\"Tables\",\"Art\",\"Paper\",\"Storage\",\"Paper\",\"Tables\",\"Art\",\"Labels\",\"Binders\",\"Appliances\",\"Storage\",\"Bookcases\",\"Binders\",\"Accessories\",\"Paper\",\"Paper\",\"Accessories\",\"Furnishings\",\"Chairs\",\"Binders\",\"Binders\",\"Accessories\",\"Labels\",\"Tables\",\"Labels\",\"Art\",\"Supplies\",\"Fasteners\",\"Storage\",\"Binders\",\"Binders\",\"Supplies\",\"Furnishings\",\"Paper\",\"Machines\",\"Phones\",\"Chairs\",\"Accessories\",\"Binders\",\"Paper\",\"Binders\",\"Binders\",\"Phones\",\"Binders\",\"Binders\",\"Labels\",\"Supplies\",\"Envelopes\",\"Art\",\"Art\",\"Accessories\",\"Phones\",\"Paper\",\"Binders\",\"Supplies\",\"Phones\",\"Furnishings\",\"Labels\",\"Phones\",\"Art\",\"Labels\",\"Supplies\",\"Appliances\",\"Chairs\",\"Chairs\",\"Binders\",\"Supplies\",\"Paper\",\"Art\",\"Bookcases\",\"Art\",\"Accessories\",\"Furnishings\",\"Furnishings\",\"Tables\",\"Paper\",\"Paper\",\"Paper\",\"Furnishings\",\"Binders\",\"Binders\",\"Paper\",\"Furnishings\",\"Phones\",\"Art\",\"Binders\",\"Binders\",\"Phones\",\"Furnishings\",\"Paper\",\"Paper\",\"Storage\",\"Envelopes\",\"Paper\",\"Phones\",\"Chairs\",\"Copiers\",\"Furnishings\",\"Paper\",\"Paper\",\"Appliances\",\"Appliances\",\"Storage\",\"Binders\",\"Appliances\",\"Accessories\",\"Binders\",\"Machines\",\"Chairs\",\"Furnishings\",\"Binders\",\"Storage\",\"Art\",\"Binders\",\"Appliances\",\"Storage\",\"Storage\",\"Binders\",\"Binders\",\"Paper\",\"Binders\",\"Binders\",\"Paper\",\"Phones\",\"Furnishings\",\"Binders\",\"Storage\",\"Fasteners\",\"Binders\",\"Binders\",\"Phones\",\"Art\",\"Art\",\"Art\",\"Chairs\",\"Art\",\"Storage\",\"Furnishings\",\"Storage\",\"Furnishings\",\"Binders\",\"Furnishings\",\"Furnishings\",\"Art\",\"Binders\",\"Phones\",\"Binders\",\"Binders\",\"Phones\",\"Chairs\",\"Binders\",\"Storage\",\"Labels\",\"Phones\",\"Paper\",\"Fasteners\",\"Appliances\",\"Storage\",\"Binders\",\"Accessories\",\"Storage\",\"Art\",\"Binders\",\"Envelopes\",\"Chairs\",\"Accessories\",\"Storage\",\"Binders\",\"Art\",\"Paper\",\"Chairs\",\"Accessories\",\"Storage\",\"Storage\",\"Art\",\"Paper\",\"Art\",\"Storage\",\"Paper\",\"Envelopes\",\"Storage\",\"Chairs\",\"Paper\",\"Binders\",\"Storage\",\"Supplies\",\"Binders\",\"Labels\",\"Chairs\",\"Binders\",\"Storage\",\"Binders\",\"Phones\",\"Envelopes\",\"Paper\",\"Phones\",\"Binders\",\"Binders\",\"Art\",\"Binders\",\"Art\",\"Chairs\",\"Bookcases\",\"Phones\",\"Binders\",\"Paper\",\"Fasteners\",\"Paper\",\"Phones\",\"Art\",\"Tables\",\"Paper\",\"Chairs\",\"Art\",\"Paper\",\"Art\",\"Envelopes\",\"Binders\",\"Fasteners\",\"Phones\",\"Binders\",\"Storage\",\"Bookcases\",\"Art\",\"Chairs\",\"Bookcases\",\"Art\",\"Storage\",\"Paper\",\"Binders\",\"Fasteners\",\"Labels\",\"Binders\",\"Furnishings\",\"Art\",\"Paper\",\"Appliances\",\"Phones\",\"Art\",\"Paper\",\"Furnishings\",\"Binders\",\"Fasteners\",\"Phones\",\"Appliances\",\"Chairs\",\"Art\",\"Storage\",\"Binders\",\"Phones\",\"Phones\",\"Paper\",\"Accessories\",\"Chairs\",\"Chairs\",\"Paper\",\"Furnishings\",\"Paper\",\"Paper\",\"Accessories\",\"Binders\",\"Binders\",\"Phones\",\"Supplies\",\"Appliances\",\"Accessories\",\"Labels\",\"Storage\",\"Fasteners\",\"Labels\",\"Paper\",\"Chairs\",\"Binders\",\"Binders\",\"Phones\",\"Binders\",\"Envelopes\",\"Labels\",\"Furnishings\",\"Binders\",\"Appliances\",\"Binders\",\"Phones\",\"Paper\",\"Accessories\",\"Supplies\",\"Paper\",\"Paper\",\"Accessories\",\"Storage\",\"Machines\",\"Storage\",\"Binders\",\"Phones\",\"Binders\",\"Bookcases\",\"Binders\",\"Storage\",\"Phones\",\"Furnishings\",\"Phones\",\"Furnishings\",\"Accessories\",\"Supplies\",\"Supplies\",\"Accessories\",\"Accessories\",\"Furnishings\",\"Binders\",\"Phones\",\"Appliances\",\"Chairs\",\"Accessories\",\"Art\",\"Supplies\",\"Binders\",\"Chairs\",\"Appliances\",\"Bookcases\",\"Tables\",\"Accessories\",\"Accessories\",\"Tables\",\"Phones\",\"Binders\",\"Paper\",\"Appliances\",\"Furnishings\",\"Paper\",\"Storage\",\"Binders\",\"Art\",\"Binders\",\"Accessories\",\"Paper\",\"Envelopes\",\"Paper\",\"Accessories\",\"Art\",\"Bookcases\",\"Paper\",\"Storage\",\"Binders\",\"Phones\",\"Storage\",\"Binders\",\"Phones\",\"Furnishings\",\"Phones\",\"Accessories\",\"Tables\",\"Art\",\"Copiers\",\"Appliances\",\"Envelopes\",\"Furnishings\",\"Phones\",\"Storage\",\"Binders\",\"Tables\",\"Storage\",\"Tables\",\"Binders\",\"Bookcases\",\"Storage\",\"Paper\",\"Accessories\",\"Paper\",\"Paper\",\"Binders\",\"Phones\",\"Accessories\",\"Binders\",\"Paper\",\"Envelopes\",\"Fasteners\",\"Storage\",\"Appliances\",\"Tables\",\"Phones\",\"Furnishings\",\"Binders\",\"Storage\",\"Binders\",\"Art\",\"Paper\",\"Paper\",\"Paper\",\"Accessories\",\"Chairs\",\"Accessories\",\"Art\",\"Art\",\"Envelopes\",\"Storage\",\"Paper\",\"Furnishings\",\"Paper\",\"Binders\",\"Labels\",\"Storage\",\"Fasteners\",\"Machines\",\"Binders\",\"Storage\",\"Accessories\",\"Paper\",\"Paper\",\"Tables\",\"Envelopes\",\"Machines\",\"Appliances\",\"Phones\",\"Phones\",\"Paper\",\"Furnishings\",\"Phones\",\"Appliances\",\"Binders\",\"Fasteners\",\"Binders\",\"Furnishings\",\"Envelopes\",\"Paper\",\"Accessories\",\"Chairs\",\"Supplies\",\"Binders\",\"Furnishings\",\"Storage\",\"Appliances\",\"Furnishings\",\"Chairs\",\"Phones\",\"Storage\",\"Storage\",\"Binders\",\"Art\",\"Binders\",\"Furnishings\",\"Phones\",\"Chairs\",\"Furnishings\",\"Phones\",\"Phones\",\"Bookcases\",\"Chairs\",\"Chairs\",\"Art\",\"Paper\",\"Paper\",\"Chairs\",\"Storage\",\"Storage\",\"Chairs\",\"Paper\",\"Paper\",\"Art\",\"Binders\",\"Bookcases\",\"Binders\",\"Binders\",\"Furnishings\",\"Phones\",\"Appliances\",\"Paper\",\"Binders\",\"Storage\",\"Binders\",\"Storage\",\"Phones\",\"Accessories\",\"Chairs\",\"Accessories\",\"Art\",\"Envelopes\",\"Furnishings\",\"Paper\",\"Art\",\"Binders\",\"Envelopes\",\"Phones\",\"Supplies\",\"Fasteners\",\"Phones\",\"Accessories\",\"Furnishings\",\"Storage\",\"Art\",\"Storage\",\"Fasteners\",\"Labels\",\"Paper\",\"Envelopes\",\"Storage\",\"Storage\",\"Storage\",\"Labels\",\"Art\",\"Paper\",\"Envelopes\",\"Paper\",\"Art\",\"Chairs\",\"Bookcases\",\"Appliances\",\"Phones\",\"Binders\",\"Paper\",\"Binders\",\"Binders\",\"Bookcases\",\"Paper\",\"Binders\",\"Tables\",\"Furnishings\",\"Binders\",\"Chairs\",\"Tables\",\"Appliances\",\"Furnishings\",\"Bookcases\",\"Accessories\",\"Storage\",\"Binders\",\"Supplies\",\"Binders\",\"Binders\",\"Tables\",\"Phones\",\"Binders\",\"Appliances\",\"Accessories\",\"Fasteners\",\"Accessories\",\"Paper\",\"Appliances\",\"Binders\",\"Chairs\",\"Furnishings\",\"Paper\",\"Paper\",\"Paper\",\"Paper\",\"Phones\",\"Binders\",\"Tables\",\"Accessories\",\"Art\",\"Paper\",\"Paper\",\"Appliances\",\"Machines\",\"Furnishings\",\"Appliances\",\"Furnishings\",\"Tables\",\"Binders\",\"Chairs\",\"Accessories\",\"Accessories\",\"Chairs\",\"Paper\",\"Accessories\",\"Storage\",\"Furnishings\",\"Paper\",\"Storage\",\"Labels\",\"Envelopes\",\"Binders\",\"Bookcases\",\"Paper\",\"Paper\",\"Chairs\",\"Paper\",\"Storage\",\"Tables\",\"Labels\",\"Paper\",\"Furnishings\",\"Phones\",\"Envelopes\",\"Labels\",\"Tables\",\"Accessories\",\"Labels\",\"Chairs\",\"Furnishings\",\"Furnishings\",\"Storage\",\"Phones\",\"Chairs\",\"Art\",\"Binders\",\"Labels\",\"Supplies\",\"Furnishings\",\"Envelopes\",\"Chairs\",\"Furnishings\",\"Furnishings\",\"Paper\",\"Binders\",\"Tables\",\"Binders\",\"Furnishings\",\"Paper\",\"Art\",\"Furnishings\",\"Art\",\"Paper\",\"Phones\",\"Binders\",\"Furnishings\",\"Binders\",\"Supplies\",\"Furnishings\",\"Paper\",\"Paper\",\"Binders\",\"Paper\",\"Storage\",\"Envelopes\",\"Accessories\",\"Accessories\",\"Envelopes\",\"Phones\",\"Accessories\",\"Storage\",\"Binders\",\"Binders\",\"Binders\",\"Paper\",\"Paper\",\"Paper\",\"Phones\",\"Binders\",\"Chairs\",\"Paper\",\"Binders\",\"Accessories\",\"Storage\",\"Art\",\"Bookcases\",\"Storage\",\"Furnishings\",\"Appliances\",\"Appliances\",\"Phones\",\"Phones\",\"Labels\",\"Storage\",\"Paper\",\"Furnishings\",\"Furnishings\",\"Paper\",\"Tables\",\"Paper\",\"Accessories\",\"Art\",\"Envelopes\",\"Storage\",\"Paper\",\"Machines\",\"Paper\",\"Fasteners\",\"Paper\",\"Phones\",\"Phones\",\"Binders\",\"Phones\",\"Accessories\",\"Labels\",\"Binders\",\"Labels\",\"Labels\",\"Binders\",\"Bookcases\",\"Paper\",\"Furnishings\",\"Appliances\",\"Binders\",\"Bookcases\",\"Accessories\",\"Accessories\",\"Binders\",\"Binders\",\"Phones\",\"Accessories\",\"Fasteners\",\"Paper\",\"Binders\",\"Binders\",\"Storage\",\"Binders\",\"Accessories\",\"Phones\",\"Appliances\",\"Paper\",\"Phones\",\"Binders\",\"Paper\",\"Phones\",\"Phones\",\"Accessories\",\"Binders\",\"Paper\",\"Art\",\"Accessories\",\"Furnishings\",\"Bookcases\",\"Storage\",\"Furnishings\",\"Appliances\",\"Paper\",\"Binders\",\"Art\",\"Appliances\",\"Accessories\",\"Furnishings\",\"Binders\",\"Furnishings\",\"Binders\",\"Art\",\"Paper\",\"Accessories\",\"Binders\",\"Art\",\"Envelopes\",\"Phones\",\"Accessories\",\"Supplies\",\"Accessories\",\"Binders\",\"Furnishings\",\"Supplies\",\"Paper\",\"Storage\",\"Art\",\"Fasteners\",\"Furnishings\",\"Binders\",\"Tables\",\"Storage\",\"Furnishings\",\"Binders\",\"Paper\",\"Envelopes\",\"Bookcases\",\"Paper\",\"Chairs\",\"Chairs\",\"Paper\",\"Appliances\",\"Furnishings\",\"Storage\",\"Bookcases\",\"Storage\",\"Labels\",\"Storage\",\"Paper\",\"Binders\",\"Binders\",\"Phones\",\"Accessories\",\"Accessories\",\"Storage\",\"Chairs\",\"Envelopes\",\"Binders\",\"Phones\",\"Labels\",\"Appliances\",\"Chairs\",\"Storage\",\"Supplies\",\"Labels\",\"Bookcases\",\"Binders\",\"Accessories\",\"Art\",\"Labels\",\"Accessories\",\"Chairs\",\"Paper\",\"Furnishings\",\"Appliances\",\"Envelopes\",\"Phones\",\"Paper\",\"Envelopes\",\"Furnishings\",\"Paper\",\"Phones\",\"Paper\",\"Paper\",\"Phones\",\"Appliances\",\"Phones\",\"Accessories\",\"Chairs\",\"Furnishings\",\"Art\",\"Paper\",\"Accessories\",\"Binders\",\"Appliances\",\"Paper\",\"Art\",\"Fasteners\",\"Paper\",\"Phones\",\"Paper\",\"Phones\",\"Accessories\",\"Accessories\",\"Accessories\",\"Paper\",\"Binders\",\"Binders\",\"Paper\",\"Binders\",\"Chairs\",\"Binders\",\"Supplies\",\"Tables\",\"Binders\",\"Binders\",\"Storage\",\"Furnishings\",\"Phones\",\"Appliances\",\"Accessories\",\"Art\",\"Supplies\",\"Accessories\",\"Paper\",\"Bookcases\",\"Furnishings\",\"Furnishings\",\"Art\",\"Paper\",\"Storage\",\"Labels\",\"Binders\",\"Copiers\",\"Binders\",\"Art\",\"Machines\",\"Art\",\"Chairs\",\"Copiers\",\"Paper\",\"Phones\",\"Paper\",\"Binders\",\"Paper\",\"Phones\",\"Phones\",\"Furnishings\",\"Appliances\",\"Art\",\"Chairs\",\"Paper\",\"Furnishings\",\"Art\",\"Furnishings\",\"Storage\",\"Phones\",\"Storage\",\"Fasteners\",\"Binders\",\"Storage\",\"Storage\",\"Chairs\",\"Binders\",\"Binders\",\"Phones\",\"Phones\",\"Binders\",\"Supplies\",\"Art\",\"Art\",\"Envelopes\",\"Accessories\",\"Storage\",\"Paper\",\"Binders\",\"Furnishings\",\"Chairs\",\"Art\",\"Appliances\",\"Accessories\",\"Accessories\",\"Accessories\",\"Accessories\",\"Storage\",\"Art\",\"Appliances\",\"Art\",\"Furnishings\",\"Storage\",\"Accessories\",\"Art\",\"Chairs\",\"Furnishings\",\"Accessories\",\"Accessories\",\"Furnishings\",\"Tables\",\"Labels\",\"Chairs\",\"Tables\",\"Accessories\",\"Tables\",\"Binders\",\"Binders\",\"Binders\",\"Binders\",\"Accessories\",\"Furnishings\",\"Chairs\",\"Chairs\",\"Paper\",\"Art\",\"Furnishings\",\"Envelopes\",\"Binders\",\"Furnishings\",\"Furnishings\",\"Paper\",\"Paper\",\"Envelopes\",\"Storage\",\"Bookcases\",\"Paper\",\"Art\",\"Binders\",\"Art\",\"Paper\",\"Accessories\",\"Tables\",\"Labels\",\"Phones\",\"Furnishings\",\"Storage\",\"Art\",\"Binders\",\"Storage\",\"Storage\",\"Labels\",\"Binders\",\"Accessories\",\"Furnishings\",\"Phones\",\"Envelopes\",\"Paper\",\"Paper\",\"Phones\",\"Accessories\",\"Furnishings\",\"Fasteners\",\"Paper\",\"Binders\",\"Paper\",\"Paper\",\"Phones\",\"Appliances\",\"Binders\",\"Fasteners\",\"Furnishings\",\"Envelopes\",\"Chairs\",\"Art\",\"Paper\",\"Phones\",\"Paper\",\"Chairs\",\"Tables\",\"Binders\",\"Binders\",\"Labels\",\"Paper\",\"Envelopes\",\"Accessories\",\"Art\",\"Tables\",\"Accessories\",\"Supplies\",\"Binders\",\"Furnishings\",\"Supplies\",\"Chairs\",\"Copiers\",\"Paper\",\"Phones\",\"Phones\",\"Storage\",\"Accessories\",\"Phones\",\"Envelopes\",\"Appliances\",\"Storage\",\"Fasteners\",\"Accessories\",\"Accessories\",\"Paper\",\"Storage\",\"Accessories\",\"Phones\",\"Accessories\",\"Appliances\",\"Labels\",\"Bookcases\",\"Paper\",\"Bookcases\",\"Supplies\",\"Furnishings\",\"Binders\",\"Paper\",\"Furnishings\",\"Binders\",\"Paper\",\"Furnishings\",\"Machines\",\"Paper\",\"Paper\",\"Storage\",\"Furnishings\",\"Phones\",\"Accessories\",\"Accessories\",\"Phones\",\"Tables\",\"Labels\",\"Labels\",\"Chairs\",\"Art\",\"Appliances\",\"Copiers\",\"Furnishings\",\"Machines\",\"Storage\",\"Binders\",\"Appliances\",\"Furnishings\",\"Chairs\",\"Storage\",\"Phones\",\"Labels\",\"Accessories\",\"Labels\",\"Paper\",\"Furnishings\",\"Appliances\",\"Copiers\",\"Storage\",\"Chairs\",\"Binders\",\"Binders\",\"Paper\",\"Art\",\"Chairs\",\"Machines\",\"Art\",\"Envelopes\",\"Paper\",\"Bookcases\",\"Supplies\",\"Binders\",\"Art\",\"Furnishings\",\"Binders\",\"Fasteners\",\"Chairs\",\"Appliances\",\"Furnishings\",\"Binders\",\"Storage\",\"Furnishings\",\"Labels\",\"Paper\",\"Chairs\",\"Phones\",\"Paper\",\"Phones\",\"Art\",\"Storage\",\"Bookcases\",\"Paper\",\"Appliances\",\"Art\",\"Furnishings\",\"Paper\",\"Furnishings\",\"Phones\",\"Paper\",\"Accessories\",\"Phones\",\"Binders\",\"Binders\",\"Labels\",\"Labels\",\"Supplies\",\"Appliances\",\"Tables\",\"Binders\",\"Appliances\",\"Paper\",\"Chairs\",\"Chairs\",\"Art\",\"Tables\",\"Chairs\",\"Accessories\",\"Labels\",\"Chairs\",\"Binders\",\"Binders\",\"Accessories\",\"Phones\",\"Storage\",\"Paper\",\"Furnishings\",\"Phones\",\"Storage\",\"Furnishings\",\"Storage\",\"Paper\",\"Chairs\",\"Furnishings\",\"Appliances\",\"Storage\",\"Copiers\",\"Binders\",\"Furnishings\",\"Binders\",\"Storage\",\"Supplies\",\"Binders\",\"Furnishings\",\"Bookcases\",\"Tables\",\"Paper\",\"Paper\",\"Paper\",\"Art\",\"Appliances\",\"Art\",\"Chairs\",\"Art\",\"Binders\",\"Chairs\",\"Tables\",\"Furnishings\",\"Storage\",\"Binders\",\"Binders\",\"Art\",\"Binders\",\"Paper\",\"Appliances\",\"Paper\",\"Chairs\",\"Paper\",\"Chairs\",\"Furnishings\",\"Supplies\",\"Binders\",\"Accessories\",\"Storage\",\"Paper\",\"Binders\",\"Paper\",\"Storage\",\"Accessories\",\"Binders\",\"Storage\",\"Labels\",\"Paper\",\"Furnishings\",\"Phones\",\"Envelopes\",\"Binders\",\"Furnishings\",\"Paper\",\"Paper\",\"Paper\",\"Labels\",\"Accessories\",\"Binders\",\"Appliances\",\"Furnishings\",\"Binders\",\"Storage\",\"Supplies\",\"Storage\",\"Labels\",\"Chairs\",\"Storage\",\"Bookcases\",\"Bookcases\",\"Phones\",\"Accessories\",\"Paper\",\"Phones\",\"Tables\",\"Art\",\"Accessories\",\"Tables\",\"Labels\",\"Furnishings\",\"Bookcases\",\"Paper\",\"Phones\",\"Storage\",\"Accessories\",\"Accessories\",\"Furnishings\",\"Phones\",\"Phones\",\"Phones\",\"Labels\",\"Accessories\",\"Art\",\"Phones\",\"Furnishings\",\"Accessories\",\"Paper\",\"Storage\",\"Binders\",\"Envelopes\",\"Accessories\",\"Appliances\",\"Binders\",\"Paper\",\"Art\",\"Furnishings\",\"Bookcases\",\"Storage\",\"Appliances\",\"Envelopes\",\"Chairs\",\"Furnishings\",\"Phones\",\"Appliances\",\"Paper\",\"Supplies\",\"Storage\",\"Phones\",\"Paper\",\"Paper\",\"Binders\",\"Paper\",\"Furnishings\",\"Bookcases\",\"Appliances\",\"Storage\",\"Storage\",\"Paper\",\"Phones\",\"Tables\",\"Binders\",\"Chairs\",\"Storage\",\"Paper\",\"Paper\",\"Furnishings\",\"Binders\",\"Storage\",\"Paper\",\"Binders\",\"Bookcases\",\"Binders\",\"Phones\",\"Chairs\",\"Storage\",\"Supplies\",\"Chairs\",\"Appliances\",\"Tables\",\"Chairs\",\"Paper\",\"Paper\",\"Furnishings\",\"Binders\",\"Binders\",\"Furnishings\",\"Chairs\",\"Phones\",\"Furnishings\",\"Paper\",\"Storage\",\"Machines\",\"Envelopes\",\"Phones\",\"Paper\",\"Phones\",\"Furnishings\",\"Furnishings\",\"Paper\",\"Paper\",\"Appliances\",\"Appliances\",\"Accessories\",\"Envelopes\",\"Accessories\",\"Appliances\",\"Paper\",\"Fasteners\",\"Phones\",\"Art\",\"Art\",\"Chairs\",\"Furnishings\",\"Supplies\",\"Furnishings\",\"Appliances\",\"Binders\",\"Furnishings\",\"Binders\",\"Storage\",\"Art\",\"Phones\",\"Machines\",\"Furnishings\",\"Chairs\",\"Paper\",\"Furnishings\",\"Tables\",\"Binders\",\"Binders\",\"Paper\",\"Art\",\"Appliances\",\"Paper\",\"Furnishings\",\"Binders\",\"Binders\",\"Paper\",\"Envelopes\",\"Paper\",\"Accessories\",\"Storage\",\"Art\",\"Copiers\",\"Paper\",\"Paper\",\"Labels\",\"Supplies\",\"Chairs\",\"Furnishings\",\"Machines\",\"Labels\",\"Storage\",\"Fasteners\",\"Supplies\",\"Binders\",\"Storage\",\"Accessories\",\"Accessories\",\"Supplies\",\"Furnishings\",\"Storage\",\"Furnishings\",\"Binders\",\"Art\",\"Accessories\",\"Labels\",\"Binders\",\"Furnishings\",\"Paper\",\"Binders\",\"Chairs\",\"Accessories\",\"Paper\",\"Accessories\",\"Storage\",\"Paper\",\"Chairs\",\"Binders\",\"Fasteners\",\"Chairs\",\"Phones\",\"Chairs\",\"Phones\",\"Accessories\",\"Tables\",\"Art\",\"Appliances\",\"Accessories\",\"Labels\",\"Binders\",\"Chairs\",\"Appliances\",\"Fasteners\",\"Chairs\",\"Chairs\",\"Binders\",\"Phones\",\"Labels\",\"Phones\",\"Art\",\"Furnishings\",\"Bookcases\",\"Storage\",\"Paper\",\"Accessories\",\"Paper\",\"Binders\",\"Chairs\",\"Binders\",\"Accessories\",\"Fasteners\",\"Chairs\",\"Paper\",\"Tables\",\"Art\",\"Accessories\",\"Appliances\",\"Paper\",\"Bookcases\",\"Storage\",\"Paper\",\"Storage\",\"Phones\",\"Art\",\"Paper\",\"Art\",\"Art\",\"Binders\",\"Phones\",\"Chairs\",\"Bookcases\",\"Bookcases\",\"Storage\",\"Furnishings\",\"Storage\",\"Storage\",\"Furnishings\",\"Envelopes\",\"Accessories\",\"Storage\",\"Phones\",\"Labels\",\"Storage\",\"Binders\",\"Furnishings\",\"Furnishings\",\"Accessories\",\"Paper\",\"Paper\",\"Paper\",\"Binders\",\"Art\",\"Binders\",\"Accessories\",\"Storage\",\"Chairs\",\"Storage\",\"Envelopes\",\"Paper\",\"Storage\",\"Phones\",\"Phones\",\"Binders\",\"Storage\",\"Chairs\",\"Art\",\"Storage\",\"Binders\",\"Art\",\"Phones\",\"Furnishings\",\"Storage\",\"Paper\",\"Binders\",\"Paper\",\"Phones\",\"Storage\",\"Paper\",\"Phones\",\"Paper\",\"Copiers\",\"Accessories\",\"Chairs\",\"Phones\",\"Furnishings\",\"Paper\",\"Fasteners\",\"Chairs\",\"Storage\",\"Binders\",\"Storage\",\"Furnishings\",\"Fasteners\",\"Appliances\",\"Envelopes\",\"Furnishings\",\"Envelopes\",\"Phones\",\"Phones\",\"Phones\",\"Storage\",\"Labels\",\"Furnishings\",\"Art\",\"Storage\",\"Bookcases\",\"Chairs\",\"Phones\",\"Phones\",\"Accessories\",\"Art\",\"Chairs\",\"Paper\",\"Paper\",\"Binders\",\"Phones\",\"Envelopes\",\"Binders\",\"Furnishings\",\"Storage\",\"Binders\",\"Furnishings\",\"Binders\",\"Supplies\",\"Art\",\"Furnishings\",\"Accessories\",\"Binders\",\"Furnishings\",\"Appliances\",\"Paper\",\"Appliances\",\"Paper\",\"Phones\",\"Furnishings\",\"Labels\",\"Binders\",\"Supplies\",\"Envelopes\",\"Binders\",\"Binders\",\"Labels\",\"Binders\",\"Binders\",\"Binders\",\"Paper\",\"Paper\",\"Phones\",\"Binders\",\"Phones\",\"Chairs\",\"Art\",\"Accessories\",\"Furnishings\",\"Accessories\",\"Furnishings\",\"Labels\",\"Storage\",\"Phones\",\"Binders\",\"Labels\",\"Furnishings\",\"Storage\",\"Envelopes\",\"Chairs\",\"Tables\",\"Phones\",\"Tables\",\"Binders\",\"Chairs\",\"Furnishings\",\"Chairs\",\"Phones\",\"Art\",\"Binders\",\"Appliances\",\"Storage\",\"Paper\",\"Binders\",\"Furnishings\",\"Binders\",\"Envelopes\",\"Phones\",\"Paper\",\"Paper\",\"Supplies\",\"Chairs\",\"Paper\",\"Chairs\",\"Labels\",\"Paper\",\"Furnishings\",\"Storage\",\"Phones\",\"Art\",\"Labels\",\"Paper\",\"Paper\",\"Phones\",\"Paper\",\"Paper\",\"Binders\",\"Envelopes\",\"Machines\",\"Paper\",\"Envelopes\",\"Storage\",\"Furnishings\",\"Binders\",\"Appliances\",\"Storage\",\"Art\",\"Furnishings\",\"Binders\",\"Paper\",\"Binders\",\"Furnishings\",\"Phones\",\"Phones\",\"Chairs\",\"Machines\",\"Storage\",\"Accessories\",\"Binders\",\"Binders\",\"Phones\",\"Labels\",\"Binders\",\"Storage\",\"Supplies\",\"Furnishings\",\"Phones\",\"Binders\",\"Appliances\",\"Phones\",\"Storage\",\"Binders\",\"Paper\",\"Paper\",\"Phones\",\"Art\",\"Art\",\"Binders\",\"Machines\",\"Paper\",\"Phones\",\"Supplies\",\"Phones\",\"Binders\",\"Furnishings\",\"Bookcases\",\"Furnishings\",\"Art\",\"Accessories\",\"Chairs\",\"Storage\",\"Labels\",\"Furnishings\",\"Accessories\",\"Storage\",\"Fasteners\",\"Bookcases\",\"Phones\",\"Binders\",\"Accessories\",\"Accessories\",\"Binders\",\"Paper\",\"Storage\",\"Envelopes\",\"Paper\",\"Paper\",\"Labels\",\"Fasteners\",\"Furnishings\",\"Storage\",\"Binders\",\"Art\",\"Phones\",\"Labels\",\"Art\",\"Bookcases\",\"Binders\",\"Furnishings\",\"Phones\",\"Chairs\",\"Storage\",\"Chairs\",\"Art\",\"Paper\",\"Phones\",\"Paper\",\"Binders\",\"Accessories\",\"Binders\",\"Paper\",\"Phones\",\"Fasteners\",\"Supplies\",\"Chairs\",\"Art\",\"Storage\",\"Accessories\",\"Chairs\",\"Paper\",\"Copiers\",\"Binders\",\"Paper\",\"Phones\",\"Storage\",\"Tables\",\"Binders\",\"Furnishings\",\"Paper\",\"Phones\",\"Furnishings\",\"Storage\",\"Phones\",\"Tables\",\"Chairs\",\"Art\",\"Storage\",\"Paper\",\"Labels\",\"Furnishings\",\"Fasteners\",\"Furnishings\",\"Labels\",\"Storage\",\"Binders\",\"Paper\",\"Art\",\"Phones\",\"Art\",\"Storage\",\"Furnishings\",\"Phones\",\"Art\",\"Art\",\"Art\",\"Art\",\"Accessories\",\"Chairs\",\"Labels\",\"Furnishings\",\"Storage\",\"Accessories\",\"Storage\",\"Phones\",\"Furnishings\",\"Phones\",\"Accessories\",\"Labels\",\"Appliances\",\"Bookcases\",\"Binders\",\"Appliances\",\"Accessories\",\"Paper\",\"Phones\",\"Appliances\",\"Bookcases\",\"Accessories\",\"Tables\",\"Machines\",\"Paper\",\"Appliances\",\"Binders\",\"Paper\",\"Paper\",\"Furnishings\",\"Bookcases\",\"Storage\",\"Phones\",\"Accessories\",\"Paper\",\"Accessories\",\"Furnishings\",\"Binders\",\"Accessories\",\"Binders\",\"Phones\",\"Phones\",\"Binders\",\"Storage\",\"Art\",\"Paper\",\"Furnishings\",\"Paper\",\"Binders\",\"Paper\",\"Art\",\"Labels\",\"Paper\",\"Phones\",\"Chairs\",\"Furnishings\",\"Art\",\"Appliances\",\"Binders\",\"Binders\",\"Chairs\",\"Paper\",\"Labels\",\"Phones\",\"Binders\",\"Binders\",\"Copiers\",\"Storage\",\"Labels\",\"Binders\",\"Art\",\"Accessories\",\"Accessories\",\"Binders\",\"Bookcases\",\"Tables\",\"Storage\",\"Phones\",\"Chairs\",\"Paper\",\"Furnishings\",\"Phones\",\"Storage\",\"Binders\",\"Labels\",\"Paper\",\"Chairs\",\"Paper\",\"Chairs\",\"Chairs\",\"Paper\",\"Storage\",\"Accessories\",\"Storage\",\"Paper\",\"Binders\",\"Labels\",\"Chairs\",\"Envelopes\",\"Labels\",\"Appliances\",\"Binders\",\"Tables\",\"Art\",\"Chairs\",\"Binders\",\"Art\",\"Art\",\"Chairs\",\"Envelopes\",\"Accessories\",\"Paper\",\"Storage\",\"Machines\",\"Accessories\",\"Chairs\",\"Phones\",\"Phones\",\"Paper\",\"Art\",\"Furnishings\",\"Accessories\",\"Art\",\"Phones\",\"Furnishings\",\"Art\",\"Bookcases\",\"Binders\",\"Supplies\",\"Labels\",\"Art\",\"Phones\",\"Binders\",\"Art\",\"Binders\",\"Paper\",\"Binders\",\"Paper\",\"Furnishings\",\"Paper\",\"Chairs\",\"Labels\",\"Storage\",\"Fasteners\",\"Paper\",\"Phones\",\"Chairs\",\"Machines\",\"Storage\",\"Binders\",\"Chairs\",\"Binders\",\"Phones\",\"Furnishings\",\"Bookcases\",\"Labels\",\"Paper\",\"Paper\",\"Art\",\"Supplies\",\"Bookcases\",\"Furnishings\",\"Labels\",\"Tables\",\"Chairs\",\"Machines\",\"Paper\",\"Phones\",\"Binders\",\"Chairs\",\"Tables\",\"Appliances\",\"Accessories\",\"Binders\",\"Phones\",\"Labels\",\"Art\",\"Binders\",\"Tables\",\"Binders\",\"Accessories\",\"Labels\",\"Phones\",\"Phones\",\"Appliances\",\"Tables\",\"Appliances\",\"Binders\",\"Copiers\",\"Fasteners\",\"Furnishings\",\"Paper\",\"Chairs\",\"Phones\",\"Accessories\",\"Storage\",\"Envelopes\",\"Furnishings\",\"Tables\",\"Art\",\"Appliances\",\"Binders\",\"Tables\",\"Envelopes\",\"Paper\",\"Furnishings\",\"Labels\",\"Supplies\",\"Accessories\",\"Binders\",\"Binders\",\"Art\",\"Furnishings\",\"Art\",\"Machines\",\"Appliances\",\"Accessories\",\"Furnishings\",\"Storage\",\"Paper\",\"Paper\",\"Binders\",\"Furnishings\",\"Storage\",\"Furnishings\",\"Art\",\"Storage\",\"Accessories\",\"Art\",\"Binders\",\"Appliances\",\"Binders\",\"Paper\",\"Accessories\",\"Binders\",\"Binders\",\"Paper\",\"Paper\",\"Chairs\",\"Binders\",\"Furnishings\",\"Binders\",\"Phones\",\"Fasteners\",\"Phones\",\"Phones\",\"Labels\",\"Chairs\",\"Chairs\",\"Binders\",\"Art\",\"Furnishings\",\"Furnishings\",\"Accessories\",\"Art\",\"Fasteners\",\"Paper\",\"Furnishings\",\"Appliances\",\"Accessories\",\"Art\",\"Art\",\"Fasteners\",\"Fasteners\",\"Labels\",\"Binders\",\"Paper\",\"Furnishings\",\"Binders\",\"Chairs\",\"Paper\",\"Paper\",\"Appliances\",\"Labels\",\"Appliances\",\"Storage\",\"Storage\",\"Binders\",\"Storage\",\"Chairs\",\"Art\",\"Chairs\",\"Paper\",\"Accessories\",\"Art\",\"Phones\",\"Binders\",\"Paper\",\"Phones\",\"Chairs\",\"Appliances\",\"Paper\",\"Binders\",\"Appliances\",\"Furnishings\",\"Chairs\",\"Phones\",\"Storage\",\"Art\",\"Storage\",\"Chairs\",\"Labels\",\"Storage\",\"Machines\",\"Chairs\",\"Art\",\"Furnishings\",\"Binders\",\"Art\",\"Paper\",\"Binders\",\"Binders\",\"Binders\",\"Paper\",\"Paper\",\"Storage\",\"Accessories\",\"Bookcases\",\"Furnishings\",\"Binders\",\"Labels\",\"Furnishings\",\"Supplies\",\"Tables\",\"Storage\",\"Paper\",\"Furnishings\",\"Paper\",\"Art\",\"Binders\",\"Furnishings\",\"Binders\",\"Storage\",\"Phones\",\"Furnishings\",\"Furnishings\",\"Binders\",\"Furnishings\",\"Tables\",\"Machines\",\"Accessories\",\"Accessories\",\"Chairs\",\"Accessories\",\"Paper\",\"Binders\",\"Paper\",\"Furnishings\",\"Binders\",\"Machines\",\"Chairs\",\"Binders\",\"Furnishings\",\"Machines\",\"Furnishings\",\"Fasteners\",\"Binders\",\"Binders\",\"Furnishings\",\"Chairs\",\"Furnishings\",\"Appliances\",\"Envelopes\",\"Tables\",\"Storage\",\"Copiers\",\"Binders\",\"Binders\",\"Art\",\"Phones\",\"Appliances\",\"Art\",\"Tables\",\"Accessories\",\"Labels\",\"Furnishings\",\"Art\",\"Appliances\",\"Phones\",\"Binders\",\"Accessories\",\"Fasteners\",\"Storage\",\"Chairs\",\"Chairs\",\"Paper\",\"Phones\",\"Paper\",\"Furnishings\",\"Bookcases\",\"Binders\",\"Storage\",\"Phones\",\"Storage\",\"Paper\",\"Envelopes\",\"Paper\",\"Labels\",\"Fasteners\",\"Accessories\",\"Labels\",\"Chairs\",\"Paper\",\"Binders\",\"Phones\",\"Accessories\",\"Phones\",\"Tables\",\"Paper\",\"Paper\",\"Labels\",\"Paper\",\"Binders\",\"Accessories\",\"Labels\",\"Tables\",\"Furnishings\",\"Paper\",\"Chairs\",\"Paper\",\"Tables\",\"Storage\",\"Paper\",\"Chairs\",\"Accessories\",\"Phones\",\"Paper\",\"Binders\",\"Phones\",\"Paper\",\"Art\",\"Paper\",\"Furnishings\",\"Phones\",\"Supplies\",\"Paper\",\"Binders\",\"Chairs\",\"Binders\",\"Accessories\",\"Copiers\",\"Fasteners\",\"Appliances\",\"Storage\",\"Storage\",\"Binders\",\"Phones\",\"Furnishings\",\"Binders\",\"Bookcases\",\"Storage\",\"Accessories\",\"Phones\",\"Storage\",\"Binders\",\"Paper\",\"Chairs\",\"Supplies\",\"Binders\",\"Appliances\",\"Envelopes\",\"Labels\",\"Envelopes\",\"Paper\",\"Bookcases\",\"Labels\",\"Storage\",\"Labels\",\"Phones\",\"Paper\",\"Phones\",\"Phones\",\"Furnishings\",\"Art\",\"Accessories\",\"Furnishings\",\"Paper\",\"Accessories\",\"Binders\",\"Supplies\",\"Storage\",\"Paper\",\"Phones\",\"Binders\",\"Bookcases\",\"Fasteners\",\"Storage\",\"Chairs\",\"Binders\",\"Tables\",\"Machines\",\"Binders\",\"Binders\",\"Phones\",\"Envelopes\",\"Binders\",\"Furnishings\",\"Storage\",\"Paper\",\"Paper\",\"Art\",\"Envelopes\",\"Art\",\"Binders\",\"Accessories\",\"Binders\",\"Paper\",\"Phones\",\"Furnishings\",\"Storage\",\"Accessories\",\"Phones\",\"Binders\",\"Art\",\"Labels\",\"Furnishings\",\"Phones\",\"Paper\",\"Paper\",\"Fasteners\",\"Paper\",\"Binders\",\"Phones\",\"Appliances\",\"Binders\",\"Art\",\"Binders\",\"Appliances\",\"Appliances\",\"Appliances\",\"Phones\",\"Furnishings\",\"Art\",\"Art\",\"Appliances\",\"Binders\",\"Paper\",\"Paper\",\"Appliances\",\"Supplies\",\"Chairs\",\"Furnishings\",\"Binders\",\"Paper\",\"Chairs\",\"Furnishings\",\"Binders\",\"Chairs\",\"Furnishings\",\"Binders\",\"Supplies\",\"Appliances\",\"Bookcases\",\"Appliances\",\"Accessories\",\"Phones\",\"Paper\",\"Labels\",\"Paper\",\"Supplies\",\"Furnishings\",\"Phones\",\"Paper\",\"Paper\",\"Phones\",\"Binders\",\"Labels\",\"Paper\",\"Storage\",\"Accessories\",\"Art\",\"Chairs\",\"Binders\",\"Binders\",\"Chairs\",\"Copiers\",\"Paper\",\"Art\",\"Storage\",\"Binders\",\"Furnishings\",\"Copiers\",\"Chairs\",\"Supplies\",\"Paper\",\"Tables\",\"Accessories\",\"Paper\",\"Art\",\"Binders\",\"Art\",\"Paper\",\"Accessories\",\"Chairs\",\"Binders\",\"Binders\",\"Tables\",\"Storage\",\"Appliances\",\"Binders\",\"Binders\",\"Envelopes\",\"Supplies\",\"Appliances\",\"Storage\",\"Paper\",\"Binders\",\"Paper\",\"Paper\",\"Paper\",\"Art\",\"Paper\",\"Art\",\"Binders\",\"Supplies\",\"Envelopes\",\"Binders\",\"Appliances\",\"Art\",\"Tables\",\"Accessories\",\"Binders\",\"Art\",\"Phones\",\"Binders\",\"Supplies\",\"Storage\",\"Art\",\"Phones\",\"Paper\",\"Appliances\",\"Art\",\"Paper\",\"Accessories\",\"Binders\",\"Binders\",\"Binders\",\"Paper\",\"Paper\",\"Envelopes\",\"Paper\",\"Binders\",\"Storage\",\"Chairs\",\"Furnishings\",\"Accessories\",\"Phones\",\"Art\",\"Storage\",\"Supplies\",\"Art\",\"Supplies\",\"Binders\",\"Tables\",\"Binders\",\"Paper\",\"Binders\",\"Paper\",\"Binders\",\"Binders\",\"Paper\",\"Bookcases\",\"Furnishings\",\"Paper\",\"Paper\",\"Art\",\"Paper\",\"Furnishings\",\"Accessories\",\"Paper\",\"Tables\",\"Phones\",\"Furnishings\",\"Phones\",\"Chairs\",\"Binders\",\"Storage\",\"Binders\",\"Bookcases\",\"Accessories\",\"Furnishings\",\"Furnishings\",\"Phones\",\"Binders\",\"Tables\",\"Storage\",\"Paper\",\"Appliances\",\"Phones\",\"Chairs\",\"Tables\",\"Paper\",\"Appliances\",\"Furnishings\",\"Binders\",\"Labels\",\"Storage\",\"Paper\",\"Phones\",\"Fasteners\",\"Paper\",\"Binders\",\"Envelopes\",\"Binders\",\"Storage\",\"Art\",\"Chairs\",\"Storage\",\"Tables\",\"Chairs\",\"Accessories\",\"Accessories\",\"Copiers\",\"Paper\",\"Appliances\",\"Storage\",\"Binders\",\"Binders\",\"Phones\",\"Art\",\"Accessories\",\"Binders\",\"Chairs\",\"Supplies\",\"Art\",\"Chairs\",\"Furnishings\",\"Appliances\",\"Phones\",\"Tables\",\"Binders\",\"Art\",\"Storage\",\"Binders\",\"Furnishings\",\"Art\",\"Labels\",\"Art\",\"Phones\",\"Phones\",\"Tables\",\"Furnishings\",\"Furnishings\",\"Art\",\"Furnishings\",\"Machines\",\"Art\",\"Paper\",\"Paper\",\"Paper\",\"Binders\",\"Binders\",\"Labels\",\"Art\",\"Paper\",\"Art\",\"Binders\",\"Accessories\",\"Binders\",\"Binders\",\"Phones\",\"Accessories\",\"Phones\",\"Appliances\",\"Furnishings\",\"Paper\",\"Accessories\",\"Binders\",\"Paper\",\"Binders\",\"Appliances\",\"Paper\",\"Furnishings\",\"Paper\",\"Binders\",\"Art\",\"Machines\",\"Furnishings\",\"Envelopes\",\"Furnishings\",\"Binders\",\"Furnishings\",\"Chairs\",\"Art\",\"Storage\",\"Labels\",\"Bookcases\",\"Storage\",\"Accessories\",\"Accessories\",\"Labels\",\"Paper\",\"Appliances\",\"Furnishings\",\"Storage\",\"Art\",\"Paper\",\"Art\",\"Paper\",\"Phones\",\"Art\",\"Phones\",\"Envelopes\",\"Art\",\"Chairs\",\"Binders\",\"Storage\",\"Paper\",\"Furnishings\",\"Bookcases\",\"Appliances\",\"Supplies\",\"Binders\",\"Phones\",\"Furnishings\",\"Accessories\",\"Phones\",\"Accessories\",\"Accessories\",\"Binders\",\"Machines\",\"Binders\",\"Art\",\"Furnishings\",\"Accessories\",\"Accessories\",\"Furnishings\",\"Machines\",\"Storage\",\"Binders\",\"Labels\",\"Machines\",\"Furnishings\",\"Furnishings\",\"Art\",\"Fasteners\",\"Storage\",\"Tables\",\"Furnishings\",\"Bookcases\",\"Binders\",\"Storage\",\"Chairs\",\"Paper\",\"Tables\",\"Accessories\",\"Chairs\",\"Envelopes\",\"Fasteners\",\"Binders\",\"Binders\",\"Binders\",\"Art\",\"Phones\",\"Art\",\"Tables\",\"Paper\",\"Binders\",\"Phones\",\"Furnishings\",\"Paper\",\"Accessories\",\"Furnishings\",\"Labels\",\"Appliances\",\"Binders\",\"Furnishings\",\"Machines\",\"Storage\",\"Furnishings\",\"Phones\",\"Binders\",\"Furnishings\",\"Furnishings\",\"Accessories\",\"Bookcases\",\"Storage\",\"Chairs\",\"Art\",\"Chairs\",\"Labels\",\"Furnishings\",\"Storage\",\"Tables\",\"Phones\",\"Art\",\"Chairs\",\"Appliances\",\"Binders\",\"Binders\",\"Accessories\",\"Phones\",\"Labels\",\"Paper\",\"Binders\",\"Art\",\"Furnishings\",\"Phones\",\"Tables\",\"Paper\",\"Chairs\",\"Binders\",\"Phones\",\"Fasteners\",\"Binders\",\"Storage\",\"Chairs\",\"Binders\",\"Labels\",\"Phones\",\"Storage\",\"Storage\",\"Supplies\",\"Fasteners\",\"Binders\",\"Art\",\"Storage\",\"Art\",\"Storage\",\"Labels\",\"Phones\",\"Supplies\",\"Paper\",\"Appliances\",\"Paper\",\"Storage\",\"Furnishings\",\"Phones\",\"Chairs\",\"Furnishings\",\"Paper\",\"Paper\",\"Art\",\"Paper\",\"Tables\",\"Chairs\",\"Appliances\",\"Paper\",\"Accessories\",\"Furnishings\",\"Paper\",\"Supplies\",\"Bookcases\",\"Furnishings\",\"Chairs\",\"Chairs\",\"Labels\",\"Furnishings\",\"Tables\",\"Accessories\",\"Phones\",\"Accessories\",\"Furnishings\",\"Chairs\",\"Accessories\",\"Phones\",\"Paper\",\"Binders\",\"Storage\",\"Binders\",\"Storage\",\"Machines\",\"Appliances\",\"Furnishings\",\"Chairs\",\"Furnishings\",\"Binders\",\"Binders\",\"Paper\",\"Paper\",\"Appliances\",\"Fasteners\",\"Binders\",\"Binders\",\"Binders\",\"Art\",\"Binders\",\"Furnishings\",\"Binders\",\"Tables\",\"Labels\",\"Paper\",\"Storage\",\"Paper\",\"Paper\",\"Furnishings\",\"Paper\",\"Furnishings\",\"Art\",\"Chairs\",\"Binders\",\"Phones\",\"Phones\",\"Labels\",\"Storage\",\"Phones\",\"Binders\",\"Furnishings\",\"Bookcases\",\"Copiers\",\"Paper\",\"Accessories\",\"Art\",\"Paper\",\"Storage\",\"Appliances\",\"Furnishings\",\"Paper\",\"Furnishings\",\"Binders\",\"Storage\",\"Copiers\",\"Art\",\"Chairs\",\"Binders\",\"Art\",\"Phones\",\"Phones\",\"Fasteners\",\"Paper\",\"Envelopes\",\"Binders\",\"Chairs\",\"Art\",\"Binders\",\"Paper\",\"Accessories\",\"Tables\",\"Paper\",\"Furnishings\",\"Phones\",\"Paper\",\"Tables\",\"Appliances\",\"Binders\",\"Furnishings\",\"Fasteners\",\"Art\",\"Furnishings\",\"Accessories\",\"Phones\",\"Art\",\"Phones\",\"Envelopes\",\"Binders\",\"Phones\",\"Storage\",\"Paper\",\"Phones\",\"Storage\",\"Furnishings\",\"Storage\",\"Art\",\"Binders\",\"Appliances\",\"Binders\",\"Accessories\",\"Storage\",\"Labels\",\"Copiers\",\"Binders\",\"Binders\",\"Chairs\",\"Envelopes\",\"Chairs\",\"Envelopes\",\"Furnishings\",\"Paper\",\"Binders\",\"Binders\",\"Furnishings\",\"Chairs\",\"Chairs\",\"Bookcases\",\"Supplies\",\"Furnishings\",\"Paper\",\"Storage\",\"Binders\",\"Bookcases\",\"Phones\",\"Furnishings\",\"Phones\",\"Chairs\",\"Phones\",\"Phones\",\"Binders\",\"Binders\",\"Furnishings\",\"Envelopes\",\"Phones\",\"Binders\",\"Paper\",\"Bookcases\",\"Art\",\"Paper\",\"Binders\",\"Appliances\",\"Paper\",\"Furnishings\",\"Chairs\",\"Bookcases\",\"Accessories\",\"Chairs\",\"Bookcases\",\"Accessories\",\"Paper\",\"Art\",\"Paper\",\"Fasteners\",\"Storage\",\"Tables\",\"Art\",\"Storage\",\"Accessories\",\"Accessories\",\"Phones\",\"Chairs\",\"Appliances\",\"Art\",\"Storage\",\"Chairs\",\"Phones\",\"Labels\",\"Paper\",\"Art\",\"Binders\",\"Furnishings\",\"Art\",\"Furnishings\",\"Chairs\",\"Art\",\"Chairs\",\"Binders\",\"Binders\",\"Phones\",\"Art\",\"Art\",\"Paper\",\"Machines\",\"Paper\",\"Accessories\",\"Paper\",\"Furnishings\",\"Furnishings\",\"Storage\",\"Storage\",\"Paper\",\"Art\",\"Paper\",\"Paper\",\"Fasteners\",\"Art\",\"Furnishings\",\"Binders\",\"Paper\",\"Binders\",\"Tables\",\"Phones\",\"Phones\",\"Chairs\",\"Art\",\"Appliances\",\"Appliances\",\"Furnishings\",\"Appliances\",\"Accessories\",\"Labels\",\"Envelopes\",\"Phones\",\"Chairs\",\"Chairs\",\"Binders\",\"Art\",\"Chairs\",\"Chairs\",\"Art\",\"Envelopes\",\"Bookcases\",\"Paper\",\"Machines\",\"Binders\",\"Binders\",\"Accessories\",\"Chairs\",\"Machines\",\"Binders\",\"Chairs\",\"Tables\",\"Envelopes\",\"Accessories\",\"Storage\",\"Art\",\"Furnishings\",\"Paper\",\"Appliances\",\"Furnishings\",\"Binders\",\"Binders\",\"Furnishings\",\"Binders\",\"Art\",\"Art\",\"Furnishings\",\"Binders\",\"Copiers\",\"Storage\",\"Paper\",\"Paper\",\"Accessories\",\"Bookcases\",\"Furnishings\",\"Paper\",\"Tables\",\"Appliances\",\"Accessories\",\"Paper\",\"Paper\",\"Accessories\",\"Bookcases\",\"Chairs\",\"Appliances\",\"Binders\",\"Binders\",\"Phones\",\"Tables\",\"Binders\",\"Accessories\",\"Appliances\",\"Tables\",\"Paper\",\"Labels\",\"Phones\",\"Chairs\",\"Paper\",\"Binders\",\"Copiers\",\"Storage\",\"Supplies\",\"Fasteners\",\"Tables\",\"Paper\",\"Phones\",\"Tables\",\"Accessories\",\"Art\",\"Art\",\"Accessories\",\"Binders\",\"Phones\",\"Furnishings\",\"Storage\",\"Paper\",\"Appliances\",\"Accessories\",\"Paper\",\"Binders\",\"Accessories\",\"Art\",\"Envelopes\",\"Binders\",\"Appliances\",\"Chairs\",\"Appliances\",\"Storage\",\"Storage\",\"Art\",\"Art\",\"Accessories\",\"Chairs\",\"Envelopes\",\"Paper\",\"Paper\",\"Art\",\"Paper\",\"Binders\",\"Art\",\"Phones\",\"Paper\",\"Accessories\",\"Phones\",\"Paper\",\"Binders\",\"Phones\",\"Art\",\"Accessories\",\"Fasteners\",\"Furnishings\",\"Storage\",\"Binders\",\"Phones\",\"Binders\",\"Furnishings\",\"Art\",\"Paper\",\"Accessories\",\"Phones\",\"Furnishings\",\"Paper\",\"Paper\",\"Paper\",\"Art\",\"Envelopes\",\"Art\",\"Chairs\",\"Art\",\"Art\",\"Paper\",\"Phones\",\"Appliances\",\"Binders\",\"Machines\",\"Accessories\",\"Envelopes\",\"Appliances\",\"Fasteners\",\"Storage\",\"Binders\",\"Appliances\",\"Phones\",\"Binders\",\"Storage\",\"Tables\",\"Supplies\",\"Labels\",\"Binders\",\"Fasteners\",\"Furnishings\",\"Paper\",\"Binders\",\"Binders\",\"Accessories\",\"Paper\",\"Paper\",\"Phones\",\"Binders\",\"Envelopes\",\"Phones\",\"Chairs\",\"Storage\",\"Furnishings\",\"Labels\",\"Storage\",\"Storage\",\"Art\",\"Binders\",\"Binders\",\"Art\",\"Phones\",\"Paper\",\"Art\",\"Tables\",\"Furnishings\",\"Bookcases\",\"Phones\",\"Art\",\"Paper\",\"Binders\",\"Fasteners\",\"Storage\",\"Storage\",\"Art\",\"Accessories\",\"Chairs\",\"Chairs\",\"Phones\",\"Envelopes\",\"Chairs\",\"Art\",\"Phones\",\"Binders\",\"Phones\",\"Art\",\"Tables\",\"Phones\",\"Chairs\",\"Labels\",\"Accessories\",\"Envelopes\",\"Tables\",\"Appliances\",\"Binders\",\"Paper\",\"Tables\",\"Paper\",\"Phones\",\"Furnishings\",\"Storage\",\"Storage\",\"Labels\",\"Paper\",\"Appliances\",\"Paper\",\"Appliances\",\"Accessories\",\"Binders\",\"Phones\",\"Appliances\",\"Paper\",\"Binders\",\"Accessories\",\"Storage\",\"Storage\",\"Paper\",\"Chairs\",\"Bookcases\",\"Paper\",\"Paper\",\"Accessories\",\"Envelopes\",\"Labels\",\"Chairs\",\"Paper\",\"Paper\",\"Paper\",\"Appliances\",\"Labels\",\"Furnishings\",\"Tables\",\"Art\",\"Accessories\",\"Accessories\",\"Paper\",\"Supplies\",\"Furnishings\",\"Furnishings\",\"Furnishings\",\"Paper\",\"Art\",\"Accessories\",\"Furnishings\",\"Paper\",\"Binders\",\"Binders\",\"Binders\",\"Paper\",\"Appliances\",\"Binders\",\"Fasteners\",\"Accessories\",\"Furnishings\",\"Envelopes\",\"Chairs\",\"Paper\",\"Envelopes\",\"Binders\",\"Appliances\",\"Tables\",\"Art\",\"Storage\",\"Bookcases\",\"Furnishings\",\"Storage\",\"Machines\",\"Accessories\",\"Chairs\",\"Art\",\"Binders\",\"Storage\",\"Accessories\",\"Binders\",\"Phones\",\"Binders\",\"Binders\",\"Labels\",\"Accessories\",\"Phones\",\"Furnishings\",\"Tables\",\"Art\",\"Chairs\",\"Paper\",\"Envelopes\",\"Phones\",\"Paper\",\"Binders\",\"Appliances\",\"Storage\",\"Binders\",\"Chairs\",\"Storage\",\"Binders\",\"Supplies\",\"Art\",\"Binders\",\"Binders\",\"Fasteners\",\"Chairs\",\"Furnishings\",\"Storage\",\"Binders\",\"Phones\",\"Storage\",\"Binders\",\"Chairs\",\"Fasteners\",\"Appliances\",\"Furnishings\",\"Tables\",\"Phones\",\"Storage\",\"Binders\",\"Appliances\",\"Paper\",\"Paper\",\"Paper\",\"Bookcases\",\"Phones\",\"Chairs\",\"Phones\",\"Accessories\",\"Paper\",\"Binders\",\"Furnishings\",\"Binders\",\"Paper\",\"Phones\",\"Phones\",\"Binders\",\"Paper\",\"Appliances\",\"Furnishings\",\"Fasteners\",\"Art\",\"Binders\",\"Phones\",\"Labels\",\"Labels\",\"Storage\",\"Accessories\",\"Binders\",\"Accessories\",\"Binders\",\"Bookcases\",\"Binders\",\"Accessories\",\"Tables\",\"Furnishings\",\"Appliances\",\"Phones\",\"Accessories\",\"Supplies\",\"Phones\",\"Furnishings\",\"Furnishings\",\"Fasteners\",\"Storage\",\"Paper\",\"Chairs\",\"Paper\",\"Phones\",\"Binders\",\"Accessories\",\"Fasteners\",\"Furnishings\",\"Furnishings\",\"Art\",\"Phones\",\"Appliances\",\"Paper\",\"Appliances\",\"Envelopes\",\"Chairs\",\"Binders\",\"Furnishings\",\"Storage\",\"Accessories\",\"Storage\",\"Accessories\",\"Furnishings\",\"Paper\",\"Paper\",\"Binders\",\"Furnishings\",\"Labels\",\"Binders\",\"Appliances\",\"Bookcases\",\"Chairs\",\"Storage\",\"Accessories\",\"Accessories\",\"Furnishings\",\"Binders\",\"Appliances\",\"Binders\",\"Paper\",\"Appliances\",\"Binders\",\"Furnishings\",\"Appliances\",\"Art\",\"Binders\",\"Storage\",\"Bookcases\",\"Storage\",\"Binders\",\"Phones\",\"Furnishings\",\"Paper\",\"Binders\",\"Phones\",\"Phones\",\"Paper\",\"Storage\",\"Binders\",\"Accessories\",\"Furnishings\",\"Storage\",\"Furnishings\",\"Chairs\",\"Art\",\"Binders\",\"Binders\",\"Appliances\",\"Furnishings\",\"Binders\",\"Accessories\",\"Binders\",\"Labels\",\"Paper\",\"Appliances\",\"Binders\",\"Storage\",\"Furnishings\",\"Appliances\",\"Art\",\"Binders\",\"Appliances\",\"Storage\",\"Labels\",\"Art\",\"Furnishings\",\"Paper\",\"Paper\",\"Accessories\",\"Storage\",\"Paper\",\"Accessories\",\"Machines\",\"Labels\",\"Machines\",\"Storage\",\"Phones\",\"Bookcases\",\"Art\",\"Phones\",\"Chairs\",\"Envelopes\",\"Chairs\",\"Chairs\",\"Appliances\",\"Chairs\",\"Art\",\"Furnishings\",\"Storage\",\"Paper\",\"Chairs\",\"Furnishings\",\"Chairs\",\"Binders\",\"Envelopes\",\"Copiers\",\"Chairs\",\"Binders\",\"Accessories\",\"Storage\",\"Furnishings\",\"Accessories\",\"Paper\",\"Art\",\"Storage\",\"Furnishings\",\"Paper\",\"Labels\",\"Tables\",\"Furnishings\",\"Art\",\"Storage\",\"Paper\",\"Labels\",\"Storage\",\"Tables\",\"Phones\",\"Appliances\",\"Art\",\"Paper\",\"Labels\",\"Binders\",\"Bookcases\",\"Storage\",\"Paper\",\"Copiers\",\"Accessories\",\"Paper\",\"Tables\",\"Accessories\",\"Paper\",\"Accessories\",\"Chairs\",\"Appliances\",\"Phones\",\"Furnishings\",\"Binders\",\"Binders\",\"Bookcases\",\"Tables\",\"Tables\",\"Chairs\",\"Accessories\",\"Art\",\"Labels\",\"Binders\",\"Storage\",\"Paper\",\"Storage\",\"Accessories\",\"Copiers\",\"Tables\",\"Tables\",\"Phones\",\"Furnishings\",\"Furnishings\",\"Paper\",\"Envelopes\",\"Chairs\",\"Paper\",\"Paper\",\"Binders\",\"Paper\",\"Furnishings\",\"Binders\",\"Appliances\",\"Furnishings\",\"Paper\",\"Accessories\",\"Art\",\"Paper\",\"Binders\",\"Storage\",\"Storage\",\"Phones\",\"Furnishings\",\"Machines\",\"Chairs\",\"Tables\",\"Art\",\"Binders\",\"Storage\",\"Appliances\",\"Furnishings\",\"Storage\",\"Binders\",\"Paper\",\"Binders\",\"Binders\",\"Fasteners\",\"Furnishings\",\"Labels\",\"Binders\",\"Fasteners\",\"Storage\",\"Paper\",\"Paper\",\"Paper\",\"Paper\",\"Furnishings\",\"Storage\",\"Accessories\",\"Art\",\"Bookcases\",\"Storage\",\"Storage\",\"Supplies\",\"Tables\",\"Chairs\",\"Storage\",\"Paper\",\"Art\",\"Furnishings\",\"Binders\",\"Accessories\",\"Phones\",\"Furnishings\",\"Storage\",\"Appliances\",\"Art\",\"Phones\",\"Binders\",\"Furnishings\",\"Appliances\",\"Storage\",\"Copiers\",\"Paper\",\"Phones\",\"Storage\",\"Accessories\",\"Binders\",\"Paper\",\"Binders\",\"Storage\",\"Paper\",\"Binders\",\"Appliances\",\"Binders\",\"Phones\",\"Tables\",\"Supplies\",\"Phones\",\"Art\",\"Chairs\",\"Chairs\",\"Art\",\"Storage\",\"Paper\",\"Binders\",\"Binders\",\"Storage\",\"Storage\",\"Envelopes\",\"Chairs\",\"Machines\",\"Art\",\"Accessories\",\"Furnishings\",\"Paper\",\"Art\",\"Accessories\",\"Appliances\",\"Supplies\",\"Labels\",\"Binders\",\"Binders\",\"Phones\",\"Envelopes\",\"Accessories\",\"Furnishings\",\"Labels\",\"Art\",\"Envelopes\",\"Accessories\",\"Chairs\",\"Phones\",\"Tables\",\"Paper\",\"Binders\",\"Binders\",\"Art\",\"Storage\",\"Tables\",\"Furnishings\",\"Phones\",\"Chairs\",\"Fasteners\",\"Art\",\"Paper\",\"Art\",\"Art\",\"Storage\",\"Art\",\"Binders\",\"Appliances\",\"Paper\",\"Storage\",\"Phones\",\"Binders\",\"Binders\",\"Paper\",\"Paper\",\"Accessories\",\"Storage\",\"Chairs\",\"Paper\",\"Binders\",\"Binders\",\"Art\",\"Paper\",\"Accessories\",\"Chairs\",\"Paper\",\"Appliances\",\"Storage\",\"Labels\",\"Furnishings\",\"Chairs\",\"Furnishings\",\"Furnishings\",\"Phones\",\"Furnishings\",\"Paper\",\"Furnishings\",\"Binders\",\"Tables\",\"Binders\",\"Fasteners\",\"Furnishings\",\"Storage\",\"Phones\",\"Accessories\",\"Art\",\"Appliances\",\"Tables\",\"Storage\",\"Phones\",\"Phones\",\"Supplies\",\"Paper\",\"Binders\",\"Tables\",\"Bookcases\",\"Binders\",\"Furnishings\",\"Storage\",\"Appliances\",\"Binders\",\"Appliances\",\"Storage\",\"Paper\",\"Envelopes\",\"Paper\",\"Phones\",\"Chairs\",\"Accessories\",\"Paper\",\"Binders\",\"Storage\",\"Storage\",\"Appliances\",\"Fasteners\",\"Paper\",\"Furnishings\",\"Phones\",\"Furnishings\",\"Appliances\",\"Tables\",\"Paper\",\"Binders\",\"Chairs\",\"Storage\",\"Binders\",\"Chairs\",\"Paper\",\"Paper\",\"Furnishings\",\"Accessories\",\"Furnishings\",\"Art\",\"Art\",\"Binders\",\"Tables\",\"Art\",\"Tables\",\"Paper\",\"Accessories\",\"Paper\",\"Binders\",\"Storage\",\"Tables\",\"Storage\",\"Accessories\",\"Accessories\",\"Fasteners\",\"Furnishings\",\"Bookcases\",\"Binders\",\"Supplies\",\"Supplies\",\"Accessories\",\"Furnishings\",\"Storage\",\"Furnishings\",\"Fasteners\",\"Paper\",\"Furnishings\",\"Binders\",\"Binders\",\"Accessories\",\"Binders\",\"Phones\",\"Paper\",\"Paper\",\"Phones\",\"Binders\",\"Phones\",\"Tables\",\"Furnishings\",\"Furnishings\",\"Tables\",\"Paper\",\"Appliances\",\"Phones\",\"Chairs\",\"Storage\",\"Furnishings\",\"Phones\",\"Chairs\",\"Binders\",\"Binders\",\"Binders\",\"Binders\",\"Storage\",\"Labels\",\"Phones\",\"Accessories\",\"Storage\",\"Appliances\",\"Binders\",\"Tables\",\"Bookcases\",\"Accessories\",\"Furnishings\",\"Labels\",\"Storage\",\"Binders\",\"Paper\",\"Paper\",\"Machines\",\"Art\",\"Paper\",\"Phones\",\"Art\",\"Labels\",\"Binders\",\"Furnishings\",\"Paper\",\"Paper\",\"Paper\",\"Machines\",\"Binders\",\"Furnishings\",\"Fasteners\",\"Paper\",\"Copiers\",\"Binders\",\"Accessories\",\"Art\",\"Accessories\",\"Supplies\",\"Binders\",\"Paper\",\"Phones\",\"Chairs\",\"Paper\",\"Chairs\",\"Binders\",\"Accessories\",\"Envelopes\",\"Accessories\",\"Phones\",\"Binders\",\"Binders\",\"Furnishings\",\"Paper\",\"Art\",\"Art\",\"Art\",\"Furnishings\",\"Furnishings\",\"Chairs\",\"Chairs\",\"Furnishings\",\"Phones\",\"Paper\",\"Phones\",\"Furnishings\",\"Binders\",\"Accessories\",\"Storage\",\"Chairs\",\"Paper\",\"Paper\",\"Storage\",\"Chairs\",\"Labels\",\"Accessories\",\"Binders\",\"Paper\",\"Art\",\"Copiers\",\"Binders\",\"Storage\",\"Chairs\",\"Accessories\",\"Furnishings\",\"Furnishings\",\"Binders\",\"Accessories\",\"Labels\",\"Furnishings\",\"Labels\",\"Fasteners\",\"Copiers\",\"Accessories\",\"Tables\",\"Accessories\",\"Storage\",\"Phones\",\"Labels\",\"Phones\",\"Phones\",\"Furnishings\",\"Chairs\",\"Binders\",\"Furnishings\",\"Phones\",\"Paper\",\"Paper\",\"Binders\",\"Binders\",\"Copiers\",\"Paper\",\"Machines\",\"Paper\",\"Fasteners\",\"Appliances\",\"Furnishings\",\"Tables\",\"Storage\",\"Labels\",\"Furnishings\",\"Paper\",\"Accessories\",\"Storage\",\"Binders\",\"Binders\",\"Accessories\",\"Appliances\",\"Storage\",\"Art\",\"Envelopes\",\"Envelopes\",\"Furnishings\",\"Accessories\",\"Phones\",\"Binders\",\"Paper\",\"Binders\",\"Binders\",\"Paper\",\"Appliances\",\"Binders\",\"Phones\",\"Accessories\",\"Accessories\",\"Phones\",\"Accessories\",\"Furnishings\",\"Appliances\",\"Bookcases\",\"Furnishings\",\"Accessories\",\"Art\",\"Accessories\",\"Labels\",\"Binders\",\"Paper\",\"Binders\",\"Tables\",\"Storage\",\"Furnishings\",\"Appliances\",\"Storage\",\"Binders\",\"Accessories\",\"Paper\",\"Storage\",\"Accessories\",\"Binders\",\"Tables\",\"Fasteners\",\"Bookcases\",\"Binders\",\"Appliances\",\"Bookcases\",\"Art\",\"Storage\",\"Furnishings\",\"Accessories\",\"Binders\",\"Binders\",\"Binders\",\"Fasteners\",\"Labels\",\"Binders\",\"Furnishings\",\"Chairs\",\"Chairs\",\"Storage\",\"Binders\",\"Fasteners\",\"Furnishings\",\"Supplies\",\"Accessories\",\"Accessories\",\"Accessories\",\"Paper\",\"Appliances\",\"Binders\",\"Paper\",\"Bookcases\",\"Furnishings\",\"Phones\",\"Paper\",\"Furnishings\",\"Supplies\",\"Art\",\"Binders\",\"Machines\",\"Paper\",\"Furnishings\",\"Storage\",\"Fasteners\",\"Chairs\",\"Storage\",\"Art\",\"Furnishings\",\"Tables\",\"Binders\",\"Accessories\",\"Appliances\",\"Supplies\",\"Accessories\",\"Art\",\"Accessories\",\"Storage\",\"Supplies\",\"Fasteners\",\"Paper\",\"Art\",\"Phones\",\"Phones\",\"Accessories\",\"Accessories\",\"Paper\",\"Tables\",\"Phones\",\"Furnishings\",\"Tables\",\"Phones\",\"Appliances\",\"Storage\",\"Paper\",\"Appliances\",\"Phones\",\"Fasteners\",\"Chairs\",\"Art\",\"Phones\",\"Bookcases\",\"Storage\",\"Tables\",\"Bookcases\",\"Phones\",\"Binders\",\"Binders\",\"Appliances\",\"Furnishings\",\"Art\",\"Paper\",\"Chairs\",\"Storage\",\"Binders\",\"Paper\",\"Paper\",\"Art\",\"Accessories\",\"Furnishings\",\"Bookcases\",\"Storage\",\"Accessories\",\"Supplies\",\"Paper\",\"Furnishings\",\"Accessories\",\"Storage\",\"Storage\",\"Binders\",\"Art\",\"Phones\",\"Art\",\"Binders\",\"Furnishings\",\"Accessories\",\"Art\",\"Paper\",\"Furnishings\",\"Binders\",\"Machines\",\"Binders\",\"Phones\",\"Paper\",\"Phones\",\"Labels\",\"Binders\",\"Binders\",\"Appliances\",\"Paper\",\"Furnishings\",\"Binders\",\"Binders\",\"Envelopes\",\"Storage\",\"Supplies\",\"Art\",\"Binders\",\"Appliances\",\"Binders\",\"Accessories\",\"Phones\",\"Chairs\",\"Appliances\",\"Paper\",\"Appliances\",\"Binders\",\"Art\",\"Chairs\",\"Paper\",\"Bookcases\",\"Storage\",\"Art\",\"Bookcases\",\"Binders\",\"Tables\",\"Labels\",\"Phones\",\"Paper\",\"Accessories\",\"Chairs\",\"Bookcases\",\"Binders\",\"Phones\",\"Labels\",\"Fasteners\",\"Phones\",\"Phones\",\"Paper\",\"Art\",\"Phones\",\"Copiers\",\"Paper\",\"Phones\",\"Bookcases\",\"Accessories\",\"Labels\",\"Binders\",\"Furnishings\",\"Binders\",\"Phones\",\"Labels\",\"Paper\",\"Appliances\",\"Art\",\"Chairs\",\"Phones\",\"Paper\",\"Art\",\"Envelopes\",\"Paper\",\"Paper\",\"Copiers\",\"Binders\",\"Art\",\"Paper\",\"Envelopes\",\"Labels\",\"Paper\",\"Paper\",\"Paper\",\"Storage\",\"Binders\",\"Furnishings\",\"Binders\",\"Storage\",\"Phones\",\"Art\",\"Art\",\"Labels\",\"Art\",\"Binders\",\"Accessories\",\"Accessories\",\"Accessories\",\"Storage\",\"Binders\",\"Fasteners\",\"Paper\",\"Appliances\",\"Phones\",\"Furnishings\",\"Binders\",\"Paper\",\"Paper\",\"Supplies\",\"Accessories\",\"Binders\",\"Accessories\",\"Phones\",\"Binders\",\"Phones\",\"Labels\",\"Furnishings\",\"Binders\",\"Appliances\",\"Paper\",\"Appliances\",\"Bookcases\",\"Phones\",\"Machines\",\"Binders\",\"Furnishings\",\"Storage\",\"Machines\",\"Binders\",\"Binders\",\"Supplies\",\"Appliances\",\"Machines\",\"Storage\",\"Paper\",\"Accessories\",\"Accessories\",\"Phones\",\"Paper\",\"Binders\",\"Binders\",\"Binders\",\"Storage\",\"Furnishings\",\"Phones\",\"Appliances\",\"Chairs\",\"Chairs\",\"Tables\",\"Furnishings\",\"Storage\",\"Phones\",\"Paper\",\"Phones\",\"Labels\",\"Furnishings\",\"Paper\",\"Chairs\",\"Paper\",\"Labels\",\"Accessories\",\"Paper\",\"Phones\",\"Paper\",\"Labels\",\"Accessories\",\"Phones\",\"Binders\",\"Labels\",\"Storage\",\"Binders\",\"Appliances\",\"Paper\",\"Binders\",\"Furnishings\",\"Accessories\",\"Phones\",\"Furnishings\",\"Binders\",\"Phones\",\"Binders\",\"Tables\",\"Art\",\"Tables\",\"Tables\",\"Phones\",\"Furnishings\",\"Accessories\",\"Furnishings\",\"Paper\",\"Accessories\",\"Art\",\"Phones\",\"Art\",\"Binders\",\"Supplies\",\"Binders\",\"Machines\",\"Chairs\",\"Paper\",\"Supplies\",\"Paper\",\"Binders\",\"Appliances\",\"Tables\",\"Accessories\",\"Storage\",\"Art\",\"Appliances\",\"Bookcases\",\"Paper\",\"Furnishings\",\"Machines\",\"Phones\",\"Appliances\",\"Chairs\",\"Art\",\"Furnishings\",\"Accessories\",\"Furnishings\",\"Binders\",\"Accessories\",\"Chairs\",\"Storage\",\"Art\",\"Phones\",\"Chairs\",\"Accessories\",\"Bookcases\",\"Paper\",\"Paper\",\"Tables\",\"Binders\",\"Binders\",\"Binders\",\"Binders\",\"Appliances\",\"Binders\",\"Furnishings\",\"Tables\",\"Furnishings\",\"Binders\",\"Phones\",\"Art\",\"Furnishings\",\"Copiers\",\"Accessories\",\"Accessories\",\"Tables\",\"Paper\",\"Appliances\",\"Phones\",\"Paper\",\"Paper\",\"Chairs\",\"Binders\",\"Accessories\",\"Paper\",\"Accessories\",\"Art\",\"Storage\",\"Storage\",\"Labels\",\"Furnishings\",\"Paper\",\"Binders\",\"Accessories\",\"Furnishings\",\"Art\",\"Envelopes\",\"Binders\",\"Binders\",\"Paper\",\"Binders\",\"Accessories\",\"Furnishings\",\"Binders\",\"Furnishings\",\"Chairs\",\"Accessories\",\"Accessories\",\"Furnishings\",\"Furnishings\",\"Furnishings\",\"Binders\",\"Appliances\",\"Tables\",\"Chairs\",\"Binders\",\"Binders\",\"Accessories\",\"Paper\",\"Storage\",\"Phones\",\"Binders\",\"Tables\",\"Furnishings\",\"Appliances\",\"Accessories\",\"Binders\",\"Accessories\",\"Accessories\",\"Art\",\"Labels\",\"Art\",\"Paper\",\"Art\",\"Binders\",\"Phones\",\"Supplies\",\"Accessories\",\"Chairs\",\"Furnishings\",\"Tables\",\"Tables\",\"Binders\",\"Labels\",\"Fasteners\",\"Paper\",\"Binders\",\"Paper\",\"Accessories\",\"Phones\",\"Chairs\",\"Envelopes\",\"Furnishings\",\"Storage\",\"Envelopes\",\"Accessories\",\"Storage\",\"Binders\",\"Supplies\",\"Accessories\",\"Furnishings\",\"Binders\",\"Phones\",\"Paper\",\"Art\",\"Storage\",\"Paper\",\"Binders\",\"Appliances\",\"Chairs\",\"Phones\",\"Storage\",\"Storage\",\"Paper\",\"Bookcases\",\"Phones\",\"Binders\",\"Phones\",\"Labels\",\"Paper\",\"Phones\",\"Paper\",\"Accessories\",\"Art\",\"Storage\",\"Furnishings\",\"Binders\",\"Storage\",\"Machines\",\"Supplies\",\"Paper\",\"Accessories\",\"Envelopes\",\"Accessories\",\"Storage\",\"Binders\",\"Phones\",\"Phones\",\"Furnishings\",\"Chairs\",\"Paper\",\"Labels\",\"Paper\",\"Appliances\",\"Paper\",\"Binders\",\"Furnishings\",\"Furnishings\",\"Art\",\"Storage\",\"Binders\",\"Bookcases\",\"Art\",\"Furnishings\",\"Appliances\",\"Phones\",\"Storage\",\"Storage\",\"Paper\",\"Binders\",\"Phones\",\"Accessories\",\"Accessories\",\"Phones\",\"Binders\",\"Phones\",\"Appliances\",\"Binders\",\"Accessories\",\"Art\",\"Storage\",\"Binders\",\"Appliances\",\"Art\",\"Accessories\",\"Art\",\"Furnishings\",\"Paper\",\"Appliances\",\"Paper\",\"Accessories\",\"Binders\",\"Binders\",\"Bookcases\",\"Chairs\",\"Accessories\",\"Appliances\",\"Machines\",\"Paper\",\"Appliances\",\"Paper\",\"Paper\",\"Furnishings\",\"Paper\",\"Storage\",\"Envelopes\",\"Phones\",\"Paper\",\"Binders\",\"Phones\",\"Art\",\"Phones\",\"Binders\",\"Binders\",\"Accessories\",\"Paper\",\"Furnishings\",\"Chairs\",\"Appliances\",\"Supplies\",\"Accessories\",\"Storage\",\"Binders\",\"Paper\",\"Binders\",\"Phones\",\"Supplies\",\"Accessories\",\"Paper\",\"Phones\",\"Supplies\",\"Chairs\",\"Bookcases\",\"Binders\",\"Binders\",\"Art\",\"Art\",\"Art\",\"Paper\",\"Accessories\",\"Storage\",\"Envelopes\",\"Binders\",\"Paper\",\"Furnishings\",\"Furnishings\",\"Labels\",\"Paper\",\"Appliances\",\"Envelopes\",\"Storage\",\"Bookcases\",\"Labels\",\"Tables\",\"Paper\",\"Binders\",\"Binders\",\"Binders\",\"Storage\",\"Appliances\",\"Art\",\"Binders\",\"Paper\",\"Binders\",\"Furnishings\",\"Storage\",\"Phones\",\"Art\",\"Tables\",\"Binders\",\"Furnishings\",\"Paper\",\"Binders\",\"Art\",\"Binders\",\"Bookcases\",\"Art\",\"Paper\",\"Art\",\"Art\",\"Binders\",\"Phones\",\"Binders\",\"Binders\",\"Accessories\",\"Paper\",\"Chairs\",\"Labels\",\"Binders\",\"Furnishings\",\"Binders\",\"Storage\",\"Supplies\",\"Chairs\",\"Chairs\",\"Appliances\",\"Binders\",\"Envelopes\",\"Furnishings\",\"Chairs\",\"Paper\",\"Binders\",\"Binders\",\"Furnishings\",\"Phones\",\"Binders\",\"Art\",\"Storage\",\"Accessories\",\"Labels\",\"Binders\",\"Chairs\",\"Bookcases\",\"Appliances\",\"Paper\",\"Labels\",\"Chairs\",\"Furnishings\",\"Binders\",\"Tables\",\"Chairs\",\"Paper\",\"Art\",\"Binders\",\"Binders\",\"Binders\",\"Paper\",\"Bookcases\",\"Accessories\",\"Phones\",\"Art\",\"Binders\",\"Chairs\",\"Phones\",\"Art\",\"Paper\",\"Binders\",\"Art\",\"Art\",\"Art\",\"Accessories\",\"Art\",\"Binders\",\"Labels\",\"Art\",\"Storage\",\"Appliances\",\"Phones\",\"Supplies\",\"Accessories\",\"Paper\",\"Chairs\",\"Furnishings\",\"Furnishings\",\"Furnishings\",\"Paper\",\"Chairs\",\"Binders\",\"Furnishings\",\"Phones\",\"Art\",\"Appliances\",\"Envelopes\",\"Phones\",\"Appliances\",\"Fasteners\",\"Bookcases\",\"Labels\",\"Fasteners\",\"Binders\",\"Binders\",\"Paper\",\"Labels\",\"Phones\",\"Binders\",\"Tables\",\"Binders\",\"Phones\",\"Furnishings\",\"Chairs\",\"Furnishings\",\"Furnishings\",\"Binders\",\"Chairs\",\"Chairs\",\"Paper\",\"Paper\",\"Art\",\"Paper\",\"Binders\",\"Tables\",\"Furnishings\",\"Storage\",\"Binders\",\"Fasteners\",\"Furnishings\",\"Storage\",\"Paper\",\"Binders\",\"Storage\",\"Paper\",\"Chairs\",\"Furnishings\",\"Chairs\",\"Fasteners\",\"Phones\",\"Supplies\",\"Accessories\",\"Accessories\",\"Storage\",\"Envelopes\",\"Paper\",\"Chairs\",\"Storage\",\"Art\",\"Storage\",\"Paper\",\"Furnishings\",\"Paper\",\"Paper\",\"Appliances\",\"Envelopes\",\"Storage\",\"Phones\",\"Chairs\",\"Phones\",\"Chairs\",\"Bookcases\",\"Labels\",\"Appliances\",\"Phones\",\"Art\",\"Envelopes\",\"Furnishings\",\"Tables\",\"Storage\",\"Fasteners\",\"Machines\",\"Paper\",\"Accessories\",\"Furnishings\",\"Binders\",\"Furnishings\",\"Storage\",\"Chairs\",\"Binders\",\"Phones\",\"Paper\",\"Furnishings\",\"Paper\",\"Paper\",\"Appliances\",\"Appliances\",\"Phones\",\"Supplies\",\"Phones\",\"Accessories\",\"Chairs\",\"Art\",\"Furnishings\",\"Chairs\",\"Phones\",\"Tables\",\"Labels\",\"Accessories\",\"Paper\",\"Art\",\"Accessories\",\"Binders\",\"Paper\",\"Phones\",\"Supplies\",\"Paper\",\"Appliances\",\"Art\",\"Phones\",\"Phones\",\"Labels\",\"Paper\",\"Furnishings\",\"Labels\",\"Binders\",\"Storage\",\"Appliances\",\"Binders\",\"Supplies\",\"Phones\",\"Machines\",\"Accessories\",\"Binders\",\"Art\",\"Phones\",\"Paper\",\"Phones\",\"Chairs\",\"Art\",\"Labels\",\"Furnishings\",\"Binders\",\"Tables\",\"Paper\",\"Paper\",\"Phones\",\"Binders\",\"Chairs\",\"Furnishings\",\"Labels\",\"Paper\",\"Furnishings\",\"Binders\",\"Fasteners\",\"Binders\",\"Binders\",\"Storage\",\"Accessories\",\"Art\",\"Bookcases\",\"Paper\",\"Tables\",\"Fasteners\",\"Phones\",\"Art\",\"Binders\",\"Art\",\"Binders\",\"Tables\",\"Binders\",\"Accessories\",\"Appliances\",\"Paper\",\"Paper\",\"Paper\",\"Furnishings\",\"Furnishings\",\"Art\",\"Art\",\"Phones\",\"Paper\",\"Art\",\"Binders\",\"Art\",\"Storage\",\"Art\",\"Binders\",\"Bookcases\",\"Accessories\",\"Paper\",\"Art\",\"Phones\",\"Labels\",\"Storage\",\"Appliances\",\"Storage\",\"Phones\",\"Paper\",\"Storage\",\"Binders\",\"Furnishings\",\"Phones\",\"Binders\",\"Binders\",\"Storage\",\"Paper\",\"Storage\",\"Chairs\",\"Fasteners\",\"Storage\",\"Binders\",\"Furnishings\",\"Bookcases\",\"Paper\",\"Paper\",\"Chairs\",\"Labels\",\"Binders\",\"Paper\",\"Bookcases\",\"Accessories\",\"Paper\",\"Paper\",\"Binders\",\"Appliances\",\"Binders\",\"Storage\",\"Accessories\",\"Furnishings\",\"Furnishings\",\"Fasteners\",\"Paper\",\"Furnishings\",\"Accessories\",\"Storage\",\"Furnishings\",\"Accessories\",\"Machines\",\"Labels\",\"Paper\",\"Chairs\",\"Binders\",\"Art\",\"Phones\",\"Binders\",\"Storage\",\"Envelopes\",\"Labels\",\"Art\",\"Furnishings\",\"Chairs\",\"Machines\",\"Chairs\",\"Phones\",\"Storage\",\"Art\",\"Chairs\",\"Fasteners\",\"Bookcases\",\"Storage\",\"Paper\",\"Binders\",\"Storage\",\"Art\",\"Paper\",\"Binders\",\"Furnishings\",\"Furnishings\",\"Paper\",\"Paper\",\"Appliances\",\"Binders\",\"Phones\",\"Furnishings\",\"Appliances\",\"Paper\",\"Paper\",\"Supplies\",\"Tables\",\"Appliances\",\"Accessories\",\"Storage\",\"Paper\",\"Labels\",\"Furnishings\",\"Labels\",\"Fasteners\",\"Phones\",\"Appliances\",\"Accessories\",\"Binders\",\"Art\",\"Copiers\",\"Art\",\"Accessories\",\"Appliances\",\"Accessories\",\"Paper\",\"Appliances\",\"Tables\",\"Bookcases\",\"Paper\",\"Binders\",\"Paper\",\"Binders\",\"Binders\",\"Phones\",\"Appliances\",\"Accessories\",\"Storage\",\"Chairs\",\"Furnishings\",\"Tables\",\"Paper\",\"Tables\",\"Art\",\"Storage\",\"Chairs\",\"Chairs\",\"Accessories\",\"Storage\",\"Binders\",\"Storage\",\"Phones\",\"Bookcases\",\"Art\",\"Appliances\",\"Furnishings\",\"Accessories\",\"Binders\",\"Furnishings\",\"Binders\",\"Art\",\"Chairs\",\"Labels\",\"Phones\",\"Accessories\",\"Phones\",\"Storage\",\"Paper\",\"Furnishings\",\"Furnishings\",\"Binders\",\"Envelopes\",\"Labels\",\"Art\",\"Phones\",\"Paper\",\"Phones\",\"Storage\",\"Furnishings\",\"Envelopes\",\"Art\",\"Supplies\",\"Storage\",\"Phones\",\"Labels\",\"Paper\",\"Furnishings\",\"Paper\",\"Accessories\",\"Art\",\"Binders\",\"Paper\",\"Phones\",\"Art\",\"Bookcases\",\"Storage\",\"Paper\",\"Supplies\",\"Appliances\",\"Labels\",\"Furnishings\",\"Paper\",\"Appliances\",\"Phones\",\"Fasteners\",\"Paper\",\"Binders\",\"Binders\",\"Binders\",\"Chairs\",\"Art\",\"Furnishings\",\"Storage\",\"Furnishings\",\"Binders\",\"Storage\",\"Accessories\",\"Accessories\",\"Binders\",\"Art\",\"Phones\",\"Accessories\",\"Storage\",\"Furnishings\",\"Chairs\",\"Accessories\",\"Binders\",\"Envelopes\",\"Accessories\",\"Appliances\",\"Phones\",\"Supplies\",\"Binders\",\"Storage\",\"Art\",\"Chairs\",\"Paper\",\"Binders\",\"Paper\",\"Phones\",\"Storage\",\"Binders\",\"Binders\",\"Appliances\",\"Bookcases\",\"Labels\",\"Labels\",\"Envelopes\",\"Tables\",\"Tables\",\"Furnishings\",\"Chairs\",\"Accessories\",\"Art\",\"Art\",\"Binders\",\"Labels\",\"Binders\",\"Storage\",\"Tables\",\"Phones\",\"Paper\",\"Chairs\",\"Art\",\"Accessories\",\"Appliances\",\"Supplies\",\"Phones\",\"Binders\",\"Paper\",\"Binders\",\"Paper\",\"Bookcases\",\"Paper\",\"Appliances\",\"Paper\",\"Phones\",\"Binders\",\"Furnishings\",\"Binders\",\"Accessories\",\"Binders\",\"Appliances\",\"Phones\",\"Binders\",\"Paper\",\"Storage\",\"Furnishings\",\"Binders\",\"Chairs\",\"Bookcases\",\"Chairs\",\"Accessories\",\"Chairs\",\"Envelopes\",\"Chairs\",\"Paper\",\"Binders\",\"Binders\",\"Art\",\"Phones\",\"Phones\",\"Accessories\"],\"legendgroup\":\"\",\"name\":\"\",\"showlegend\":true,\"values\":[1.0,1.0,1.0,1.0,1.0,1.0,1.0,1.0,1.0,1.0,1.0,1.0,1.0,1.0,1.0,1.0,1.0,1.0,1.0,1.0,1.0,1.0,1.0,1.0,1.0,1.0,1.0,1.0,1.0,1.0,1.0,1.0,1.0,1.0,1.0,1.0,1.0,1.0,1.0,1.0,1.0,1.0,1.0,1.0,1.0,1.0,1.0,1.0,1.0,1.0,1.0,1.0,1.0,1.0,1.0,1.0,1.0,1.0,1.0,1.0,1.0,1.0,1.0,1.0,1.0,1.0,1.0,1.0,1.0,1.0,1.0,1.0,1.0,1.0,1.0,1.0,1.0,1.0,1.0,1.0,1.0,1.0,1.0,1.0,1.0,1.0,1.0,1.0,1.0,1.0,1.0,1.0,1.0,1.0,1.0,1.0,1.0,1.0,1.0,1.0,1.0,1.0,1.0,1.0,1.0,1.0,1.0,1.0,1.0,1.0,1.0,1.0,1.0,1.0,1.0,1.0,1.0,1.0,1.0,1.0,1.0,1.0,1.0,1.0,1.0,1.0,1.0,1.0,1.0,1.0,1.0,1.0,1.0,1.0,1.0,1.0,1.0,1.0,1.0,1.0,1.0,1.0,1.0,1.0,1.0,1.0,1.0,1.0,1.0,1.0,1.0,1.0,1.0,1.0,1.0,1.0,1.0,1.0,1.0,1.0,1.0,1.0,1.0,1.0,1.0,1.0,1.0,1.0,1.0,1.0,1.0,1.0,1.0,1.0,1.0,1.0,1.0,1.0,1.0,1.0,1.0,1.0,1.0,1.0,1.0,1.0,1.0,1.0,1.0,1.0,1.0,1.0,1.0,1.0,1.0,1.0,1.0,1.0,1.0,1.0,1.0,1.0,1.0,1.0,1.0,1.0,1.0,1.0,1.0,1.0,1.0,1.0,1.0,1.0,1.0,1.0,1.0,1.0,1.0,1.0,1.0,1.0,1.0,1.0,1.0,1.0,1.0,1.0,1.0,1.0,1.0,1.0,1.0,1.0,1.0,1.0,1.0,1.0,1.0,1.0,1.0,1.0,1.0,1.0,1.0,1.0,1.0,1.0,1.0,1.0,1.0,1.0,1.0,1.0,1.0,1.0,1.0,1.0,1.0,1.0,1.0,1.0,1.0,1.0,1.0,1.0,1.0,1.0,1.0,1.0,1.0,1.0,1.0,1.0,1.0,1.0,1.0,1.0,1.0,1.0,1.0,1.0,1.0,1.0,1.0,1.0,1.0,1.0,1.0,1.0,1.0,1.0,1.0,1.0,1.0,1.0,1.0,1.0,1.0,1.0,1.0,1.0,1.0,1.0,1.0,1.0,1.0,1.0,1.0,1.0,1.0,1.0,1.0,1.0,1.0,1.0,1.0,1.0,1.0,1.0,1.0,1.0,1.0,1.0,1.0,1.0,1.0,1.0,1.0,1.0,1.0,1.0,1.0,1.0,1.0,1.0,1.0,1.0,1.0,1.0,1.0,1.0,1.0,1.0,1.0,1.0,1.0,1.0,1.0,1.0,1.0,1.0,1.0,1.0,1.0,1.0,1.0,1.0,1.0,1.0,1.0,1.0,1.0,1.0,1.0,1.0,1.0,1.0,1.0,1.0,1.0,1.0,1.0,1.0,1.0,1.0,1.0,1.0,1.0,1.0,1.0,1.0,1.0,1.0,1.0,1.0,1.0,1.0,1.0,1.0,1.0,1.0,1.0,1.0,1.0,1.0,1.0,1.0,1.0,1.0,1.0,1.0,1.0,1.0,1.0,1.0,1.0,1.0,1.0,1.0,1.0,1.0,1.0,1.0,1.0,1.0,1.0,1.0,1.0,1.0,1.0,1.0,1.0,1.0,1.0,1.0,1.0,1.0,1.0,1.0,1.0,1.0,1.0,1.0,1.0,1.0,1.0,1.0,1.0,1.0,1.0,1.0,1.0,1.0,1.0,1.0,1.0,1.0,1.0,1.0,1.0,1.0,1.0,1.0,1.0,1.0,1.0,1.0,1.0,1.0,1.0,1.0,1.0,1.0,1.0,1.0,1.0,1.0,1.0,1.0,1.0,1.0,1.0,1.0,1.0,1.0,1.0,1.0,1.0,1.0,1.0,1.0,1.0,1.0,1.0,1.0,1.0,1.0,1.0,1.0,1.0,1.0,1.0,1.0,1.0,1.0,1.0,1.0,1.0,1.0,1.0,1.0,1.0,1.0,1.0,1.0,1.0,1.0,1.0,1.0,1.0,1.0,1.0,1.0,1.0,1.0,1.0,1.0,1.0,1.0,1.0,1.0,1.0,1.0,1.0,1.0,1.0,1.0,1.0,1.0,1.0,1.0,1.0,1.0,1.0,1.0,1.0,1.0,1.0,1.0,1.0,1.0,1.0,1.0,1.0,1.0,1.0,1.0,1.0,1.0,1.0,1.0,1.0,1.0,1.0,1.0,1.0,1.0,1.0,1.0,1.0,1.0,1.0,1.0,1.0,1.0,1.0,1.0,1.0,1.0,1.0,1.0,1.0,1.0,1.0,1.0,1.0,1.0,1.0,1.0,1.0,1.0,1.0,1.0,1.0,1.0,1.0,1.0,1.0,1.0,1.0,1.0,1.0,1.0,1.0,1.0,1.0,1.0,1.0,1.0,1.0,1.0,1.0,1.0,1.0,1.0,1.0,1.0,1.0,1.0,1.0,1.0,1.0,1.0,1.0,1.0,1.0,1.0,1.0,1.0,1.0,1.0,1.0,1.0,1.0,1.0,1.0,1.0,1.0,1.0,1.0,1.0,1.0,1.0,1.0,1.0,1.0,1.0,1.0,1.0,1.0,1.0,1.0,1.0,1.0,1.0,1.0,1.0,1.0,1.0,1.0,1.0,1.0,1.0,1.0,1.0,1.0,1.0,1.0,1.0,1.0,1.0,1.0,1.0,1.0,1.0,1.0,1.0,1.0,1.0,1.0,1.0,1.0,1.0,1.0,1.0,1.0,1.0,1.0,1.0,1.0,1.0,1.0,1.0,1.0,1.0,1.0,1.0,1.0,1.0,1.0,1.0,1.0,1.0,1.0,1.0,1.0,1.0,1.0,1.0,1.0,1.0,1.0,1.0,1.0,1.0,1.0,1.0,1.0,1.0,1.0,1.0,1.0,1.0,1.0,1.0,1.0,1.0,1.0,1.0,1.0,1.0,1.0,1.0,1.0,1.0,1.0,1.0,1.0,1.0,1.0,1.0,1.0,1.0,1.0,1.0,1.0,1.0,1.0,1.0,1.0,1.0,1.0,1.0,1.0,1.0,1.0,1.0,1.0,1.0,1.0,1.0,1.0,1.0,1.0,1.0,1.0,1.0,1.0,1.0,1.0,1.0,1.0,1.0,1.0,1.0,1.0,1.0,1.0,1.0,1.0,1.0,1.0,1.0,1.0,1.0,1.0,1.0,1.0,1.0,1.0,1.0,1.0,1.0,1.0,1.0,1.0,1.0,1.0,1.0,1.0,1.0,1.0,1.0,1.0,1.0,1.0,1.0,1.0,1.0,1.0,1.0,1.0,1.0,1.0,1.0,1.0,1.0,1.0,1.0,1.0,1.0,1.0,1.0,1.0,1.0,1.0,1.0,1.0,1.0,1.0,1.0,1.0,1.0,1.0,1.0,1.0,1.0,1.0,1.0,1.0,1.0,1.0,1.0,1.0,1.0,1.0,1.0,1.0,1.0,1.0,1.0,1.0,1.0,1.0,1.0,1.0,1.0,1.0,1.0,1.0,1.0,1.0,1.0,1.0,1.0,1.0,1.0,1.0,1.0,1.0,1.0,1.0,1.0,1.0,1.0,1.0,1.0,1.0,1.0,1.0,1.0,1.0,1.0,1.0,1.0,1.0,1.0,1.0,1.0,1.0,1.0,1.0,1.0,1.0,1.0,1.0,1.0,1.0,1.0,1.0,1.0,1.0,1.0,1.0,1.0,1.0,1.0,1.0,1.0,1.0,1.0,1.0,1.0,1.0,1.0,1.0,1.0,1.0,1.0,1.0,1.0,1.0,1.0,1.0,1.0,1.0,1.0,1.0,1.0,1.0,1.0,1.0,1.0,1.0,1.0,1.0,1.0,1.0,1.0,1.0,1.0,1.0,1.0,1.0,1.0,1.0,1.0,1.0,1.0,1.0,1.0,1.0,1.0,1.0,1.0,1.0,1.0,1.0,1.0,1.0,1.0,1.0,1.0,1.0,1.0,1.0,1.0,1.0,1.0,1.0,1.0,1.0,1.0,1.0,1.0,1.0,1.0,1.0,1.0,1.0,1.0,1.0,1.0,1.0,1.0,1.0,1.0,1.0,1.0,1.0,1.0,1.0,1.0,1.0,1.0,1.0,1.0,1.0,1.0,1.0,1.0,1.0,1.0,1.0,1.0,1.0,1.0,1.0,1.0,1.0,1.0,1.0,1.0,1.0,1.0,1.0,1.0,1.0,1.0,1.0,1.0,1.0,1.0,1.0,1.0,1.0,1.0,1.0,1.0,1.0,1.0,1.0,1.0,1.0,1.0,1.0,1.0,1.0,1.0,1.0,1.0,1.0,1.0,1.0,1.0,1.0,1.0,1.0,1.0,1.0,1.0,1.0,1.0,1.0,1.0,1.0,1.0,1.0,1.0,1.0,1.0,1.0,1.0,1.0,1.0,1.0,1.0,1.0,1.0,1.0,1.0,1.0,1.0,1.0,1.0,1.0,1.0,1.0,1.0,1.0,1.0,1.0,1.0,1.0,1.0,1.0,1.0,1.0,1.0,1.0,1.0,1.0,1.0,1.0,1.0,1.0,1.0,1.0,1.0,1.0,1.0,1.0,1.0,1.0,1.0,1.0,1.0,1.0,1.0,1.0,1.0,1.0,1.0,1.0,1.0,1.0,1.0,1.0,1.0,1.0,1.0,1.0,1.0,1.0,1.0,1.0,1.0,1.0,1.0,1.0,1.0,1.0,1.0,1.0,1.0,1.0,1.0,1.0,1.0,1.0,1.0,1.0,1.0,1.0,1.0,1.0,1.0,1.0,1.0,1.0,1.0,1.0,1.0,1.0,1.0,1.0,1.0,1.0,1.0,1.0,1.0,1.0,1.0,1.0,1.0,1.0,1.0,1.0,1.0,1.0,1.0,1.0,1.0,1.0,1.0,1.0,1.0,1.0,1.0,1.0,1.0,1.0,1.0,1.0,1.0,1.0,1.0,1.0,1.0,1.0,1.0,1.0,1.0,1.0,1.0,1.0,1.0,1.0,1.0,1.0,1.0,1.0,1.0,1.0,1.0,1.0,1.0,1.0,1.0,1.0,1.0,1.0,1.0,1.0,1.0,1.0,1.0,1.0,1.0,1.0,1.0,1.0,1.0,1.0,1.0,1.0,1.0,1.0,1.0,1.0,1.0,1.0,1.0,1.0,1.0,1.0,1.0,1.0,1.0,1.0,1.0,1.0,1.0,1.0,1.0,1.0,1.0,1.0,1.0,1.0,1.0,1.0,1.0,1.0,1.0,1.0,1.0,1.0,1.0,1.0,1.0,1.0,1.0,1.0,1.0,1.0,1.0,1.0,1.0,1.0,1.0,1.0,1.0,1.0,1.0,1.0,1.0,1.0,1.0,1.0,1.0,1.0,1.0,1.0,1.0,1.0,1.0,1.0,1.0,1.0,1.0,1.0,1.0,1.0,1.0,1.0,1.0,1.0,1.0,1.0,1.0,1.0,1.0,1.0,1.0,1.0,1.0,1.0,1.0,1.0,1.0,1.0,1.0,1.0,1.0,1.0,1.0,1.0,1.0,1.0,1.0,1.0,1.0,1.0,1.0,1.0,1.0,1.0,1.0,1.0,1.0,1.0,1.0,1.0,1.0,1.0,1.0,1.0,1.0,1.0,1.0,1.0,1.0,1.0,1.0,1.0,1.0,1.0,1.0,1.0,1.0,1.0,1.0,1.0,1.0,1.0,1.0,1.0,1.0,1.0,1.0,1.0,1.0,1.0,1.0,1.0,1.0,1.0,1.0,1.0,1.0,1.0,1.0,1.0,1.0,1.0,1.0,1.0,1.0,1.0,1.0,1.0,1.0,1.0,1.0,1.0,1.0,1.0,1.0,1.0,1.0,1.0,1.0,1.0,1.0,1.0,1.0,1.0,1.0,1.0,1.0,1.0,1.0,1.0,1.0,1.0,1.0,1.0,1.0,1.0,1.0,1.0,1.0,1.0,1.0,1.0,1.0,1.0,1.0,1.0,1.0,1.0,1.0,1.0,1.0,1.0,1.0,1.0,1.0,1.0,1.0,1.0,1.0,1.0,1.0,1.0,1.0,1.0,1.0,1.0,1.0,1.0,1.0,1.0,1.0,1.0,1.0,1.0,1.0,1.0,1.0,1.0,1.0,1.0,1.0,1.0,1.0,1.0,1.0,1.0,1.0,1.0,1.0,1.0,1.0,1.0,1.0,1.0,1.0,1.0,1.0,1.0,1.0,1.0,1.0,1.0,1.0,1.0,1.0,1.0,1.0,1.0,1.0,1.0,1.0,1.0,1.0,1.0,1.0,1.0,1.0,1.0,1.0,1.0,1.0,1.0,1.0,1.0,1.0,1.0,1.0,1.0,1.0,1.0,1.0,1.0,1.0,1.0,1.0,1.0,1.0,1.0,1.0,1.0,1.0,1.0,1.0,1.0,1.0,1.0,1.0,1.0,1.0,1.0,1.0,1.0,1.0,1.0,1.0,1.0,1.0,1.0,1.0,1.0,1.0,1.0,1.0,1.0,1.0,1.0,1.0,1.0,1.0,1.0,1.0,1.0,1.0,1.0,1.0,1.0,1.0,1.0,1.0,1.0,1.0,1.0,1.0,1.0,1.0,1.0,1.0,1.0,1.0,1.0,1.0,1.0,1.0,1.0,1.0,1.0,1.0,1.0,1.0,1.0,1.0,1.0,1.0,1.0,1.0,1.0,1.0,1.0,1.0,1.0,1.0,1.0,1.0,1.0,1.0,1.0,1.0,1.0,1.0,1.0,1.0,1.0,1.0,1.0,1.0,1.0,1.0,1.0,1.0,1.0,1.0,1.0,1.0,1.0,1.0,1.0,1.0,1.0,1.0,1.0,1.0,1.0,1.0,1.0,1.0,1.0,1.0,1.0,1.0,1.0,1.0,1.0,1.0,1.0,1.0,1.0,1.0,1.0,1.0,1.0,1.0,1.0,1.0,1.0,1.0,1.0,1.0,1.0,1.0,1.0,1.0,1.0,1.0,1.0,1.0,1.0,1.0,1.0,1.0,1.0,1.0,1.0,1.0,1.0,1.0,1.0,1.0,1.0,1.0,1.0,1.0,1.0,1.0,1.0,1.0,1.0,1.0,1.0,1.0,1.0,1.0,1.0,1.0,1.0,1.0,1.0,1.0,1.0,1.0,1.0,1.0,1.0,1.0,1.0,1.0,1.0,1.0,1.0,1.0,1.0,1.0,1.0,1.0,1.0,1.0,1.0,1.0,1.0,1.0,1.0,1.0,1.0,1.0,1.0,1.0,1.0,1.0,1.0,1.0,1.0,1.0,1.0,1.0,1.0,1.0,1.0,1.0,1.0,1.0,1.0,1.0,1.0,1.0,1.0,1.0,1.0,1.0,1.0,1.0,1.0,1.0,1.0,1.0,1.0,1.0,1.0,1.0,1.0,1.0,1.0,1.0,1.0,1.0,1.0,1.0,1.0,1.0,1.0,1.0,1.0,1.0,1.0,1.0,1.0,1.0,1.0,1.0,1.0,1.0,1.0,1.0,1.0,1.0,1.0,1.0,1.0,1.0,1.0,1.0,1.0,1.0,1.0,1.0,1.0,1.0,1.0,1.0,1.0,1.0,1.0,1.0,1.0,1.0,1.0,1.0,1.0,1.0,1.0,1.0,1.0,1.0,1.0,1.0,1.0,1.0,1.0,1.0,1.0,1.0,1.0,1.0,1.0,1.0,1.0,1.0,1.0,1.0,1.0,1.0,1.0,1.0,1.0,1.0,1.0,1.0,1.0,1.0,1.0,1.0,1.0,1.0,1.0,1.0,1.0,1.0,1.0,1.0,1.0,1.0,1.0,1.0,1.0,1.0,1.0,1.0,1.0,1.0,1.0,1.0,1.0,1.0,1.0,1.0,1.0,1.0,1.0,1.0,1.0,1.0,1.0,1.0,1.0,1.0,1.0,1.0,1.0,1.0,1.0,1.0,1.0,1.0,1.0,1.0,1.0,1.0,1.0,1.0,1.0,1.0,1.0,1.0,1.0,1.0,1.0,1.0,1.0,1.0,1.0,1.0,1.0,1.0,1.0,1.0,1.0,1.0,1.0,1.0,1.0,1.0,1.0,1.0,1.0,1.0,1.0,1.0,1.0,1.0,1.0,1.0,1.0,1.0,1.0,1.0,1.0,1.0,1.0,1.0,1.0,1.0,1.0,1.0,1.0,1.0,1.0,1.0,1.0,1.0,1.0,1.0,1.0,1.0,1.0,1.0,1.0,1.0,1.0,1.0,1.0,1.0,1.0,1.0,1.0,1.0,1.0,1.0,1.0,1.0,1.0,1.0,1.0,1.0,1.0,1.0,1.0,1.0,1.0,1.0,1.0,1.0,1.0,1.0,1.0,1.0,1.0,1.0,1.0,1.0,1.0,1.0,1.0,1.0,1.0,1.0,1.0,1.0,1.0,1.0,1.0,1.0,1.0,1.0,1.0,1.0,1.0,1.0,1.0,1.0,1.0,1.0,1.0,1.0,1.0,1.0,1.0,1.0,1.0,1.0,1.0,1.0,1.0,1.0,1.0,1.0,1.0,1.0,1.0,1.0,1.0,1.0,1.0,1.0,1.0,1.0,1.0,1.0,1.0,1.0,1.0,1.0,1.0,1.0,1.0,1.0,1.0,1.0,1.0,1.0,1.0,1.0,1.0,1.0,1.0,1.0,1.0,1.0,1.0,1.0,1.0,1.0,1.0,1.0,1.0,1.0,1.0,1.0,1.0,1.0,1.0,1.0,1.0,1.0,1.0,1.0,1.0,1.0,1.0,1.0,1.0,1.0,1.0,1.0,1.0,1.0,1.0,1.0,1.0,1.0,1.0,1.0,1.0,1.0,1.0,1.0,1.0,1.0,1.0,1.0,1.0,1.0,1.0,1.0,1.0,1.0,1.0,1.0,1.0,1.0,1.0,1.0,1.0,1.0,1.0,1.0,1.0,1.0,1.0,1.0,1.0,1.0,1.0,1.0,1.0,1.0,1.0,1.0,1.0,1.0,1.0,1.0,1.0,1.0,1.0,1.0,1.0,1.0,1.0,1.0,1.0,1.0,1.0,1.0,1.0,1.0,1.0,1.0,1.0,1.0,1.0,1.0,1.0,1.0,1.0,1.0,1.0,1.0,1.0,1.0,1.0,1.0,1.0,1.0,1.0,1.0,1.0,1.0,1.0,1.0,1.0,1.0,1.0,1.0,1.0,1.0,1.0,1.0,1.0,1.0,1.0,1.0,1.0,1.0,1.0,1.0,1.0,1.0,1.0,1.0,1.0,1.0,1.0,1.0,1.0,1.0,1.0,1.0,1.0,1.0,1.0,1.0,1.0,1.0,1.0,1.0,1.0,1.0,1.0,1.0,1.0,1.0,1.0,1.0,1.0,1.0,1.0,1.0,1.0,1.0,1.0,1.0,1.0,1.0,1.0,1.0,1.0,1.0,1.0,1.0,1.0,1.0,1.0,1.0,1.0,1.0,1.0,1.0,1.0,1.0,1.0,1.0,1.0,1.0,1.0,1.0,1.0,1.0,1.0,1.0,1.0,1.0,1.0,1.0,1.0,1.0,1.0,1.0,1.0,1.0,1.0,1.0,1.0,1.0,1.0,1.0,1.0,1.0,1.0,1.0,1.0,1.0,1.0,1.0,1.0,1.0,1.0,1.0,1.0,1.0,1.0,1.0,1.0,1.0,1.0,1.0,1.0,1.0,1.0,1.0,1.0,1.0,1.0,1.0,1.0,1.0,1.0,1.0,1.0,1.0,1.0,1.0,1.0,1.0,1.0,1.0,1.0,1.0,1.0,1.0,1.0,1.0,1.0,1.0,1.0,1.0,1.0,1.0,1.0,1.0,1.0,1.0,1.0,1.0,1.0,1.0,1.0,1.0,1.0,1.0,1.0,1.0,1.0,1.0,1.0,1.0,1.0,1.0,1.0,1.0,1.0,1.0,1.0,1.0,1.0,1.0,1.0,1.0,1.0,1.0,1.0,1.0,1.0,1.0,1.0,1.0,1.0,1.0,1.0,1.0,1.0,1.0,1.0,1.0,1.0,1.0,1.0,1.0,1.0,1.0,1.0,1.0,1.0,1.0,1.0,1.0,1.0,1.0,1.0,1.0,1.0,1.0,1.0,1.0,1.0,1.0,1.0,1.0,1.0,1.0,1.0,1.0,1.0,1.0,1.0,1.0,1.0,1.0,1.0,1.0,1.0,1.0,1.0,1.0,1.0,1.0,1.0,1.0,1.0,1.0,1.0,1.0,1.0,1.0,1.0,1.0,1.0,1.0,1.0,1.0,1.0,1.0,1.0,1.0,1.0,1.0,1.0,1.0,1.0,1.0,1.0,1.0,1.0,1.0,1.0,1.0,1.0,1.0,1.0,1.0,1.0,1.0,1.0,1.0,1.0,1.0,1.0,1.0,1.0,1.0,1.0,1.0,1.0,1.0,1.0,1.0,1.0,1.0,1.0,1.0,1.0,1.0,1.0,1.0,1.0,1.0,1.0,1.0,1.0,1.0,1.0,1.0,1.0,1.0,1.0,1.0,1.0,1.0,1.0,1.0,1.0,1.0,1.0,1.0,1.0,1.0,1.0,1.0,1.0,1.0,1.0,1.0,1.0,1.0,1.0,1.0,1.0,1.0,1.0,1.0,1.0,1.0,1.0,1.0,1.0,1.0,1.0,1.0,1.0,1.0,1.0,1.0,1.0,1.0,1.0,1.0,1.0,1.0,1.0,1.0,1.0,1.0,1.0,1.0,1.0,1.0,1.0,1.0,1.0,1.0,1.0,1.0,1.0,1.0,1.0,1.0,1.0,1.0,1.0,1.0,1.0,1.0,1.0,1.0,1.0,1.0,1.0,1.0,1.0,1.0,1.0,1.0,1.0,1.0,1.0,1.0,1.0,1.0,1.0,1.0,1.0,1.0,1.0,1.0,1.0,1.0,1.0,1.0,1.0,1.0,1.0,1.0,1.0,1.0,1.0,1.0,1.0,1.0,1.0,1.0,1.0,1.0,1.0,1.0,1.0,1.0,1.0,1.0,1.0,1.0,1.0,1.0,1.0,1.0,1.0,1.0,1.0,1.0,1.0,1.0,1.0,1.0,1.0,1.0,1.0,1.0,1.0,1.0,1.0,1.0,1.0,1.0,1.0,1.0,1.0,1.0,1.0,1.0,1.0,1.0,1.0,1.0,1.0,1.0,1.0,1.0,1.0,1.0,1.0,1.0,1.0,1.0,1.0,1.0,1.0,1.0,1.0,1.0,1.0,1.0,1.0,1.0,1.0,1.0,1.0,1.0,1.0,1.0,1.0,1.0,1.0,1.0,1.0,1.0,1.0,1.0,1.0,1.0,1.0,1.0,1.0,1.0,1.0,1.0,1.0,1.0,1.0,1.0,1.0,1.0,1.0,1.0,1.0,1.0,1.0,1.0,1.0,1.0,1.0,1.0,1.0,1.0,1.0,1.0,1.0,1.0,1.0,1.0,1.0,1.0,1.0,1.0,1.0,1.0,1.0,1.0,1.0,1.0,1.0,1.0,1.0,1.0,1.0,1.0,1.0,1.0,1.0,1.0,1.0,1.0,1.0,1.0,1.0,1.0,1.0,1.0,1.0,1.0,1.0,1.0,1.0,1.0,1.0,1.0,1.0,1.0,1.0,1.0,1.0,1.0,1.0,1.0,1.0,1.0,1.0,1.0,1.0,1.0,1.0,1.0,1.0,1.0,1.0,1.0,1.0,1.0,1.0,1.0,1.0,1.0,1.0,1.0,1.0,1.0,1.0,1.0,1.0,1.0,1.0,1.0,1.0,1.0,1.0,1.0,1.0,1.0,1.0,1.0,1.0,1.0,1.0,1.0,1.0,1.0,1.0,1.0,1.0,1.0,1.0,1.0,1.0,1.0,1.0,1.0,1.0,1.0,1.0,1.0,1.0,1.0,1.0,1.0,1.0,1.0,1.0,1.0,1.0,1.0,1.0,1.0,1.0,1.0,1.0,1.0,1.0,1.0,1.0,1.0,1.0,1.0,1.0,1.0,1.0,1.0,1.0,1.0,1.0,1.0,1.0,1.0,1.0,1.0,1.0,1.0,1.0,1.0,1.0,1.0,1.0,1.0,1.0,1.0,1.0,1.0,1.0,1.0,1.0,1.0,1.0,1.0,1.0,1.0,1.0,1.0,1.0,1.0,1.0,1.0,1.0,1.0,1.0,1.0,1.0,1.0,1.0,1.0,1.0,1.0,1.0,1.0,1.0,1.0,1.0,1.0,1.0,1.0,1.0,1.0,1.0,1.0,1.0,1.0,1.0,1.0,1.0,1.0,1.0,1.0,1.0,1.0,1.0,1.0,1.0,1.0,1.0,1.0,1.0,1.0,1.0,1.0,1.0,1.0,1.0,1.0,1.0,1.0,1.0,1.0,1.0,1.0,1.0,1.0,1.0,1.0,1.0,1.0,1.0,1.0,1.0,1.0,1.0,1.0,1.0,1.0,1.0,1.0,1.0,1.0,1.0,1.0,1.0,1.0,1.0,1.0,1.0,1.0,1.0,1.0,1.0,1.0,1.0,1.0,1.0,1.0,1.0,1.0,1.0,1.0,1.0,1.0,1.0,1.0,1.0,1.0,1.0,1.0,1.0,1.0,1.0,1.0,1.0,1.0,1.0,1.0,1.0,1.0,1.0,1.0,1.0,1.0,1.0,1.0,1.0,1.0,1.0,1.0,1.0,1.0,1.0,1.0,1.0,1.0,1.0,1.0,1.0,1.0,1.0,1.0,1.0,1.0,1.0,1.0,1.0,1.0,1.0,1.0,1.0,1.0,1.0,1.0,1.0,1.0,1.0,1.0,1.0,1.0,1.0,1.0,1.0,1.0,1.0,1.0,1.0,1.0,1.0,1.0,1.0,1.0,1.0,1.0,1.0,1.0,1.0,1.0,1.0,1.0,1.0,1.0,1.0,1.0,1.0,1.0,1.0,1.0,1.0,1.0,1.0,1.0,1.0,1.0,1.0,1.0,1.0,1.0,1.0,1.0,1.0,1.0,1.0,1.0,1.0,1.0,1.0,1.0,1.0,1.0,1.0,1.0,1.0,1.0,1.0,1.0,1.0,1.0,1.0,1.0,1.0,1.0,1.0,1.0,1.0,1.0,1.0,1.0,1.0,1.0,1.0,1.0,1.0,1.0,1.0,1.0,1.0,1.0,1.0,1.0,1.0,1.0,1.0,1.0,1.0,1.0,1.0,1.0,1.0,1.0,1.0,1.0,1.0,1.0,1.0,1.0,1.0,1.0,1.0,1.0,1.0,1.0,1.0,1.0,1.0,1.0,1.0,1.0,1.0,1.0,1.0,1.0,1.0,1.0,1.0,1.0,1.0,1.0,1.0,1.0,1.0,1.0,1.0,1.0,1.0,1.0,1.0,1.0,1.0,1.0,1.0,1.0,1.0,1.0,1.0,1.0,1.0,1.0,1.0,1.0,1.0,1.0,1.0,1.0,1.0,1.0,1.0,1.0,1.0,1.0,1.0,1.0,1.0,1.0,1.0,1.0,1.0,1.0,1.0,1.0,1.0,1.0,1.0,1.0,1.0,1.0,1.0,1.0,1.0,1.0,1.0,1.0,1.0,1.0,1.0,1.0,1.0,1.0,1.0,1.0,1.0,1.0,1.0,1.0,1.0,1.0,1.0,1.0,1.0,1.0,1.0,1.0,1.0,1.0,1.0,1.0,1.0,1.0,1.0,1.0,1.0,1.0,1.0,1.0,1.0,1.0,1.0,1.0,1.0,1.0,1.0,1.0,1.0,1.0,1.0,1.0,1.0,1.0,1.0,1.0,1.0,1.0,1.0,1.0,1.0,1.0,1.0,1.0,1.0,1.0,1.0,1.0,1.0,1.0,1.0,1.0,1.0,1.0,1.0,1.0,1.0,1.0,1.0,1.0,1.0,1.0,1.0,1.0,1.0,1.0,1.0,1.0,1.0,1.0,1.0,1.0,1.0,1.0,1.0,1.0,1.0,1.0,1.0,1.0,1.0,1.0,1.0,1.0,1.0,1.0,1.0,1.0,1.0,1.0,1.0,1.0,1.0,1.0,1.0,1.0,1.0,1.0,1.0,1.0,1.0,1.0,1.0,1.0,1.0,1.0,1.0,1.0,1.0,1.0,1.0,1.0,1.0,1.0,1.0,1.0,1.0,1.0,1.0,1.0,1.0,1.0,1.0,1.0,1.0,1.0,1.0,1.0,1.0,1.0,1.0,1.0,1.0,1.0,1.0,1.0,1.0,1.0,1.0,1.0,1.0,1.0,1.0,1.0,1.0,1.0,1.0,1.0,1.0,1.0,1.0,1.0,1.0,1.0,1.0,1.0,1.0,1.0,1.0,1.0,1.0,1.0,1.0,1.0,1.0,1.0,1.0,1.0,1.0,1.0,1.0,1.0,1.0,1.0,1.0,1.0,1.0,1.0,1.0,1.0,1.0,1.0,1.0,1.0,1.0,1.0,1.0,1.0,1.0,1.0,1.0,1.0,1.0,1.0,1.0,1.0,1.0,1.0,1.0,1.0,1.0,1.0,1.0,1.0,1.0,1.0,1.0,1.0,1.0,1.0,1.0,1.0,1.0,1.0,1.0,1.0,1.0,1.0,1.0,1.0,1.0,1.0,1.0,1.0,1.0,1.0,1.0,1.0,1.0,1.0,1.0,1.0,1.0,1.0,1.0,1.0,1.0,1.0,1.0,1.0,1.0,1.0,1.0,1.0,1.0,1.0,1.0,1.0,1.0,1.0,1.0,1.0,1.0,1.0,1.0,1.0,1.0,1.0,1.0,1.0,1.0,1.0,1.0,1.0,1.0,1.0,1.0,1.0,1.0,1.0,1.0,1.0,1.0,1.0,1.0,1.0,1.0,1.0,1.0,1.0,1.0,1.0,1.0,1.0,1.0,1.0,1.0,1.0,1.0,1.0,1.0,1.0,1.0,1.0,1.0,1.0,1.0,1.0,1.0,1.0,1.0,1.0,1.0,1.0,1.0,1.0,1.0,1.0,1.0,1.0,1.0,1.0,1.0,1.0,1.0,1.0,1.0,1.0,1.0,1.0,1.0,1.0,1.0,1.0,1.0,1.0,1.0,1.0,1.0,1.0,1.0,1.0,1.0,1.0,1.0,1.0,1.0,1.0,1.0,1.0,1.0,1.0,1.0,1.0,1.0,1.0,1.0,1.0,1.0,1.0,1.0,1.0,1.0,1.0,1.0,1.0,1.0,1.0,1.0,1.0,1.0,1.0,1.0,1.0,1.0,1.0,1.0,1.0,1.0,1.0,1.0,1.0,1.0,1.0,1.0,1.0,1.0,1.0,1.0,1.0,1.0,1.0,1.0,1.0,1.0,1.0,1.0,1.0,1.0,1.0,1.0,1.0,1.0,1.0,1.0,1.0,1.0,1.0,1.0,1.0,1.0,1.0,1.0,1.0,1.0,1.0,1.0,1.0,1.0,1.0,1.0,1.0,1.0,1.0,1.0,1.0,1.0,1.0,1.0,1.0,1.0,1.0,1.0,1.0,1.0,1.0,1.0,1.0,1.0,1.0,1.0,1.0,1.0,1.0,1.0,1.0,1.0,1.0,1.0,1.0,1.0,1.0,1.0,1.0,1.0,1.0,1.0,1.0,1.0,1.0,1.0,1.0,1.0,1.0,1.0,1.0,1.0,1.0,1.0,1.0,1.0,1.0,1.0,1.0,1.0,1.0,1.0,1.0,1.0,1.0,1.0,1.0,1.0,1.0,1.0,1.0,1.0,1.0,1.0,1.0,1.0,1.0,1.0,1.0,1.0,1.0,1.0,1.0,1.0,1.0,1.0,1.0,1.0,1.0,1.0,1.0,1.0,1.0,1.0,1.0,1.0,1.0,1.0,1.0,1.0,1.0,1.0,1.0,1.0,1.0,1.0,1.0,1.0,1.0,1.0,1.0,1.0,1.0,1.0,1.0,1.0,1.0,1.0,1.0,1.0,1.0,1.0,1.0,1.0,1.0,1.0,1.0,1.0,1.0,1.0,1.0,1.0,1.0,1.0,1.0,1.0,1.0,1.0,1.0,1.0,1.0,1.0,1.0,1.0,1.0,1.0,1.0,1.0,1.0,1.0,1.0,1.0,1.0,1.0,1.0,1.0,1.0,1.0,1.0,1.0,1.0,1.0,1.0,1.0,1.0,1.0,1.0,1.0,1.0,1.0,1.0,1.0,1.0,1.0,1.0,1.0,1.0,1.0,1.0,1.0,1.0,1.0,1.0,1.0,1.0,1.0,1.0,1.0,1.0,1.0,1.0,1.0,1.0,1.0,1.0,1.0,1.0,1.0,1.0,1.0,1.0,1.0,1.0,1.0,1.0,1.0,1.0,1.0,1.0,1.0,1.0,1.0,1.0,1.0,1.0,1.0,1.0,1.0,1.0,1.0,1.0,1.0,1.0,1.0,1.0,1.0,1.0,1.0,1.0,1.0,1.0,1.0,1.0,1.0,1.0,1.0,1.0,1.0,1.0,1.0,1.0,1.0,1.0,1.0,1.0,1.0,1.0,1.0,1.0,1.0,1.0,1.0,1.0,1.0,1.0,1.0,1.0,1.0,1.0,1.0,1.0,1.0,1.0,1.0,1.0,1.0,1.0,1.0,1.0,1.0,1.0,1.0,1.0,1.0,1.0,1.0,1.0,1.0,1.0,1.0,1.0,1.0,1.0,1.0,1.0,1.0,1.0,1.0,1.0,1.0,1.0,1.0,1.0,1.0,1.0,1.0,1.0,1.0,1.0,1.0,1.0,1.0,1.0,1.0,1.0,1.0,1.0,1.0,1.0,1.0,1.0,1.0,1.0,1.0,1.0,1.0,1.0,1.0,1.0,1.0,1.0,1.0,1.0,1.0,1.0,1.0,1.0,1.0,1.0,1.0,1.0,1.0,1.0,1.0,1.0,1.0,1.0,1.0,1.0,1.0,1.0,1.0,1.0,1.0,1.0,1.0,1.0,1.0,1.0,1.0,1.0,1.0,1.0,1.0,1.0,1.0,1.0,1.0,1.0,1.0,1.0,1.0,1.0,1.0,1.0,1.0,1.0,1.0,1.0,1.0,1.0,1.0,1.0,1.0,1.0,1.0,1.0,1.0,1.0,1.0,1.0,1.0,1.0,1.0,1.0,1.0,1.0,1.0,1.0,1.0,1.0,1.0,1.0,1.0,1.0,1.0,1.0,1.0,1.0,1.0,1.0,1.0,1.0,1.0,1.0,1.0,1.0,1.0,1.0,1.0,1.0,1.0,1.0,1.0,1.0,1.0,1.0,1.0,1.0,1.0,1.0,1.0,1.0,1.0,1.0,1.0,1.0,1.0,1.0,1.0,1.0,1.0,1.0,1.0,1.0,1.0,1.0,1.0,1.0,1.0,1.0,1.0,1.0,1.0,1.0,1.0,1.0,1.0,1.0,1.0,1.0,1.0,1.0,1.0,1.0,1.0,1.0,1.0,1.0,1.0,1.0,1.0,1.0,1.0,1.0,1.0,1.0,1.0,1.0,1.0,1.0,1.0,1.0,1.0,1.0,1.0,1.0,1.0,1.0,1.0,1.0,1.0,1.0,1.0,1.0,1.0,1.0,1.0,1.0,1.0,1.0,1.0,1.0,1.0,1.0,1.0,1.0,1.0,1.0,1.0,1.0,1.0,1.0,1.0,1.0,1.0,1.0,1.0,1.0,1.0,1.0,1.0,1.0,1.0,1.0,1.0,1.0,1.0,1.0,1.0,1.0,1.0,1.0,1.0,1.0,1.0,1.0,1.0,1.0,1.0,1.0,1.0,1.0,1.0,1.0,1.0,1.0,1.0,1.0,1.0,1.0,1.0,1.0,1.0,1.0,1.0,1.0,1.0,1.0,1.0,1.0,1.0,1.0,1.0,1.0,1.0,1.0,1.0,1.0,1.0,1.0,1.0,1.0,1.0,1.0,1.0,1.0,1.0,1.0,1.0,1.0,1.0,1.0,1.0,1.0,1.0,1.0,1.0,1.0,1.0,1.0,1.0,1.0,1.0,1.0,1.0,1.0,1.0,1.0,1.0,1.0,1.0,1.0,1.0,1.0,1.0,1.0,1.0,1.0,1.0,1.0,1.0,1.0,1.0,1.0,1.0,1.0,1.0,1.0,1.0,1.0,1.0,1.0,1.0,1.0,1.0,1.0,1.0,1.0,1.0,1.0,1.0,1.0,1.0,1.0,1.0,1.0,1.0,1.0,1.0,1.0,1.0,1.0,1.0,1.0,1.0,1.0,1.0,1.0,1.0,1.0,1.0,1.0,1.0,1.0,1.0,1.0,1.0,1.0,1.0,1.0,1.0,1.0,1.0,1.0,1.0,1.0,1.0,1.0,1.0,1.0,1.0,1.0,1.0,1.0,1.0,1.0,1.0,1.0,1.0,1.0,1.0,1.0,1.0,1.0,1.0,1.0,1.0,1.0,1.0,1.0,1.0,1.0,1.0,1.0,1.0,1.0,1.0,1.0,1.0,1.0,1.0,1.0,1.0,1.0,1.0,1.0,1.0,1.0,1.0,1.0,1.0,1.0,1.0,1.0,1.0,1.0,1.0,1.0,1.0,1.0,1.0,1.0,1.0,1.0,1.0,1.0,1.0,1.0,1.0,1.0,1.0,1.0,1.0,1.0,1.0,1.0,1.0,1.0,1.0,1.0,1.0,1.0,1.0,1.0,1.0,1.0,1.0,1.0,1.0,1.0,1.0,1.0,1.0,1.0,1.0,1.0,1.0,1.0,1.0,1.0,1.0,1.0,1.0,1.0,1.0,1.0,1.0,1.0,1.0,1.0,1.0,1.0,1.0,1.0,1.0,1.0,1.0,1.0,1.0,1.0,1.0,1.0,1.0,1.0,1.0,1.0,1.0,1.0,1.0,1.0,1.0,1.0,1.0,1.0,1.0,1.0,1.0,1.0,1.0,1.0,1.0,1.0,1.0,1.0,1.0,1.0,1.0,1.0,1.0,1.0,1.0,1.0,1.0,1.0,1.0,1.0,1.0,1.0,1.0,1.0,1.0,1.0,1.0,1.0,1.0,1.0,1.0,1.0,1.0,1.0,1.0,1.0,1.0,1.0,1.0,1.0,1.0,1.0,1.0,1.0,1.0,1.0,1.0,1.0,1.0,1.0,1.0,1.0,1.0,1.0,1.0,1.0,1.0,1.0,1.0,1.0,1.0,1.0,1.0,1.0,1.0,1.0,1.0,1.0,1.0,1.0,1.0,1.0,1.0,1.0,1.0,1.0,1.0,1.0,1.0,1.0,1.0,1.0,1.0,1.0,1.0,1.0,1.0,1.0,1.0,1.0,1.0,1.0,1.0,1.0,1.0,1.0,1.0,1.0,1.0,1.0,1.0,1.0,1.0,1.0,1.0,1.0,1.0,1.0,1.0,1.0,1.0,1.0,1.0,1.0,1.0,1.0,1.0,1.0,1.0,1.0,1.0,1.0,1.0,1.0,1.0,1.0,1.0,1.0,1.0,1.0,1.0,1.0,1.0,1.0,1.0,1.0,1.0,1.0,1.0,1.0,1.0,1.0,1.0,1.0,1.0,1.0,1.0,1.0,1.0,1.0,1.0,1.0,1.0,1.0,1.0,1.0,1.0,1.0,1.0,1.0,1.0,1.0,1.0,1.0,1.0,1.0,1.0,1.0,1.0,1.0,1.0,1.0,1.0,1.0,1.0,1.0,1.0,1.0,1.0,1.0,1.0,1.0,1.0,1.0,1.0,1.0,1.0,1.0,1.0,1.0,1.0,1.0,1.0,1.0,1.0,1.0,1.0,1.0,1.0,1.0,1.0,1.0,1.0,1.0,1.0,1.0,1.0,1.0,1.0,1.0,1.0,1.0,1.0,1.0,1.0,1.0,1.0,1.0,1.0,1.0,1.0,1.0,1.0,1.0,1.0,1.0,1.0,1.0,1.0,1.0,1.0,1.0,1.0,1.0,1.0,1.0,1.0,1.0,1.0,1.0,1.0,1.0,1.0,1.0,1.0,1.0,1.0,1.0,1.0,1.0,1.0,1.0,1.0,1.0,1.0,1.0,1.0,1.0,1.0,1.0,1.0,1.0,1.0,1.0,1.0,1.0,1.0,1.0,1.0,1.0,1.0,1.0,1.0,1.0,1.0,1.0,1.0,1.0,1.0,1.0,1.0,1.0,1.0,1.0,1.0,1.0,1.0,1.0,1.0,1.0,1.0,1.0,1.0,1.0,1.0,1.0,1.0,1.0,1.0,1.0,1.0,1.0,1.0,1.0,1.0,1.0,1.0,1.0,1.0,1.0,1.0,1.0,1.0,1.0,1.0,1.0,1.0,1.0,1.0,1.0,1.0,1.0,1.0,1.0,1.0,1.0,1.0,1.0,1.0,1.0,1.0,1.0,1.0,1.0,1.0,1.0,1.0,1.0,1.0,1.0,1.0,1.0,1.0,1.0,1.0,1.0,1.0,1.0,1.0,1.0,1.0,1.0,1.0,1.0,1.0,1.0,1.0,1.0,1.0,1.0,1.0,1.0,1.0,1.0,1.0,1.0,1.0,1.0,1.0,1.0,1.0,1.0,1.0,1.0,1.0,1.0,1.0,1.0,1.0,1.0,1.0,1.0,1.0,1.0,1.0,1.0,1.0,1.0,1.0,1.0,1.0,1.0,1.0,1.0,1.0,1.0,1.0,1.0,1.0,1.0,1.0,1.0,1.0,1.0,1.0,1.0,1.0,1.0,1.0,1.0,1.0,1.0,1.0,1.0,1.0,1.0,1.0,1.0,1.0,1.0,1.0,1.0,1.0,1.0,1.0,1.0,1.0,1.0,1.0,1.0,1.0,1.0,1.0,1.0,1.0,1.0,1.0,1.0,1.0,1.0,1.0,1.0,1.0,1.0,1.0,1.0,1.0,1.0,1.0,1.0,1.0,1.0,1.0,1.0,1.0,1.0,1.0,1.0,1.0,1.0,1.0,1.0,1.0,1.0,1.0,1.0,1.0,1.0,1.0,1.0,1.0,1.0,1.0,1.0,1.0,1.0,1.0,1.0,1.0,1.0,1.0,1.0,1.0,1.0,1.0,1.0,1.0,1.0,1.0,1.0,1.0,1.0,1.0,1.0,1.0,1.0,1.0,1.0,1.0,1.0,1.0,1.0,1.0,1.0,1.0,1.0,1.0,1.0,1.0,1.0,1.0,1.0,1.0,1.0,1.0,1.0,1.0,1.0,1.0,1.0,1.0,1.0,1.0,1.0,1.0,1.0,1.0,1.0,1.0,1.0,1.0,1.0,1.0,1.0,1.0,1.0,1.0,1.0,1.0,1.0,1.0,1.0,1.0,1.0,1.0,1.0,1.0,1.0,1.0,1.0,1.0,1.0,1.0,1.0,1.0,1.0,1.0,1.0,1.0,1.0,1.0,1.0,1.0,1.0,1.0,1.0,1.0,1.0,1.0,1.0,1.0,1.0,1.0,1.0,1.0,1.0,1.0,1.0,1.0,1.0,1.0,1.0,1.0,1.0,1.0,1.0,1.0,1.0,1.0,1.0,1.0,1.0,1.0,1.0,1.0,1.0,1.0,1.0,1.0,1.0,1.0,1.0,1.0,1.0,1.0,1.0,1.0,1.0,1.0,1.0,1.0,1.0,1.0,1.0,1.0,1.0,1.0,1.0,1.0,1.0,1.0,1.0,1.0,1.0,1.0,1.0,1.0,1.0,1.0,1.0,1.0,1.0,1.0,1.0,1.0,1.0,1.0,1.0,1.0,1.0,1.0,1.0,1.0,1.0,1.0,1.0,1.0,1.0,1.0,1.0,1.0,1.0,1.0,1.0,1.0,1.0,1.0,1.0,1.0,1.0,1.0,1.0,1.0,1.0,1.0,1.0,1.0,1.0,1.0,1.0,1.0,1.0,1.0,1.0,1.0,1.0,1.0,1.0,1.0,1.0,1.0,1.0,1.0,1.0,1.0,1.0,1.0,1.0,1.0,1.0,1.0,1.0,1.0,1.0,1.0,1.0,1.0,1.0,1.0,1.0,1.0,1.0,1.0,1.0,1.0,1.0,1.0,1.0,1.0,1.0,1.0,1.0,1.0,1.0,1.0,1.0,1.0,1.0,1.0,1.0,1.0,1.0,1.0,1.0,1.0,1.0,1.0,1.0,1.0,1.0,1.0,1.0,1.0,1.0,1.0,1.0,1.0,1.0,1.0,1.0,1.0,1.0,1.0,1.0,1.0,1.0,1.0,1.0,1.0,1.0,1.0,1.0,1.0,1.0,1.0,1.0,1.0,1.0,1.0,1.0,1.0,1.0,1.0,1.0,1.0,1.0,1.0,1.0,1.0,1.0,1.0,1.0,1.0,1.0,1.0,1.0,1.0,1.0,1.0,1.0,1.0,1.0,1.0,1.0,1.0,1.0,1.0,1.0,1.0,1.0,1.0,1.0,1.0,1.0,1.0,1.0,1.0,1.0,1.0,1.0,1.0,1.0,1.0,1.0,1.0,1.0,1.0,1.0,1.0,1.0,1.0,1.0,1.0,1.0,1.0,1.0,1.0,1.0,1.0,1.0,1.0,1.0,1.0,1.0,1.0,1.0,1.0,1.0,1.0,1.0,1.0,1.0,1.0,1.0,1.0,1.0,1.0,1.0,1.0,1.0,1.0,1.0,1.0,1.0,1.0,1.0,1.0,1.0,1.0,1.0,1.0,1.0,1.0,1.0,1.0,1.0,1.0,1.0,1.0,1.0,1.0,1.0,1.0,1.0,1.0,1.0,1.0,1.0,1.0,1.0,1.0,1.0,1.0,1.0,1.0,1.0,1.0,1.0,1.0,1.0,1.0,1.0,1.0,1.0,1.0,1.0,1.0,1.0,1.0,1.0,1.0,1.0,1.0,1.0,1.0,1.0,1.0,1.0,1.0,1.0,1.0,1.0,1.0,1.0,1.0,1.0,1.0,1.0,1.0,1.0,1.0,1.0,1.0,1.0,1.0,1.0,1.0,1.0,1.0,1.0,1.0,1.0,1.0,1.0,1.0,1.0,1.0,1.0,1.0,1.0,1.0,1.0,1.0,1.0,1.0,1.0,1.0,1.0,1.0,1.0,1.0,1.0,1.0,1.0,1.0,1.0,1.0,1.0,1.0,1.0,1.0,1.0,1.0,1.0,1.0,1.0,1.0,1.0,1.0,1.0,1.0,1.0,1.0,1.0,1.0,1.0,1.0,1.0,1.0,1.0,1.0,1.0,1.0,1.0,1.0,1.0,1.0,1.0,1.0,1.0,1.0,1.0,1.0,1.0,1.0,1.0,1.0,1.0,1.0,1.0,1.0,1.0,1.0,1.0,1.0,1.0,1.0,1.0,1.0,1.0,1.0,1.0,1.0,1.0,1.0,1.0,1.0,1.0,1.0,1.0,1.0,1.0,1.0,1.0,1.0,1.0,1.0,1.0,1.0,1.0,1.0,1.0,1.0,1.0,1.0,1.0,1.0,1.0,1.0,1.0,1.0,1.0,1.0,1.0,1.0,1.0,1.0,1.0,1.0,1.0,1.0,1.0,1.0,1.0,1.0,1.0,1.0,1.0,1.0,1.0,1.0,1.0,1.0,1.0,1.0,1.0,1.0,1.0,1.0,1.0,1.0,1.0,1.0,1.0,1.0,1.0,1.0,1.0,1.0,1.0,1.0,1.0,1.0,1.0,1.0,1.0,1.0,1.0,1.0,1.0,1.0,1.0,1.0,1.0,1.0,1.0,1.0,1.0,1.0,1.0,1.0,1.0,1.0,1.0,1.0,1.0,1.0,1.0,1.0,1.0,1.0,1.0,1.0,1.0,1.0,1.0,1.0,1.0,1.0,1.0,1.0,1.0,1.0,1.0,1.0,1.0,1.0,1.0,1.0,1.0,1.0,1.0,1.0,1.0,1.0,1.0,1.0,1.0,1.0,1.0,1.0,1.0,1.0,1.0,1.0,1.0,1.0,1.0,1.0,1.0,1.0,1.0,1.0,1.0,1.0,1.0,1.0,1.0,1.0,1.0,1.0,1.0,1.0,1.0,1.0,1.0,1.0,1.0,1.0,1.0,1.0,1.0,1.0,1.0,1.0,1.0,1.0,1.0,1.0,1.0,1.0,1.0,1.0,1.0,1.0,1.0,1.0,1.0,1.0,1.0,1.0,1.0,1.0,1.0,1.0,1.0,1.0,1.0,1.0,1.0,1.0,1.0,1.0,1.0,1.0,1.0,1.0,1.0,1.0,1.0,1.0,1.0,1.0,1.0,1.0,1.0,1.0,1.0,1.0,1.0,1.0,1.0,1.0,1.0,1.0,1.0,1.0,1.0,1.0,1.0,1.0,1.0,1.0,1.0,1.0,1.0,1.0,1.0,1.0,1.0,1.0,1.0,1.0,1.0,1.0,1.0,1.0,1.0,1.0,1.0,1.0,1.0,1.0,1.0,1.0,1.0,1.0,1.0,1.0,1.0,1.0,1.0,1.0,1.0,1.0,1.0,1.0,1.0,1.0,1.0,1.0,1.0,1.0,1.0,1.0,1.0,1.0,1.0,1.0,1.0,1.0,1.0,1.0,1.0,1.0,1.0,1.0,1.0,1.0,1.0,1.0,1.0,1.0,1.0,1.0,1.0,1.0,1.0,1.0,1.0,1.0,1.0,1.0,1.0,1.0,1.0,1.0,1.0,1.0,1.0,1.0,1.0,1.0,1.0,1.0,1.0,1.0,1.0,1.0,1.0,1.0,1.0,1.0,1.0,1.0,1.0,1.0,1.0,1.0,1.0,1.0,1.0,1.0,1.0,1.0,1.0,1.0,1.0,1.0,1.0,1.0,1.0,1.0,1.0,1.0,1.0,1.0,1.0,1.0,1.0,1.0,1.0,1.0,1.0,1.0,1.0,1.0,1.0,1.0,1.0,1.0,1.0,1.0,1.0,1.0,1.0,1.0,1.0,1.0,1.0,1.0,1.0,1.0,1.0,1.0,1.0,1.0,1.0,1.0,1.0,1.0,1.0,1.0,1.0,1.0,1.0,1.0,1.0,1.0,1.0,1.0,1.0,1.0,1.0,1.0,1.0,1.0,1.0,1.0,1.0,1.0,1.0,1.0,1.0,1.0,1.0,1.0,1.0,1.0,1.0,1.0,1.0,1.0,1.0,1.0,1.0,1.0,1.0,1.0,1.0,1.0,1.0,1.0,1.0,1.0,1.0,1.0,1.0,1.0,1.0,1.0,1.0,1.0,1.0,1.0,1.0,1.0,1.0,1.0,1.0,1.0,1.0,1.0,1.0,1.0,1.0,1.0,1.0,1.0,1.0,1.0,1.0,1.0,1.0,1.0,1.0,1.0,1.0,1.0,1.0,1.0,1.0,1.0,1.0,1.0,1.0,1.0,1.0,1.0,1.0,1.0,1.0,1.0,1.0,1.0,1.0,1.0,1.0,1.0,1.0,1.0,1.0,1.0,1.0,1.0,1.0,1.0,1.0,1.0,1.0,1.0,1.0,1.0,1.0,1.0,1.0,1.0,1.0,1.0,1.0,1.0,1.0,1.0,1.0,1.0,1.0,1.0,1.0,1.0,1.0,1.0,1.0,1.0,1.0,1.0,1.0,1.0,1.0,1.0,1.0,1.0,1.0,1.0,1.0,1.0,1.0,1.0,1.0,1.0,1.0,1.0,1.0,1.0,1.0,1.0,1.0,1.0,1.0,1.0,1.0,1.0,1.0,1.0,1.0,1.0,1.0,1.0,1.0,1.0,1.0,1.0,1.0,1.0,1.0,1.0,1.0,1.0,1.0,1.0,1.0,1.0,1.0,1.0,1.0,1.0,1.0,1.0,1.0,1.0,1.0,1.0,1.0,1.0,1.0,1.0,1.0,1.0,1.0,1.0,1.0,1.0,1.0,1.0,1.0,1.0,1.0,1.0,1.0,1.0,1.0,1.0,1.0,1.0,1.0,1.0,1.0,1.0,1.0,1.0,1.0,1.0,1.0,1.0,1.0,1.0,1.0,1.0,1.0,1.0,1.0,1.0,1.0,1.0,1.0,1.0,1.0,1.0,1.0,1.0,1.0,1.0,1.0,1.0,1.0,1.0,1.0,1.0,1.0,1.0,1.0,1.0,1.0,1.0,1.0,1.0,1.0,1.0,1.0,1.0,1.0,1.0,1.0,1.0,1.0,1.0,1.0,1.0,1.0,1.0,1.0,1.0,1.0,1.0,1.0,1.0,1.0,1.0,1.0,1.0,1.0,1.0,1.0,1.0,1.0,1.0,1.0,1.0,1.0,1.0,1.0,1.0,1.0,1.0,1.0,1.0,1.0,1.0,1.0,1.0,1.0,1.0,1.0,1.0,1.0,1.0,1.0,1.0,1.0,1.0,1.0,1.0,1.0,1.0,1.0,1.0,1.0,1.0,1.0,1.0,1.0,1.0,1.0,1.0,1.0,1.0,1.0,1.0,1.0,1.0,1.0,1.0,1.0,1.0,1.0,1.0,1.0,1.0,1.0,1.0,1.0,1.0,1.0,1.0,1.0,1.0,1.0,1.0,1.0,1.0,1.0,1.0,1.0,1.0,1.0,1.0,1.0,1.0,1.0,1.0,1.0,1.0,1.0,1.0,1.0,1.0,1.0,1.0,1.0,1.0,1.0,1.0,1.0,1.0,1.0,1.0,1.0,1.0,1.0,1.0,1.0,1.0,1.0,1.0,1.0,1.0,1.0,1.0,1.0,1.0,1.0,1.0,1.0,1.0,1.0,1.0,1.0,1.0,1.0,1.0,1.0,1.0,1.0,1.0,1.0,1.0,1.0,1.0,1.0,1.0,1.0,1.0,1.0,1.0,1.0,1.0,1.0,1.0,1.0,1.0,1.0,1.0,1.0,1.0,1.0,1.0,1.0,1.0,1.0,1.0,1.0,1.0,1.0,1.0,1.0,1.0,1.0,1.0,1.0,1.0,1.0,1.0,1.0,1.0,1.0,1.0,1.0,1.0,1.0,1.0,1.0,1.0,1.0,1.0,1.0,1.0,1.0,1.0,1.0,1.0,1.0,1.0,1.0,1.0,1.0,1.0,1.0,1.0,1.0,1.0,1.0,1.0,1.0,1.0,1.0,1.0,1.0,1.0,1.0,1.0,1.0,1.0,1.0,1.0,1.0,1.0,1.0,1.0,1.0,1.0,1.0,1.0,1.0,1.0,1.0,1.0,1.0,1.0,1.0,1.0,1.0,1.0,1.0,1.0,1.0,1.0,1.0,1.0,1.0,1.0,1.0,1.0,1.0,1.0,1.0,1.0,1.0,1.0,1.0,1.0,1.0,1.0,1.0,1.0,1.0,1.0,1.0,1.0,1.0,1.0,1.0,1.0,1.0,1.0,1.0,1.0,1.0,1.0,1.0,1.0,1.0,1.0,1.0,1.0,1.0,1.0,1.0,1.0,1.0,1.0,1.0,1.0,1.0,1.0,1.0,1.0,1.0,1.0,1.0,1.0,1.0,1.0,1.0,1.0,1.0,1.0,1.0,1.0,1.0,1.0,1.0,1.0,1.0,1.0,1.0,1.0,1.0,1.0,1.0,1.0,1.0,1.0,1.0,1.0,1.0,1.0,1.0,1.0,1.0,1.0,1.0,1.0,1.0,1.0,1.0,1.0,1.0,1.0,1.0,1.0,1.0,1.0,1.0,1.0,1.0,1.0,1.0,1.0,1.0,1.0,1.0,1.0,1.0,1.0,1.0,1.0,1.0,1.0,1.0,1.0,1.0,1.0,1.0,1.0,1.0,1.0,1.0,1.0,1.0,1.0,1.0,1.0,1.0,1.0,1.0,1.0,1.0,1.0,1.0,1.0,1.0,1.0,1.0,1.0,1.0,1.0,1.0,1.0,1.0,1.0,1.0,1.0,1.0,1.0,1.0,1.0,1.0,1.0,1.0,1.0,1.0,1.0,1.0,1.0,1.0,1.0,1.0,1.0,1.0,1.0,1.0,1.0,1.0,1.0,1.0,1.0,1.0,1.0,1.0,1.0,1.0,1.0,1.0,1.0,1.0,1.0,1.0,1.0,1.0,1.0,1.0,1.0,1.0,1.0,1.0,1.0,1.0,1.0,1.0,1.0,1.0,1.0,1.0,1.0,1.0,1.0,1.0,1.0,1.0,1.0,1.0,1.0,1.0,1.0,1.0,1.0,1.0,1.0,1.0,1.0,1.0,1.0,1.0,1.0,1.0,1.0,1.0,1.0,1.0,1.0,1.0,1.0,1.0,1.0,1.0,1.0,1.0,1.0,1.0,1.0,1.0,1.0,1.0,1.0,1.0,1.0,1.0,1.0,1.0,1.0,1.0,1.0,1.0,1.0,1.0,1.0,1.0,1.0,1.0,1.0,1.0,1.0,1.0,1.0,1.0,1.0,1.0,1.0,1.0,1.0,1.0,1.0,1.0,1.0,1.0,1.0,1.0,1.0,1.0,1.0,1.0,1.0,1.0,1.0,1.0,1.0,1.0,1.0,1.0,1.0,1.0,1.0,1.0,1.0,1.0,1.0,1.0,1.0,1.0,1.0,1.0,1.0,1.0,1.0,1.0,1.0,1.0,1.0,1.0,1.0,1.0,1.0,1.0,1.0,1.0,1.0,1.0,1.0,1.0,1.0,1.0,1.0,1.0,1.0,1.0,1.0,1.0,1.0,1.0,1.0,1.0,1.0,1.0,1.0,1.0,1.0,1.0,1.0,1.0,1.0,1.0,1.0,1.0,1.0,1.0,1.0,1.0,1.0,1.0,1.0,1.0,1.0,1.0,1.0,1.0,1.0,1.0,1.0,1.0,1.0,1.0,1.0,1.0,1.0,1.0,1.0,1.0,1.0,1.0,1.0,1.0,1.0,1.0,1.0,1.0,1.0,1.0,1.0,1.0,1.0,1.0,1.0,1.0,1.0,1.0,1.0,1.0,1.0,1.0,1.0,1.0,1.0,1.0,1.0,1.0,1.0,1.0,1.0,1.0,1.0,1.0,1.0,1.0,1.0,1.0,1.0,1.0,1.0,1.0,1.0,1.0,1.0,1.0,1.0,1.0,1.0,1.0,1.0,1.0,1.0,1.0,1.0,1.0,1.0,1.0,1.0,1.0,1.0,1.0,1.0,1.0,1.0,1.0,1.0,1.0,1.0,1.0,1.0,1.0,1.0,1.0,1.0,1.0,1.0,1.0,1.0,1.0,1.0,1.0,1.0,1.0,1.0,1.0,1.0,1.0,1.0,1.0,1.0,1.0,1.0,1.0,1.0,1.0,1.0,1.0,1.0,1.0,1.0,1.0,1.0,1.0,1.0,1.0,1.0,1.0,1.0,1.0,1.0,1.0,1.0,1.0,1.0,1.0,1.0,1.0,1.0,1.0,1.0,1.0,1.0,1.0,1.0,1.0,1.0,1.0,1.0,1.0,1.0,1.0,1.0,1.0,1.0,1.0,1.0,1.0,1.0,1.0,1.0,1.0,1.0,1.0,1.0,1.0,1.0,1.0,1.0,1.0,1.0,1.0,1.0,1.0,1.0,1.0,1.0,1.0,1.0,1.0,1.0,1.0,1.0,1.0,1.0,1.0,1.0,1.0,1.0,1.0,1.0,1.0,1.0,1.0,1.0,1.0,1.0,1.0,1.0,1.0,1.0,1.0,1.0,1.0,1.0,1.0,1.0,1.0,1.0,1.0,1.0,1.0,1.0,1.0,1.0,1.0,1.0,1.0,1.0,1.0,1.0,1.0,1.0,1.0,1.0,1.0,1.0,1.0,1.0,1.0,1.0,1.0,1.0,1.0,1.0,1.0,1.0,1.0,1.0,1.0,1.0,1.0,1.0,1.0,1.0,1.0,1.0,1.0,1.0,1.0,1.0,1.0,1.0,1.0,1.0,1.0,1.0,1.0,1.0,1.0,1.0,1.0,1.0,1.0,1.0,1.0,1.0,1.0,1.0,1.0,1.0,1.0,1.0,1.0,1.0,1.0,1.0,1.0,1.0,1.0,1.0,1.0,1.0,1.0,1.0,1.0,1.0,1.0,1.0,1.0,1.0,1.0,1.0,1.0,1.0,1.0,1.0,1.0,1.0,1.0,1.0,1.0,1.0,1.0,1.0,1.0,1.0,1.0,1.0,1.0,1.0,1.0,1.0,1.0,1.0,1.0,1.0,1.0,1.0,1.0,1.0,1.0,1.0,1.0,1.0,1.0,1.0,1.0,1.0,1.0,1.0,1.0,1.0,1.0,1.0,1.0,1.0,1.0,1.0,1.0,1.0,1.0,1.0,1.0,1.0,1.0,1.0,1.0,1.0,1.0,1.0,1.0,1.0,1.0,1.0,1.0,1.0,1.0,1.0,1.0,1.0,1.0,1.0,1.0,1.0,1.0,1.0,1.0,1.0,1.0,1.0,1.0,1.0,1.0,1.0,1.0,1.0,1.0,1.0,1.0,1.0,1.0,1.0,1.0,1.0,1.0,1.0,1.0,1.0,1.0,1.0,1.0,1.0,1.0,1.0,1.0,1.0,1.0,1.0,1.0,1.0,1.0,1.0,1.0,1.0,1.0,1.0,1.0,1.0,1.0,1.0,1.0,1.0,1.0,1.0,1.0,1.0,1.0,1.0,1.0,1.0,1.0,1.0,1.0,1.0,1.0,1.0,1.0,1.0,1.0,1.0,1.0,1.0,1.0,1.0,1.0,1.0,1.0,1.0,1.0,1.0,1.0,1.0,1.0,1.0,1.0,1.0,1.0,1.0,1.0,1.0,1.0,1.0,1.0,1.0,1.0,1.0,1.0,1.0,1.0,1.0,1.0,1.0,1.0,1.0,1.0,1.0,1.0,1.0,1.0,1.0,1.0,1.0,1.0,1.0,1.0,1.0,1.0,1.0,1.0,1.0,1.0,1.0,1.0,1.0,1.0,1.0,1.0,1.0,1.0,1.0,1.0,1.0,1.0,1.0,1.0,1.0,1.0,1.0,1.0,1.0,1.0,1.0,1.0,1.0,1.0,1.0,1.0,1.0,1.0,1.0,1.0,1.0,1.0,1.0,1.0,1.0,1.0,1.0,1.0,1.0,1.0,1.0,1.0,1.0,1.0,1.0,1.0,1.0,1.0,1.0,1.0,1.0,1.0,1.0,1.0,1.0,1.0,1.0,1.0,1.0,1.0,1.0,1.0,1.0,1.0,1.0,1.0,1.0,1.0,1.0,1.0,1.0,1.0,1.0,1.0,1.0,1.0,1.0,1.0,1.0,1.0,1.0,1.0,1.0,1.0,1.0,1.0,1.0,1.0,1.0,1.0,1.0,1.0,1.0,1.0,1.0,1.0,1.0,1.0,1.0,1.0,1.0,1.0,1.0,1.0,1.0,1.0,1.0,1.0,1.0,1.0,1.0,1.0,1.0,1.0,1.0,1.0,1.0,1.0,1.0,1.0,1.0,1.0,1.0,1.0,1.0,1.0,1.0,1.0,1.0,1.0,1.0,1.0,1.0,1.0,1.0,1.0,1.0,1.0,1.0,1.0,1.0,1.0,1.0,1.0,1.0,1.0,1.0,1.0,1.0,1.0,1.0,1.0,1.0,1.0,1.0,1.0,1.0,1.0,1.0,1.0,1.0,1.0,1.0,1.0,1.0,1.0,1.0,1.0,1.0,1.0,1.0,1.0,1.0,1.0,1.0,1.0,1.0,1.0,1.0,1.0,1.0,1.0,1.0,1.0,1.0,1.0,1.0,1.0,1.0,1.0,1.0,1.0,1.0,1.0,1.0,1.0,1.0,1.0,1.0,1.0,1.0,1.0,1.0,1.0,1.0,1.0,1.0,1.0,1.0,1.0,1.0,1.0,1.0,1.0,1.0,1.0,1.0,1.0,1.0,1.0,1.0,1.0,1.0,1.0,1.0,1.0,1.0,1.0,1.0,1.0,1.0,1.0,1.0,1.0,1.0,1.0,1.0,1.0,1.0,1.0,1.0,1.0,1.0,1.0,1.0,1.0,1.0,1.0,1.0,1.0,1.0,1.0,1.0,1.0,1.0,1.0,1.0,1.0,1.0,1.0,1.0,1.0,1.0,1.0,1.0,1.0,1.0,1.0,1.0,1.0,1.0,1.0,1.0,1.0,1.0,1.0,1.0,1.0,1.0,1.0,1.0,1.0,1.0,1.0,1.0,1.0,1.0,1.0,1.0,1.0,1.0,1.0,1.0,1.0,1.0,1.0,1.0,1.0,1.0,1.0,1.0,1.0,1.0,1.0,1.0,1.0,1.0,1.0,1.0,1.0,1.0,1.0,1.0,1.0,1.0,1.0,1.0,1.0,1.0,1.0,1.0,1.0,1.0,1.0,1.0,1.0,1.0,1.0,1.0,1.0,1.0,1.0,1.0,1.0,1.0,1.0,1.0,1.0,1.0,1.0,1.0,1.0,1.0,1.0,1.0,1.0,1.0,1.0,1.0,1.0,1.0,1.0,1.0,1.0,1.0,1.0,1.0,1.0,1.0,1.0,1.0,1.0,1.0,1.0,1.0,1.0,1.0,1.0,1.0,1.0,1.0,1.0,1.0,1.0,1.0,1.0,1.0,1.0,1.0,1.0,1.0,1.0,1.0,1.0,1.0,1.0,1.0,1.0,1.0,1.0,1.0,1.0,1.0,1.0,1.0,1.0,1.0,1.0,1.0,1.0,1.0,1.0,1.0,1.0,1.0,1.0,1.0,1.0,1.0,1.0,1.0,1.0,1.0,1.0,1.0,1.0,1.0,1.0,1.0,1.0,1.0,1.0,1.0,1.0,1.0,1.0,1.0,1.0,1.0,1.0,1.0,1.0,1.0,1.0,1.0,1.0,1.0,1.0,1.0,1.0,1.0,1.0,1.0,1.0,1.0,1.0,1.0,1.0,1.0,1.0,1.0,1.0,1.0,1.0,1.0,1.0,1.0,1.0,1.0,1.0,1.0,1.0,1.0,1.0,1.0,1.0,1.0,1.0,1.0,1.0,1.0,1.0,1.0,1.0,1.0,1.0,1.0,1.0,1.0,1.0,1.0,1.0,1.0,1.0,1.0,1.0,1.0,1.0,1.0,1.0,1.0,1.0,1.0,1.0,1.0,1.0,1.0,1.0,1.0,1.0,1.0,1.0,1.0,1.0,1.0,1.0,1.0,1.0,1.0,1.0,1.0,1.0,1.0,1.0,1.0,1.0,1.0,1.0,1.0,1.0,1.0,1.0,1.0,1.0,1.0,1.0,1.0,1.0,1.0,1.0,1.0,1.0,1.0,1.0,1.0,1.0,1.0,1.0,1.0,1.0,1.0,1.0,1.0,1.0,1.0,1.0,1.0,1.0,1.0,1.0,1.0,1.0,1.0,1.0,1.0,1.0,1.0,1.0,1.0,1.0,1.0,1.0,1.0,1.0,1.0,1.0,1.0,1.0,1.0,1.0,1.0,1.0,1.0,1.0,1.0,1.0,1.0,1.0,1.0,1.0,1.0,1.0,1.0,1.0,1.0,1.0,1.0,1.0,1.0,1.0,1.0,1.0,1.0,1.0,1.0,1.0,1.0,1.0,1.0,1.0,1.0,1.0,1.0,1.0,1.0,1.0,1.0,1.0,1.0,1.0,1.0,1.0,1.0,1.0,1.0,1.0,1.0,1.0,1.0,1.0,1.0,1.0,1.0,1.0,1.0,1.0,1.0,1.0,1.0,1.0,1.0,1.0,1.0,1.0,1.0,1.0,1.0,1.0,1.0,1.0,1.0,1.0,1.0,1.0,1.0,1.0,1.0,1.0,1.0,1.0,1.0,1.0,1.0,1.0,1.0,1.0,1.0,1.0,1.0,1.0,1.0,1.0,1.0,1.0,1.0,1.0,1.0,1.0,1.0,1.0,1.0,1.0,1.0,1.0,1.0,1.0,1.0,1.0,1.0,1.0,1.0,1.0,1.0,1.0,1.0,1.0,1.0,1.0,1.0,1.0,1.0,1.0,1.0,1.0,1.0,1.0,1.0,1.0,1.0,1.0,1.0,1.0,1.0,1.0,1.0,1.0,1.0,1.0,1.0,1.0,1.0,1.0,1.0,1.0,1.0,1.0,1.0,1.0,1.0,1.0,1.0,1.0,1.0,1.0,1.0,1.0,1.0,1.0,1.0,1.0,1.0,1.0,1.0,1.0,1.0,1.0,1.0,1.0,1.0,1.0,1.0,1.0,1.0,1.0,1.0,1.0,1.0,1.0,1.0,1.0,1.0,1.0,1.0,1.0,1.0,1.0,1.0,1.0,1.0,1.0,1.0,1.0,1.0,1.0,1.0,1.0,1.0,1.0,1.0,1.0,1.0,1.0,1.0,1.0,1.0,1.0,1.0,1.0,1.0,1.0,1.0,1.0,1.0,1.0,1.0,1.0,1.0,1.0,1.0,1.0,1.0,1.0,1.0,1.0,1.0,1.0,1.0,1.0,1.0,1.0,1.0,1.0,1.0,1.0,1.0,1.0,1.0,1.0,1.0,1.0,1.0,1.0,1.0,1.0,1.0,1.0,1.0,1.0,1.0,1.0,1.0,1.0,1.0,1.0,1.0,1.0,1.0,1.0,1.0,1.0,1.0,1.0,1.0,1.0,1.0,1.0,1.0,1.0,1.0,1.0,1.0,1.0,1.0,1.0,1.0,1.0,1.0,1.0,1.0,1.0,1.0,1.0,1.0,1.0,1.0,1.0,1.0,1.0,1.0,1.0,1.0,1.0,1.0,1.0,1.0,1.0,1.0,1.0,1.0,1.0,1.0,1.0,1.0,1.0,1.0,1.0,1.0,1.0,1.0,1.0,1.0,1.0,1.0,1.0,1.0,1.0,1.0,1.0,1.0,1.0,1.0,1.0,1.0,1.0,1.0,1.0,1.0,1.0,1.0,1.0,1.0,1.0,1.0,1.0,1.0,1.0,1.0,1.0,1.0,1.0,1.0,1.0,1.0,1.0,1.0,1.0,1.0,1.0,1.0,1.0,1.0,1.0,1.0,1.0,1.0,1.0,1.0,1.0,1.0,1.0,1.0,1.0,1.0,1.0,1.0,1.0,1.0,1.0,1.0,1.0,1.0,1.0,1.0,1.0,1.0,1.0,1.0,1.0,1.0,1.0,1.0,1.0,1.0,1.0,1.0,1.0,1.0,1.0,1.0,1.0,1.0,1.0,1.0,1.0,1.0,1.0,1.0,1.0,1.0,1.0,1.0,1.0,1.0,1.0,1.0,1.0,1.0,1.0,1.0,1.0,1.0,1.0,1.0,1.0,1.0,1.0,1.0,1.0,1.0,1.0,1.0,1.0,1.0,1.0,1.0,1.0,1.0,1.0,1.0,1.0,1.0,1.0,1.0,1.0,1.0,1.0,1.0,1.0,1.0,1.0,1.0,1.0,1.0,1.0,1.0,1.0,1.0,1.0,1.0,1.0,1.0,1.0,1.0,1.0,1.0,1.0,1.0,1.0,1.0,1.0,1.0,1.0,1.0,1.0,1.0,1.0,1.0,1.0,1.0,1.0,1.0,1.0,1.0,1.0,1.0,1.0,1.0,1.0,1.0,1.0,1.0,1.0,1.0,1.0,1.0,1.0,1.0,1.0,1.0,1.0,1.0,1.0,1.0,1.0,1.0,1.0,1.0,1.0,1.0,1.0,1.0,1.0,1.0,1.0,1.0,1.0,1.0,1.0,1.0,1.0,1.0,1.0,1.0,1.0,1.0,1.0,1.0,1.0,1.0,1.0,1.0,1.0,1.0,1.0,1.0,1.0,1.0,1.0,1.0,1.0,1.0,1.0,1.0,1.0,1.0,1.0,1.0,1.0,1.0,1.0,1.0,1.0,1.0,1.0,1.0,1.0,1.0,1.0,1.0,1.0,1.0,1.0,1.0,1.0,1.0,1.0,1.0,1.0,1.0,1.0,1.0,1.0,1.0,1.0,1.0,1.0,1.0,1.0,1.0,1.0,1.0,1.0,1.0,1.0,1.0,1.0,1.0,1.0,1.0,1.0,1.0,1.0,1.0,1.0,1.0,1.0,1.0,1.0,1.0,1.0,1.0,1.0,1.0,1.0,1.0,1.0,1.0,1.0,1.0,1.0,1.0,1.0,1.0,1.0,1.0,1.0,1.0,1.0,1.0,1.0,1.0,1.0,1.0,1.0,1.0,1.0,1.0,1.0,1.0,1.0,1.0,1.0,1.0,1.0,1.0,1.0,1.0,1.0,1.0,1.0,1.0,1.0,1.0,1.0,1.0,1.0,1.0,1.0,1.0,1.0,1.0,1.0,1.0,1.0,1.0,1.0,1.0,1.0,1.0,1.0,1.0,1.0,1.0,1.0,1.0,1.0,1.0,1.0,1.0,1.0,1.0,1.0,1.0,1.0,1.0,1.0,1.0,1.0,1.0,1.0,1.0,1.0,1.0,1.0,1.0,1.0,1.0,1.0,1.0,1.0,1.0,1.0,1.0,1.0,1.0,1.0,1.0,1.0,1.0,1.0,1.0,1.0,1.0,1.0,1.0,1.0,1.0,1.0,1.0,1.0,1.0,1.0,1.0,1.0,1.0,1.0,1.0,1.0,1.0,1.0,1.0,1.0,1.0,1.0,1.0,1.0,1.0,1.0,1.0,1.0,1.0,1.0,1.0,1.0,1.0,1.0,1.0,1.0,1.0,1.0,1.0,1.0,1.0,1.0,1.0,1.0,1.0,1.0,1.0,1.0,1.0,1.0,1.0,1.0,1.0,1.0,1.0,1.0,1.0,1.0,1.0,1.0,1.0,1.0,1.0,1.0,1.0,1.0,1.0,1.0,1.0,1.0,1.0,1.0,1.0,1.0,1.0,1.0,1.0,1.0,1.0,1.0,1.0,1.0,1.0,1.0,1.0,1.0,1.0,1.0,1.0,1.0,1.0,1.0,1.0,1.0,1.0,1.0,1.0,1.0,1.0,1.0,1.0,1.0,1.0,1.0,1.0,1.0,1.0,1.0,1.0,1.0,1.0,1.0,1.0,1.0,1.0,1.0,1.0,1.0,1.0,1.0,1.0,1.0,1.0,1.0,1.0,1.0,1.0,1.0,1.0,1.0,1.0,1.0,1.0,1.0,1.0,1.0,1.0,1.0,1.0,1.0,1.0,1.0,1.0,1.0,1.0,1.0,1.0,1.0,1.0,1.0,1.0,1.0,1.0,1.0,1.0,1.0,1.0,1.0,1.0,1.0,1.0,1.0,1.0,1.0,1.0,1.0,1.0,1.0,1.0,1.0,1.0,1.0,1.0,1.0,1.0,1.0,1.0,1.0,1.0,1.0,1.0,1.0,1.0,1.0,1.0,1.0,1.0,1.0,1.0,1.0,1.0,1.0,1.0,1.0,1.0,1.0,1.0,1.0,1.0,1.0,1.0,1.0,1.0,1.0,1.0,1.0,1.0,1.0,1.0,1.0,1.0,1.0,1.0,1.0,1.0,1.0,1.0,1.0,1.0,1.0,1.0,1.0,1.0,1.0,1.0,1.0,1.0,1.0,1.0,1.0,1.0,1.0,1.0,1.0,1.0,1.0,1.0,1.0,1.0,1.0,1.0,1.0,1.0,1.0,1.0,1.0,1.0,1.0,1.0,1.0,1.0,1.0,1.0,1.0,1.0,1.0,1.0,1.0,1.0,1.0,1.0,1.0,1.0,1.0,1.0,1.0,1.0,1.0,1.0,1.0,1.0,1.0,1.0,1.0,1.0,1.0,1.0,1.0,1.0,1.0,1.0,1.0,1.0,1.0,1.0,1.0,1.0,1.0,1.0,1.0,1.0,1.0,1.0,1.0,1.0,1.0,1.0,1.0,1.0,1.0,1.0,1.0,1.0,1.0,1.0,1.0,1.0,1.0,1.0,1.0,1.0,1.0,1.0,1.0,1.0,1.0,1.0,1.0,1.0,1.0,1.0,1.0,1.0,1.0,1.0,1.0,1.0,1.0,1.0,1.0,1.0,1.0,1.0,1.0,1.0,1.0,1.0,1.0,1.0,1.0,1.0,1.0,1.0,1.0,1.0,1.0,1.0,1.0,1.0,1.0,1.0,1.0,1.0,1.0,1.0,1.0,1.0,1.0,1.0,1.0,1.0,1.0,1.0,1.0,1.0,1.0,1.0,1.0,1.0,1.0,1.0,1.0,1.0,1.0,1.0,1.0,1.0,1.0,1.0,1.0,1.0,1.0,1.0,1.0,1.0,1.0,1.0,1.0,1.0,1.0,1.0,1.0,1.0,1.0,1.0,1.0,1.0,1.0,1.0,1.0,1.0,1.0,1.0,1.0,1.0,1.0,1.0,1.0,1.0,1.0,1.0,1.0,1.0,1.0,1.0,1.0,1.0,1.0,1.0,1.0,1.0,1.0,1.0,1.0,1.0,1.0,1.0,1.0,1.0,1.0,1.0,1.0,1.0,1.0,1.0,1.0,1.0,1.0,1.0,1.0,1.0,1.0,1.0,1.0,1.0,1.0,1.0,1.0,1.0,1.0,1.0,1.0,1.0,1.0,1.0,1.0,1.0,1.0,1.0,1.0,1.0,1.0,1.0,1.0,1.0,1.0,1.0,1.0,1.0,1.0,1.0,1.0,1.0,1.0,1.0,1.0,1.0,1.0,1.0,1.0,1.0,1.0,1.0,1.0,1.0,1.0,1.0,1.0,1.0,1.0,1.0,1.0,1.0,1.0,1.0,1.0,1.0,1.0,1.0,1.0,1.0,1.0,1.0,1.0,1.0,1.0,1.0,1.0,1.0,1.0,1.0,1.0,1.0,1.0,1.0,1.0,1.0,1.0,1.0,1.0,1.0,1.0,1.0,1.0,1.0,1.0,1.0,1.0,1.0,1.0,1.0,1.0,1.0,1.0,1.0,1.0,1.0,1.0,1.0,1.0,1.0,1.0,1.0,1.0,1.0,1.0,1.0,1.0,1.0,1.0,1.0,1.0,1.0,1.0,1.0,1.0,1.0,1.0,1.0,1.0,1.0,1.0,1.0,1.0,1.0,1.0,1.0,1.0,1.0,1.0,1.0,1.0,1.0,1.0,1.0,1.0,1.0,1.0,1.0,1.0,1.0,1.0,1.0,1.0,1.0,1.0,1.0,1.0,1.0,1.0,1.0,1.0,1.0,1.0,1.0,1.0,1.0,1.0,1.0,1.0,1.0,1.0,1.0,1.0,1.0,1.0,1.0,1.0,1.0,1.0,1.0,1.0,1.0,1.0,1.0,1.0,1.0,1.0,1.0,1.0,1.0,1.0,1.0,1.0,1.0,1.0,1.0,1.0,1.0,1.0,1.0,1.0,1.0,1.0,1.0,1.0,1.0,1.0,1.0,1.0,1.0,1.0,1.0,1.0,1.0,1.0,1.0,1.0,1.0,1.0,1.0,1.0,1.0,1.0,1.0,1.0,1.0,1.0,1.0,1.0,1.0,1.0,1.0,1.0,1.0,1.0,1.0,1.0,1.0,1.0,1.0,1.0,1.0,1.0,1.0,1.0,1.0,1.0,1.0,1.0,1.0,1.0,1.0,1.0,1.0,1.0,1.0,1.0,1.0,1.0,1.0,1.0,1.0,1.0,1.0,1.0,1.0,1.0,1.0,1.0,1.0,1.0,1.0,1.0,1.0,1.0,1.0,1.0,1.0,1.0,1.0,1.0,1.0,1.0,1.0,1.0,1.0,1.0,1.0,1.0,1.0,1.0,1.0,1.0,1.0,1.0,1.0,1.0,1.0,1.0,1.0,1.0,1.0,1.0,1.0,1.0,1.0,1.0,1.0,1.0,1.0,1.0,1.0,1.0,1.0,1.0,1.0,1.0,1.0,1.0,1.0,1.0,1.0,1.0,1.0,1.0,1.0,1.0,1.0,1.0,1.0,1.0,1.0,1.0,1.0,1.0,1.0,1.0,1.0,1.0,1.0,1.0,1.0,1.0,1.0,1.0,1.0,1.0,1.0,1.0,1.0,1.0,1.0,1.0,1.0,1.0,1.0,1.0,1.0,1.0,1.0,1.0,1.0,1.0,1.0,1.0,1.0,1.0,1.0,1.0,1.0,1.0,1.0,1.0,1.0,1.0,1.0,1.0,1.0,1.0,1.0,1.0,1.0,1.0,1.0,1.0,1.0,1.0,1.0,1.0,1.0,1.0,1.0,1.0,1.0,1.0,1.0,1.0,1.0,1.0,1.0,1.0,1.0,1.0,1.0,1.0,1.0,1.0,1.0,1.0,1.0,1.0,1.0,1.0,1.0,1.0,1.0,1.0,1.0,1.0,1.0,1.0,1.0,1.0,1.0,1.0,1.0,1.0,1.0,1.0,1.0,1.0,1.0,1.0,1.0,1.0,1.0,1.0,1.0,1.0,1.0,1.0,1.0,1.0,1.0,1.0,1.0,1.0,1.0,1.0,1.0,1.0,1.0,1.0,1.0,1.0,1.0,1.0,1.0,1.0,1.0,1.0,1.0,1.0,1.0,1.0,1.0,1.0,1.0,1.0,1.0,1.0,1.0,1.0,1.0,1.0,1.0,1.0,1.0,1.0,1.0,1.0,1.0,1.0,1.0,1.0,1.0,1.0,1.0,1.0,1.0,1.0,1.0,1.0,1.0,1.0,1.0,1.0,1.0,1.0,1.0,1.0,1.0,1.0,1.0,1.0,1.0,1.0,1.0,1.0,1.0,1.0,1.0,1.0,1.0,1.0,1.0,1.0,1.0,1.0,1.0,1.0,1.0,1.0,1.0,1.0,1.0,1.0,1.0,1.0,1.0,1.0,1.0,1.0,1.0,1.0,1.0,1.0,1.0,1.0,1.0,1.0,1.0,1.0,1.0,1.0,1.0,1.0,1.0,1.0,1.0,1.0,1.0,1.0,1.0,1.0,1.0,1.0,1.0,1.0,1.0,1.0,1.0,1.0,1.0,1.0,1.0,1.0,1.0,1.0,1.0,1.0,1.0,1.0,1.0,1.0,1.0,1.0,1.0,1.0,1.0,1.0,1.0,1.0,1.0,1.0,1.0,1.0,1.0,1.0,1.0,1.0,1.0,1.0,1.0,1.0,1.0,1.0,1.0,1.0,1.0,1.0,1.0,1.0,1.0,1.0,1.0,1.0,1.0,1.0,1.0,1.0,1.0,1.0,1.0,1.0,1.0,1.0,1.0,1.0,1.0,1.0,1.0,1.0,1.0,1.0,1.0,1.0,1.0,1.0,1.0,1.0,1.0,1.0,1.0,1.0,1.0,1.0,1.0,1.0,1.0,1.0,1.0,1.0,1.0,1.0,1.0,1.0,1.0,1.0,1.0,1.0,1.0,1.0,1.0,1.0,1.0,1.0,1.0,1.0,1.0,1.0,1.0,1.0,1.0,1.0,1.0,1.0,1.0,1.0,1.0,1.0,1.0,1.0,1.0,1.0,1.0,1.0,1.0,1.0,1.0,1.0,1.0,1.0,1.0,1.0,1.0,1.0,1.0,1.0,1.0,1.0,1.0,1.0,1.0,1.0,1.0,1.0,1.0,1.0,1.0,1.0,1.0,1.0,1.0,1.0,1.0,1.0,1.0,1.0,1.0,1.0,1.0,1.0,1.0,1.0,1.0,1.0,1.0,1.0,1.0,1.0,1.0,1.0,1.0,1.0,1.0,1.0,1.0,1.0,1.0,1.0,1.0,1.0,1.0,1.0,1.0,1.0,1.0,1.0,1.0,1.0,1.0,1.0,1.0,1.0,1.0,1.0,1.0,1.0,1.0,1.0,1.0,1.0,1.0,1.0,1.0,1.0,1.0,1.0,1.0,1.0,1.0,1.0,1.0,1.0,1.0,1.0,1.0,1.0,1.0,1.0,1.0,1.0,1.0,1.0,1.0,1.0,1.0,1.0,1.0,1.0,1.0,1.0,1.0,1.0,1.0,1.0,1.0,1.0,1.0,1.0,1.0,1.0,1.0,1.0,1.0,1.0,1.0,1.0,1.0,1.0,1.0,1.0,1.0,1.0,1.0,1.0,1.0,1.0,1.0,1.0,1.0,1.0,1.0,1.0,1.0,1.0,1.0,1.0,1.0,1.0,1.0,1.0,1.0,1.0,1.0,1.0,1.0,1.0,1.0,1.0,1.0,1.0,1.0,1.0,1.0,1.0,1.0,1.0,1.0,1.0,1.0,1.0,1.0,1.0,1.0,1.0,1.0,1.0,1.0,1.0,1.0,1.0,1.0,1.0,1.0,1.0,1.0,1.0,1.0,1.0,1.0,1.0,1.0,1.0,1.0,1.0,1.0,1.0,1.0,1.0,1.0,1.0,1.0,1.0,1.0,1.0,1.0,1.0,1.0,1.0,1.0,1.0,1.0,1.0,1.0,1.0,1.0,1.0,1.0,1.0,1.0,1.0,1.0,1.0,1.0,1.0,1.0,1.0,1.0,1.0,1.0,1.0,1.0,1.0,1.0,1.0,1.0,1.0,1.0,1.0,1.0,1.0,1.0,1.0,1.0,1.0,1.0,1.0,1.0,1.0,1.0,1.0,1.0,1.0,1.0,1.0,1.0,1.0,1.0,1.0,1.0,1.0,1.0,1.0,1.0,1.0,1.0,1.0,1.0,1.0,1.0,1.0,1.0,1.0,1.0,1.0,1.0,1.0,1.0,1.0,1.0,1.0,1.0,1.0,1.0,1.0,1.0,1.0,1.0,1.0,1.0,1.0,1.0,1.0,1.0,1.0,1.0,1.0,1.0,1.0,1.0,1.0,1.0,1.0,1.0,1.0,1.0,1.0,1.0,1.0,1.0,1.0,1.0,1.0,1.0,1.0,1.0,1.0,1.0,1.0,1.0,1.0,1.0,1.0,1.0,1.0,1.0,1.0,1.0,1.0,1.0,1.0,1.0,1.0,1.0,1.0,1.0,1.0,1.0,1.0,1.0,1.0,1.0,1.0,1.0,1.0,1.0,1.0,1.0,1.0,1.0,1.0,1.0,1.0,1.0,1.0,1.0,1.0,1.0,1.0,1.0,1.0,1.0,1.0,1.0,1.0,1.0,1.0,1.0,1.0,1.0,1.0,1.0,1.0,1.0,1.0,1.0,1.0,1.0,1.0,1.0,1.0,1.0,1.0,1.0,1.0,1.0,1.0,1.0,1.0,1.0,1.0,1.0,1.0,1.0,1.0,1.0,1.0,1.0,1.0,1.0,1.0,1.0],\"type\":\"pie\"}],                        {\"template\":{\"data\":{\"histogram2dcontour\":[{\"type\":\"histogram2dcontour\",\"colorbar\":{\"outlinewidth\":0,\"ticks\":\"\"},\"colorscale\":[[0.0,\"#0d0887\"],[0.1111111111111111,\"#46039f\"],[0.2222222222222222,\"#7201a8\"],[0.3333333333333333,\"#9c179e\"],[0.4444444444444444,\"#bd3786\"],[0.5555555555555556,\"#d8576b\"],[0.6666666666666666,\"#ed7953\"],[0.7777777777777778,\"#fb9f3a\"],[0.8888888888888888,\"#fdca26\"],[1.0,\"#f0f921\"]]}],\"choropleth\":[{\"type\":\"choropleth\",\"colorbar\":{\"outlinewidth\":0,\"ticks\":\"\"}}],\"histogram2d\":[{\"type\":\"histogram2d\",\"colorbar\":{\"outlinewidth\":0,\"ticks\":\"\"},\"colorscale\":[[0.0,\"#0d0887\"],[0.1111111111111111,\"#46039f\"],[0.2222222222222222,\"#7201a8\"],[0.3333333333333333,\"#9c179e\"],[0.4444444444444444,\"#bd3786\"],[0.5555555555555556,\"#d8576b\"],[0.6666666666666666,\"#ed7953\"],[0.7777777777777778,\"#fb9f3a\"],[0.8888888888888888,\"#fdca26\"],[1.0,\"#f0f921\"]]}],\"heatmap\":[{\"type\":\"heatmap\",\"colorbar\":{\"outlinewidth\":0,\"ticks\":\"\"},\"colorscale\":[[0.0,\"#0d0887\"],[0.1111111111111111,\"#46039f\"],[0.2222222222222222,\"#7201a8\"],[0.3333333333333333,\"#9c179e\"],[0.4444444444444444,\"#bd3786\"],[0.5555555555555556,\"#d8576b\"],[0.6666666666666666,\"#ed7953\"],[0.7777777777777778,\"#fb9f3a\"],[0.8888888888888888,\"#fdca26\"],[1.0,\"#f0f921\"]]}],\"heatmapgl\":[{\"type\":\"heatmapgl\",\"colorbar\":{\"outlinewidth\":0,\"ticks\":\"\"},\"colorscale\":[[0.0,\"#0d0887\"],[0.1111111111111111,\"#46039f\"],[0.2222222222222222,\"#7201a8\"],[0.3333333333333333,\"#9c179e\"],[0.4444444444444444,\"#bd3786\"],[0.5555555555555556,\"#d8576b\"],[0.6666666666666666,\"#ed7953\"],[0.7777777777777778,\"#fb9f3a\"],[0.8888888888888888,\"#fdca26\"],[1.0,\"#f0f921\"]]}],\"contourcarpet\":[{\"type\":\"contourcarpet\",\"colorbar\":{\"outlinewidth\":0,\"ticks\":\"\"}}],\"contour\":[{\"type\":\"contour\",\"colorbar\":{\"outlinewidth\":0,\"ticks\":\"\"},\"colorscale\":[[0.0,\"#0d0887\"],[0.1111111111111111,\"#46039f\"],[0.2222222222222222,\"#7201a8\"],[0.3333333333333333,\"#9c179e\"],[0.4444444444444444,\"#bd3786\"],[0.5555555555555556,\"#d8576b\"],[0.6666666666666666,\"#ed7953\"],[0.7777777777777778,\"#fb9f3a\"],[0.8888888888888888,\"#fdca26\"],[1.0,\"#f0f921\"]]}],\"surface\":[{\"type\":\"surface\",\"colorbar\":{\"outlinewidth\":0,\"ticks\":\"\"},\"colorscale\":[[0.0,\"#0d0887\"],[0.1111111111111111,\"#46039f\"],[0.2222222222222222,\"#7201a8\"],[0.3333333333333333,\"#9c179e\"],[0.4444444444444444,\"#bd3786\"],[0.5555555555555556,\"#d8576b\"],[0.6666666666666666,\"#ed7953\"],[0.7777777777777778,\"#fb9f3a\"],[0.8888888888888888,\"#fdca26\"],[1.0,\"#f0f921\"]]}],\"mesh3d\":[{\"type\":\"mesh3d\",\"colorbar\":{\"outlinewidth\":0,\"ticks\":\"\"}}],\"scatter\":[{\"fillpattern\":{\"fillmode\":\"overlay\",\"size\":10,\"solidity\":0.2},\"type\":\"scatter\"}],\"parcoords\":[{\"type\":\"parcoords\",\"line\":{\"colorbar\":{\"outlinewidth\":0,\"ticks\":\"\"}}}],\"scatterpolargl\":[{\"type\":\"scatterpolargl\",\"marker\":{\"colorbar\":{\"outlinewidth\":0,\"ticks\":\"\"}}}],\"bar\":[{\"error_x\":{\"color\":\"#2a3f5f\"},\"error_y\":{\"color\":\"#2a3f5f\"},\"marker\":{\"line\":{\"color\":\"#E5ECF6\",\"width\":0.5},\"pattern\":{\"fillmode\":\"overlay\",\"size\":10,\"solidity\":0.2}},\"type\":\"bar\"}],\"scattergeo\":[{\"type\":\"scattergeo\",\"marker\":{\"colorbar\":{\"outlinewidth\":0,\"ticks\":\"\"}}}],\"scatterpolar\":[{\"type\":\"scatterpolar\",\"marker\":{\"colorbar\":{\"outlinewidth\":0,\"ticks\":\"\"}}}],\"histogram\":[{\"marker\":{\"pattern\":{\"fillmode\":\"overlay\",\"size\":10,\"solidity\":0.2}},\"type\":\"histogram\"}],\"scattergl\":[{\"type\":\"scattergl\",\"marker\":{\"colorbar\":{\"outlinewidth\":0,\"ticks\":\"\"}}}],\"scatter3d\":[{\"type\":\"scatter3d\",\"line\":{\"colorbar\":{\"outlinewidth\":0,\"ticks\":\"\"}},\"marker\":{\"colorbar\":{\"outlinewidth\":0,\"ticks\":\"\"}}}],\"scattermapbox\":[{\"type\":\"scattermapbox\",\"marker\":{\"colorbar\":{\"outlinewidth\":0,\"ticks\":\"\"}}}],\"scatterternary\":[{\"type\":\"scatterternary\",\"marker\":{\"colorbar\":{\"outlinewidth\":0,\"ticks\":\"\"}}}],\"scattercarpet\":[{\"type\":\"scattercarpet\",\"marker\":{\"colorbar\":{\"outlinewidth\":0,\"ticks\":\"\"}}}],\"carpet\":[{\"aaxis\":{\"endlinecolor\":\"#2a3f5f\",\"gridcolor\":\"white\",\"linecolor\":\"white\",\"minorgridcolor\":\"white\",\"startlinecolor\":\"#2a3f5f\"},\"baxis\":{\"endlinecolor\":\"#2a3f5f\",\"gridcolor\":\"white\",\"linecolor\":\"white\",\"minorgridcolor\":\"white\",\"startlinecolor\":\"#2a3f5f\"},\"type\":\"carpet\"}],\"table\":[{\"cells\":{\"fill\":{\"color\":\"#EBF0F8\"},\"line\":{\"color\":\"white\"}},\"header\":{\"fill\":{\"color\":\"#C8D4E3\"},\"line\":{\"color\":\"white\"}},\"type\":\"table\"}],\"barpolar\":[{\"marker\":{\"line\":{\"color\":\"#E5ECF6\",\"width\":0.5},\"pattern\":{\"fillmode\":\"overlay\",\"size\":10,\"solidity\":0.2}},\"type\":\"barpolar\"}],\"pie\":[{\"automargin\":true,\"type\":\"pie\"}]},\"layout\":{\"autotypenumbers\":\"strict\",\"colorway\":[\"#636efa\",\"#EF553B\",\"#00cc96\",\"#ab63fa\",\"#FFA15A\",\"#19d3f3\",\"#FF6692\",\"#B6E880\",\"#FF97FF\",\"#FECB52\"],\"font\":{\"color\":\"#2a3f5f\"},\"hovermode\":\"closest\",\"hoverlabel\":{\"align\":\"left\"},\"paper_bgcolor\":\"white\",\"plot_bgcolor\":\"#E5ECF6\",\"polar\":{\"bgcolor\":\"#E5ECF6\",\"angularaxis\":{\"gridcolor\":\"white\",\"linecolor\":\"white\",\"ticks\":\"\"},\"radialaxis\":{\"gridcolor\":\"white\",\"linecolor\":\"white\",\"ticks\":\"\"}},\"ternary\":{\"bgcolor\":\"#E5ECF6\",\"aaxis\":{\"gridcolor\":\"white\",\"linecolor\":\"white\",\"ticks\":\"\"},\"baxis\":{\"gridcolor\":\"white\",\"linecolor\":\"white\",\"ticks\":\"\"},\"caxis\":{\"gridcolor\":\"white\",\"linecolor\":\"white\",\"ticks\":\"\"}},\"coloraxis\":{\"colorbar\":{\"outlinewidth\":0,\"ticks\":\"\"}},\"colorscale\":{\"sequential\":[[0.0,\"#0d0887\"],[0.1111111111111111,\"#46039f\"],[0.2222222222222222,\"#7201a8\"],[0.3333333333333333,\"#9c179e\"],[0.4444444444444444,\"#bd3786\"],[0.5555555555555556,\"#d8576b\"],[0.6666666666666666,\"#ed7953\"],[0.7777777777777778,\"#fb9f3a\"],[0.8888888888888888,\"#fdca26\"],[1.0,\"#f0f921\"]],\"sequentialminus\":[[0.0,\"#0d0887\"],[0.1111111111111111,\"#46039f\"],[0.2222222222222222,\"#7201a8\"],[0.3333333333333333,\"#9c179e\"],[0.4444444444444444,\"#bd3786\"],[0.5555555555555556,\"#d8576b\"],[0.6666666666666666,\"#ed7953\"],[0.7777777777777778,\"#fb9f3a\"],[0.8888888888888888,\"#fdca26\"],[1.0,\"#f0f921\"]],\"diverging\":[[0,\"#8e0152\"],[0.1,\"#c51b7d\"],[0.2,\"#de77ae\"],[0.3,\"#f1b6da\"],[0.4,\"#fde0ef\"],[0.5,\"#f7f7f7\"],[0.6,\"#e6f5d0\"],[0.7,\"#b8e186\"],[0.8,\"#7fbc41\"],[0.9,\"#4d9221\"],[1,\"#276419\"]]},\"xaxis\":{\"gridcolor\":\"white\",\"linecolor\":\"white\",\"ticks\":\"\",\"title\":{\"standoff\":15},\"zerolinecolor\":\"white\",\"automargin\":true,\"zerolinewidth\":2},\"yaxis\":{\"gridcolor\":\"white\",\"linecolor\":\"white\",\"ticks\":\"\",\"title\":{\"standoff\":15},\"zerolinecolor\":\"white\",\"automargin\":true,\"zerolinewidth\":2},\"scene\":{\"xaxis\":{\"backgroundcolor\":\"#E5ECF6\",\"gridcolor\":\"white\",\"linecolor\":\"white\",\"showbackground\":true,\"ticks\":\"\",\"zerolinecolor\":\"white\",\"gridwidth\":2},\"yaxis\":{\"backgroundcolor\":\"#E5ECF6\",\"gridcolor\":\"white\",\"linecolor\":\"white\",\"showbackground\":true,\"ticks\":\"\",\"zerolinecolor\":\"white\",\"gridwidth\":2},\"zaxis\":{\"backgroundcolor\":\"#E5ECF6\",\"gridcolor\":\"white\",\"linecolor\":\"white\",\"showbackground\":true,\"ticks\":\"\",\"zerolinecolor\":\"white\",\"gridwidth\":2}},\"shapedefaults\":{\"line\":{\"color\":\"#2a3f5f\"}},\"annotationdefaults\":{\"arrowcolor\":\"#2a3f5f\",\"arrowhead\":0,\"arrowwidth\":1},\"geo\":{\"bgcolor\":\"white\",\"landcolor\":\"#E5ECF6\",\"subunitcolor\":\"white\",\"showland\":true,\"showlakes\":true,\"lakecolor\":\"white\"},\"title\":{\"x\":0.05},\"mapbox\":{\"style\":\"light\"}}},\"legend\":{\"tracegroupgap\":0},\"title\":{\"text\":\"Best Sub-Category\"},\"piecolorway\":[\"#0d0887\",\"#46039f\",\"#7201a8\",\"#9c179e\",\"#bd3786\",\"#d8576b\",\"#ed7953\",\"#fb9f3a\",\"#fdca26\",\"#f0f921\"]},                        {\"responsive\": true}                    ).then(function(){\n",
       "                            \n",
       "var gd = document.getElementById('0b9ab3de-39bf-4fa7-87ce-ecb057090a9e');\n",
       "var x = new MutationObserver(function (mutations, observer) {{\n",
       "        var display = window.getComputedStyle(gd).display;\n",
       "        if (!display || display === 'none') {{\n",
       "            console.log([gd, 'removed!']);\n",
       "            Plotly.purge(gd);\n",
       "            observer.disconnect();\n",
       "        }}\n",
       "}});\n",
       "\n",
       "// Listen for the removal of the full notebook cells\n",
       "var notebookContainer = gd.closest('#notebook-container');\n",
       "if (notebookContainer) {{\n",
       "    x.observe(notebookContainer, {childList: true});\n",
       "}}\n",
       "\n",
       "// Listen for the clearing of the current output cell\n",
       "var outputEl = gd.closest('.output');\n",
       "if (outputEl) {{\n",
       "    x.observe(outputEl, {childList: true});\n",
       "}}\n",
       "\n",
       "                        })                };                });            </script>        </div>"
      ]
     },
     "metadata": {},
     "output_type": "display_data"
    }
   ],
   "source": [
    "df_sub_category = px.pie(df, values=np.ones(9799),names='Sub-Category',title='Best Sub-Category',color_discrete_sequence=px.colors.sequential.Plasma)\n",
    "df_sub_category.show()"
   ]
  },
  {
   "cell_type": "markdown",
   "id": "82eec226",
   "metadata": {
    "papermill": {
     "duration": 0.023854,
     "end_time": "2023-08-03T15:12:49.676456",
     "exception": false,
     "start_time": "2023-08-03T15:12:49.652602",
     "status": "completed"
    },
    "tags": []
   },
   "source": [
    "<font size=\"5\">Binders have the most sales in sub-category</font>"
   ]
  },
  {
   "cell_type": "markdown",
   "id": "1464ec81",
   "metadata": {
    "papermill": {
     "duration": 0.022845,
     "end_time": "2023-08-03T15:12:49.722615",
     "exception": false,
     "start_time": "2023-08-03T15:12:49.699770",
     "status": "completed"
    },
    "tags": []
   },
   "source": [
    "**<font size=\"5\">Best Region</font>**"
   ]
  },
  {
   "cell_type": "code",
   "execution_count": 26,
   "id": "8f3b063a",
   "metadata": {
    "execution": {
     "iopub.execute_input": "2023-08-03T15:12:49.773060Z",
     "iopub.status.busy": "2023-08-03T15:12:49.772574Z",
     "iopub.status.idle": "2023-08-03T15:12:49.868075Z",
     "shell.execute_reply": "2023-08-03T15:12:49.866624Z"
    },
    "papermill": {
     "duration": 0.12558,
     "end_time": "2023-08-03T15:12:49.873324",
     "exception": false,
     "start_time": "2023-08-03T15:12:49.747744",
     "status": "completed"
    },
    "tags": []
   },
   "outputs": [
    {
     "data": {
      "text/html": [
       "<div>                            <div id=\"c2187b2c-366e-4706-afdc-3b1b1f5b8b26\" class=\"plotly-graph-div\" style=\"height:525px; width:100%;\"></div>            <script type=\"text/javascript\">                require([\"plotly\"], function(Plotly) {                    window.PLOTLYENV=window.PLOTLYENV || {};                                    if (document.getElementById(\"c2187b2c-366e-4706-afdc-3b1b1f5b8b26\")) {                    Plotly.newPlot(                        \"c2187b2c-366e-4706-afdc-3b1b1f5b8b26\",                        [{\"domain\":{\"x\":[0.0,1.0],\"y\":[0.0,1.0]},\"hovertemplate\":\"Region=%{label}\\u003cbr\\u003evalue=%{value}\\u003cextra\\u003e\\u003c\\u002fextra\\u003e\",\"labels\":[\"South\",\"South\",\"West\",\"South\",\"South\",\"West\",\"West\",\"West\",\"West\",\"West\",\"West\",\"West\",\"South\",\"West\",\"Central\",\"Central\",\"Central\",\"West\",\"West\",\"West\",\"West\",\"Central\",\"Central\",\"East\",\"West\",\"West\",\"West\",\"East\",\"East\",\"East\",\"East\",\"East\",\"East\",\"East\",\"Central\",\"Central\",\"Central\",\"Central\",\"Central\",\"Central\",\"Central\",\"Central\",\"West\",\"South\",\"Central\",\"Central\",\"Central\",\"East\",\"East\",\"Central\",\"Central\",\"Central\",\"Central\",\"East\",\"East\",\"East\",\"East\",\"East\",\"East\",\"East\",\"East\",\"East\",\"West\",\"West\",\"West\",\"West\",\"Central\",\"West\",\"West\",\"South\",\"East\",\"Central\",\"South\",\"South\",\"South\",\"Central\",\"Central\",\"Central\",\"Central\",\"South\",\"South\",\"West\",\"West\",\"South\",\"Central\",\"South\",\"Central\",\"Central\",\"Central\",\"West\",\"West\",\"West\",\"Central\",\"Central\",\"Central\",\"West\",\"East\",\"West\",\"Central\",\"Central\",\"Central\",\"Central\",\"Central\",\"West\",\"West\",\"West\",\"South\",\"South\",\"South\",\"Central\",\"East\",\"Central\",\"Central\",\"East\",\"East\",\"East\",\"East\",\"West\",\"South\",\"East\",\"East\",\"East\",\"East\",\"East\",\"Central\",\"Central\",\"West\",\"West\",\"West\",\"West\",\"East\",\"East\",\"East\",\"West\",\"West\",\"West\",\"West\",\"West\",\"West\",\"West\",\"East\",\"West\",\"West\",\"West\",\"Central\",\"West\",\"East\",\"Central\",\"Central\",\"Central\",\"Central\",\"West\",\"West\",\"West\",\"West\",\"West\",\"West\",\"West\",\"Central\",\"Central\",\"West\",\"East\",\"West\",\"West\",\"Central\",\"Central\",\"Central\",\"Central\",\"Central\",\"Central\",\"Central\",\"West\",\"West\",\"West\",\"Central\",\"Central\",\"Central\",\"East\",\"East\",\"East\",\"Central\",\"Central\",\"South\",\"South\",\"South\",\"East\",\"West\",\"Central\",\"Central\",\"East\",\"East\",\"East\",\"East\",\"East\",\"West\",\"East\",\"East\",\"East\",\"East\",\"East\",\"East\",\"West\",\"West\",\"Central\",\"South\",\"West\",\"Central\",\"Central\",\"Central\",\"Central\",\"Central\",\"Central\",\"East\",\"East\",\"East\",\"East\",\"East\",\"West\",\"West\",\"East\",\"East\",\"East\",\"East\",\"East\",\"East\",\"Central\",\"Central\",\"Central\",\"South\",\"South\",\"South\",\"South\",\"South\",\"South\",\"South\",\"South\",\"West\",\"Central\",\"Central\",\"Central\",\"Central\",\"Central\",\"Central\",\"Central\",\"Central\",\"Central\",\"Central\",\"Central\",\"Central\",\"West\",\"West\",\"West\",\"East\",\"East\",\"Central\",\"Central\",\"Central\",\"Central\",\"East\",\"East\",\"East\",\"Central\",\"Central\",\"Central\",\"Central\",\"West\",\"South\",\"East\",\"East\",\"East\",\"West\",\"West\",\"West\",\"West\",\"West\",\"West\",\"East\",\"East\",\"East\",\"East\",\"Central\",\"Central\",\"West\",\"West\",\"West\",\"West\",\"South\",\"South\",\"South\",\"East\",\"East\",\"East\",\"East\",\"West\",\"West\",\"West\",\"West\",\"West\",\"East\",\"East\",\"East\",\"East\",\"East\",\"Central\",\"East\",\"Central\",\"East\",\"East\",\"South\",\"West\",\"West\",\"West\",\"West\",\"East\",\"South\",\"South\",\"East\",\"East\",\"East\",\"East\",\"East\",\"East\",\"West\",\"West\",\"West\",\"South\",\"East\",\"East\",\"East\",\"East\",\"East\",\"East\",\"East\",\"East\",\"West\",\"West\",\"West\",\"West\",\"West\",\"West\",\"East\",\"East\",\"East\",\"East\",\"Central\",\"West\",\"East\",\"East\",\"East\",\"East\",\"East\",\"East\",\"East\",\"East\",\"East\",\"East\",\"East\",\"East\",\"South\",\"South\",\"South\",\"East\",\"East\",\"East\",\"East\",\"West\",\"East\",\"East\",\"East\",\"East\",\"Central\",\"Central\",\"West\",\"West\",\"West\",\"West\",\"Central\",\"East\",\"Central\",\"Central\",\"Central\",\"West\",\"West\",\"Central\",\"South\",\"South\",\"East\",\"East\",\"East\",\"East\",\"East\",\"West\",\"West\",\"Central\",\"West\",\"East\",\"East\",\"Central\",\"Central\",\"Central\",\"Central\",\"Central\",\"South\",\"South\",\"East\",\"West\",\"West\",\"West\",\"West\",\"West\",\"West\",\"West\",\"West\",\"West\",\"West\",\"West\",\"West\",\"West\",\"South\",\"West\",\"West\",\"West\",\"East\",\"East\",\"South\",\"Central\",\"Central\",\"East\",\"Central\",\"South\",\"South\",\"South\",\"South\",\"East\",\"South\",\"South\",\"Central\",\"Central\",\"Central\",\"East\",\"Central\",\"Central\",\"Central\",\"Central\",\"Central\",\"Central\",\"Central\",\"East\",\"East\",\"East\",\"East\",\"East\",\"East\",\"East\",\"East\",\"Central\",\"West\",\"Central\",\"Central\",\"West\",\"West\",\"West\",\"West\",\"West\",\"West\",\"West\",\"West\",\"Central\",\"Central\",\"Central\",\"East\",\"West\",\"West\",\"West\",\"West\",\"West\",\"West\",\"West\",\"East\",\"East\",\"East\",\"West\",\"East\",\"East\",\"West\",\"West\",\"West\",\"Central\",\"Central\",\"Central\",\"Central\",\"East\",\"East\",\"West\",\"South\",\"South\",\"West\",\"West\",\"West\",\"West\",\"West\",\"West\",\"West\",\"West\",\"West\",\"East\",\"South\",\"South\",\"South\",\"South\",\"Central\",\"Central\",\"East\",\"West\",\"West\",\"West\",\"West\",\"West\",\"West\",\"Central\",\"Central\",\"Central\",\"Central\",\"West\",\"West\",\"East\",\"South\",\"South\",\"East\",\"East\",\"East\",\"West\",\"West\",\"South\",\"South\",\"West\",\"Central\",\"East\",\"South\",\"South\",\"Central\",\"West\",\"East\",\"Central\",\"Central\",\"Central\",\"East\",\"East\",\"Central\",\"Central\",\"Central\",\"West\",\"South\",\"Central\",\"West\",\"South\",\"West\",\"West\",\"West\",\"West\",\"West\",\"South\",\"South\",\"West\",\"West\",\"West\",\"West\",\"West\",\"West\",\"West\",\"East\",\"East\",\"East\",\"East\",\"West\",\"West\",\"West\",\"West\",\"Central\",\"Central\",\"West\",\"West\",\"West\",\"West\",\"West\",\"West\",\"South\",\"South\",\"West\",\"West\",\"West\",\"West\",\"Central\",\"Central\",\"West\",\"West\",\"West\",\"West\",\"East\",\"East\",\"East\",\"East\",\"South\",\"South\",\"South\",\"South\",\"South\",\"East\",\"East\",\"East\",\"Central\",\"Central\",\"East\",\"East\",\"East\",\"East\",\"East\",\"East\",\"East\",\"East\",\"East\",\"Central\",\"Central\",\"Central\",\"Central\",\"Central\",\"East\",\"West\",\"West\",\"West\",\"West\",\"West\",\"West\",\"South\",\"South\",\"South\",\"West\",\"West\",\"West\",\"West\",\"Central\",\"West\",\"West\",\"Central\",\"East\",\"Central\",\"West\",\"West\",\"West\",\"West\",\"West\",\"East\",\"East\",\"East\",\"East\",\"East\",\"East\",\"Central\",\"Central\",\"Central\",\"Central\",\"Central\",\"Central\",\"East\",\"South\",\"Central\",\"Central\",\"Central\",\"East\",\"Central\",\"Central\",\"Central\",\"Central\",\"Central\",\"Central\",\"Central\",\"Central\",\"Central\",\"Central\",\"Central\",\"East\",\"East\",\"East\",\"South\",\"South\",\"South\",\"South\",\"South\",\"East\",\"South\",\"South\",\"South\",\"West\",\"West\",\"East\",\"East\",\"East\",\"East\",\"East\",\"East\",\"East\",\"East\",\"West\",\"West\",\"South\",\"South\",\"South\",\"East\",\"East\",\"East\",\"East\",\"South\",\"East\",\"East\",\"East\",\"West\",\"East\",\"East\",\"West\",\"West\",\"West\",\"Central\",\"Central\",\"East\",\"South\",\"Central\",\"Central\",\"East\",\"East\",\"East\",\"East\",\"East\",\"West\",\"West\",\"West\",\"West\",\"West\",\"West\",\"West\",\"Central\",\"Central\",\"Central\",\"Central\",\"Central\",\"Central\",\"Central\",\"West\",\"West\",\"Central\",\"Central\",\"Central\",\"Central\",\"Central\",\"West\",\"West\",\"South\",\"Central\",\"Central\",\"East\",\"Central\",\"West\",\"South\",\"East\",\"South\",\"South\",\"South\",\"South\",\"South\",\"South\",\"South\",\"Central\",\"Central\",\"Central\",\"Central\",\"Central\",\"Central\",\"East\",\"West\",\"West\",\"West\",\"West\",\"East\",\"East\",\"East\",\"East\",\"South\",\"West\",\"West\",\"South\",\"South\",\"South\",\"South\",\"South\",\"West\",\"West\",\"Central\",\"East\",\"East\",\"East\",\"West\",\"West\",\"West\",\"East\",\"South\",\"West\",\"West\",\"West\",\"Central\",\"Central\",\"West\",\"West\",\"West\",\"West\",\"West\",\"West\",\"Central\",\"East\",\"East\",\"East\",\"East\",\"East\",\"East\",\"East\",\"East\",\"West\",\"West\",\"Central\",\"Central\",\"Central\",\"South\",\"South\",\"South\",\"South\",\"South\",\"South\",\"South\",\"Central\",\"South\",\"Central\",\"East\",\"East\",\"East\",\"West\",\"West\",\"West\",\"West\",\"South\",\"South\",\"East\",\"East\",\"West\",\"West\",\"South\",\"East\",\"East\",\"East\",\"East\",\"East\",\"East\",\"East\",\"West\",\"West\",\"South\",\"South\",\"South\",\"South\",\"South\",\"East\",\"East\",\"East\",\"East\",\"East\",\"East\",\"East\",\"South\",\"East\",\"East\",\"East\",\"East\",\"East\",\"East\",\"South\",\"West\",\"Central\",\"East\",\"West\",\"West\",\"East\",\"West\",\"East\",\"East\",\"Central\",\"Central\",\"Central\",\"West\",\"West\",\"Central\",\"Central\",\"East\",\"East\",\"Central\",\"Central\",\"Central\",\"West\",\"West\",\"West\",\"East\",\"East\",\"East\",\"Central\",\"Central\",\"Central\",\"East\",\"Central\",\"Central\",\"Central\",\"Central\",\"Central\",\"Central\",\"Central\",\"South\",\"East\",\"East\",\"East\",\"East\",\"East\",\"East\",\"South\",\"South\",\"East\",\"East\",\"East\",\"East\",\"East\",\"East\",\"East\",\"East\",\"West\",\"West\",\"West\",\"West\",\"West\",\"West\",\"West\",\"West\",\"West\",\"West\",\"East\",\"East\",\"East\",\"East\",\"East\",\"East\",\"Central\",\"Central\",\"South\",\"West\",\"West\",\"West\",\"West\",\"West\",\"South\",\"West\",\"South\",\"East\",\"East\",\"East\",\"East\",\"East\",\"East\",\"East\",\"East\",\"East\",\"East\",\"East\",\"East\",\"West\",\"Central\",\"South\",\"Central\",\"East\",\"West\",\"West\",\"West\",\"Central\",\"Central\",\"Central\",\"Central\",\"East\",\"East\",\"South\",\"East\",\"West\",\"West\",\"South\",\"South\",\"South\",\"South\",\"South\",\"South\",\"West\",\"East\",\"East\",\"East\",\"West\",\"South\",\"West\",\"West\",\"Central\",\"Central\",\"West\",\"West\",\"West\",\"West\",\"West\",\"West\",\"East\",\"East\",\"East\",\"East\",\"East\",\"East\",\"East\",\"East\",\"West\",\"East\",\"East\",\"East\",\"East\",\"East\",\"East\",\"East\",\"East\",\"East\",\"East\",\"East\",\"Central\",\"West\",\"South\",\"South\",\"Central\",\"East\",\"East\",\"Central\",\"Central\",\"Central\",\"South\",\"South\",\"West\",\"West\",\"East\",\"East\",\"East\",\"East\",\"East\",\"East\",\"East\",\"West\",\"West\",\"East\",\"Central\",\"East\",\"East\",\"East\",\"East\",\"East\",\"East\",\"West\",\"Central\",\"East\",\"West\",\"West\",\"East\",\"West\",\"West\",\"West\",\"Central\",\"West\",\"West\",\"West\",\"Central\",\"Central\",\"East\",\"East\",\"East\",\"East\",\"Central\",\"West\",\"West\",\"South\",\"South\",\"West\",\"West\",\"East\",\"East\",\"South\",\"South\",\"West\",\"West\",\"West\",\"West\",\"West\",\"Central\",\"Central\",\"West\",\"Central\",\"Central\",\"Central\",\"Central\",\"Central\",\"Central\",\"Central\",\"Central\",\"West\",\"West\",\"West\",\"West\",\"South\",\"South\",\"South\",\"South\",\"South\",\"South\",\"South\",\"South\",\"South\",\"South\",\"Central\",\"Central\",\"South\",\"South\",\"South\",\"West\",\"East\",\"East\",\"South\",\"Central\",\"Central\",\"Central\",\"Central\",\"Central\",\"West\",\"West\",\"West\",\"West\",\"West\",\"Central\",\"Central\",\"Central\",\"Central\",\"Central\",\"East\",\"West\",\"West\",\"South\",\"South\",\"South\",\"South\",\"West\",\"Central\",\"Central\",\"West\",\"East\",\"East\",\"East\",\"Central\",\"West\",\"East\",\"East\",\"East\",\"East\",\"Central\",\"West\",\"Central\",\"East\",\"East\",\"West\",\"East\",\"East\",\"Central\",\"East\",\"East\",\"South\",\"South\",\"West\",\"West\",\"West\",\"West\",\"West\",\"West\",\"West\",\"West\",\"West\",\"South\",\"South\",\"South\",\"South\",\"Central\",\"Central\",\"Central\",\"West\",\"West\",\"West\",\"West\",\"West\",\"South\",\"East\",\"East\",\"East\",\"East\",\"East\",\"East\",\"East\",\"East\",\"East\",\"East\",\"East\",\"East\",\"East\",\"East\",\"West\",\"West\",\"East\",\"East\",\"East\",\"East\",\"East\",\"East\",\"West\",\"West\",\"West\",\"East\",\"East\",\"East\",\"South\",\"South\",\"South\",\"South\",\"West\",\"West\",\"West\",\"East\",\"East\",\"East\",\"South\",\"West\",\"West\",\"West\",\"East\",\"East\",\"East\",\"East\",\"Central\",\"East\",\"East\",\"East\",\"East\",\"South\",\"South\",\"South\",\"South\",\"South\",\"East\",\"Central\",\"Central\",\"West\",\"West\",\"West\",\"West\",\"South\",\"Central\",\"Central\",\"Central\",\"Central\",\"Central\",\"Central\",\"Central\",\"Central\",\"South\",\"South\",\"Central\",\"South\",\"South\",\"South\",\"Central\",\"East\",\"East\",\"East\",\"East\",\"East\",\"West\",\"West\",\"West\",\"West\",\"West\",\"West\",\"West\",\"West\",\"Central\",\"West\",\"South\",\"South\",\"South\",\"South\",\"South\",\"Central\",\"West\",\"West\",\"West\",\"West\",\"West\",\"East\",\"East\",\"East\",\"West\",\"West\",\"West\",\"East\",\"South\",\"South\",\"East\",\"East\",\"South\",\"South\",\"East\",\"Central\",\"East\",\"East\",\"West\",\"West\",\"East\",\"East\",\"Central\",\"Central\",\"West\",\"East\",\"West\",\"East\",\"East\",\"East\",\"South\",\"South\",\"South\",\"East\",\"East\",\"Central\",\"Central\",\"Central\",\"Central\",\"Central\",\"Central\",\"South\",\"West\",\"West\",\"West\",\"Central\",\"Central\",\"South\",\"Central\",\"West\",\"East\",\"East\",\"East\",\"West\",\"West\",\"West\",\"West\",\"West\",\"West\",\"West\",\"West\",\"East\",\"West\",\"West\",\"West\",\"West\",\"West\",\"West\",\"West\",\"West\",\"West\",\"Central\",\"South\",\"South\",\"South\",\"South\",\"South\",\"South\",\"South\",\"South\",\"South\",\"South\",\"South\",\"South\",\"Central\",\"Central\",\"East\",\"East\",\"East\",\"East\",\"South\",\"South\",\"East\",\"East\",\"East\",\"East\",\"East\",\"East\",\"East\",\"West\",\"Central\",\"East\",\"East\",\"East\",\"West\",\"West\",\"Central\",\"Central\",\"Central\",\"West\",\"West\",\"West\",\"West\",\"West\",\"West\",\"West\",\"West\",\"West\",\"West\",\"West\",\"East\",\"South\",\"South\",\"South\",\"West\",\"East\",\"East\",\"Central\",\"Central\",\"East\",\"East\",\"West\",\"South\",\"West\",\"Central\",\"Central\",\"Central\",\"Central\",\"East\",\"West\",\"West\",\"South\",\"South\",\"South\",\"South\",\"South\",\"South\",\"East\",\"Central\",\"East\",\"West\",\"East\",\"Central\",\"Central\",\"East\",\"West\",\"West\",\"South\",\"Central\",\"Central\",\"Central\",\"East\",\"West\",\"Central\",\"East\",\"East\",\"East\",\"South\",\"West\",\"West\",\"West\",\"West\",\"South\",\"South\",\"West\",\"East\",\"West\",\"West\",\"West\",\"East\",\"East\",\"East\",\"East\",\"West\",\"South\",\"Central\",\"Central\",\"Central\",\"West\",\"Central\",\"Central\",\"Central\",\"West\",\"West\",\"West\",\"West\",\"East\",\"South\",\"Central\",\"West\",\"West\",\"West\",\"Central\",\"Central\",\"Central\",\"East\",\"West\",\"West\",\"West\",\"West\",\"Central\",\"West\",\"West\",\"West\",\"West\",\"West\",\"East\",\"East\",\"East\",\"East\",\"South\",\"West\",\"West\",\"East\",\"West\",\"East\",\"East\",\"East\",\"East\",\"East\",\"East\",\"East\",\"East\",\"West\",\"West\",\"East\",\"Central\",\"Central\",\"Central\",\"East\",\"Central\",\"West\",\"Central\",\"South\",\"West\",\"East\",\"East\",\"East\",\"West\",\"West\",\"West\",\"West\",\"East\",\"East\",\"South\",\"West\",\"Central\",\"Central\",\"West\",\"South\",\"West\",\"West\",\"West\",\"West\",\"Central\",\"Central\",\"Central\",\"South\",\"East\",\"East\",\"East\",\"East\",\"East\",\"East\",\"East\",\"East\",\"East\",\"East\",\"East\",\"South\",\"Central\",\"Central\",\"West\",\"West\",\"Central\",\"East\",\"East\",\"Central\",\"Central\",\"Central\",\"Central\",\"East\",\"South\",\"East\",\"West\",\"West\",\"West\",\"West\",\"West\",\"West\",\"West\",\"West\",\"West\",\"West\",\"East\",\"Central\",\"Central\",\"Central\",\"East\",\"East\",\"West\",\"West\",\"West\",\"West\",\"West\",\"West\",\"East\",\"South\",\"East\",\"East\",\"East\",\"East\",\"East\",\"East\",\"East\",\"West\",\"West\",\"West\",\"East\",\"East\",\"East\",\"East\",\"Central\",\"West\",\"West\",\"West\",\"East\",\"East\",\"East\",\"East\",\"West\",\"West\",\"West\",\"West\",\"West\",\"West\",\"West\",\"Central\",\"West\",\"West\",\"West\",\"East\",\"East\",\"Central\",\"Central\",\"Central\",\"Central\",\"Central\",\"Central\",\"East\",\"Central\",\"West\",\"Central\",\"South\",\"Central\",\"Central\",\"West\",\"West\",\"East\",\"East\",\"East\",\"East\",\"West\",\"West\",\"East\",\"East\",\"East\",\"East\",\"East\",\"East\",\"Central\",\"Central\",\"East\",\"Central\",\"East\",\"East\",\"East\",\"West\",\"West\",\"West\",\"East\",\"East\",\"East\",\"West\",\"West\",\"East\",\"West\",\"West\",\"West\",\"West\",\"West\",\"West\",\"Central\",\"Central\",\"West\",\"East\",\"East\",\"East\",\"East\",\"East\",\"East\",\"Central\",\"Central\",\"Central\",\"East\",\"East\",\"East\",\"East\",\"South\",\"South\",\"South\",\"South\",\"Central\",\"Central\",\"South\",\"South\",\"South\",\"West\",\"West\",\"West\",\"West\",\"East\",\"East\",\"East\",\"East\",\"East\",\"South\",\"South\",\"Central\",\"Central\",\"Central\",\"West\",\"West\",\"West\",\"West\",\"Central\",\"Central\",\"Central\",\"Central\",\"East\",\"West\",\"West\",\"West\",\"South\",\"South\",\"South\",\"South\",\"South\",\"South\",\"Central\",\"Central\",\"Central\",\"Central\",\"East\",\"East\",\"East\",\"East\",\"West\",\"West\",\"East\",\"East\",\"East\",\"East\",\"Central\",\"Central\",\"Central\",\"Central\",\"Central\",\"Central\",\"Central\",\"East\",\"Central\",\"Central\",\"Central\",\"Central\",\"East\",\"East\",\"East\",\"West\",\"Central\",\"Central\",\"West\",\"East\",\"East\",\"East\",\"West\",\"West\",\"West\",\"Central\",\"Central\",\"Central\",\"South\",\"East\",\"East\",\"West\",\"West\",\"West\",\"West\",\"Central\",\"Central\",\"Central\",\"Central\",\"Central\",\"Central\",\"West\",\"West\",\"West\",\"South\",\"South\",\"East\",\"Central\",\"Central\",\"South\",\"Central\",\"Central\",\"East\",\"South\",\"South\",\"South\",\"South\",\"South\",\"South\",\"Central\",\"Central\",\"West\",\"East\",\"East\",\"West\",\"West\",\"Central\",\"Central\",\"Central\",\"Central\",\"Central\",\"Central\",\"West\",\"Central\",\"Central\",\"East\",\"East\",\"East\",\"East\",\"Central\",\"West\",\"West\",\"East\",\"West\",\"East\",\"East\",\"West\",\"West\",\"West\",\"West\",\"West\",\"East\",\"East\",\"Central\",\"West\",\"West\",\"South\",\"East\",\"East\",\"East\",\"East\",\"Central\",\"West\",\"South\",\"South\",\"East\",\"East\",\"West\",\"West\",\"South\",\"West\",\"South\",\"West\",\"Central\",\"South\",\"South\",\"South\",\"South\",\"Central\",\"West\",\"West\",\"West\",\"Central\",\"South\",\"South\",\"West\",\"East\",\"West\",\"Central\",\"Central\",\"South\",\"South\",\"South\",\"South\",\"East\",\"Central\",\"East\",\"East\",\"East\",\"Central\",\"Central\",\"West\",\"West\",\"West\",\"West\",\"West\",\"West\",\"West\",\"West\",\"South\",\"South\",\"West\",\"West\",\"West\",\"West\",\"West\",\"West\",\"West\",\"Central\",\"Central\",\"Central\",\"Central\",\"Central\",\"East\",\"East\",\"East\",\"East\",\"East\",\"East\",\"East\",\"East\",\"East\",\"East\",\"East\",\"East\",\"Central\",\"Central\",\"Central\",\"Central\",\"Central\",\"Central\",\"Central\",\"Central\",\"East\",\"East\",\"East\",\"Central\",\"Central\",\"Central\",\"Central\",\"Central\",\"Central\",\"South\",\"South\",\"South\",\"West\",\"West\",\"West\",\"South\",\"Central\",\"West\",\"West\",\"West\",\"East\",\"Central\",\"Central\",\"Central\",\"Central\",\"East\",\"West\",\"West\",\"West\",\"Central\",\"Central\",\"South\",\"South\",\"South\",\"West\",\"West\",\"South\",\"South\",\"Central\",\"Central\",\"Central\",\"Central\",\"South\",\"South\",\"South\",\"Central\",\"Central\",\"South\",\"South\",\"South\",\"West\",\"West\",\"West\",\"West\",\"East\",\"East\",\"East\",\"East\",\"West\",\"West\",\"West\",\"West\",\"East\",\"East\",\"East\",\"East\",\"Central\",\"Central\",\"Central\",\"Central\",\"West\",\"West\",\"West\",\"West\",\"West\",\"West\",\"West\",\"East\",\"Central\",\"East\",\"East\",\"East\",\"East\",\"East\",\"East\",\"East\",\"East\",\"East\",\"Central\",\"Central\",\"Central\",\"Central\",\"Central\",\"West\",\"West\",\"West\",\"West\",\"West\",\"West\",\"West\",\"West\",\"West\",\"West\",\"West\",\"East\",\"West\",\"West\",\"West\",\"West\",\"West\",\"East\",\"East\",\"East\",\"West\",\"West\",\"West\",\"West\",\"Central\",\"East\",\"East\",\"East\",\"East\",\"East\",\"West\",\"East\",\"East\",\"Central\",\"West\",\"South\",\"South\",\"South\",\"South\",\"West\",\"West\",\"West\",\"West\",\"West\",\"East\",\"East\",\"South\",\"Central\",\"West\",\"West\",\"West\",\"West\",\"West\",\"West\",\"West\",\"West\",\"West\",\"East\",\"West\",\"West\",\"West\",\"South\",\"West\",\"Central\",\"Central\",\"East\",\"East\",\"East\",\"East\",\"East\",\"East\",\"East\",\"East\",\"East\",\"East\",\"East\",\"East\",\"Central\",\"Central\",\"East\",\"East\",\"East\",\"East\",\"East\",\"East\",\"East\",\"East\",\"East\",\"East\",\"West\",\"East\",\"Central\",\"Central\",\"East\",\"East\",\"Central\",\"West\",\"Central\",\"Central\",\"South\",\"Central\",\"East\",\"West\",\"West\",\"Central\",\"Central\",\"Central\",\"Central\",\"Central\",\"East\",\"East\",\"East\",\"Central\",\"West\",\"Central\",\"Central\",\"West\",\"West\",\"West\",\"West\",\"East\",\"East\",\"East\",\"East\",\"East\",\"East\",\"West\",\"South\",\"Central\",\"Central\",\"Central\",\"West\",\"West\",\"West\",\"West\",\"West\",\"West\",\"South\",\"South\",\"East\",\"East\",\"South\",\"South\",\"West\",\"West\",\"East\",\"South\",\"Central\",\"Central\",\"East\",\"East\",\"East\",\"Central\",\"East\",\"West\",\"West\",\"West\",\"West\",\"South\",\"West\",\"West\",\"West\",\"East\",\"East\",\"East\",\"East\",\"West\",\"Central\",\"Central\",\"East\",\"West\",\"West\",\"Central\",\"Central\",\"West\",\"East\",\"Central\",\"Central\",\"West\",\"Central\",\"West\",\"West\",\"East\",\"West\",\"West\",\"West\",\"West\",\"West\",\"West\",\"West\",\"West\",\"West\",\"West\",\"West\",\"West\",\"West\",\"East\",\"East\",\"West\",\"West\",\"West\",\"West\",\"East\",\"South\",\"South\",\"South\",\"South\",\"South\",\"West\",\"East\",\"East\",\"South\",\"West\",\"West\",\"West\",\"West\",\"West\",\"South\",\"South\",\"South\",\"West\",\"West\",\"West\",\"East\",\"Central\",\"Central\",\"South\",\"South\",\"East\",\"West\",\"West\",\"South\",\"South\",\"South\",\"East\",\"East\",\"East\",\"East\",\"East\",\"East\",\"East\",\"Central\",\"Central\",\"South\",\"South\",\"South\",\"Central\",\"Central\",\"East\",\"West\",\"West\",\"West\",\"West\",\"West\",\"Central\",\"Central\",\"Central\",\"Central\",\"Central\",\"Central\",\"South\",\"West\",\"South\",\"South\",\"South\",\"South\",\"East\",\"East\",\"East\",\"West\",\"East\",\"West\",\"West\",\"Central\",\"Central\",\"South\",\"East\",\"East\",\"East\",\"East\",\"East\",\"South\",\"East\",\"East\",\"Central\",\"Central\",\"Central\",\"Central\",\"Central\",\"West\",\"West\",\"West\",\"West\",\"West\",\"West\",\"West\",\"West\",\"West\",\"East\",\"East\",\"East\",\"East\",\"East\",\"East\",\"South\",\"South\",\"South\",\"West\",\"East\",\"East\",\"East\",\"East\",\"Central\",\"Central\",\"Central\",\"Central\",\"South\",\"East\",\"East\",\"West\",\"East\",\"East\",\"East\",\"West\",\"West\",\"West\",\"West\",\"West\",\"West\",\"West\",\"East\",\"East\",\"East\",\"East\",\"East\",\"East\",\"East\",\"East\",\"West\",\"West\",\"South\",\"South\",\"Central\",\"Central\",\"Central\",\"West\",\"West\",\"West\",\"West\",\"West\",\"West\",\"East\",\"West\",\"West\",\"West\",\"Central\",\"East\",\"West\",\"West\",\"West\",\"West\",\"West\",\"Central\",\"Central\",\"East\",\"East\",\"East\",\"East\",\"Central\",\"Central\",\"Central\",\"West\",\"West\",\"East\",\"Central\",\"South\",\"South\",\"West\",\"West\",\"West\",\"South\",\"East\",\"East\",\"East\",\"East\",\"East\",\"East\",\"West\",\"East\",\"South\",\"West\",\"East\",\"East\",\"East\",\"East\",\"East\",\"East\",\"East\",\"East\",\"East\",\"East\",\"West\",\"West\",\"East\",\"East\",\"East\",\"East\",\"South\",\"South\",\"South\",\"South\",\"South\",\"South\",\"South\",\"West\",\"West\",\"West\",\"West\",\"West\",\"East\",\"Central\",\"Central\",\"West\",\"West\",\"West\",\"West\",\"West\",\"East\",\"East\",\"East\",\"East\",\"East\",\"West\",\"East\",\"Central\",\"Central\",\"Central\",\"West\",\"West\",\"West\",\"South\",\"Central\",\"Central\",\"Central\",\"West\",\"West\",\"West\",\"West\",\"Central\",\"West\",\"West\",\"Central\",\"South\",\"South\",\"Central\",\"Central\",\"East\",\"Central\",\"East\",\"Central\",\"Central\",\"Central\",\"Central\",\"Central\",\"Central\",\"Central\",\"Central\",\"Central\",\"Central\",\"Central\",\"South\",\"South\",\"South\",\"South\",\"South\",\"East\",\"West\",\"East\",\"East\",\"East\",\"West\",\"West\",\"West\",\"East\",\"East\",\"East\",\"West\",\"West\",\"West\",\"West\",\"West\",\"West\",\"South\",\"South\",\"South\",\"South\",\"East\",\"Central\",\"South\",\"West\",\"West\",\"West\",\"South\",\"South\",\"East\",\"East\",\"South\",\"West\",\"West\",\"East\",\"East\",\"East\",\"Central\",\"Central\",\"Central\",\"South\",\"South\",\"South\",\"South\",\"South\",\"South\",\"South\",\"South\",\"South\",\"South\",\"South\",\"Central\",\"East\",\"East\",\"West\",\"West\",\"Central\",\"Central\",\"South\",\"South\",\"Central\",\"Central\",\"Central\",\"Central\",\"Central\",\"East\",\"East\",\"East\",\"East\",\"East\",\"East\",\"South\",\"West\",\"Central\",\"Central\",\"Central\",\"Central\",\"Central\",\"Central\",\"West\",\"West\",\"West\",\"West\",\"West\",\"West\",\"West\",\"West\",\"West\",\"Central\",\"East\",\"East\",\"East\",\"East\",\"East\",\"East\",\"East\",\"Central\",\"West\",\"West\",\"West\",\"South\",\"South\",\"West\",\"East\",\"East\",\"East\",\"East\",\"South\",\"Central\",\"South\",\"South\",\"Central\",\"Central\",\"Central\",\"Central\",\"Central\",\"West\",\"West\",\"West\",\"West\",\"West\",\"West\",\"West\",\"West\",\"West\",\"West\",\"East\",\"East\",\"Central\",\"South\",\"South\",\"South\",\"Central\",\"Central\",\"West\",\"West\",\"East\",\"East\",\"East\",\"East\",\"West\",\"South\",\"South\",\"West\",\"West\",\"Central\",\"Central\",\"Central\",\"Central\",\"Central\",\"West\",\"South\",\"South\",\"Central\",\"West\",\"Central\",\"East\",\"West\",\"West\",\"West\",\"South\",\"East\",\"South\",\"South\",\"South\",\"South\",\"South\",\"South\",\"South\",\"East\",\"East\",\"West\",\"West\",\"West\",\"West\",\"West\",\"South\",\"East\",\"East\",\"South\",\"West\",\"East\",\"South\",\"East\",\"West\",\"Central\",\"South\",\"South\",\"South\",\"West\",\"West\",\"East\",\"East\",\"East\",\"East\",\"West\",\"West\",\"West\",\"East\",\"East\",\"West\",\"East\",\"East\",\"East\",\"East\",\"South\",\"South\",\"East\",\"West\",\"West\",\"West\",\"South\",\"East\",\"Central\",\"South\",\"West\",\"West\",\"West\",\"West\",\"West\",\"West\",\"West\",\"West\",\"East\",\"South\",\"South\",\"West\",\"West\",\"West\",\"East\",\"East\",\"East\",\"East\",\"East\",\"Central\",\"Central\",\"Central\",\"Central\",\"South\",\"Central\",\"East\",\"West\",\"West\",\"West\",\"South\",\"South\",\"East\",\"Central\",\"Central\",\"East\",\"East\",\"West\",\"West\",\"Central\",\"Central\",\"Central\",\"Central\",\"Central\",\"Central\",\"West\",\"West\",\"West\",\"West\",\"South\",\"South\",\"South\",\"South\",\"West\",\"West\",\"West\",\"West\",\"Central\",\"West\",\"West\",\"West\",\"West\",\"Central\",\"Central\",\"Central\",\"Central\",\"Central\",\"East\",\"East\",\"East\",\"East\",\"West\",\"West\",\"West\",\"Central\",\"Central\",\"Central\",\"Central\",\"Central\",\"Central\",\"East\",\"East\",\"East\",\"West\",\"West\",\"South\",\"South\",\"West\",\"West\",\"West\",\"South\",\"East\",\"South\",\"South\",\"Central\",\"East\",\"Central\",\"East\",\"Central\",\"South\",\"South\",\"South\",\"East\",\"Central\",\"East\",\"East\",\"East\",\"Central\",\"West\",\"South\",\"South\",\"South\",\"South\",\"South\",\"South\",\"West\",\"West\",\"West\",\"West\",\"East\",\"East\",\"South\",\"West\",\"West\",\"West\",\"West\",\"East\",\"West\",\"West\",\"East\",\"East\",\"East\",\"East\",\"East\",\"Central\",\"West\",\"West\",\"West\",\"West\",\"West\",\"West\",\"West\",\"South\",\"South\",\"East\",\"East\",\"East\",\"East\",\"East\",\"South\",\"Central\",\"East\",\"East\",\"South\",\"Central\",\"Central\",\"Central\",\"West\",\"Central\",\"Central\",\"Central\",\"West\",\"South\",\"East\",\"East\",\"East\",\"Central\",\"Central\",\"Central\",\"Central\",\"East\",\"East\",\"East\",\"West\",\"Central\",\"Central\",\"East\",\"East\",\"South\",\"Central\",\"South\",\"Central\",\"West\",\"West\",\"West\",\"West\",\"West\",\"West\",\"West\",\"West\",\"West\",\"West\",\"Central\",\"Central\",\"Central\",\"West\",\"West\",\"West\",\"West\",\"West\",\"West\",\"West\",\"West\",\"West\",\"West\",\"West\",\"West\",\"East\",\"East\",\"East\",\"West\",\"West\",\"West\",\"West\",\"West\",\"West\",\"West\",\"West\",\"Central\",\"Central\",\"South\",\"South\",\"South\",\"South\",\"South\",\"Central\",\"Central\",\"Central\",\"East\",\"East\",\"South\",\"East\",\"East\",\"West\",\"West\",\"West\",\"West\",\"South\",\"South\",\"South\",\"West\",\"West\",\"West\",\"West\",\"East\",\"Central\",\"West\",\"West\",\"East\",\"East\",\"East\",\"East\",\"East\",\"East\",\"Central\",\"East\",\"East\",\"Central\",\"East\",\"West\",\"South\",\"East\",\"West\",\"West\",\"West\",\"West\",\"West\",\"East\",\"Central\",\"Central\",\"Central\",\"West\",\"West\",\"West\",\"West\",\"Central\",\"East\",\"East\",\"East\",\"West\",\"South\",\"West\",\"Central\",\"Central\",\"West\",\"East\",\"South\",\"South\",\"South\",\"South\",\"South\",\"West\",\"South\",\"West\",\"West\",\"West\",\"East\",\"Central\",\"Central\",\"West\",\"South\",\"South\",\"West\",\"West\",\"West\",\"Central\",\"Central\",\"Central\",\"West\",\"West\",\"West\",\"West\",\"East\",\"Central\",\"East\",\"East\",\"West\",\"West\",\"West\",\"West\",\"West\",\"East\",\"East\",\"East\",\"East\",\"West\",\"West\",\"Central\",\"Central\",\"Central\",\"West\",\"West\",\"West\",\"South\",\"South\",\"East\",\"Central\",\"Central\",\"Central\",\"Central\",\"South\",\"South\",\"East\",\"East\",\"East\",\"Central\",\"Central\",\"Central\",\"Central\",\"Central\",\"Central\",\"East\",\"East\",\"East\",\"East\",\"East\",\"East\",\"Central\",\"Central\",\"Central\",\"Central\",\"Central\",\"Central\",\"Central\",\"West\",\"West\",\"West\",\"West\",\"West\",\"West\",\"South\",\"South\",\"South\",\"South\",\"South\",\"South\",\"South\",\"South\",\"East\",\"East\",\"West\",\"West\",\"West\",\"West\",\"East\",\"East\",\"Central\",\"Central\",\"Central\",\"Central\",\"Central\",\"Central\",\"East\",\"Central\",\"East\",\"East\",\"Central\",\"West\",\"West\",\"West\",\"East\",\"West\",\"East\",\"East\",\"East\",\"East\",\"Central\",\"West\",\"East\",\"East\",\"South\",\"South\",\"Central\",\"West\",\"West\",\"West\",\"West\",\"West\",\"West\",\"Central\",\"South\",\"South\",\"South\",\"Central\",\"Central\",\"Central\",\"Central\",\"West\",\"West\",\"East\",\"East\",\"East\",\"East\",\"East\",\"East\",\"East\",\"East\",\"Central\",\"Central\",\"East\",\"West\",\"West\",\"Central\",\"East\",\"Central\",\"Central\",\"Central\",\"South\",\"East\",\"West\",\"South\",\"East\",\"East\",\"East\",\"West\",\"West\",\"West\",\"West\",\"West\",\"West\",\"West\",\"West\",\"Central\",\"Central\",\"Central\",\"East\",\"East\",\"West\",\"West\",\"East\",\"East\",\"East\",\"East\",\"East\",\"West\",\"West\",\"West\",\"West\",\"West\",\"West\",\"West\",\"East\",\"East\",\"Central\",\"Central\",\"Central\",\"West\",\"East\",\"East\",\"East\",\"Central\",\"Central\",\"Central\",\"South\",\"Central\",\"Central\",\"Central\",\"West\",\"West\",\"West\",\"West\",\"West\",\"Central\",\"East\",\"Central\",\"Central\",\"West\",\"West\",\"South\",\"South\",\"South\",\"Central\",\"Central\",\"West\",\"West\",\"West\",\"South\",\"East\",\"East\",\"South\",\"South\",\"Central\",\"Central\",\"West\",\"West\",\"West\",\"Central\",\"Central\",\"South\",\"South\",\"South\",\"South\",\"South\",\"South\",\"South\",\"East\",\"East\",\"Central\",\"Central\",\"West\",\"West\",\"West\",\"West\",\"Central\",\"West\",\"West\",\"Central\",\"East\",\"West\",\"West\",\"West\",\"East\",\"East\",\"East\",\"East\",\"East\",\"Central\",\"Central\",\"Central\",\"Central\",\"Central\",\"East\",\"East\",\"South\",\"West\",\"West\",\"East\",\"East\",\"Central\",\"West\",\"West\",\"South\",\"South\",\"South\",\"East\",\"East\",\"Central\",\"Central\",\"Central\",\"Central\",\"Central\",\"Central\",\"Central\",\"Central\",\"Central\",\"Central\",\"West\",\"West\",\"West\",\"West\",\"West\",\"West\",\"West\",\"East\",\"East\",\"East\",\"East\",\"East\",\"East\",\"West\",\"Central\",\"West\",\"East\",\"West\",\"West\",\"East\",\"East\",\"East\",\"East\",\"Central\",\"Central\",\"Central\",\"East\",\"East\",\"East\",\"East\",\"Central\",\"West\",\"Central\",\"Central\",\"West\",\"West\",\"Central\",\"West\",\"West\",\"East\",\"East\",\"East\",\"East\",\"Central\",\"Central\",\"Central\",\"East\",\"South\",\"East\",\"East\",\"East\",\"South\",\"South\",\"South\",\"South\",\"South\",\"Central\",\"West\",\"West\",\"Central\",\"East\",\"Central\",\"Central\",\"Central\",\"South\",\"South\",\"South\",\"South\",\"Central\",\"Central\",\"West\",\"East\",\"East\",\"East\",\"East\",\"West\",\"West\",\"West\",\"West\",\"West\",\"Central\",\"Central\",\"West\",\"West\",\"East\",\"West\",\"West\",\"West\",\"West\",\"West\",\"Central\",\"Central\",\"East\",\"East\",\"East\",\"West\",\"West\",\"West\",\"West\",\"West\",\"Central\",\"Central\",\"Central\",\"Central\",\"Central\",\"West\",\"East\",\"East\",\"East\",\"East\",\"East\",\"East\",\"South\",\"West\",\"West\",\"West\",\"West\",\"South\",\"South\",\"South\",\"South\",\"East\",\"East\",\"East\",\"East\",\"East\",\"Central\",\"East\",\"South\",\"South\",\"East\",\"East\",\"East\",\"South\",\"South\",\"West\",\"East\",\"East\",\"Central\",\"Central\",\"Central\",\"Central\",\"West\",\"West\",\"West\",\"West\",\"South\",\"South\",\"South\",\"South\",\"East\",\"South\",\"South\",\"Central\",\"Central\",\"Central\",\"Central\",\"Central\",\"Central\",\"Central\",\"Central\",\"West\",\"West\",\"West\",\"South\",\"South\",\"South\",\"Central\",\"Central\",\"East\",\"Central\",\"Central\",\"Central\",\"Central\",\"Central\",\"Central\",\"Central\",\"Central\",\"Central\",\"Central\",\"South\",\"South\",\"South\",\"South\",\"Central\",\"West\",\"Central\",\"Central\",\"West\",\"Central\",\"South\",\"South\",\"South\",\"West\",\"South\",\"Central\",\"East\",\"West\",\"West\",\"West\",\"West\",\"East\",\"South\",\"South\",\"South\",\"South\",\"East\",\"East\",\"East\",\"Central\",\"Central\",\"South\",\"South\",\"South\",\"South\",\"Central\",\"Central\",\"Central\",\"East\",\"West\",\"West\",\"West\",\"West\",\"West\",\"West\",\"East\",\"East\",\"East\",\"East\",\"West\",\"West\",\"Central\",\"Central\",\"West\",\"West\",\"West\",\"West\",\"Central\",\"East\",\"East\",\"South\",\"West\",\"West\",\"South\",\"South\",\"South\",\"Central\",\"Central\",\"Central\",\"Central\",\"Central\",\"West\",\"East\",\"South\",\"South\",\"South\",\"Central\",\"East\",\"East\",\"East\",\"East\",\"East\",\"East\",\"East\",\"East\",\"West\",\"East\",\"East\",\"East\",\"East\",\"East\",\"East\",\"East\",\"East\",\"East\",\"East\",\"Central\",\"East\",\"East\",\"Central\",\"Central\",\"East\",\"West\",\"West\",\"West\",\"South\",\"South\",\"South\",\"South\",\"West\",\"West\",\"West\",\"West\",\"West\",\"East\",\"East\",\"West\",\"West\",\"East\",\"East\",\"East\",\"East\",\"East\",\"East\",\"East\",\"East\",\"East\",\"West\",\"West\",\"West\",\"West\",\"West\",\"West\",\"South\",\"South\",\"Central\",\"Central\",\"Central\",\"Central\",\"Central\",\"South\",\"East\",\"South\",\"South\",\"South\",\"West\",\"Central\",\"East\",\"East\",\"West\",\"West\",\"West\",\"West\",\"West\",\"West\",\"West\",\"West\",\"East\",\"East\",\"East\",\"East\",\"West\",\"East\",\"East\",\"East\",\"East\",\"East\",\"East\",\"East\",\"East\",\"East\",\"West\",\"South\",\"West\",\"West\",\"West\",\"West\",\"West\",\"West\",\"South\",\"South\",\"South\",\"West\",\"West\",\"East\",\"East\",\"East\",\"South\",\"South\",\"South\",\"South\",\"Central\",\"Central\",\"Central\",\"Central\",\"West\",\"West\",\"West\",\"West\",\"West\",\"West\",\"Central\",\"South\",\"South\",\"Central\",\"South\",\"South\",\"Central\",\"West\",\"Central\",\"West\",\"East\",\"East\",\"East\",\"East\",\"East\",\"East\",\"East\",\"East\",\"East\",\"East\",\"East\",\"East\",\"Central\",\"Central\",\"Central\",\"East\",\"East\",\"East\",\"South\",\"South\",\"South\",\"West\",\"West\",\"West\",\"West\",\"West\",\"West\",\"West\",\"West\",\"Central\",\"Central\",\"East\",\"West\",\"West\",\"West\",\"East\",\"Central\",\"Central\",\"Central\",\"Central\",\"Central\",\"Central\",\"South\",\"South\",\"West\",\"East\",\"South\",\"South\",\"South\",\"South\",\"South\",\"West\",\"South\",\"East\",\"Central\",\"East\",\"South\",\"South\",\"South\",\"East\",\"West\",\"Central\",\"Central\",\"Central\",\"West\",\"East\",\"East\",\"East\",\"West\",\"West\",\"West\",\"South\",\"South\",\"South\",\"South\",\"South\",\"South\",\"South\",\"South\",\"South\",\"South\",\"South\",\"South\",\"South\",\"South\",\"South\",\"Central\",\"Central\",\"South\",\"South\",\"South\",\"South\",\"South\",\"East\",\"East\",\"East\",\"East\",\"East\",\"East\",\"East\",\"Central\",\"Central\",\"Central\",\"Central\",\"Central\",\"East\",\"East\",\"East\",\"East\",\"West\",\"West\",\"West\",\"West\",\"West\",\"West\",\"South\",\"West\",\"West\",\"West\",\"West\",\"West\",\"Central\",\"South\",\"South\",\"Central\",\"East\",\"Central\",\"West\",\"West\",\"Central\",\"Central\",\"Central\",\"West\",\"Central\",\"Central\",\"East\",\"East\",\"West\",\"Central\",\"West\",\"Central\",\"West\",\"West\",\"West\",\"West\",\"West\",\"West\",\"South\",\"South\",\"South\",\"South\",\"South\",\"Central\",\"Central\",\"West\",\"West\",\"West\",\"West\",\"South\",\"Central\",\"Central\",\"South\",\"South\",\"South\",\"West\",\"West\",\"West\",\"Central\",\"Central\",\"South\",\"Central\",\"Central\",\"Central\",\"East\",\"Central\",\"East\",\"West\",\"East\",\"East\",\"East\",\"East\",\"East\",\"East\",\"East\",\"East\",\"Central\",\"East\",\"East\",\"West\",\"West\",\"West\",\"West\",\"West\",\"South\",\"South\",\"Central\",\"Central\",\"Central\",\"West\",\"West\",\"West\",\"West\",\"Central\",\"Central\",\"Central\",\"East\",\"East\",\"West\",\"West\",\"West\",\"Central\",\"Central\",\"Central\",\"Central\",\"East\",\"East\",\"South\",\"East\",\"West\",\"South\",\"South\",\"Central\",\"Central\",\"Central\",\"Central\",\"East\",\"West\",\"East\",\"Central\",\"Central\",\"West\",\"South\",\"South\",\"South\",\"Central\",\"Central\",\"West\",\"West\",\"East\",\"South\",\"East\",\"West\",\"Central\",\"Central\",\"West\",\"Central\",\"East\",\"East\",\"East\",\"East\",\"South\",\"West\",\"West\",\"East\",\"East\",\"West\",\"West\",\"West\",\"West\",\"West\",\"East\",\"East\",\"South\",\"East\",\"East\",\"South\",\"South\",\"South\",\"Central\",\"Central\",\"Central\",\"Central\",\"Central\",\"South\",\"West\",\"West\",\"Central\",\"Central\",\"Central\",\"South\",\"South\",\"South\",\"West\",\"West\",\"East\",\"East\",\"Central\",\"South\",\"South\",\"South\",\"South\",\"South\",\"South\",\"South\",\"East\",\"East\",\"East\",\"West\",\"West\",\"Central\",\"Central\",\"Central\",\"Central\",\"South\",\"South\",\"West\",\"West\",\"West\",\"East\",\"East\",\"Central\",\"West\",\"West\",\"West\",\"West\",\"West\",\"West\",\"West\",\"West\",\"Central\",\"Central\",\"East\",\"East\",\"East\",\"East\",\"East\",\"East\",\"East\",\"East\",\"East\",\"East\",\"Central\",\"West\",\"West\",\"Central\",\"West\",\"East\",\"South\",\"South\",\"South\",\"South\",\"South\",\"South\",\"Central\",\"Central\",\"Central\",\"Central\",\"Central\",\"South\",\"South\",\"Central\",\"Central\",\"Central\",\"South\",\"West\",\"West\",\"Central\",\"Central\",\"West\",\"West\",\"West\",\"West\",\"South\",\"East\",\"East\",\"East\",\"East\",\"South\",\"South\",\"South\",\"Central\",\"Central\",\"Central\",\"Central\",\"Central\",\"Central\",\"Central\",\"Central\",\"West\",\"West\",\"Central\",\"East\",\"East\",\"Central\",\"Central\",\"Central\",\"Central\",\"Central\",\"Central\",\"West\",\"West\",\"West\",\"West\",\"West\",\"East\",\"West\",\"West\",\"West\",\"East\",\"South\",\"South\",\"South\",\"South\",\"West\",\"Central\",\"South\",\"South\",\"South\",\"South\",\"West\",\"West\",\"South\",\"Central\",\"East\",\"East\",\"Central\",\"Central\",\"West\",\"West\",\"West\",\"East\",\"Central\",\"Central\",\"Central\",\"Central\",\"East\",\"East\",\"East\",\"South\",\"South\",\"East\",\"East\",\"Central\",\"South\",\"East\",\"East\",\"East\",\"East\",\"West\",\"West\",\"East\",\"West\",\"West\",\"West\",\"West\",\"West\",\"South\",\"South\",\"South\",\"West\",\"South\",\"South\",\"West\",\"West\",\"Central\",\"East\",\"East\",\"East\",\"East\",\"East\",\"Central\",\"Central\",\"Central\",\"Central\",\"East\",\"Central\",\"West\",\"West\",\"West\",\"West\",\"East\",\"East\",\"East\",\"East\",\"East\",\"East\",\"East\",\"East\",\"East\",\"East\",\"East\",\"East\",\"East\",\"East\",\"Central\",\"South\",\"South\",\"South\",\"Central\",\"East\",\"West\",\"West\",\"West\",\"West\",\"West\",\"West\",\"West\",\"West\",\"Central\",\"Central\",\"Central\",\"West\",\"Central\",\"Central\",\"Central\",\"Central\",\"Central\",\"Central\",\"East\",\"East\",\"Central\",\"East\",\"West\",\"Central\",\"West\",\"West\",\"South\",\"South\",\"West\",\"East\",\"East\",\"East\",\"East\",\"East\",\"East\",\"South\",\"South\",\"South\",\"Central\",\"Central\",\"Central\",\"West\",\"West\",\"East\",\"East\",\"Central\",\"South\",\"East\",\"Central\",\"Central\",\"Central\",\"Central\",\"Central\",\"West\",\"South\",\"East\",\"West\",\"West\",\"West\",\"Central\",\"West\",\"East\",\"East\",\"East\",\"East\",\"East\",\"Central\",\"Central\",\"Central\",\"Central\",\"Central\",\"South\",\"Central\",\"Central\",\"West\",\"West\",\"West\",\"East\",\"West\",\"West\",\"West\",\"South\",\"South\",\"South\",\"South\",\"South\",\"East\",\"Central\",\"West\",\"West\",\"West\",\"West\",\"West\",\"West\",\"West\",\"West\",\"West\",\"East\",\"West\",\"West\",\"West\",\"West\",\"South\",\"West\",\"West\",\"East\",\"East\",\"East\",\"East\",\"East\",\"East\",\"East\",\"East\",\"South\",\"South\",\"West\",\"West\",\"South\",\"South\",\"West\",\"West\",\"West\",\"West\",\"South\",\"Central\",\"South\",\"West\",\"West\",\"West\",\"West\",\"East\",\"East\",\"West\",\"West\",\"East\",\"East\",\"West\",\"West\",\"South\",\"South\",\"South\",\"Central\",\"Central\",\"Central\",\"East\",\"South\",\"Central\",\"Central\",\"Central\",\"Central\",\"Central\",\"Central\",\"Central\",\"Central\",\"Central\",\"Central\",\"Central\",\"Central\",\"East\",\"West\",\"West\",\"West\",\"South\",\"South\",\"West\",\"West\",\"Central\",\"Central\",\"Central\",\"Central\",\"West\",\"West\",\"East\",\"East\",\"East\",\"East\",\"Central\",\"Central\",\"East\",\"East\",\"West\",\"East\",\"East\",\"East\",\"East\",\"East\",\"West\",\"East\",\"East\",\"East\",\"Central\",\"Central\",\"Central\",\"West\",\"West\",\"East\",\"East\",\"East\",\"East\",\"West\",\"West\",\"Central\",\"East\",\"East\",\"Central\",\"South\",\"South\",\"South\",\"South\",\"South\",\"South\",\"West\",\"Central\",\"East\",\"South\",\"South\",\"South\",\"South\",\"South\",\"Central\",\"Central\",\"Central\",\"Central\",\"Central\",\"Central\",\"Central\",\"Central\",\"Central\",\"Central\",\"Central\",\"Central\",\"Central\",\"West\",\"West\",\"West\",\"West\",\"West\",\"West\",\"West\",\"West\",\"West\",\"West\",\"West\",\"West\",\"West\",\"West\",\"West\",\"West\",\"West\",\"West\",\"East\",\"East\",\"East\",\"East\",\"East\",\"East\",\"East\",\"East\",\"East\",\"East\",\"East\",\"Central\",\"Central\",\"East\",\"West\",\"West\",\"West\",\"West\",\"West\",\"West\",\"West\",\"Central\",\"Central\",\"Central\",\"West\",\"East\",\"East\",\"East\",\"East\",\"West\",\"West\",\"East\",\"West\",\"West\",\"West\",\"Central\",\"Central\",\"West\",\"West\",\"West\",\"West\",\"West\",\"West\",\"West\",\"Central\",\"Central\",\"West\",\"Central\",\"South\",\"Central\",\"West\",\"West\",\"West\",\"South\",\"Central\",\"Central\",\"West\",\"East\",\"East\",\"East\",\"East\",\"East\",\"East\",\"Central\",\"East\",\"East\",\"West\",\"West\",\"West\",\"West\",\"West\",\"West\",\"West\",\"East\",\"East\",\"Central\",\"Central\",\"Central\",\"Central\",\"Central\",\"Central\",\"Central\",\"Central\",\"Central\",\"East\",\"West\",\"West\",\"West\",\"Central\",\"South\",\"South\",\"West\",\"Central\",\"Central\",\"West\",\"West\",\"West\",\"South\",\"West\",\"South\",\"South\",\"South\",\"Central\",\"West\",\"Central\",\"Central\",\"West\",\"Central\",\"Central\",\"Central\",\"Central\",\"West\",\"South\",\"East\",\"South\",\"East\",\"East\",\"West\",\"West\",\"West\",\"West\",\"West\",\"West\",\"West\",\"West\",\"West\",\"West\",\"West\",\"West\",\"West\",\"East\",\"Central\",\"Central\",\"East\",\"East\",\"East\",\"South\",\"South\",\"South\",\"South\",\"East\",\"East\",\"East\",\"East\",\"West\",\"South\",\"South\",\"South\",\"Central\",\"Central\",\"Central\",\"East\",\"East\",\"West\",\"West\",\"East\",\"South\",\"South\",\"South\",\"South\",\"East\",\"East\",\"East\",\"East\",\"Central\",\"West\",\"West\",\"West\",\"West\",\"West\",\"West\",\"West\",\"West\",\"South\",\"South\",\"West\",\"West\",\"West\",\"West\",\"East\",\"South\",\"East\",\"West\",\"West\",\"West\",\"West\",\"East\",\"East\",\"West\",\"Central\",\"East\",\"East\",\"East\",\"East\",\"East\",\"East\",\"East\",\"South\",\"South\",\"South\",\"West\",\"West\",\"Central\",\"Central\",\"Central\",\"Central\",\"Central\",\"Central\",\"Central\",\"East\",\"West\",\"West\",\"West\",\"West\",\"West\",\"East\",\"South\",\"East\",\"East\",\"East\",\"East\",\"Central\",\"East\",\"West\",\"West\",\"West\",\"West\",\"West\",\"Central\",\"Central\",\"Central\",\"Central\",\"Central\",\"Central\",\"Central\",\"Central\",\"Central\",\"Central\",\"East\",\"East\",\"East\",\"West\",\"West\",\"West\",\"West\",\"East\",\"Central\",\"Central\",\"West\",\"West\",\"West\",\"East\",\"West\",\"West\",\"West\",\"Central\",\"West\",\"South\",\"South\",\"South\",\"East\",\"East\",\"West\",\"Central\",\"West\",\"West\",\"West\",\"West\",\"East\",\"East\",\"East\",\"East\",\"West\",\"West\",\"West\",\"West\",\"West\",\"Central\",\"Central\",\"Central\",\"Central\",\"West\",\"West\",\"West\",\"West\",\"South\",\"South\",\"Central\",\"South\",\"South\",\"East\",\"Central\",\"East\",\"East\",\"East\",\"East\",\"East\",\"West\",\"West\",\"East\",\"Central\",\"Central\",\"South\",\"West\",\"West\",\"West\",\"Central\",\"Central\",\"Central\",\"West\",\"East\",\"East\",\"East\",\"East\",\"Central\",\"Central\",\"Central\",\"Central\",\"West\",\"West\",\"West\",\"West\",\"West\",\"West\",\"West\",\"West\",\"West\",\"East\",\"West\",\"South\",\"South\",\"South\",\"South\",\"South\",\"South\",\"South\",\"South\",\"East\",\"East\",\"West\",\"West\",\"West\",\"East\",\"Central\",\"Central\",\"East\",\"East\",\"East\",\"West\",\"East\",\"East\",\"East\",\"East\",\"East\",\"Central\",\"Central\",\"West\",\"East\",\"East\",\"East\",\"West\",\"South\",\"South\",\"East\",\"Central\",\"Central\",\"Central\",\"Central\",\"West\",\"West\",\"West\",\"East\",\"East\",\"East\",\"South\",\"East\",\"South\",\"East\",\"West\",\"East\",\"West\",\"West\",\"West\",\"West\",\"West\",\"West\",\"West\",\"West\",\"West\",\"West\",\"West\",\"West\",\"West\",\"Central\",\"East\",\"Central\",\"East\",\"East\",\"East\",\"West\",\"West\",\"West\",\"West\",\"East\",\"East\",\"Central\",\"Central\",\"Central\",\"Central\",\"East\",\"South\",\"South\",\"South\",\"South\",\"South\",\"South\",\"South\",\"West\",\"West\",\"Central\",\"South\",\"South\",\"South\",\"South\",\"West\",\"West\",\"West\",\"West\",\"West\",\"West\",\"West\",\"East\",\"East\",\"West\",\"West\",\"West\",\"East\",\"East\",\"Central\",\"East\",\"East\",\"East\",\"East\",\"South\",\"South\",\"South\",\"South\",\"South\",\"West\",\"West\",\"Central\",\"Central\",\"East\",\"East\",\"Central\",\"South\",\"South\",\"South\",\"South\",\"East\",\"Central\",\"East\",\"East\",\"East\",\"East\",\"West\",\"West\",\"West\",\"West\",\"West\",\"South\",\"West\",\"West\",\"West\",\"East\",\"East\",\"East\",\"Central\",\"West\",\"West\",\"West\",\"West\",\"West\",\"West\",\"East\",\"Central\",\"West\",\"East\",\"West\",\"West\",\"West\",\"Central\",\"Central\",\"West\",\"West\",\"West\",\"West\",\"West\",\"South\",\"South\",\"East\",\"East\",\"East\",\"East\",\"South\",\"South\",\"South\",\"South\",\"West\",\"South\",\"East\",\"East\",\"East\",\"Central\",\"Central\",\"Central\",\"West\",\"West\",\"South\",\"East\",\"West\",\"West\",\"West\",\"West\",\"West\",\"Central\",\"South\",\"South\",\"South\",\"East\",\"South\",\"South\",\"West\",\"West\",\"West\",\"South\",\"South\",\"West\",\"South\",\"Central\",\"East\",\"East\",\"East\",\"East\",\"East\",\"West\",\"East\",\"East\",\"East\",\"East\",\"East\",\"West\",\"West\",\"West\",\"East\",\"West\",\"West\",\"West\",\"Central\",\"Central\",\"Central\",\"Central\",\"Central\",\"West\",\"West\",\"West\",\"East\",\"East\",\"Central\",\"West\",\"West\",\"Central\",\"East\",\"East\",\"East\",\"West\",\"West\",\"West\",\"West\",\"West\",\"West\",\"West\",\"Central\",\"Central\",\"West\",\"East\",\"South\",\"Central\",\"Central\",\"Central\",\"West\",\"West\",\"East\",\"South\",\"South\",\"Central\",\"Central\",\"Central\",\"East\",\"South\",\"South\",\"West\",\"Central\",\"Central\",\"Central\",\"Central\",\"Central\",\"West\",\"West\",\"Central\",\"Central\",\"Central\",\"Central\",\"West\",\"West\",\"East\",\"South\",\"South\",\"East\",\"Central\",\"East\",\"East\",\"East\",\"West\",\"West\",\"West\",\"East\",\"Central\",\"Central\",\"Central\",\"Central\",\"Central\",\"Central\",\"West\",\"Central\",\"Central\",\"Central\",\"East\",\"East\",\"South\",\"South\",\"South\",\"South\",\"East\",\"East\",\"East\",\"Central\",\"Central\",\"West\",\"East\",\"East\",\"East\",\"East\",\"East\",\"South\",\"South\",\"South\",\"South\",\"East\",\"East\",\"East\",\"East\",\"East\",\"East\",\"East\",\"West\",\"South\",\"East\",\"East\",\"West\",\"West\",\"Central\",\"East\",\"East\",\"West\",\"East\",\"East\",\"East\",\"West\",\"West\",\"West\",\"West\",\"West\",\"East\",\"West\",\"West\",\"East\",\"East\",\"Central\",\"Central\",\"Central\",\"Central\",\"Central\",\"West\",\"West\",\"West\",\"Central\",\"West\",\"Central\",\"Central\",\"Central\",\"Central\",\"Central\",\"Central\",\"Central\",\"Central\",\"Central\",\"West\",\"Central\",\"Central\",\"West\",\"East\",\"West\",\"West\",\"West\",\"East\",\"East\",\"South\",\"South\",\"South\",\"East\",\"Central\",\"Central\",\"Central\",\"Central\",\"West\",\"South\",\"South\",\"South\",\"South\",\"West\",\"West\",\"Central\",\"Central\",\"Central\",\"Central\",\"West\",\"West\",\"East\",\"East\",\"East\",\"East\",\"East\",\"East\",\"East\",\"East\",\"West\",\"West\",\"West\",\"West\",\"Central\",\"West\",\"East\",\"Central\",\"Central\",\"Central\",\"Central\",\"Central\",\"West\",\"East\",\"East\",\"East\",\"West\",\"West\",\"West\",\"West\",\"West\",\"South\",\"West\",\"Central\",\"East\",\"East\",\"East\",\"West\",\"West\",\"West\",\"Central\",\"South\",\"West\",\"West\",\"West\",\"Central\",\"West\",\"East\",\"South\",\"South\",\"South\",\"West\",\"East\",\"East\",\"Central\",\"West\",\"West\",\"East\",\"Central\",\"Central\",\"Central\",\"Central\",\"Central\",\"West\",\"West\",\"West\",\"East\",\"West\",\"West\",\"West\",\"West\",\"South\",\"East\",\"South\",\"South\",\"Central\",\"South\",\"Central\",\"Central\",\"Central\",\"Central\",\"West\",\"West\",\"West\",\"West\",\"West\",\"West\",\"Central\",\"Central\",\"Central\",\"South\",\"East\",\"Central\",\"Central\",\"East\",\"East\",\"West\",\"West\",\"South\",\"South\",\"South\",\"Central\",\"Central\",\"East\",\"East\",\"East\",\"Central\",\"Central\",\"Central\",\"South\",\"South\",\"West\",\"West\",\"South\",\"South\",\"South\",\"South\",\"South\",\"South\",\"South\",\"South\",\"Central\",\"West\",\"West\",\"East\",\"West\",\"Central\",\"East\",\"East\",\"East\",\"East\",\"East\",\"East\",\"East\",\"West\",\"West\",\"East\",\"East\",\"East\",\"East\",\"Central\",\"Central\",\"East\",\"West\",\"West\",\"West\",\"Central\",\"Central\",\"Central\",\"Central\",\"Central\",\"South\",\"West\",\"West\",\"West\",\"West\",\"West\",\"West\",\"South\",\"Central\",\"Central\",\"Central\",\"West\",\"Central\",\"West\",\"West\",\"West\",\"East\",\"Central\",\"Central\",\"Central\",\"Central\",\"Central\",\"West\",\"West\",\"East\",\"East\",\"West\",\"West\",\"Central\",\"Central\",\"Central\",\"East\",\"East\",\"South\",\"West\",\"West\",\"West\",\"West\",\"East\",\"East\",\"East\",\"East\",\"West\",\"West\",\"West\",\"East\",\"West\",\"West\",\"West\",\"East\",\"East\",\"West\",\"West\",\"West\",\"West\",\"West\",\"West\",\"West\",\"West\",\"West\",\"Central\",\"Central\",\"Central\",\"Central\",\"Central\",\"Central\",\"Central\",\"East\",\"East\",\"West\",\"South\",\"East\",\"West\",\"West\",\"West\",\"West\",\"South\",\"East\",\"East\",\"East\",\"West\",\"West\",\"West\",\"South\",\"South\",\"South\",\"East\",\"South\",\"West\",\"East\",\"East\",\"East\",\"Central\",\"East\",\"East\",\"Central\",\"Central\",\"Central\",\"Central\",\"West\",\"Central\",\"East\",\"East\",\"West\",\"West\",\"West\",\"West\",\"South\",\"West\",\"West\",\"West\",\"West\",\"West\",\"Central\",\"West\",\"West\",\"West\",\"East\",\"West\",\"West\",\"West\",\"Central\",\"Central\",\"Central\",\"Central\",\"East\",\"South\",\"West\",\"West\",\"West\",\"West\",\"South\",\"South\",\"Central\",\"South\",\"South\",\"South\",\"South\",\"Central\",\"West\",\"West\",\"West\",\"East\",\"East\",\"East\",\"East\",\"East\",\"East\",\"East\",\"East\",\"East\",\"East\",\"East\",\"West\",\"South\",\"West\",\"Central\",\"Central\",\"West\",\"West\",\"East\",\"East\",\"East\",\"South\",\"East\",\"East\",\"East\",\"East\",\"East\",\"West\",\"West\",\"West\",\"West\",\"West\",\"East\",\"South\",\"Central\",\"Central\",\"South\",\"South\",\"South\",\"South\",\"South\",\"South\",\"South\",\"Central\",\"Central\",\"Central\",\"Central\",\"West\",\"West\",\"West\",\"East\",\"West\",\"West\",\"West\",\"West\",\"Central\",\"Central\",\"Central\",\"Central\",\"Central\",\"South\",\"South\",\"South\",\"West\",\"West\",\"West\",\"South\",\"South\",\"South\",\"Central\",\"Central\",\"Central\",\"Central\",\"Central\",\"Central\",\"Central\",\"East\",\"East\",\"East\",\"East\",\"East\",\"West\",\"West\",\"West\",\"West\",\"West\",\"East\",\"East\",\"West\",\"East\",\"East\",\"East\",\"West\",\"West\",\"West\",\"West\",\"East\",\"East\",\"East\",\"East\",\"East\",\"East\",\"East\",\"East\",\"East\",\"East\",\"East\",\"Central\",\"Central\",\"East\",\"South\",\"South\",\"East\",\"West\",\"South\",\"East\",\"West\",\"West\",\"East\",\"East\",\"East\",\"East\",\"South\",\"West\",\"Central\",\"Central\",\"Central\",\"Central\",\"West\",\"West\",\"West\",\"West\",\"South\",\"South\",\"East\",\"South\",\"South\",\"South\",\"East\",\"Central\",\"West\",\"West\",\"Central\",\"West\",\"West\",\"East\",\"East\",\"South\",\"South\",\"West\",\"East\",\"South\",\"West\",\"West\",\"West\",\"West\",\"West\",\"East\",\"West\",\"West\",\"West\",\"West\",\"West\",\"West\",\"West\",\"West\",\"West\",\"West\",\"East\",\"East\",\"East\",\"East\",\"West\",\"West\",\"West\",\"West\",\"West\",\"Central\",\"Central\",\"West\",\"West\",\"West\",\"Central\",\"Central\",\"Central\",\"Central\",\"Central\",\"South\",\"South\",\"South\",\"West\",\"South\",\"South\",\"South\",\"Central\",\"East\",\"East\",\"East\",\"East\",\"East\",\"West\",\"Central\",\"Central\",\"Central\",\"West\",\"East\",\"East\",\"East\",\"East\",\"East\",\"East\",\"East\",\"East\",\"East\",\"East\",\"East\",\"East\",\"Central\",\"East\",\"South\",\"Central\",\"Central\",\"Central\",\"Central\",\"Central\",\"West\",\"West\",\"West\",\"West\",\"Central\",\"East\",\"Central\",\"Central\",\"Central\",\"Central\",\"Central\",\"Central\",\"East\",\"East\",\"East\",\"East\",\"West\",\"West\",\"West\",\"West\",\"West\",\"West\",\"West\",\"West\",\"West\",\"West\",\"South\",\"South\",\"South\",\"East\",\"Central\",\"West\",\"West\",\"South\",\"South\",\"Central\",\"Central\",\"South\",\"South\",\"West\",\"West\",\"West\",\"West\",\"East\",\"West\",\"West\",\"Central\",\"Central\",\"East\",\"East\",\"West\",\"West\",\"Central\",\"Central\",\"West\",\"West\",\"East\",\"West\",\"West\",\"West\",\"West\",\"West\",\"West\",\"West\",\"West\",\"West\",\"West\",\"West\",\"South\",\"South\",\"West\",\"West\",\"West\",\"West\",\"West\",\"East\",\"East\",\"East\",\"East\",\"Central\",\"Central\",\"Central\",\"West\",\"East\",\"Central\",\"Central\",\"South\",\"South\",\"South\",\"South\",\"West\",\"West\",\"West\",\"East\",\"South\",\"East\",\"East\",\"East\",\"East\",\"East\",\"West\",\"West\",\"West\",\"West\",\"East\",\"East\",\"East\",\"East\",\"East\",\"Central\",\"Central\",\"West\",\"South\",\"South\",\"South\",\"South\",\"South\",\"West\",\"West\",\"South\",\"South\",\"West\",\"West\",\"West\",\"West\",\"West\",\"West\",\"West\",\"Central\",\"Central\",\"Central\",\"Central\",\"Central\",\"South\",\"Central\",\"Central\",\"Central\",\"Central\",\"West\",\"South\",\"East\",\"South\",\"South\",\"South\",\"East\",\"East\",\"East\",\"East\",\"East\",\"West\",\"West\",\"Central\",\"South\",\"South\",\"South\",\"East\",\"East\",\"East\",\"East\",\"East\",\"West\",\"West\",\"West\",\"West\",\"West\",\"West\",\"West\",\"East\",\"South\",\"East\",\"Central\",\"Central\",\"Central\",\"South\",\"West\",\"West\",\"West\",\"Central\",\"Central\",\"West\",\"West\",\"East\",\"West\",\"West\",\"West\",\"West\",\"West\",\"West\",\"West\",\"West\",\"West\",\"West\",\"South\",\"East\",\"East\",\"East\",\"East\",\"East\",\"East\",\"East\",\"East\",\"East\",\"East\",\"East\",\"South\",\"West\",\"South\",\"South\",\"South\",\"East\",\"East\",\"East\",\"East\",\"East\",\"East\",\"West\",\"West\",\"West\",\"Central\",\"Central\",\"West\",\"West\",\"West\",\"West\",\"West\",\"West\",\"West\",\"Central\",\"South\",\"South\",\"South\",\"South\",\"Central\",\"East\",\"East\",\"East\",\"West\",\"West\",\"West\",\"West\",\"West\",\"West\",\"West\",\"West\",\"West\",\"West\",\"West\",\"East\",\"West\",\"West\",\"West\",\"West\",\"East\",\"East\",\"South\",\"Central\",\"Central\",\"West\",\"Central\",\"Central\",\"Central\",\"Central\",\"East\",\"East\",\"South\",\"South\",\"South\",\"South\",\"South\",\"South\",\"West\",\"West\",\"West\",\"East\",\"East\",\"East\",\"East\",\"East\",\"West\",\"West\",\"West\",\"West\",\"West\",\"South\",\"West\",\"East\",\"East\",\"South\",\"West\",\"West\",\"West\",\"West\",\"West\",\"West\",\"West\",\"West\",\"West\",\"West\",\"West\",\"East\",\"South\",\"South\",\"Central\",\"East\",\"East\",\"East\",\"West\",\"West\",\"South\",\"West\",\"South\",\"East\",\"East\",\"West\",\"Central\",\"Central\",\"South\",\"South\",\"South\",\"South\",\"West\",\"West\",\"West\",\"South\",\"South\",\"West\",\"Central\",\"South\",\"South\",\"Central\",\"Central\",\"Central\",\"East\",\"East\",\"East\",\"Central\",\"Central\",\"East\",\"East\",\"East\",\"East\",\"East\",\"West\",\"West\",\"West\",\"East\",\"South\",\"West\",\"West\",\"West\",\"East\",\"Central\",\"Central\",\"Central\",\"West\",\"West\",\"East\",\"East\",\"East\",\"East\",\"Central\",\"Central\",\"Central\",\"Central\",\"Central\",\"Central\",\"Central\",\"West\",\"South\",\"West\",\"East\",\"East\",\"East\",\"East\",\"East\",\"East\",\"East\",\"East\",\"East\",\"East\",\"East\",\"East\",\"East\",\"East\",\"East\",\"South\",\"Central\",\"Central\",\"Central\",\"Central\",\"East\",\"East\",\"East\",\"East\",\"East\",\"West\",\"East\",\"East\",\"West\",\"West\",\"West\",\"West\",\"Central\",\"Central\",\"West\",\"West\",\"West\",\"East\",\"West\",\"South\",\"South\",\"East\",\"South\",\"West\",\"West\",\"Central\",\"Central\",\"South\",\"West\",\"West\",\"East\",\"East\",\"East\",\"East\",\"Central\",\"West\",\"West\",\"West\",\"West\",\"West\",\"South\",\"West\",\"West\",\"East\",\"East\",\"East\",\"East\",\"Central\",\"Central\",\"West\",\"South\",\"South\",\"South\",\"South\",\"South\",\"South\",\"South\",\"Central\",\"West\",\"South\",\"East\",\"East\",\"Central\",\"Central\",\"Central\",\"South\",\"South\",\"South\",\"South\",\"South\",\"South\",\"South\",\"South\",\"South\",\"West\",\"East\",\"East\",\"East\",\"East\",\"Central\",\"East\",\"West\",\"Central\",\"Central\",\"Central\",\"East\",\"East\",\"Central\",\"Central\",\"Central\",\"Central\",\"Central\",\"West\",\"East\",\"East\",\"Central\",\"Central\",\"Central\",\"East\",\"West\",\"West\",\"West\",\"West\",\"West\",\"West\",\"East\",\"East\",\"South\",\"Central\",\"Central\",\"Central\",\"West\",\"South\",\"South\",\"South\",\"West\",\"West\",\"Central\",\"East\",\"East\",\"Central\",\"West\",\"West\",\"West\",\"West\",\"West\",\"East\",\"East\",\"West\",\"West\",\"West\",\"East\",\"South\",\"West\",\"West\",\"West\",\"West\",\"Central\",\"Central\",\"Central\",\"Central\",\"Central\",\"South\",\"South\",\"South\",\"Central\",\"South\",\"East\",\"East\",\"Central\",\"West\",\"East\",\"Central\",\"South\",\"Central\",\"South\",\"South\",\"East\",\"East\",\"West\",\"West\",\"West\",\"Central\",\"West\",\"West\",\"West\",\"West\",\"West\",\"West\",\"West\",\"East\",\"East\",\"East\",\"West\",\"West\",\"East\",\"South\",\"West\",\"West\",\"West\",\"West\",\"South\",\"West\",\"West\",\"East\",\"East\",\"East\",\"East\",\"West\",\"West\",\"Central\",\"Central\",\"Central\",\"Central\",\"East\",\"West\",\"West\",\"West\",\"West\",\"West\",\"West\",\"West\",\"East\",\"East\",\"Central\",\"Central\",\"Central\",\"Central\",\"West\",\"West\",\"South\",\"East\",\"Central\",\"East\",\"West\",\"West\",\"Central\",\"Central\",\"Central\",\"Central\",\"Central\",\"Central\",\"Central\",\"Central\",\"East\",\"East\",\"West\",\"West\",\"East\",\"East\",\"East\",\"East\",\"East\",\"East\",\"East\",\"East\",\"East\",\"West\",\"West\",\"West\",\"Central\",\"South\",\"East\",\"East\",\"East\",\"East\",\"West\",\"West\",\"West\",\"West\",\"West\",\"West\",\"West\",\"West\",\"West\",\"East\",\"East\",\"East\",\"West\",\"Central\",\"East\",\"East\",\"East\",\"East\",\"South\",\"South\",\"East\",\"West\",\"East\",\"East\",\"West\",\"East\",\"East\",\"Central\",\"Central\",\"Central\",\"Central\",\"Central\",\"Central\",\"South\",\"South\",\"East\",\"East\",\"East\",\"East\",\"East\",\"East\",\"Central\",\"East\",\"East\",\"East\",\"South\",\"South\",\"South\",\"South\",\"West\",\"West\",\"Central\",\"Central\",\"Central\",\"Central\",\"Central\",\"South\",\"South\",\"South\",\"West\",\"East\",\"East\",\"Central\",\"Central\",\"Central\",\"Central\",\"West\",\"West\",\"East\",\"East\",\"East\",\"East\",\"East\",\"South\",\"South\",\"South\",\"South\",\"Central\",\"Central\",\"West\",\"West\",\"West\",\"Central\",\"East\",\"East\",\"East\",\"East\",\"East\",\"East\",\"Central\",\"Central\",\"Central\",\"Central\",\"East\",\"East\",\"East\",\"Central\",\"Central\",\"West\",\"West\",\"East\",\"East\",\"East\",\"East\",\"East\",\"East\",\"East\",\"East\",\"South\",\"South\",\"West\",\"East\",\"East\",\"East\",\"Central\",\"Central\",\"Central\",\"South\",\"East\",\"South\",\"South\",\"South\",\"South\",\"South\",\"South\",\"South\",\"South\",\"East\",\"East\",\"East\",\"South\",\"South\",\"South\",\"East\",\"East\",\"South\",\"South\",\"South\",\"Central\",\"Central\",\"Central\",\"South\",\"South\",\"South\",\"South\",\"East\",\"East\",\"East\",\"East\",\"Central\",\"East\",\"East\",\"East\",\"East\",\"East\",\"West\",\"West\",\"West\",\"West\",\"West\",\"West\",\"West\",\"West\",\"West\",\"Central\",\"Central\",\"Central\",\"East\",\"East\",\"East\",\"East\",\"East\",\"East\",\"Central\",\"Central\",\"Central\",\"Central\",\"Central\",\"East\",\"East\",\"South\",\"South\",\"East\",\"East\",\"West\",\"West\",\"West\",\"West\",\"East\",\"East\",\"East\",\"Central\",\"Central\",\"Central\",\"East\",\"West\",\"West\",\"Central\",\"Central\",\"Central\",\"Central\",\"Central\",\"East\",\"West\",\"West\",\"Central\",\"East\",\"East\",\"East\",\"East\",\"Central\",\"Central\",\"Central\",\"Central\",\"Central\",\"Central\",\"West\",\"East\",\"East\",\"West\",\"West\",\"South\",\"West\",\"West\",\"West\",\"West\",\"West\",\"South\",\"South\",\"South\",\"South\",\"South\",\"South\",\"South\",\"South\",\"West\",\"West\",\"East\",\"Central\",\"East\",\"East\",\"South\",\"South\",\"East\",\"East\",\"East\",\"East\",\"West\",\"West\",\"West\",\"West\",\"West\",\"West\",\"East\",\"West\",\"South\",\"South\",\"South\",\"South\",\"West\",\"West\",\"West\",\"Central\",\"Central\",\"Central\",\"Central\",\"West\",\"West\",\"Central\",\"Central\",\"East\",\"West\",\"East\",\"South\",\"West\",\"West\",\"Central\",\"West\",\"South\",\"South\",\"South\",\"East\",\"East\",\"East\",\"Central\",\"Central\",\"Central\",\"West\",\"West\",\"West\",\"West\",\"West\",\"Central\",\"Central\",\"Central\",\"Central\",\"Central\",\"Central\",\"West\",\"West\",\"West\",\"West\",\"West\",\"West\",\"East\",\"East\",\"East\",\"South\",\"South\",\"Central\",\"East\",\"East\",\"East\",\"East\",\"South\",\"West\",\"West\",\"South\",\"Central\",\"Central\",\"Central\",\"Central\",\"West\",\"East\",\"East\",\"East\",\"Central\",\"West\",\"Central\",\"Central\",\"Central\",\"West\",\"West\",\"Central\",\"Central\",\"Central\",\"South\",\"East\",\"Central\",\"East\",\"East\",\"East\",\"West\",\"West\",\"West\",\"South\",\"South\",\"West\",\"West\",\"West\",\"South\",\"East\",\"West\",\"West\",\"West\",\"East\",\"Central\",\"Central\",\"Central\",\"Central\",\"South\",\"South\",\"South\",\"South\",\"West\",\"West\",\"West\",\"East\",\"West\",\"West\",\"West\",\"Central\",\"South\",\"South\",\"South\",\"South\",\"West\",\"West\",\"South\",\"West\",\"West\",\"West\",\"West\",\"Central\",\"Central\",\"Central\",\"West\",\"East\",\"East\",\"East\",\"East\",\"East\",\"East\",\"East\",\"East\",\"East\",\"East\",\"East\",\"East\",\"East\",\"East\",\"East\",\"East\",\"South\",\"East\",\"East\",\"Central\",\"Central\",\"Central\",\"Central\",\"Central\",\"Central\",\"East\",\"South\",\"West\",\"West\",\"West\",\"West\",\"West\",\"East\",\"Central\",\"East\",\"East\",\"East\",\"East\",\"East\",\"East\",\"East\",\"East\",\"East\",\"East\",\"South\",\"South\",\"South\",\"West\",\"West\",\"East\",\"Central\",\"Central\",\"Central\",\"Central\",\"Central\",\"Central\",\"West\",\"West\",\"West\",\"West\",\"West\",\"West\",\"South\",\"West\",\"Central\",\"Central\",\"East\",\"East\",\"East\",\"East\",\"East\",\"East\",\"West\",\"West\",\"West\",\"Central\",\"Central\",\"Central\",\"Central\",\"West\",\"South\",\"South\",\"Central\",\"Central\",\"Central\",\"Central\",\"Central\",\"East\",\"East\",\"Central\",\"West\",\"West\",\"West\",\"West\",\"East\",\"West\",\"West\",\"East\",\"South\",\"South\",\"South\",\"South\",\"West\",\"West\",\"West\",\"Central\",\"West\",\"Central\",\"Central\",\"South\",\"South\",\"South\",\"South\",\"South\",\"West\",\"West\",\"West\",\"West\",\"West\",\"West\",\"Central\",\"West\",\"West\",\"West\",\"West\",\"West\",\"West\",\"West\",\"Central\",\"West\",\"Central\",\"Central\",\"South\",\"South\",\"Central\",\"Central\",\"West\",\"West\",\"West\",\"West\",\"West\",\"Central\",\"East\",\"East\",\"West\",\"West\",\"South\",\"South\",\"South\",\"South\",\"South\",\"South\",\"South\",\"South\",\"East\",\"Central\",\"Central\",\"East\",\"West\",\"Central\",\"Central\",\"Central\",\"West\",\"Central\",\"West\",\"South\",\"East\",\"West\",\"West\",\"West\",\"South\",\"Central\",\"Central\",\"Central\",\"West\",\"West\",\"East\",\"West\",\"East\",\"South\",\"South\",\"East\",\"East\",\"West\",\"West\",\"West\",\"West\",\"West\",\"East\",\"East\",\"East\",\"East\",\"Central\",\"Central\",\"Central\",\"West\",\"East\",\"East\",\"East\",\"East\",\"West\",\"East\",\"East\",\"West\",\"Central\",\"Central\",\"East\",\"East\",\"Central\",\"West\",\"West\",\"West\",\"West\",\"South\",\"South\",\"West\",\"West\",\"West\",\"West\",\"South\",\"South\",\"South\",\"South\",\"South\",\"South\",\"East\",\"West\",\"West\",\"West\",\"West\",\"West\",\"Central\",\"West\",\"West\",\"South\",\"South\",\"West\",\"East\",\"East\",\"Central\",\"Central\",\"Central\",\"Central\",\"Central\",\"Central\",\"South\",\"Central\",\"South\",\"South\",\"South\",\"South\",\"South\",\"West\",\"Central\",\"Central\",\"West\",\"South\",\"South\",\"Central\",\"West\",\"West\",\"Central\",\"East\",\"Central\",\"East\",\"East\",\"East\",\"East\",\"East\",\"East\",\"West\",\"South\",\"South\",\"South\",\"South\",\"East\",\"West\",\"West\",\"West\",\"West\",\"West\",\"West\",\"East\",\"East\",\"East\",\"Central\",\"East\",\"East\",\"East\",\"East\",\"East\",\"East\",\"West\",\"South\",\"South\",\"South\",\"East\",\"East\",\"East\",\"East\",\"East\",\"East\",\"Central\",\"West\",\"West\",\"South\",\"West\",\"West\",\"West\",\"West\",\"West\",\"West\",\"West\",\"West\",\"West\",\"West\",\"West\",\"West\",\"West\",\"West\",\"West\",\"East\",\"West\",\"West\",\"Central\",\"Central\",\"West\",\"Central\",\"Central\",\"Central\",\"Central\",\"Central\",\"Central\",\"West\",\"South\",\"South\",\"South\",\"South\",\"South\",\"South\",\"West\",\"West\",\"East\",\"East\",\"West\",\"West\",\"West\",\"South\",\"South\",\"South\",\"South\",\"Central\",\"East\",\"East\",\"East\",\"East\",\"East\",\"West\",\"Central\",\"East\",\"West\",\"East\",\"East\",\"East\",\"East\",\"East\",\"East\",\"East\",\"East\",\"East\",\"East\",\"West\",\"West\",\"West\",\"West\",\"East\",\"West\",\"South\",\"West\",\"West\",\"East\",\"East\",\"South\",\"South\",\"East\",\"East\",\"South\",\"South\",\"Central\",\"Central\",\"Central\",\"Central\",\"Central\",\"South\",\"South\",\"South\",\"South\",\"Central\",\"Central\",\"South\",\"East\",\"East\",\"East\",\"East\",\"East\",\"East\",\"Central\",\"South\",\"West\",\"South\",\"Central\",\"South\",\"South\",\"East\",\"West\",\"West\",\"Central\",\"Central\",\"South\",\"South\",\"East\",\"East\",\"East\",\"West\",\"West\",\"West\",\"West\",\"East\",\"West\",\"Central\",\"Central\",\"Central\",\"Central\",\"Central\",\"East\",\"East\",\"East\",\"South\",\"East\",\"West\",\"East\",\"Central\",\"Central\",\"Central\",\"Central\",\"Central\",\"West\",\"West\",\"South\",\"South\",\"South\",\"South\",\"West\",\"West\",\"West\",\"East\",\"East\",\"South\",\"South\",\"East\",\"Central\",\"East\",\"West\",\"West\",\"West\",\"West\",\"West\",\"West\",\"West\",\"West\",\"West\",\"Central\",\"Central\",\"West\",\"West\",\"West\",\"West\",\"East\",\"East\",\"Central\",\"West\",\"West\",\"West\",\"East\",\"East\",\"West\",\"West\",\"East\",\"East\",\"East\",\"East\",\"East\",\"East\",\"West\",\"East\",\"West\",\"West\",\"West\",\"West\",\"West\",\"East\",\"West\",\"West\",\"East\",\"East\",\"East\",\"West\",\"West\",\"South\",\"Central\",\"Central\",\"Central\",\"Central\",\"Central\",\"Central\",\"Central\",\"Central\",\"Central\",\"West\",\"East\",\"East\",\"South\",\"Central\",\"South\",\"South\",\"South\",\"South\",\"West\",\"West\",\"South\",\"South\",\"West\",\"West\",\"South\",\"West\",\"West\",\"West\",\"East\",\"West\",\"Central\",\"East\",\"East\",\"West\",\"Central\",\"Central\",\"Central\",\"West\",\"West\",\"West\",\"South\",\"West\",\"West\",\"Central\",\"Central\",\"East\",\"Central\",\"Central\",\"Central\",\"Central\",\"Central\",\"South\",\"South\",\"Central\",\"West\",\"West\",\"West\",\"East\",\"Central\",\"South\",\"South\",\"South\",\"Central\",\"East\",\"East\",\"West\",\"West\",\"East\",\"East\",\"Central\",\"Central\",\"East\",\"East\",\"West\",\"West\",\"West\",\"West\",\"West\",\"Central\",\"East\",\"East\",\"South\",\"South\",\"East\",\"East\",\"West\",\"East\",\"East\",\"South\",\"South\",\"South\",\"East\",\"South\",\"South\",\"South\",\"South\",\"Central\",\"Central\",\"Central\",\"West\",\"East\",\"East\",\"West\",\"Central\",\"West\",\"West\",\"East\",\"East\",\"West\",\"West\",\"West\",\"East\",\"East\",\"East\",\"East\",\"East\",\"South\",\"South\",\"Central\",\"West\",\"West\",\"West\",\"West\",\"West\",\"Central\",\"West\",\"South\",\"Central\",\"Central\",\"Central\",\"Central\",\"Central\",\"Central\",\"Central\",\"Central\",\"Central\",\"Central\",\"South\",\"South\",\"East\",\"West\",\"West\",\"West\",\"East\",\"East\",\"East\",\"Central\",\"Central\",\"West\",\"West\",\"East\",\"West\",\"West\",\"West\",\"West\",\"Central\",\"West\",\"East\",\"East\",\"West\",\"West\",\"West\",\"East\",\"East\",\"East\",\"East\",\"East\",\"East\",\"East\",\"East\",\"East\",\"East\",\"East\",\"Central\",\"Central\",\"South\",\"South\",\"South\",\"South\",\"South\",\"West\",\"West\",\"West\",\"West\",\"West\",\"West\",\"West\",\"West\",\"West\",\"West\",\"Central\",\"Central\",\"Central\",\"Central\",\"Central\",\"Central\",\"South\",\"Central\",\"Central\",\"Central\",\"Central\",\"Central\",\"Central\",\"Central\",\"South\",\"South\",\"South\",\"South\",\"West\",\"West\",\"West\",\"West\",\"West\",\"West\",\"West\",\"West\",\"East\",\"East\",\"East\",\"East\",\"West\",\"Central\",\"South\",\"South\",\"South\",\"South\",\"South\",\"South\",\"South\",\"West\",\"East\",\"East\",\"Central\",\"Central\",\"East\",\"East\",\"East\",\"West\",\"West\",\"East\",\"Central\",\"Central\",\"Central\",\"West\",\"West\",\"West\",\"West\",\"West\",\"West\",\"West\",\"West\",\"West\",\"East\",\"Central\",\"West\",\"West\",\"East\",\"East\",\"East\",\"East\",\"East\",\"East\",\"South\",\"South\",\"South\",\"South\",\"South\",\"South\",\"South\",\"East\",\"East\",\"East\",\"West\",\"West\",\"West\",\"West\",\"West\",\"West\",\"West\",\"West\",\"West\",\"South\",\"South\",\"West\",\"Central\",\"West\",\"West\",\"West\",\"West\",\"West\",\"West\",\"West\",\"West\",\"Central\",\"Central\",\"Central\",\"Central\",\"Central\",\"East\",\"East\",\"East\",\"East\",\"East\",\"East\",\"Central\",\"Central\",\"East\",\"East\",\"East\",\"East\",\"Central\",\"West\",\"West\",\"West\",\"Central\",\"Central\",\"West\",\"West\",\"West\",\"South\",\"South\",\"South\",\"West\",\"West\",\"West\",\"West\",\"Central\",\"East\",\"East\",\"East\",\"East\",\"South\",\"South\",\"South\",\"South\",\"South\",\"West\",\"Central\",\"East\",\"East\",\"East\",\"East\",\"Central\",\"Central\",\"West\",\"West\",\"West\",\"West\",\"West\",\"West\",\"West\",\"East\",\"Central\",\"Central\",\"Central\",\"Central\",\"West\",\"West\",\"West\",\"Central\",\"Central\",\"Central\",\"East\",\"South\",\"East\",\"East\",\"West\",\"West\",\"West\",\"West\",\"West\",\"East\",\"Central\",\"Central\",\"West\",\"West\",\"West\",\"Central\",\"Central\",\"Central\",\"South\",\"South\",\"South\",\"South\",\"South\",\"East\",\"East\",\"East\",\"East\",\"West\",\"West\",\"West\",\"West\",\"West\",\"South\",\"West\",\"West\",\"East\",\"East\",\"Central\",\"Central\",\"South\",\"West\",\"West\",\"West\",\"West\",\"East\",\"Central\",\"Central\",\"Central\",\"West\",\"South\",\"South\",\"East\",\"East\",\"East\",\"East\",\"East\",\"East\",\"East\",\"East\",\"East\",\"East\",\"West\",\"South\",\"East\",\"East\",\"East\",\"East\",\"East\",\"Central\",\"Central\",\"East\",\"East\",\"Central\",\"Central\",\"Central\",\"South\",\"South\",\"South\",\"West\",\"West\",\"West\",\"Central\",\"Central\",\"East\",\"East\",\"East\",\"East\",\"East\",\"Central\",\"Central\",\"Central\",\"Central\",\"Central\",\"West\",\"East\",\"East\",\"West\",\"South\",\"South\",\"South\",\"West\",\"East\",\"West\",\"West\",\"West\",\"East\",\"East\",\"East\",\"West\",\"Central\",\"East\",\"East\",\"East\",\"East\",\"Central\",\"South\",\"West\",\"Central\",\"Central\",\"East\",\"West\",\"West\",\"East\",\"South\",\"East\",\"West\",\"West\",\"West\",\"West\",\"East\",\"East\",\"East\",\"Central\",\"East\",\"South\",\"South\",\"South\",\"South\",\"South\",\"South\",\"East\",\"South\",\"South\",\"East\",\"East\",\"Central\",\"South\",\"Central\",\"West\",\"South\",\"East\",\"East\",\"East\",\"West\",\"South\",\"West\",\"West\",\"East\",\"East\",\"East\",\"West\",\"West\",\"West\",\"West\",\"West\",\"South\",\"South\",\"Central\",\"South\",\"South\",\"South\",\"East\",\"Central\",\"Central\",\"Central\",\"Central\",\"East\",\"Central\",\"Central\",\"West\",\"West\",\"Central\",\"East\",\"East\",\"East\",\"East\",\"East\",\"West\",\"South\",\"South\",\"South\",\"South\",\"South\",\"South\",\"South\",\"South\",\"East\",\"East\",\"East\",\"East\",\"West\",\"West\",\"West\",\"West\",\"West\",\"West\",\"East\",\"South\",\"East\",\"East\",\"West\",\"East\",\"Central\",\"Central\",\"West\",\"West\",\"West\",\"West\",\"Central\",\"South\",\"West\",\"West\",\"West\",\"West\",\"West\",\"Central\",\"Central\",\"East\",\"South\",\"South\",\"Central\",\"South\",\"South\",\"Central\",\"Central\",\"Central\",\"Central\",\"Central\",\"Central\",\"West\",\"South\",\"South\",\"East\",\"East\",\"East\",\"East\",\"East\",\"West\",\"West\",\"West\",\"West\",\"West\",\"West\",\"West\",\"West\",\"South\",\"East\",\"West\",\"West\",\"West\",\"West\",\"West\",\"West\",\"South\",\"Central\",\"East\",\"West\",\"West\",\"West\",\"West\",\"West\",\"West\",\"West\",\"West\",\"West\",\"South\",\"South\",\"South\",\"South\",\"East\",\"East\",\"East\",\"East\",\"South\",\"South\",\"South\",\"South\",\"South\",\"South\",\"South\",\"Central\",\"Central\",\"Central\",\"West\",\"West\",\"West\",\"West\",\"West\",\"Central\",\"East\",\"East\",\"East\",\"East\",\"Central\",\"West\",\"East\",\"East\",\"East\",\"South\",\"South\",\"South\",\"South\",\"East\",\"East\",\"East\",\"Central\",\"East\",\"West\",\"West\",\"West\",\"West\",\"West\",\"West\",\"West\",\"West\",\"West\",\"West\",\"West\",\"Central\",\"Central\",\"Central\",\"Central\",\"Central\",\"Central\",\"Central\",\"Central\",\"Central\",\"East\",\"East\",\"East\",\"East\",\"West\",\"West\",\"West\",\"West\",\"West\",\"West\",\"South\",\"South\",\"South\",\"South\",\"South\",\"West\",\"West\",\"West\",\"West\",\"East\",\"East\",\"East\",\"East\",\"East\",\"East\",\"East\",\"South\",\"South\",\"West\",\"Central\",\"East\",\"East\",\"Central\",\"Central\",\"West\",\"East\",\"Central\",\"Central\",\"Central\",\"Central\",\"South\",\"South\",\"West\",\"West\",\"West\",\"West\",\"West\",\"West\",\"West\",\"Central\",\"West\",\"West\",\"East\",\"East\",\"East\",\"West\",\"Central\",\"Central\",\"Central\",\"East\",\"West\",\"East\",\"East\",\"East\",\"East\",\"East\",\"East\",\"West\",\"Central\",\"Central\",\"Central\",\"Central\",\"Central\",\"Central\",\"East\",\"East\",\"East\",\"East\",\"Central\",\"Central\",\"Central\",\"Central\",\"Central\",\"Central\",\"Central\",\"East\",\"South\",\"West\",\"West\",\"West\",\"West\",\"East\",\"East\",\"West\",\"East\",\"East\",\"South\",\"East\",\"East\",\"East\",\"East\",\"East\",\"East\",\"West\",\"West\",\"West\",\"West\",\"West\",\"West\",\"East\",\"East\",\"East\",\"East\",\"East\",\"East\",\"East\",\"West\",\"West\",\"Central\",\"Central\",\"Central\",\"Central\",\"Central\",\"Central\",\"Central\",\"South\",\"South\",\"South\",\"East\",\"West\",\"West\",\"West\",\"West\",\"West\",\"South\",\"South\",\"West\",\"West\",\"East\",\"West\",\"West\",\"East\",\"West\",\"West\",\"West\",\"West\",\"West\",\"West\",\"West\",\"West\",\"West\",\"West\",\"West\",\"West\",\"Central\",\"Central\",\"Central\",\"East\",\"Central\",\"Central\",\"Central\",\"Central\",\"Central\",\"Central\",\"West\",\"Central\",\"West\",\"Central\",\"West\",\"West\",\"West\",\"East\",\"East\",\"West\",\"Central\",\"Central\",\"Central\",\"Central\",\"West\",\"West\",\"West\",\"West\",\"Central\",\"West\",\"West\",\"South\",\"East\",\"East\",\"East\",\"East\",\"West\",\"West\",\"West\",\"West\",\"Central\",\"Central\",\"South\",\"West\",\"Central\",\"Central\",\"West\",\"West\",\"West\",\"East\",\"East\",\"East\",\"West\",\"Central\",\"East\",\"East\",\"East\",\"East\",\"West\",\"West\",\"West\",\"West\",\"West\",\"West\",\"West\",\"West\",\"South\",\"West\",\"West\",\"West\",\"Central\",\"East\",\"West\",\"West\",\"West\",\"East\",\"East\",\"Central\",\"Central\",\"Central\",\"Central\",\"Central\",\"East\",\"East\",\"East\",\"East\",\"East\",\"South\",\"South\",\"South\",\"West\",\"South\",\"South\",\"South\",\"Central\",\"Central\",\"East\",\"East\",\"East\",\"East\",\"East\",\"South\",\"South\",\"South\",\"South\",\"South\",\"Central\",\"Central\",\"South\",\"South\",\"South\",\"South\",\"Central\",\"Central\",\"Central\",\"Central\",\"Central\",\"Central\",\"West\",\"West\",\"East\",\"East\",\"East\",\"East\",\"East\",\"South\",\"South\",\"West\",\"West\",\"South\",\"South\",\"South\",\"South\",\"South\",\"South\",\"South\",\"East\",\"East\",\"West\",\"West\",\"South\",\"Central\",\"Central\",\"East\",\"Central\",\"Central\",\"Central\",\"Central\",\"West\",\"West\",\"West\",\"West\",\"West\",\"West\",\"Central\",\"Central\",\"Central\",\"South\",\"South\",\"East\",\"East\",\"East\",\"Central\",\"Central\",\"Central\",\"Central\",\"East\",\"West\",\"East\",\"East\",\"East\",\"South\",\"South\",\"South\",\"South\",\"South\",\"South\",\"Central\",\"Central\",\"Central\",\"Central\",\"South\",\"South\",\"South\",\"South\",\"South\",\"South\",\"East\",\"West\",\"East\",\"South\",\"South\",\"South\",\"South\",\"West\",\"Central\",\"West\",\"West\",\"West\",\"West\",\"Central\",\"Central\",\"Central\",\"West\",\"Central\",\"Central\",\"South\",\"South\",\"Central\",\"Central\",\"Central\",\"Central\",\"South\",\"South\",\"East\",\"Central\",\"Central\",\"East\",\"East\",\"South\",\"South\",\"Central\",\"Central\",\"East\",\"East\",\"East\",\"East\",\"East\",\"East\",\"East\",\"East\",\"South\",\"South\",\"South\",\"West\",\"South\",\"West\",\"South\",\"South\",\"South\",\"South\",\"East\",\"East\",\"East\",\"East\",\"East\",\"East\",\"East\",\"East\",\"East\",\"East\",\"South\",\"West\",\"West\",\"West\",\"Central\",\"Central\",\"Central\",\"Central\",\"South\",\"West\",\"West\",\"West\",\"West\",\"West\",\"West\",\"Central\",\"West\",\"West\",\"West\",\"West\",\"South\",\"Central\",\"Central\",\"Central\",\"Central\",\"West\",\"Central\",\"East\",\"East\",\"West\",\"East\",\"East\",\"East\",\"East\",\"West\",\"East\",\"East\",\"East\",\"East\",\"East\",\"South\",\"Central\",\"East\",\"West\",\"East\",\"East\",\"East\",\"West\",\"East\",\"East\",\"East\",\"East\",\"East\",\"West\",\"South\",\"South\",\"Central\",\"Central\",\"Central\",\"Central\",\"West\",\"West\",\"West\",\"West\",\"West\",\"East\",\"East\",\"East\",\"East\",\"East\",\"West\",\"Central\",\"West\",\"East\",\"Central\",\"East\",\"Central\",\"Central\",\"Central\",\"Central\",\"West\",\"East\",\"West\",\"Central\",\"East\",\"West\",\"East\",\"East\",\"East\",\"East\",\"East\",\"East\",\"East\",\"East\",\"East\",\"West\",\"Central\",\"Central\",\"Central\",\"West\",\"Central\",\"Central\",\"Central\",\"Central\",\"East\",\"East\",\"Central\",\"West\",\"West\",\"East\",\"East\",\"West\",\"Central\",\"South\",\"South\",\"South\",\"South\",\"South\",\"East\",\"East\",\"West\",\"East\",\"West\",\"West\",\"Central\",\"East\",\"East\",\"Central\",\"West\",\"West\",\"West\",\"West\",\"South\",\"South\",\"South\",\"West\",\"Central\",\"Central\",\"Central\",\"West\",\"East\",\"East\",\"East\",\"East\",\"East\",\"West\",\"West\",\"West\",\"Central\",\"Central\",\"Central\",\"Central\",\"Central\",\"Central\",\"Central\",\"East\",\"Central\",\"South\",\"South\",\"South\",\"East\",\"Central\",\"East\",\"East\",\"East\",\"East\",\"Central\",\"West\",\"East\",\"East\",\"East\",\"East\",\"East\",\"West\",\"Central\",\"Central\",\"Central\",\"Central\",\"South\",\"West\",\"East\",\"East\",\"East\",\"West\",\"West\",\"East\",\"East\",\"East\",\"South\",\"South\",\"South\",\"West\",\"West\",\"West\",\"Central\",\"Central\",\"Central\",\"South\",\"South\",\"South\",\"South\",\"Central\",\"Central\",\"Central\",\"Central\",\"Central\",\"Central\",\"South\",\"South\",\"Central\",\"Central\",\"East\",\"East\",\"East\",\"East\",\"Central\",\"Central\",\"East\",\"West\",\"South\",\"East\",\"Central\",\"Central\",\"South\",\"Central\",\"Central\",\"Central\",\"Central\",\"West\",\"East\",\"West\",\"West\",\"East\",\"East\",\"East\",\"West\",\"West\",\"South\",\"South\",\"South\",\"South\",\"West\",\"West\",\"West\",\"West\",\"West\",\"West\",\"Central\",\"Central\",\"Central\",\"East\",\"East\",\"East\",\"East\",\"East\",\"West\",\"West\",\"West\",\"West\",\"West\",\"West\",\"West\",\"West\",\"East\",\"Central\",\"South\",\"West\",\"South\",\"South\",\"West\",\"East\",\"East\",\"East\",\"East\",\"East\",\"East\",\"East\",\"East\",\"East\",\"South\",\"South\",\"West\",\"Central\",\"South\",\"Central\",\"West\",\"South\",\"South\",\"South\",\"South\",\"West\",\"South\",\"South\",\"South\",\"West\",\"West\",\"West\",\"West\",\"West\",\"West\",\"West\",\"West\",\"Central\",\"East\",\"South\",\"Central\",\"Central\",\"Central\",\"West\",\"West\",\"East\",\"West\",\"West\",\"West\",\"East\",\"East\",\"Central\",\"Central\",\"Central\",\"Central\",\"Central\",\"Central\",\"Central\",\"Central\",\"South\",\"South\",\"South\",\"West\",\"West\",\"East\",\"West\",\"West\",\"West\",\"East\",\"East\",\"East\",\"East\",\"West\",\"Central\",\"West\",\"South\",\"South\",\"South\",\"South\",\"South\",\"South\",\"South\",\"East\",\"Central\",\"West\",\"East\",\"East\",\"West\",\"West\",\"West\",\"West\",\"West\",\"West\",\"West\",\"East\",\"Central\",\"Central\",\"Central\",\"Central\",\"Central\",\"Central\",\"Central\",\"South\",\"South\",\"West\",\"South\",\"South\",\"South\",\"South\",\"South\",\"Central\",\"West\",\"West\",\"West\",\"East\",\"Central\",\"South\",\"East\",\"East\",\"South\",\"Central\",\"West\",\"West\",\"East\",\"East\",\"West\",\"West\",\"West\",\"East\",\"East\",\"South\",\"South\",\"East\",\"East\",\"East\",\"East\",\"East\",\"East\",\"East\",\"South\",\"South\",\"West\",\"West\",\"Central\",\"Central\",\"Central\",\"Central\",\"East\",\"West\",\"West\",\"South\",\"South\",\"East\",\"East\",\"Central\",\"Central\",\"Central\",\"East\",\"West\",\"Central\",\"Central\",\"West\",\"West\",\"South\",\"West\",\"West\",\"West\",\"South\",\"South\",\"South\",\"Central\",\"West\",\"West\",\"West\",\"West\",\"West\",\"West\",\"East\",\"East\",\"Central\",\"Central\",\"Central\",\"East\",\"East\",\"West\",\"East\",\"East\",\"East\",\"East\",\"West\",\"Central\",\"Central\",\"West\",\"East\",\"East\",\"East\",\"East\",\"East\",\"Central\",\"South\",\"South\",\"South\",\"South\",\"East\",\"East\",\"Central\",\"Central\",\"Central\",\"Central\",\"West\",\"South\",\"East\",\"South\",\"South\",\"South\",\"South\",\"South\",\"West\",\"West\",\"West\",\"West\",\"West\",\"Central\",\"East\",\"East\",\"East\",\"East\",\"South\",\"South\",\"South\",\"South\",\"East\",\"East\",\"East\",\"West\",\"West\",\"West\",\"West\",\"South\",\"East\",\"East\",\"East\",\"East\",\"East\",\"South\",\"Central\",\"Central\",\"West\",\"West\",\"West\",\"West\",\"East\",\"East\",\"Central\",\"Central\",\"Central\",\"East\",\"East\",\"West\",\"West\",\"Central\",\"South\",\"South\",\"East\",\"East\",\"East\",\"West\",\"West\",\"Central\",\"Central\",\"South\",\"West\",\"Central\",\"West\",\"West\",\"West\",\"West\",\"South\",\"South\",\"Central\",\"Central\",\"Central\",\"Central\",\"East\",\"East\",\"East\",\"West\",\"West\",\"East\",\"South\",\"South\",\"South\",\"South\",\"Central\",\"Central\",\"Central\",\"Central\",\"Central\",\"South\",\"East\",\"South\",\"South\",\"South\",\"Central\",\"Central\",\"Central\",\"West\",\"Central\",\"Central\",\"Central\",\"Central\",\"Central\",\"Central\",\"East\",\"East\",\"West\",\"West\",\"West\",\"West\",\"South\",\"West\",\"West\",\"Central\",\"West\",\"West\",\"East\",\"East\",\"West\",\"South\",\"South\",\"South\",\"South\",\"South\",\"South\",\"West\",\"South\",\"South\",\"Central\",\"Central\",\"Central\",\"Central\",\"South\",\"South\",\"South\",\"Central\",\"East\",\"East\",\"South\",\"East\",\"East\",\"East\",\"East\",\"West\",\"Central\",\"Central\",\"Central\",\"Central\",\"East\",\"Central\",\"Central\",\"Central\",\"Central\",\"Central\",\"Central\",\"South\",\"South\",\"South\",\"South\",\"Central\",\"Central\",\"West\",\"South\",\"South\",\"South\",\"South\",\"Central\",\"Central\",\"Central\",\"East\",\"West\",\"South\",\"South\",\"West\",\"West\",\"Central\",\"Central\",\"Central\",\"Central\",\"East\",\"South\",\"Central\",\"East\",\"West\",\"West\",\"West\",\"West\",\"West\",\"West\",\"South\",\"South\",\"East\",\"West\",\"East\",\"East\",\"East\",\"East\",\"East\",\"East\",\"East\",\"West\",\"West\",\"Central\",\"South\",\"Central\",\"Central\",\"East\",\"East\",\"Central\",\"Central\",\"West\",\"South\",\"West\",\"West\",\"West\",\"West\",\"West\",\"West\",\"West\",\"East\",\"West\",\"West\",\"West\",\"West\",\"West\",\"West\",\"East\",\"West\",\"West\",\"West\",\"West\",\"West\",\"East\",\"Central\",\"Central\",\"Central\",\"South\",\"East\",\"West\",\"West\",\"East\",\"Central\",\"Central\",\"Central\",\"South\",\"East\",\"East\",\"Central\",\"South\",\"South\",\"West\",\"West\",\"South\",\"South\",\"South\",\"West\",\"Central\",\"Central\",\"South\",\"East\",\"South\",\"East\",\"East\",\"Central\",\"Central\",\"Central\",\"Central\",\"Central\",\"Central\",\"Central\",\"Central\",\"Central\",\"Central\",\"Central\",\"Central\",\"Central\",\"Central\",\"Central\",\"Central\",\"Central\",\"South\",\"South\",\"South\",\"South\",\"West\",\"East\",\"East\",\"East\",\"East\",\"West\",\"West\",\"West\",\"West\",\"East\",\"Central\",\"Central\",\"West\",\"Central\",\"West\",\"East\",\"East\",\"East\",\"East\",\"West\",\"South\",\"South\",\"South\",\"South\",\"South\",\"Central\",\"West\",\"East\",\"West\",\"West\",\"West\",\"Central\",\"East\",\"East\",\"East\",\"Central\",\"Central\",\"West\",\"West\",\"West\",\"East\",\"West\",\"East\",\"East\",\"East\",\"South\",\"South\",\"Central\",\"Central\",\"Central\",\"Central\",\"West\",\"West\",\"West\",\"South\",\"South\",\"West\",\"West\",\"West\",\"West\",\"West\",\"West\",\"South\",\"East\",\"East\",\"West\",\"West\",\"West\",\"West\",\"West\",\"West\",\"West\",\"West\",\"East\",\"East\",\"East\",\"East\",\"East\",\"Central\",\"Central\",\"West\",\"West\",\"West\",\"West\",\"West\",\"West\",\"East\",\"East\",\"East\",\"East\",\"West\",\"East\",\"East\",\"Central\",\"West\",\"Central\",\"Central\",\"West\",\"West\",\"West\",\"East\",\"West\",\"Central\",\"Central\",\"East\",\"East\",\"South\",\"South\",\"South\",\"Central\",\"Central\",\"Central\",\"Central\",\"West\",\"West\",\"West\",\"West\",\"West\",\"West\",\"West\",\"West\",\"West\",\"West\",\"West\",\"East\",\"South\",\"South\",\"South\",\"West\",\"West\",\"West\",\"West\",\"West\",\"West\",\"East\",\"East\",\"Central\",\"West\",\"South\",\"South\",\"Central\",\"Central\",\"Central\",\"Central\",\"Central\",\"Central\",\"Central\",\"West\",\"Central\",\"Central\",\"South\",\"South\",\"West\",\"East\",\"East\",\"East\",\"East\",\"East\",\"East\",\"South\",\"West\",\"South\",\"South\",\"East\",\"East\",\"East\",\"West\",\"South\",\"South\",\"West\",\"Central\",\"South\",\"Central\",\"Central\",\"East\",\"West\",\"East\",\"East\",\"Central\",\"East\",\"East\",\"East\",\"Central\",\"Central\",\"Central\",\"Central\",\"Central\",\"Central\",\"Central\",\"Central\",\"Central\",\"West\",\"West\",\"West\",\"West\",\"West\",\"East\",\"Central\",\"Central\",\"Central\",\"Central\",\"East\",\"East\",\"Central\",\"East\",\"East\",\"East\",\"Central\",\"Central\",\"West\",\"West\",\"West\",\"West\",\"West\",\"West\",\"West\",\"East\",\"West\",\"South\",\"South\",\"South\",\"South\",\"West\",\"West\",\"West\",\"West\",\"West\",\"West\",\"West\",\"East\",\"East\",\"East\",\"East\",\"East\",\"West\",\"West\",\"West\",\"West\",\"Central\",\"Central\",\"Central\",\"Central\",\"Central\",\"East\",\"East\",\"East\",\"East\",\"West\",\"West\",\"West\",\"West\",\"Central\",\"East\",\"East\",\"East\",\"East\",\"East\",\"East\",\"East\",\"West\",\"West\",\"West\",\"East\",\"Central\",\"Central\",\"South\",\"South\",\"South\",\"South\",\"South\",\"East\",\"West\",\"East\",\"East\",\"East\",\"East\",\"Central\",\"Central\",\"West\",\"East\",\"East\",\"East\",\"East\",\"East\",\"East\",\"Central\",\"South\",\"West\",\"East\",\"East\",\"East\",\"Central\",\"Central\",\"East\",\"East\",\"East\",\"East\",\"West\",\"West\",\"Central\",\"West\",\"West\",\"West\",\"South\",\"South\",\"Central\",\"Central\",\"West\",\"West\",\"West\",\"West\",\"East\",\"West\",\"East\",\"Central\",\"Central\",\"Central\",\"East\",\"West\",\"West\",\"West\",\"West\",\"East\",\"West\",\"East\",\"Central\",\"East\",\"East\",\"South\",\"South\",\"Central\",\"Central\",\"Central\",\"Central\",\"West\",\"West\",\"West\",\"West\",\"West\",\"West\",\"West\",\"South\",\"South\",\"South\",\"West\",\"West\",\"East\",\"West\",\"South\",\"East\",\"East\",\"West\",\"East\",\"East\",\"East\",\"East\",\"East\",\"East\",\"East\",\"East\",\"Central\",\"Central\",\"Central\",\"Central\",\"Central\",\"Central\",\"Central\",\"Central\",\"East\",\"West\",\"Central\",\"Central\",\"East\",\"East\",\"West\",\"South\",\"West\",\"West\",\"Central\",\"Central\",\"Central\",\"West\",\"West\",\"Central\",\"Central\",\"Central\",\"Central\",\"West\",\"East\",\"East\",\"East\",\"East\",\"Central\",\"Central\",\"Central\",\"Central\",\"East\",\"Central\",\"Central\",\"Central\",\"South\",\"Central\",\"East\",\"East\",\"East\",\"West\",\"West\",\"Central\",\"Central\",\"Central\",\"West\",\"West\",\"West\",\"West\",\"West\",\"Central\",\"West\",\"Central\",\"East\",\"East\",\"East\",\"East\",\"Central\",\"West\",\"East\",\"East\",\"West\",\"Central\",\"Central\",\"Central\",\"Central\",\"Central\",\"Central\",\"East\",\"East\",\"East\",\"West\",\"East\",\"South\",\"West\",\"East\",\"East\",\"East\",\"Central\",\"East\",\"East\",\"East\",\"East\",\"East\",\"East\",\"West\",\"South\",\"South\",\"South\",\"Central\",\"East\",\"East\",\"East\",\"East\",\"East\",\"West\",\"Central\",\"Central\",\"Central\",\"East\",\"East\",\"East\",\"East\",\"East\",\"East\",\"Central\",\"South\",\"West\",\"Central\",\"Central\",\"Central\",\"Central\",\"Central\",\"Central\",\"East\",\"East\",\"West\",\"West\",\"West\",\"West\",\"West\",\"Central\",\"South\",\"South\",\"East\",\"South\",\"East\",\"East\",\"East\",\"East\",\"West\",\"West\",\"South\",\"West\",\"West\",\"West\",\"West\",\"West\",\"East\",\"East\",\"East\",\"East\",\"East\",\"East\",\"Central\",\"Central\",\"Central\",\"Central\",\"Central\",\"East\",\"East\",\"East\",\"East\",\"Central\",\"East\",\"East\",\"East\",\"West\",\"West\",\"West\",\"South\",\"West\",\"West\",\"West\",\"West\",\"West\",\"West\",\"West\",\"Central\",\"Central\",\"West\",\"West\",\"West\",\"West\",\"West\",\"West\",\"East\",\"East\",\"East\",\"East\",\"West\",\"West\",\"West\",\"West\",\"West\",\"West\",\"West\",\"West\",\"West\",\"West\",\"South\",\"South\",\"West\",\"East\",\"East\",\"Central\",\"West\",\"Central\",\"East\",\"East\",\"West\",\"West\",\"West\",\"West\",\"West\",\"West\",\"West\",\"West\",\"Central\",\"South\",\"South\",\"East\",\"Central\",\"East\",\"West\",\"West\",\"East\",\"Central\",\"East\",\"West\",\"West\",\"West\",\"West\",\"East\",\"East\",\"East\",\"West\",\"West\",\"West\",\"West\",\"West\",\"East\",\"East\",\"East\",\"East\",\"East\",\"West\",\"East\",\"Central\",\"Central\",\"East\",\"Central\",\"East\",\"East\",\"East\",\"Central\",\"West\",\"East\",\"East\",\"East\",\"West\",\"West\",\"West\",\"South\",\"South\",\"South\",\"East\",\"Central\",\"West\",\"West\",\"West\",\"West\",\"East\",\"West\",\"East\",\"Central\",\"West\",\"West\",\"Central\",\"Central\",\"East\",\"Central\",\"Central\",\"West\",\"South\",\"South\",\"South\",\"South\",\"South\",\"South\",\"West\",\"South\",\"West\",\"West\",\"West\",\"West\",\"East\",\"East\",\"Central\",\"West\",\"South\",\"South\",\"South\",\"East\",\"South\",\"Central\",\"Central\",\"Central\",\"Central\",\"Central\",\"Central\",\"East\",\"East\",\"East\",\"East\",\"East\",\"South\",\"South\",\"Central\",\"Central\",\"Central\",\"Central\",\"Central\",\"Central\",\"Central\",\"Central\",\"Central\",\"East\",\"East\",\"East\",\"East\"],\"legendgroup\":\"\",\"name\":\"\",\"showlegend\":true,\"values\":[1.0,1.0,1.0,1.0,1.0,1.0,1.0,1.0,1.0,1.0,1.0,1.0,1.0,1.0,1.0,1.0,1.0,1.0,1.0,1.0,1.0,1.0,1.0,1.0,1.0,1.0,1.0,1.0,1.0,1.0,1.0,1.0,1.0,1.0,1.0,1.0,1.0,1.0,1.0,1.0,1.0,1.0,1.0,1.0,1.0,1.0,1.0,1.0,1.0,1.0,1.0,1.0,1.0,1.0,1.0,1.0,1.0,1.0,1.0,1.0,1.0,1.0,1.0,1.0,1.0,1.0,1.0,1.0,1.0,1.0,1.0,1.0,1.0,1.0,1.0,1.0,1.0,1.0,1.0,1.0,1.0,1.0,1.0,1.0,1.0,1.0,1.0,1.0,1.0,1.0,1.0,1.0,1.0,1.0,1.0,1.0,1.0,1.0,1.0,1.0,1.0,1.0,1.0,1.0,1.0,1.0,1.0,1.0,1.0,1.0,1.0,1.0,1.0,1.0,1.0,1.0,1.0,1.0,1.0,1.0,1.0,1.0,1.0,1.0,1.0,1.0,1.0,1.0,1.0,1.0,1.0,1.0,1.0,1.0,1.0,1.0,1.0,1.0,1.0,1.0,1.0,1.0,1.0,1.0,1.0,1.0,1.0,1.0,1.0,1.0,1.0,1.0,1.0,1.0,1.0,1.0,1.0,1.0,1.0,1.0,1.0,1.0,1.0,1.0,1.0,1.0,1.0,1.0,1.0,1.0,1.0,1.0,1.0,1.0,1.0,1.0,1.0,1.0,1.0,1.0,1.0,1.0,1.0,1.0,1.0,1.0,1.0,1.0,1.0,1.0,1.0,1.0,1.0,1.0,1.0,1.0,1.0,1.0,1.0,1.0,1.0,1.0,1.0,1.0,1.0,1.0,1.0,1.0,1.0,1.0,1.0,1.0,1.0,1.0,1.0,1.0,1.0,1.0,1.0,1.0,1.0,1.0,1.0,1.0,1.0,1.0,1.0,1.0,1.0,1.0,1.0,1.0,1.0,1.0,1.0,1.0,1.0,1.0,1.0,1.0,1.0,1.0,1.0,1.0,1.0,1.0,1.0,1.0,1.0,1.0,1.0,1.0,1.0,1.0,1.0,1.0,1.0,1.0,1.0,1.0,1.0,1.0,1.0,1.0,1.0,1.0,1.0,1.0,1.0,1.0,1.0,1.0,1.0,1.0,1.0,1.0,1.0,1.0,1.0,1.0,1.0,1.0,1.0,1.0,1.0,1.0,1.0,1.0,1.0,1.0,1.0,1.0,1.0,1.0,1.0,1.0,1.0,1.0,1.0,1.0,1.0,1.0,1.0,1.0,1.0,1.0,1.0,1.0,1.0,1.0,1.0,1.0,1.0,1.0,1.0,1.0,1.0,1.0,1.0,1.0,1.0,1.0,1.0,1.0,1.0,1.0,1.0,1.0,1.0,1.0,1.0,1.0,1.0,1.0,1.0,1.0,1.0,1.0,1.0,1.0,1.0,1.0,1.0,1.0,1.0,1.0,1.0,1.0,1.0,1.0,1.0,1.0,1.0,1.0,1.0,1.0,1.0,1.0,1.0,1.0,1.0,1.0,1.0,1.0,1.0,1.0,1.0,1.0,1.0,1.0,1.0,1.0,1.0,1.0,1.0,1.0,1.0,1.0,1.0,1.0,1.0,1.0,1.0,1.0,1.0,1.0,1.0,1.0,1.0,1.0,1.0,1.0,1.0,1.0,1.0,1.0,1.0,1.0,1.0,1.0,1.0,1.0,1.0,1.0,1.0,1.0,1.0,1.0,1.0,1.0,1.0,1.0,1.0,1.0,1.0,1.0,1.0,1.0,1.0,1.0,1.0,1.0,1.0,1.0,1.0,1.0,1.0,1.0,1.0,1.0,1.0,1.0,1.0,1.0,1.0,1.0,1.0,1.0,1.0,1.0,1.0,1.0,1.0,1.0,1.0,1.0,1.0,1.0,1.0,1.0,1.0,1.0,1.0,1.0,1.0,1.0,1.0,1.0,1.0,1.0,1.0,1.0,1.0,1.0,1.0,1.0,1.0,1.0,1.0,1.0,1.0,1.0,1.0,1.0,1.0,1.0,1.0,1.0,1.0,1.0,1.0,1.0,1.0,1.0,1.0,1.0,1.0,1.0,1.0,1.0,1.0,1.0,1.0,1.0,1.0,1.0,1.0,1.0,1.0,1.0,1.0,1.0,1.0,1.0,1.0,1.0,1.0,1.0,1.0,1.0,1.0,1.0,1.0,1.0,1.0,1.0,1.0,1.0,1.0,1.0,1.0,1.0,1.0,1.0,1.0,1.0,1.0,1.0,1.0,1.0,1.0,1.0,1.0,1.0,1.0,1.0,1.0,1.0,1.0,1.0,1.0,1.0,1.0,1.0,1.0,1.0,1.0,1.0,1.0,1.0,1.0,1.0,1.0,1.0,1.0,1.0,1.0,1.0,1.0,1.0,1.0,1.0,1.0,1.0,1.0,1.0,1.0,1.0,1.0,1.0,1.0,1.0,1.0,1.0,1.0,1.0,1.0,1.0,1.0,1.0,1.0,1.0,1.0,1.0,1.0,1.0,1.0,1.0,1.0,1.0,1.0,1.0,1.0,1.0,1.0,1.0,1.0,1.0,1.0,1.0,1.0,1.0,1.0,1.0,1.0,1.0,1.0,1.0,1.0,1.0,1.0,1.0,1.0,1.0,1.0,1.0,1.0,1.0,1.0,1.0,1.0,1.0,1.0,1.0,1.0,1.0,1.0,1.0,1.0,1.0,1.0,1.0,1.0,1.0,1.0,1.0,1.0,1.0,1.0,1.0,1.0,1.0,1.0,1.0,1.0,1.0,1.0,1.0,1.0,1.0,1.0,1.0,1.0,1.0,1.0,1.0,1.0,1.0,1.0,1.0,1.0,1.0,1.0,1.0,1.0,1.0,1.0,1.0,1.0,1.0,1.0,1.0,1.0,1.0,1.0,1.0,1.0,1.0,1.0,1.0,1.0,1.0,1.0,1.0,1.0,1.0,1.0,1.0,1.0,1.0,1.0,1.0,1.0,1.0,1.0,1.0,1.0,1.0,1.0,1.0,1.0,1.0,1.0,1.0,1.0,1.0,1.0,1.0,1.0,1.0,1.0,1.0,1.0,1.0,1.0,1.0,1.0,1.0,1.0,1.0,1.0,1.0,1.0,1.0,1.0,1.0,1.0,1.0,1.0,1.0,1.0,1.0,1.0,1.0,1.0,1.0,1.0,1.0,1.0,1.0,1.0,1.0,1.0,1.0,1.0,1.0,1.0,1.0,1.0,1.0,1.0,1.0,1.0,1.0,1.0,1.0,1.0,1.0,1.0,1.0,1.0,1.0,1.0,1.0,1.0,1.0,1.0,1.0,1.0,1.0,1.0,1.0,1.0,1.0,1.0,1.0,1.0,1.0,1.0,1.0,1.0,1.0,1.0,1.0,1.0,1.0,1.0,1.0,1.0,1.0,1.0,1.0,1.0,1.0,1.0,1.0,1.0,1.0,1.0,1.0,1.0,1.0,1.0,1.0,1.0,1.0,1.0,1.0,1.0,1.0,1.0,1.0,1.0,1.0,1.0,1.0,1.0,1.0,1.0,1.0,1.0,1.0,1.0,1.0,1.0,1.0,1.0,1.0,1.0,1.0,1.0,1.0,1.0,1.0,1.0,1.0,1.0,1.0,1.0,1.0,1.0,1.0,1.0,1.0,1.0,1.0,1.0,1.0,1.0,1.0,1.0,1.0,1.0,1.0,1.0,1.0,1.0,1.0,1.0,1.0,1.0,1.0,1.0,1.0,1.0,1.0,1.0,1.0,1.0,1.0,1.0,1.0,1.0,1.0,1.0,1.0,1.0,1.0,1.0,1.0,1.0,1.0,1.0,1.0,1.0,1.0,1.0,1.0,1.0,1.0,1.0,1.0,1.0,1.0,1.0,1.0,1.0,1.0,1.0,1.0,1.0,1.0,1.0,1.0,1.0,1.0,1.0,1.0,1.0,1.0,1.0,1.0,1.0,1.0,1.0,1.0,1.0,1.0,1.0,1.0,1.0,1.0,1.0,1.0,1.0,1.0,1.0,1.0,1.0,1.0,1.0,1.0,1.0,1.0,1.0,1.0,1.0,1.0,1.0,1.0,1.0,1.0,1.0,1.0,1.0,1.0,1.0,1.0,1.0,1.0,1.0,1.0,1.0,1.0,1.0,1.0,1.0,1.0,1.0,1.0,1.0,1.0,1.0,1.0,1.0,1.0,1.0,1.0,1.0,1.0,1.0,1.0,1.0,1.0,1.0,1.0,1.0,1.0,1.0,1.0,1.0,1.0,1.0,1.0,1.0,1.0,1.0,1.0,1.0,1.0,1.0,1.0,1.0,1.0,1.0,1.0,1.0,1.0,1.0,1.0,1.0,1.0,1.0,1.0,1.0,1.0,1.0,1.0,1.0,1.0,1.0,1.0,1.0,1.0,1.0,1.0,1.0,1.0,1.0,1.0,1.0,1.0,1.0,1.0,1.0,1.0,1.0,1.0,1.0,1.0,1.0,1.0,1.0,1.0,1.0,1.0,1.0,1.0,1.0,1.0,1.0,1.0,1.0,1.0,1.0,1.0,1.0,1.0,1.0,1.0,1.0,1.0,1.0,1.0,1.0,1.0,1.0,1.0,1.0,1.0,1.0,1.0,1.0,1.0,1.0,1.0,1.0,1.0,1.0,1.0,1.0,1.0,1.0,1.0,1.0,1.0,1.0,1.0,1.0,1.0,1.0,1.0,1.0,1.0,1.0,1.0,1.0,1.0,1.0,1.0,1.0,1.0,1.0,1.0,1.0,1.0,1.0,1.0,1.0,1.0,1.0,1.0,1.0,1.0,1.0,1.0,1.0,1.0,1.0,1.0,1.0,1.0,1.0,1.0,1.0,1.0,1.0,1.0,1.0,1.0,1.0,1.0,1.0,1.0,1.0,1.0,1.0,1.0,1.0,1.0,1.0,1.0,1.0,1.0,1.0,1.0,1.0,1.0,1.0,1.0,1.0,1.0,1.0,1.0,1.0,1.0,1.0,1.0,1.0,1.0,1.0,1.0,1.0,1.0,1.0,1.0,1.0,1.0,1.0,1.0,1.0,1.0,1.0,1.0,1.0,1.0,1.0,1.0,1.0,1.0,1.0,1.0,1.0,1.0,1.0,1.0,1.0,1.0,1.0,1.0,1.0,1.0,1.0,1.0,1.0,1.0,1.0,1.0,1.0,1.0,1.0,1.0,1.0,1.0,1.0,1.0,1.0,1.0,1.0,1.0,1.0,1.0,1.0,1.0,1.0,1.0,1.0,1.0,1.0,1.0,1.0,1.0,1.0,1.0,1.0,1.0,1.0,1.0,1.0,1.0,1.0,1.0,1.0,1.0,1.0,1.0,1.0,1.0,1.0,1.0,1.0,1.0,1.0,1.0,1.0,1.0,1.0,1.0,1.0,1.0,1.0,1.0,1.0,1.0,1.0,1.0,1.0,1.0,1.0,1.0,1.0,1.0,1.0,1.0,1.0,1.0,1.0,1.0,1.0,1.0,1.0,1.0,1.0,1.0,1.0,1.0,1.0,1.0,1.0,1.0,1.0,1.0,1.0,1.0,1.0,1.0,1.0,1.0,1.0,1.0,1.0,1.0,1.0,1.0,1.0,1.0,1.0,1.0,1.0,1.0,1.0,1.0,1.0,1.0,1.0,1.0,1.0,1.0,1.0,1.0,1.0,1.0,1.0,1.0,1.0,1.0,1.0,1.0,1.0,1.0,1.0,1.0,1.0,1.0,1.0,1.0,1.0,1.0,1.0,1.0,1.0,1.0,1.0,1.0,1.0,1.0,1.0,1.0,1.0,1.0,1.0,1.0,1.0,1.0,1.0,1.0,1.0,1.0,1.0,1.0,1.0,1.0,1.0,1.0,1.0,1.0,1.0,1.0,1.0,1.0,1.0,1.0,1.0,1.0,1.0,1.0,1.0,1.0,1.0,1.0,1.0,1.0,1.0,1.0,1.0,1.0,1.0,1.0,1.0,1.0,1.0,1.0,1.0,1.0,1.0,1.0,1.0,1.0,1.0,1.0,1.0,1.0,1.0,1.0,1.0,1.0,1.0,1.0,1.0,1.0,1.0,1.0,1.0,1.0,1.0,1.0,1.0,1.0,1.0,1.0,1.0,1.0,1.0,1.0,1.0,1.0,1.0,1.0,1.0,1.0,1.0,1.0,1.0,1.0,1.0,1.0,1.0,1.0,1.0,1.0,1.0,1.0,1.0,1.0,1.0,1.0,1.0,1.0,1.0,1.0,1.0,1.0,1.0,1.0,1.0,1.0,1.0,1.0,1.0,1.0,1.0,1.0,1.0,1.0,1.0,1.0,1.0,1.0,1.0,1.0,1.0,1.0,1.0,1.0,1.0,1.0,1.0,1.0,1.0,1.0,1.0,1.0,1.0,1.0,1.0,1.0,1.0,1.0,1.0,1.0,1.0,1.0,1.0,1.0,1.0,1.0,1.0,1.0,1.0,1.0,1.0,1.0,1.0,1.0,1.0,1.0,1.0,1.0,1.0,1.0,1.0,1.0,1.0,1.0,1.0,1.0,1.0,1.0,1.0,1.0,1.0,1.0,1.0,1.0,1.0,1.0,1.0,1.0,1.0,1.0,1.0,1.0,1.0,1.0,1.0,1.0,1.0,1.0,1.0,1.0,1.0,1.0,1.0,1.0,1.0,1.0,1.0,1.0,1.0,1.0,1.0,1.0,1.0,1.0,1.0,1.0,1.0,1.0,1.0,1.0,1.0,1.0,1.0,1.0,1.0,1.0,1.0,1.0,1.0,1.0,1.0,1.0,1.0,1.0,1.0,1.0,1.0,1.0,1.0,1.0,1.0,1.0,1.0,1.0,1.0,1.0,1.0,1.0,1.0,1.0,1.0,1.0,1.0,1.0,1.0,1.0,1.0,1.0,1.0,1.0,1.0,1.0,1.0,1.0,1.0,1.0,1.0,1.0,1.0,1.0,1.0,1.0,1.0,1.0,1.0,1.0,1.0,1.0,1.0,1.0,1.0,1.0,1.0,1.0,1.0,1.0,1.0,1.0,1.0,1.0,1.0,1.0,1.0,1.0,1.0,1.0,1.0,1.0,1.0,1.0,1.0,1.0,1.0,1.0,1.0,1.0,1.0,1.0,1.0,1.0,1.0,1.0,1.0,1.0,1.0,1.0,1.0,1.0,1.0,1.0,1.0,1.0,1.0,1.0,1.0,1.0,1.0,1.0,1.0,1.0,1.0,1.0,1.0,1.0,1.0,1.0,1.0,1.0,1.0,1.0,1.0,1.0,1.0,1.0,1.0,1.0,1.0,1.0,1.0,1.0,1.0,1.0,1.0,1.0,1.0,1.0,1.0,1.0,1.0,1.0,1.0,1.0,1.0,1.0,1.0,1.0,1.0,1.0,1.0,1.0,1.0,1.0,1.0,1.0,1.0,1.0,1.0,1.0,1.0,1.0,1.0,1.0,1.0,1.0,1.0,1.0,1.0,1.0,1.0,1.0,1.0,1.0,1.0,1.0,1.0,1.0,1.0,1.0,1.0,1.0,1.0,1.0,1.0,1.0,1.0,1.0,1.0,1.0,1.0,1.0,1.0,1.0,1.0,1.0,1.0,1.0,1.0,1.0,1.0,1.0,1.0,1.0,1.0,1.0,1.0,1.0,1.0,1.0,1.0,1.0,1.0,1.0,1.0,1.0,1.0,1.0,1.0,1.0,1.0,1.0,1.0,1.0,1.0,1.0,1.0,1.0,1.0,1.0,1.0,1.0,1.0,1.0,1.0,1.0,1.0,1.0,1.0,1.0,1.0,1.0,1.0,1.0,1.0,1.0,1.0,1.0,1.0,1.0,1.0,1.0,1.0,1.0,1.0,1.0,1.0,1.0,1.0,1.0,1.0,1.0,1.0,1.0,1.0,1.0,1.0,1.0,1.0,1.0,1.0,1.0,1.0,1.0,1.0,1.0,1.0,1.0,1.0,1.0,1.0,1.0,1.0,1.0,1.0,1.0,1.0,1.0,1.0,1.0,1.0,1.0,1.0,1.0,1.0,1.0,1.0,1.0,1.0,1.0,1.0,1.0,1.0,1.0,1.0,1.0,1.0,1.0,1.0,1.0,1.0,1.0,1.0,1.0,1.0,1.0,1.0,1.0,1.0,1.0,1.0,1.0,1.0,1.0,1.0,1.0,1.0,1.0,1.0,1.0,1.0,1.0,1.0,1.0,1.0,1.0,1.0,1.0,1.0,1.0,1.0,1.0,1.0,1.0,1.0,1.0,1.0,1.0,1.0,1.0,1.0,1.0,1.0,1.0,1.0,1.0,1.0,1.0,1.0,1.0,1.0,1.0,1.0,1.0,1.0,1.0,1.0,1.0,1.0,1.0,1.0,1.0,1.0,1.0,1.0,1.0,1.0,1.0,1.0,1.0,1.0,1.0,1.0,1.0,1.0,1.0,1.0,1.0,1.0,1.0,1.0,1.0,1.0,1.0,1.0,1.0,1.0,1.0,1.0,1.0,1.0,1.0,1.0,1.0,1.0,1.0,1.0,1.0,1.0,1.0,1.0,1.0,1.0,1.0,1.0,1.0,1.0,1.0,1.0,1.0,1.0,1.0,1.0,1.0,1.0,1.0,1.0,1.0,1.0,1.0,1.0,1.0,1.0,1.0,1.0,1.0,1.0,1.0,1.0,1.0,1.0,1.0,1.0,1.0,1.0,1.0,1.0,1.0,1.0,1.0,1.0,1.0,1.0,1.0,1.0,1.0,1.0,1.0,1.0,1.0,1.0,1.0,1.0,1.0,1.0,1.0,1.0,1.0,1.0,1.0,1.0,1.0,1.0,1.0,1.0,1.0,1.0,1.0,1.0,1.0,1.0,1.0,1.0,1.0,1.0,1.0,1.0,1.0,1.0,1.0,1.0,1.0,1.0,1.0,1.0,1.0,1.0,1.0,1.0,1.0,1.0,1.0,1.0,1.0,1.0,1.0,1.0,1.0,1.0,1.0,1.0,1.0,1.0,1.0,1.0,1.0,1.0,1.0,1.0,1.0,1.0,1.0,1.0,1.0,1.0,1.0,1.0,1.0,1.0,1.0,1.0,1.0,1.0,1.0,1.0,1.0,1.0,1.0,1.0,1.0,1.0,1.0,1.0,1.0,1.0,1.0,1.0,1.0,1.0,1.0,1.0,1.0,1.0,1.0,1.0,1.0,1.0,1.0,1.0,1.0,1.0,1.0,1.0,1.0,1.0,1.0,1.0,1.0,1.0,1.0,1.0,1.0,1.0,1.0,1.0,1.0,1.0,1.0,1.0,1.0,1.0,1.0,1.0,1.0,1.0,1.0,1.0,1.0,1.0,1.0,1.0,1.0,1.0,1.0,1.0,1.0,1.0,1.0,1.0,1.0,1.0,1.0,1.0,1.0,1.0,1.0,1.0,1.0,1.0,1.0,1.0,1.0,1.0,1.0,1.0,1.0,1.0,1.0,1.0,1.0,1.0,1.0,1.0,1.0,1.0,1.0,1.0,1.0,1.0,1.0,1.0,1.0,1.0,1.0,1.0,1.0,1.0,1.0,1.0,1.0,1.0,1.0,1.0,1.0,1.0,1.0,1.0,1.0,1.0,1.0,1.0,1.0,1.0,1.0,1.0,1.0,1.0,1.0,1.0,1.0,1.0,1.0,1.0,1.0,1.0,1.0,1.0,1.0,1.0,1.0,1.0,1.0,1.0,1.0,1.0,1.0,1.0,1.0,1.0,1.0,1.0,1.0,1.0,1.0,1.0,1.0,1.0,1.0,1.0,1.0,1.0,1.0,1.0,1.0,1.0,1.0,1.0,1.0,1.0,1.0,1.0,1.0,1.0,1.0,1.0,1.0,1.0,1.0,1.0,1.0,1.0,1.0,1.0,1.0,1.0,1.0,1.0,1.0,1.0,1.0,1.0,1.0,1.0,1.0,1.0,1.0,1.0,1.0,1.0,1.0,1.0,1.0,1.0,1.0,1.0,1.0,1.0,1.0,1.0,1.0,1.0,1.0,1.0,1.0,1.0,1.0,1.0,1.0,1.0,1.0,1.0,1.0,1.0,1.0,1.0,1.0,1.0,1.0,1.0,1.0,1.0,1.0,1.0,1.0,1.0,1.0,1.0,1.0,1.0,1.0,1.0,1.0,1.0,1.0,1.0,1.0,1.0,1.0,1.0,1.0,1.0,1.0,1.0,1.0,1.0,1.0,1.0,1.0,1.0,1.0,1.0,1.0,1.0,1.0,1.0,1.0,1.0,1.0,1.0,1.0,1.0,1.0,1.0,1.0,1.0,1.0,1.0,1.0,1.0,1.0,1.0,1.0,1.0,1.0,1.0,1.0,1.0,1.0,1.0,1.0,1.0,1.0,1.0,1.0,1.0,1.0,1.0,1.0,1.0,1.0,1.0,1.0,1.0,1.0,1.0,1.0,1.0,1.0,1.0,1.0,1.0,1.0,1.0,1.0,1.0,1.0,1.0,1.0,1.0,1.0,1.0,1.0,1.0,1.0,1.0,1.0,1.0,1.0,1.0,1.0,1.0,1.0,1.0,1.0,1.0,1.0,1.0,1.0,1.0,1.0,1.0,1.0,1.0,1.0,1.0,1.0,1.0,1.0,1.0,1.0,1.0,1.0,1.0,1.0,1.0,1.0,1.0,1.0,1.0,1.0,1.0,1.0,1.0,1.0,1.0,1.0,1.0,1.0,1.0,1.0,1.0,1.0,1.0,1.0,1.0,1.0,1.0,1.0,1.0,1.0,1.0,1.0,1.0,1.0,1.0,1.0,1.0,1.0,1.0,1.0,1.0,1.0,1.0,1.0,1.0,1.0,1.0,1.0,1.0,1.0,1.0,1.0,1.0,1.0,1.0,1.0,1.0,1.0,1.0,1.0,1.0,1.0,1.0,1.0,1.0,1.0,1.0,1.0,1.0,1.0,1.0,1.0,1.0,1.0,1.0,1.0,1.0,1.0,1.0,1.0,1.0,1.0,1.0,1.0,1.0,1.0,1.0,1.0,1.0,1.0,1.0,1.0,1.0,1.0,1.0,1.0,1.0,1.0,1.0,1.0,1.0,1.0,1.0,1.0,1.0,1.0,1.0,1.0,1.0,1.0,1.0,1.0,1.0,1.0,1.0,1.0,1.0,1.0,1.0,1.0,1.0,1.0,1.0,1.0,1.0,1.0,1.0,1.0,1.0,1.0,1.0,1.0,1.0,1.0,1.0,1.0,1.0,1.0,1.0,1.0,1.0,1.0,1.0,1.0,1.0,1.0,1.0,1.0,1.0,1.0,1.0,1.0,1.0,1.0,1.0,1.0,1.0,1.0,1.0,1.0,1.0,1.0,1.0,1.0,1.0,1.0,1.0,1.0,1.0,1.0,1.0,1.0,1.0,1.0,1.0,1.0,1.0,1.0,1.0,1.0,1.0,1.0,1.0,1.0,1.0,1.0,1.0,1.0,1.0,1.0,1.0,1.0,1.0,1.0,1.0,1.0,1.0,1.0,1.0,1.0,1.0,1.0,1.0,1.0,1.0,1.0,1.0,1.0,1.0,1.0,1.0,1.0,1.0,1.0,1.0,1.0,1.0,1.0,1.0,1.0,1.0,1.0,1.0,1.0,1.0,1.0,1.0,1.0,1.0,1.0,1.0,1.0,1.0,1.0,1.0,1.0,1.0,1.0,1.0,1.0,1.0,1.0,1.0,1.0,1.0,1.0,1.0,1.0,1.0,1.0,1.0,1.0,1.0,1.0,1.0,1.0,1.0,1.0,1.0,1.0,1.0,1.0,1.0,1.0,1.0,1.0,1.0,1.0,1.0,1.0,1.0,1.0,1.0,1.0,1.0,1.0,1.0,1.0,1.0,1.0,1.0,1.0,1.0,1.0,1.0,1.0,1.0,1.0,1.0,1.0,1.0,1.0,1.0,1.0,1.0,1.0,1.0,1.0,1.0,1.0,1.0,1.0,1.0,1.0,1.0,1.0,1.0,1.0,1.0,1.0,1.0,1.0,1.0,1.0,1.0,1.0,1.0,1.0,1.0,1.0,1.0,1.0,1.0,1.0,1.0,1.0,1.0,1.0,1.0,1.0,1.0,1.0,1.0,1.0,1.0,1.0,1.0,1.0,1.0,1.0,1.0,1.0,1.0,1.0,1.0,1.0,1.0,1.0,1.0,1.0,1.0,1.0,1.0,1.0,1.0,1.0,1.0,1.0,1.0,1.0,1.0,1.0,1.0,1.0,1.0,1.0,1.0,1.0,1.0,1.0,1.0,1.0,1.0,1.0,1.0,1.0,1.0,1.0,1.0,1.0,1.0,1.0,1.0,1.0,1.0,1.0,1.0,1.0,1.0,1.0,1.0,1.0,1.0,1.0,1.0,1.0,1.0,1.0,1.0,1.0,1.0,1.0,1.0,1.0,1.0,1.0,1.0,1.0,1.0,1.0,1.0,1.0,1.0,1.0,1.0,1.0,1.0,1.0,1.0,1.0,1.0,1.0,1.0,1.0,1.0,1.0,1.0,1.0,1.0,1.0,1.0,1.0,1.0,1.0,1.0,1.0,1.0,1.0,1.0,1.0,1.0,1.0,1.0,1.0,1.0,1.0,1.0,1.0,1.0,1.0,1.0,1.0,1.0,1.0,1.0,1.0,1.0,1.0,1.0,1.0,1.0,1.0,1.0,1.0,1.0,1.0,1.0,1.0,1.0,1.0,1.0,1.0,1.0,1.0,1.0,1.0,1.0,1.0,1.0,1.0,1.0,1.0,1.0,1.0,1.0,1.0,1.0,1.0,1.0,1.0,1.0,1.0,1.0,1.0,1.0,1.0,1.0,1.0,1.0,1.0,1.0,1.0,1.0,1.0,1.0,1.0,1.0,1.0,1.0,1.0,1.0,1.0,1.0,1.0,1.0,1.0,1.0,1.0,1.0,1.0,1.0,1.0,1.0,1.0,1.0,1.0,1.0,1.0,1.0,1.0,1.0,1.0,1.0,1.0,1.0,1.0,1.0,1.0,1.0,1.0,1.0,1.0,1.0,1.0,1.0,1.0,1.0,1.0,1.0,1.0,1.0,1.0,1.0,1.0,1.0,1.0,1.0,1.0,1.0,1.0,1.0,1.0,1.0,1.0,1.0,1.0,1.0,1.0,1.0,1.0,1.0,1.0,1.0,1.0,1.0,1.0,1.0,1.0,1.0,1.0,1.0,1.0,1.0,1.0,1.0,1.0,1.0,1.0,1.0,1.0,1.0,1.0,1.0,1.0,1.0,1.0,1.0,1.0,1.0,1.0,1.0,1.0,1.0,1.0,1.0,1.0,1.0,1.0,1.0,1.0,1.0,1.0,1.0,1.0,1.0,1.0,1.0,1.0,1.0,1.0,1.0,1.0,1.0,1.0,1.0,1.0,1.0,1.0,1.0,1.0,1.0,1.0,1.0,1.0,1.0,1.0,1.0,1.0,1.0,1.0,1.0,1.0,1.0,1.0,1.0,1.0,1.0,1.0,1.0,1.0,1.0,1.0,1.0,1.0,1.0,1.0,1.0,1.0,1.0,1.0,1.0,1.0,1.0,1.0,1.0,1.0,1.0,1.0,1.0,1.0,1.0,1.0,1.0,1.0,1.0,1.0,1.0,1.0,1.0,1.0,1.0,1.0,1.0,1.0,1.0,1.0,1.0,1.0,1.0,1.0,1.0,1.0,1.0,1.0,1.0,1.0,1.0,1.0,1.0,1.0,1.0,1.0,1.0,1.0,1.0,1.0,1.0,1.0,1.0,1.0,1.0,1.0,1.0,1.0,1.0,1.0,1.0,1.0,1.0,1.0,1.0,1.0,1.0,1.0,1.0,1.0,1.0,1.0,1.0,1.0,1.0,1.0,1.0,1.0,1.0,1.0,1.0,1.0,1.0,1.0,1.0,1.0,1.0,1.0,1.0,1.0,1.0,1.0,1.0,1.0,1.0,1.0,1.0,1.0,1.0,1.0,1.0,1.0,1.0,1.0,1.0,1.0,1.0,1.0,1.0,1.0,1.0,1.0,1.0,1.0,1.0,1.0,1.0,1.0,1.0,1.0,1.0,1.0,1.0,1.0,1.0,1.0,1.0,1.0,1.0,1.0,1.0,1.0,1.0,1.0,1.0,1.0,1.0,1.0,1.0,1.0,1.0,1.0,1.0,1.0,1.0,1.0,1.0,1.0,1.0,1.0,1.0,1.0,1.0,1.0,1.0,1.0,1.0,1.0,1.0,1.0,1.0,1.0,1.0,1.0,1.0,1.0,1.0,1.0,1.0,1.0,1.0,1.0,1.0,1.0,1.0,1.0,1.0,1.0,1.0,1.0,1.0,1.0,1.0,1.0,1.0,1.0,1.0,1.0,1.0,1.0,1.0,1.0,1.0,1.0,1.0,1.0,1.0,1.0,1.0,1.0,1.0,1.0,1.0,1.0,1.0,1.0,1.0,1.0,1.0,1.0,1.0,1.0,1.0,1.0,1.0,1.0,1.0,1.0,1.0,1.0,1.0,1.0,1.0,1.0,1.0,1.0,1.0,1.0,1.0,1.0,1.0,1.0,1.0,1.0,1.0,1.0,1.0,1.0,1.0,1.0,1.0,1.0,1.0,1.0,1.0,1.0,1.0,1.0,1.0,1.0,1.0,1.0,1.0,1.0,1.0,1.0,1.0,1.0,1.0,1.0,1.0,1.0,1.0,1.0,1.0,1.0,1.0,1.0,1.0,1.0,1.0,1.0,1.0,1.0,1.0,1.0,1.0,1.0,1.0,1.0,1.0,1.0,1.0,1.0,1.0,1.0,1.0,1.0,1.0,1.0,1.0,1.0,1.0,1.0,1.0,1.0,1.0,1.0,1.0,1.0,1.0,1.0,1.0,1.0,1.0,1.0,1.0,1.0,1.0,1.0,1.0,1.0,1.0,1.0,1.0,1.0,1.0,1.0,1.0,1.0,1.0,1.0,1.0,1.0,1.0,1.0,1.0,1.0,1.0,1.0,1.0,1.0,1.0,1.0,1.0,1.0,1.0,1.0,1.0,1.0,1.0,1.0,1.0,1.0,1.0,1.0,1.0,1.0,1.0,1.0,1.0,1.0,1.0,1.0,1.0,1.0,1.0,1.0,1.0,1.0,1.0,1.0,1.0,1.0,1.0,1.0,1.0,1.0,1.0,1.0,1.0,1.0,1.0,1.0,1.0,1.0,1.0,1.0,1.0,1.0,1.0,1.0,1.0,1.0,1.0,1.0,1.0,1.0,1.0,1.0,1.0,1.0,1.0,1.0,1.0,1.0,1.0,1.0,1.0,1.0,1.0,1.0,1.0,1.0,1.0,1.0,1.0,1.0,1.0,1.0,1.0,1.0,1.0,1.0,1.0,1.0,1.0,1.0,1.0,1.0,1.0,1.0,1.0,1.0,1.0,1.0,1.0,1.0,1.0,1.0,1.0,1.0,1.0,1.0,1.0,1.0,1.0,1.0,1.0,1.0,1.0,1.0,1.0,1.0,1.0,1.0,1.0,1.0,1.0,1.0,1.0,1.0,1.0,1.0,1.0,1.0,1.0,1.0,1.0,1.0,1.0,1.0,1.0,1.0,1.0,1.0,1.0,1.0,1.0,1.0,1.0,1.0,1.0,1.0,1.0,1.0,1.0,1.0,1.0,1.0,1.0,1.0,1.0,1.0,1.0,1.0,1.0,1.0,1.0,1.0,1.0,1.0,1.0,1.0,1.0,1.0,1.0,1.0,1.0,1.0,1.0,1.0,1.0,1.0,1.0,1.0,1.0,1.0,1.0,1.0,1.0,1.0,1.0,1.0,1.0,1.0,1.0,1.0,1.0,1.0,1.0,1.0,1.0,1.0,1.0,1.0,1.0,1.0,1.0,1.0,1.0,1.0,1.0,1.0,1.0,1.0,1.0,1.0,1.0,1.0,1.0,1.0,1.0,1.0,1.0,1.0,1.0,1.0,1.0,1.0,1.0,1.0,1.0,1.0,1.0,1.0,1.0,1.0,1.0,1.0,1.0,1.0,1.0,1.0,1.0,1.0,1.0,1.0,1.0,1.0,1.0,1.0,1.0,1.0,1.0,1.0,1.0,1.0,1.0,1.0,1.0,1.0,1.0,1.0,1.0,1.0,1.0,1.0,1.0,1.0,1.0,1.0,1.0,1.0,1.0,1.0,1.0,1.0,1.0,1.0,1.0,1.0,1.0,1.0,1.0,1.0,1.0,1.0,1.0,1.0,1.0,1.0,1.0,1.0,1.0,1.0,1.0,1.0,1.0,1.0,1.0,1.0,1.0,1.0,1.0,1.0,1.0,1.0,1.0,1.0,1.0,1.0,1.0,1.0,1.0,1.0,1.0,1.0,1.0,1.0,1.0,1.0,1.0,1.0,1.0,1.0,1.0,1.0,1.0,1.0,1.0,1.0,1.0,1.0,1.0,1.0,1.0,1.0,1.0,1.0,1.0,1.0,1.0,1.0,1.0,1.0,1.0,1.0,1.0,1.0,1.0,1.0,1.0,1.0,1.0,1.0,1.0,1.0,1.0,1.0,1.0,1.0,1.0,1.0,1.0,1.0,1.0,1.0,1.0,1.0,1.0,1.0,1.0,1.0,1.0,1.0,1.0,1.0,1.0,1.0,1.0,1.0,1.0,1.0,1.0,1.0,1.0,1.0,1.0,1.0,1.0,1.0,1.0,1.0,1.0,1.0,1.0,1.0,1.0,1.0,1.0,1.0,1.0,1.0,1.0,1.0,1.0,1.0,1.0,1.0,1.0,1.0,1.0,1.0,1.0,1.0,1.0,1.0,1.0,1.0,1.0,1.0,1.0,1.0,1.0,1.0,1.0,1.0,1.0,1.0,1.0,1.0,1.0,1.0,1.0,1.0,1.0,1.0,1.0,1.0,1.0,1.0,1.0,1.0,1.0,1.0,1.0,1.0,1.0,1.0,1.0,1.0,1.0,1.0,1.0,1.0,1.0,1.0,1.0,1.0,1.0,1.0,1.0,1.0,1.0,1.0,1.0,1.0,1.0,1.0,1.0,1.0,1.0,1.0,1.0,1.0,1.0,1.0,1.0,1.0,1.0,1.0,1.0,1.0,1.0,1.0,1.0,1.0,1.0,1.0,1.0,1.0,1.0,1.0,1.0,1.0,1.0,1.0,1.0,1.0,1.0,1.0,1.0,1.0,1.0,1.0,1.0,1.0,1.0,1.0,1.0,1.0,1.0,1.0,1.0,1.0,1.0,1.0,1.0,1.0,1.0,1.0,1.0,1.0,1.0,1.0,1.0,1.0,1.0,1.0,1.0,1.0,1.0,1.0,1.0,1.0,1.0,1.0,1.0,1.0,1.0,1.0,1.0,1.0,1.0,1.0,1.0,1.0,1.0,1.0,1.0,1.0,1.0,1.0,1.0,1.0,1.0,1.0,1.0,1.0,1.0,1.0,1.0,1.0,1.0,1.0,1.0,1.0,1.0,1.0,1.0,1.0,1.0,1.0,1.0,1.0,1.0,1.0,1.0,1.0,1.0,1.0,1.0,1.0,1.0,1.0,1.0,1.0,1.0,1.0,1.0,1.0,1.0,1.0,1.0,1.0,1.0,1.0,1.0,1.0,1.0,1.0,1.0,1.0,1.0,1.0,1.0,1.0,1.0,1.0,1.0,1.0,1.0,1.0,1.0,1.0,1.0,1.0,1.0,1.0,1.0,1.0,1.0,1.0,1.0,1.0,1.0,1.0,1.0,1.0,1.0,1.0,1.0,1.0,1.0,1.0,1.0,1.0,1.0,1.0,1.0,1.0,1.0,1.0,1.0,1.0,1.0,1.0,1.0,1.0,1.0,1.0,1.0,1.0,1.0,1.0,1.0,1.0,1.0,1.0,1.0,1.0,1.0,1.0,1.0,1.0,1.0,1.0,1.0,1.0,1.0,1.0,1.0,1.0,1.0,1.0,1.0,1.0,1.0,1.0,1.0,1.0,1.0,1.0,1.0,1.0,1.0,1.0,1.0,1.0,1.0,1.0,1.0,1.0,1.0,1.0,1.0,1.0,1.0,1.0,1.0,1.0,1.0,1.0,1.0,1.0,1.0,1.0,1.0,1.0,1.0,1.0,1.0,1.0,1.0,1.0,1.0,1.0,1.0,1.0,1.0,1.0,1.0,1.0,1.0,1.0,1.0,1.0,1.0,1.0,1.0,1.0,1.0,1.0,1.0,1.0,1.0,1.0,1.0,1.0,1.0,1.0,1.0,1.0,1.0,1.0,1.0,1.0,1.0,1.0,1.0,1.0,1.0,1.0,1.0,1.0,1.0,1.0,1.0,1.0,1.0,1.0,1.0,1.0,1.0,1.0,1.0,1.0,1.0,1.0,1.0,1.0,1.0,1.0,1.0,1.0,1.0,1.0,1.0,1.0,1.0,1.0,1.0,1.0,1.0,1.0,1.0,1.0,1.0,1.0,1.0,1.0,1.0,1.0,1.0,1.0,1.0,1.0,1.0,1.0,1.0,1.0,1.0,1.0,1.0,1.0,1.0,1.0,1.0,1.0,1.0,1.0,1.0,1.0,1.0,1.0,1.0,1.0,1.0,1.0,1.0,1.0,1.0,1.0,1.0,1.0,1.0,1.0,1.0,1.0,1.0,1.0,1.0,1.0,1.0,1.0,1.0,1.0,1.0,1.0,1.0,1.0,1.0,1.0,1.0,1.0,1.0,1.0,1.0,1.0,1.0,1.0,1.0,1.0,1.0,1.0,1.0,1.0,1.0,1.0,1.0,1.0,1.0,1.0,1.0,1.0,1.0,1.0,1.0,1.0,1.0,1.0,1.0,1.0,1.0,1.0,1.0,1.0,1.0,1.0,1.0,1.0,1.0,1.0,1.0,1.0,1.0,1.0,1.0,1.0,1.0,1.0,1.0,1.0,1.0,1.0,1.0,1.0,1.0,1.0,1.0,1.0,1.0,1.0,1.0,1.0,1.0,1.0,1.0,1.0,1.0,1.0,1.0,1.0,1.0,1.0,1.0,1.0,1.0,1.0,1.0,1.0,1.0,1.0,1.0,1.0,1.0,1.0,1.0,1.0,1.0,1.0,1.0,1.0,1.0,1.0,1.0,1.0,1.0,1.0,1.0,1.0,1.0,1.0,1.0,1.0,1.0,1.0,1.0,1.0,1.0,1.0,1.0,1.0,1.0,1.0,1.0,1.0,1.0,1.0,1.0,1.0,1.0,1.0,1.0,1.0,1.0,1.0,1.0,1.0,1.0,1.0,1.0,1.0,1.0,1.0,1.0,1.0,1.0,1.0,1.0,1.0,1.0,1.0,1.0,1.0,1.0,1.0,1.0,1.0,1.0,1.0,1.0,1.0,1.0,1.0,1.0,1.0,1.0,1.0,1.0,1.0,1.0,1.0,1.0,1.0,1.0,1.0,1.0,1.0,1.0,1.0,1.0,1.0,1.0,1.0,1.0,1.0,1.0,1.0,1.0,1.0,1.0,1.0,1.0,1.0,1.0,1.0,1.0,1.0,1.0,1.0,1.0,1.0,1.0,1.0,1.0,1.0,1.0,1.0,1.0,1.0,1.0,1.0,1.0,1.0,1.0,1.0,1.0,1.0,1.0,1.0,1.0,1.0,1.0,1.0,1.0,1.0,1.0,1.0,1.0,1.0,1.0,1.0,1.0,1.0,1.0,1.0,1.0,1.0,1.0,1.0,1.0,1.0,1.0,1.0,1.0,1.0,1.0,1.0,1.0,1.0,1.0,1.0,1.0,1.0,1.0,1.0,1.0,1.0,1.0,1.0,1.0,1.0,1.0,1.0,1.0,1.0,1.0,1.0,1.0,1.0,1.0,1.0,1.0,1.0,1.0,1.0,1.0,1.0,1.0,1.0,1.0,1.0,1.0,1.0,1.0,1.0,1.0,1.0,1.0,1.0,1.0,1.0,1.0,1.0,1.0,1.0,1.0,1.0,1.0,1.0,1.0,1.0,1.0,1.0,1.0,1.0,1.0,1.0,1.0,1.0,1.0,1.0,1.0,1.0,1.0,1.0,1.0,1.0,1.0,1.0,1.0,1.0,1.0,1.0,1.0,1.0,1.0,1.0,1.0,1.0,1.0,1.0,1.0,1.0,1.0,1.0,1.0,1.0,1.0,1.0,1.0,1.0,1.0,1.0,1.0,1.0,1.0,1.0,1.0,1.0,1.0,1.0,1.0,1.0,1.0,1.0,1.0,1.0,1.0,1.0,1.0,1.0,1.0,1.0,1.0,1.0,1.0,1.0,1.0,1.0,1.0,1.0,1.0,1.0,1.0,1.0,1.0,1.0,1.0,1.0,1.0,1.0,1.0,1.0,1.0,1.0,1.0,1.0,1.0,1.0,1.0,1.0,1.0,1.0,1.0,1.0,1.0,1.0,1.0,1.0,1.0,1.0,1.0,1.0,1.0,1.0,1.0,1.0,1.0,1.0,1.0,1.0,1.0,1.0,1.0,1.0,1.0,1.0,1.0,1.0,1.0,1.0,1.0,1.0,1.0,1.0,1.0,1.0,1.0,1.0,1.0,1.0,1.0,1.0,1.0,1.0,1.0,1.0,1.0,1.0,1.0,1.0,1.0,1.0,1.0,1.0,1.0,1.0,1.0,1.0,1.0,1.0,1.0,1.0,1.0,1.0,1.0,1.0,1.0,1.0,1.0,1.0,1.0,1.0,1.0,1.0,1.0,1.0,1.0,1.0,1.0,1.0,1.0,1.0,1.0,1.0,1.0,1.0,1.0,1.0,1.0,1.0,1.0,1.0,1.0,1.0,1.0,1.0,1.0,1.0,1.0,1.0,1.0,1.0,1.0,1.0,1.0,1.0,1.0,1.0,1.0,1.0,1.0,1.0,1.0,1.0,1.0,1.0,1.0,1.0,1.0,1.0,1.0,1.0,1.0,1.0,1.0,1.0,1.0,1.0,1.0,1.0,1.0,1.0,1.0,1.0,1.0,1.0,1.0,1.0,1.0,1.0,1.0,1.0,1.0,1.0,1.0,1.0,1.0,1.0,1.0,1.0,1.0,1.0,1.0,1.0,1.0,1.0,1.0,1.0,1.0,1.0,1.0,1.0,1.0,1.0,1.0,1.0,1.0,1.0,1.0,1.0,1.0,1.0,1.0,1.0,1.0,1.0,1.0,1.0,1.0,1.0,1.0,1.0,1.0,1.0,1.0,1.0,1.0,1.0,1.0,1.0,1.0,1.0,1.0,1.0,1.0,1.0,1.0,1.0,1.0,1.0,1.0,1.0,1.0,1.0,1.0,1.0,1.0,1.0,1.0,1.0,1.0,1.0,1.0,1.0,1.0,1.0,1.0,1.0,1.0,1.0,1.0,1.0,1.0,1.0,1.0,1.0,1.0,1.0,1.0,1.0,1.0,1.0,1.0,1.0,1.0,1.0,1.0,1.0,1.0,1.0,1.0,1.0,1.0,1.0,1.0,1.0,1.0,1.0,1.0,1.0,1.0,1.0,1.0,1.0,1.0,1.0,1.0,1.0,1.0,1.0,1.0,1.0,1.0,1.0,1.0,1.0,1.0,1.0,1.0,1.0,1.0,1.0,1.0,1.0,1.0,1.0,1.0,1.0,1.0,1.0,1.0,1.0,1.0,1.0,1.0,1.0,1.0,1.0,1.0,1.0,1.0,1.0,1.0,1.0,1.0,1.0,1.0,1.0,1.0,1.0,1.0,1.0,1.0,1.0,1.0,1.0,1.0,1.0,1.0,1.0,1.0,1.0,1.0,1.0,1.0,1.0,1.0,1.0,1.0,1.0,1.0,1.0,1.0,1.0,1.0,1.0,1.0,1.0,1.0,1.0,1.0,1.0,1.0,1.0,1.0,1.0,1.0,1.0,1.0,1.0,1.0,1.0,1.0,1.0,1.0,1.0,1.0,1.0,1.0,1.0,1.0,1.0,1.0,1.0,1.0,1.0,1.0,1.0,1.0,1.0,1.0,1.0,1.0,1.0,1.0,1.0,1.0,1.0,1.0,1.0,1.0,1.0,1.0,1.0,1.0,1.0,1.0,1.0,1.0,1.0,1.0,1.0,1.0,1.0,1.0,1.0,1.0,1.0,1.0,1.0,1.0,1.0,1.0,1.0,1.0,1.0,1.0,1.0,1.0,1.0,1.0,1.0,1.0,1.0,1.0,1.0,1.0,1.0,1.0,1.0,1.0,1.0,1.0,1.0,1.0,1.0,1.0,1.0,1.0,1.0,1.0,1.0,1.0,1.0,1.0,1.0,1.0,1.0,1.0,1.0,1.0,1.0,1.0,1.0,1.0,1.0,1.0,1.0,1.0,1.0,1.0,1.0,1.0,1.0,1.0,1.0,1.0,1.0,1.0,1.0,1.0,1.0,1.0,1.0,1.0,1.0,1.0,1.0,1.0,1.0,1.0,1.0,1.0,1.0,1.0,1.0,1.0,1.0,1.0,1.0,1.0,1.0,1.0,1.0,1.0,1.0,1.0,1.0,1.0,1.0,1.0,1.0,1.0,1.0,1.0,1.0,1.0,1.0,1.0,1.0,1.0,1.0,1.0,1.0,1.0,1.0,1.0,1.0,1.0,1.0,1.0,1.0,1.0,1.0,1.0,1.0,1.0,1.0,1.0,1.0,1.0,1.0,1.0,1.0,1.0,1.0,1.0,1.0,1.0,1.0,1.0,1.0,1.0,1.0,1.0,1.0,1.0,1.0,1.0,1.0,1.0,1.0,1.0,1.0,1.0,1.0,1.0,1.0,1.0,1.0,1.0,1.0,1.0,1.0,1.0,1.0,1.0,1.0,1.0,1.0,1.0,1.0,1.0,1.0,1.0,1.0,1.0,1.0,1.0,1.0,1.0,1.0,1.0,1.0,1.0,1.0,1.0,1.0,1.0,1.0,1.0,1.0,1.0,1.0,1.0,1.0,1.0,1.0,1.0,1.0,1.0,1.0,1.0,1.0,1.0,1.0,1.0,1.0,1.0,1.0,1.0,1.0,1.0,1.0,1.0,1.0,1.0,1.0,1.0,1.0,1.0,1.0,1.0,1.0,1.0,1.0,1.0,1.0,1.0,1.0,1.0,1.0,1.0,1.0,1.0,1.0,1.0,1.0,1.0,1.0,1.0,1.0,1.0,1.0,1.0,1.0,1.0,1.0,1.0,1.0,1.0,1.0,1.0,1.0,1.0,1.0,1.0,1.0,1.0,1.0,1.0,1.0,1.0,1.0,1.0,1.0,1.0,1.0,1.0,1.0,1.0,1.0,1.0,1.0,1.0,1.0,1.0,1.0,1.0,1.0,1.0,1.0,1.0,1.0,1.0,1.0,1.0,1.0,1.0,1.0,1.0,1.0,1.0,1.0,1.0,1.0,1.0,1.0,1.0,1.0,1.0,1.0,1.0,1.0,1.0,1.0,1.0,1.0,1.0,1.0,1.0,1.0,1.0,1.0,1.0,1.0,1.0,1.0,1.0,1.0,1.0,1.0,1.0,1.0,1.0,1.0,1.0,1.0,1.0,1.0,1.0,1.0,1.0,1.0,1.0,1.0,1.0,1.0,1.0,1.0,1.0,1.0,1.0,1.0,1.0,1.0,1.0,1.0,1.0,1.0,1.0,1.0,1.0,1.0,1.0,1.0,1.0,1.0,1.0,1.0,1.0,1.0,1.0,1.0,1.0,1.0,1.0,1.0,1.0,1.0,1.0,1.0,1.0,1.0,1.0,1.0,1.0,1.0,1.0,1.0,1.0,1.0,1.0,1.0,1.0,1.0,1.0,1.0,1.0,1.0,1.0,1.0,1.0,1.0,1.0,1.0,1.0,1.0,1.0,1.0,1.0,1.0,1.0,1.0,1.0,1.0,1.0,1.0,1.0,1.0,1.0,1.0,1.0,1.0,1.0,1.0,1.0,1.0,1.0,1.0,1.0,1.0,1.0,1.0,1.0,1.0,1.0,1.0,1.0,1.0,1.0,1.0,1.0,1.0,1.0,1.0,1.0,1.0,1.0,1.0,1.0,1.0,1.0,1.0,1.0,1.0,1.0,1.0,1.0,1.0,1.0,1.0,1.0,1.0,1.0,1.0,1.0,1.0,1.0,1.0,1.0,1.0,1.0,1.0,1.0,1.0,1.0,1.0,1.0,1.0,1.0,1.0,1.0,1.0,1.0,1.0,1.0,1.0,1.0,1.0,1.0,1.0,1.0,1.0,1.0,1.0,1.0,1.0,1.0,1.0,1.0,1.0,1.0,1.0,1.0,1.0,1.0,1.0,1.0,1.0,1.0,1.0,1.0,1.0,1.0,1.0,1.0,1.0,1.0,1.0,1.0,1.0,1.0,1.0,1.0,1.0,1.0,1.0,1.0,1.0,1.0,1.0,1.0,1.0,1.0,1.0,1.0,1.0,1.0,1.0,1.0,1.0,1.0,1.0,1.0,1.0,1.0,1.0,1.0,1.0,1.0,1.0,1.0,1.0,1.0,1.0,1.0,1.0,1.0,1.0,1.0,1.0,1.0,1.0,1.0,1.0,1.0,1.0,1.0,1.0,1.0,1.0,1.0,1.0,1.0,1.0,1.0,1.0,1.0,1.0,1.0,1.0,1.0,1.0,1.0,1.0,1.0,1.0,1.0,1.0,1.0,1.0,1.0,1.0,1.0,1.0,1.0,1.0,1.0,1.0,1.0,1.0,1.0,1.0,1.0,1.0,1.0,1.0,1.0,1.0,1.0,1.0,1.0,1.0,1.0,1.0,1.0,1.0,1.0,1.0,1.0,1.0,1.0,1.0,1.0,1.0,1.0,1.0,1.0,1.0,1.0,1.0,1.0,1.0,1.0,1.0,1.0,1.0,1.0,1.0,1.0,1.0,1.0,1.0,1.0,1.0,1.0,1.0,1.0,1.0,1.0,1.0,1.0,1.0,1.0,1.0,1.0,1.0,1.0,1.0,1.0,1.0,1.0,1.0,1.0,1.0,1.0,1.0,1.0,1.0,1.0,1.0,1.0,1.0,1.0,1.0,1.0,1.0,1.0,1.0,1.0,1.0,1.0,1.0,1.0,1.0,1.0,1.0,1.0,1.0,1.0,1.0,1.0,1.0,1.0,1.0,1.0,1.0,1.0,1.0,1.0,1.0,1.0,1.0,1.0,1.0,1.0,1.0,1.0,1.0,1.0,1.0,1.0,1.0,1.0,1.0,1.0,1.0,1.0,1.0,1.0,1.0,1.0,1.0,1.0,1.0,1.0,1.0,1.0,1.0,1.0,1.0,1.0,1.0,1.0,1.0,1.0,1.0,1.0,1.0,1.0,1.0,1.0,1.0,1.0,1.0,1.0,1.0,1.0,1.0,1.0,1.0,1.0,1.0,1.0,1.0,1.0,1.0,1.0,1.0,1.0,1.0,1.0,1.0,1.0,1.0,1.0,1.0,1.0,1.0,1.0,1.0,1.0,1.0,1.0,1.0,1.0,1.0,1.0,1.0,1.0,1.0,1.0,1.0,1.0,1.0,1.0,1.0,1.0,1.0,1.0,1.0,1.0,1.0,1.0,1.0,1.0,1.0,1.0,1.0,1.0,1.0,1.0,1.0,1.0,1.0,1.0,1.0,1.0,1.0,1.0,1.0,1.0,1.0,1.0,1.0,1.0,1.0,1.0,1.0,1.0,1.0,1.0,1.0,1.0,1.0,1.0,1.0,1.0,1.0,1.0,1.0,1.0,1.0,1.0,1.0,1.0,1.0,1.0,1.0,1.0,1.0,1.0,1.0,1.0,1.0,1.0,1.0,1.0,1.0,1.0,1.0,1.0,1.0,1.0,1.0,1.0,1.0,1.0,1.0,1.0,1.0,1.0,1.0,1.0,1.0,1.0,1.0,1.0,1.0,1.0,1.0,1.0,1.0,1.0,1.0,1.0,1.0,1.0,1.0,1.0,1.0,1.0,1.0,1.0,1.0,1.0,1.0,1.0,1.0,1.0,1.0,1.0,1.0,1.0,1.0,1.0,1.0,1.0,1.0,1.0,1.0,1.0,1.0,1.0,1.0,1.0,1.0,1.0,1.0,1.0,1.0,1.0,1.0,1.0,1.0,1.0,1.0,1.0,1.0,1.0,1.0,1.0,1.0,1.0,1.0,1.0,1.0,1.0,1.0,1.0,1.0,1.0,1.0,1.0,1.0,1.0,1.0,1.0,1.0,1.0,1.0,1.0,1.0,1.0,1.0,1.0,1.0,1.0,1.0,1.0,1.0,1.0,1.0,1.0,1.0,1.0,1.0,1.0,1.0,1.0,1.0,1.0,1.0,1.0,1.0,1.0,1.0,1.0,1.0,1.0,1.0,1.0,1.0,1.0,1.0,1.0,1.0,1.0,1.0,1.0,1.0,1.0,1.0,1.0,1.0,1.0,1.0,1.0,1.0,1.0,1.0,1.0,1.0,1.0,1.0,1.0,1.0,1.0,1.0,1.0,1.0,1.0,1.0,1.0,1.0,1.0,1.0,1.0,1.0,1.0,1.0,1.0,1.0,1.0,1.0,1.0,1.0,1.0,1.0,1.0,1.0,1.0,1.0,1.0,1.0,1.0,1.0,1.0,1.0,1.0,1.0,1.0,1.0,1.0,1.0,1.0,1.0,1.0,1.0,1.0,1.0,1.0,1.0,1.0,1.0,1.0,1.0,1.0,1.0,1.0,1.0,1.0,1.0,1.0,1.0,1.0,1.0,1.0,1.0,1.0,1.0,1.0,1.0,1.0,1.0,1.0,1.0,1.0,1.0,1.0,1.0,1.0,1.0,1.0,1.0,1.0,1.0,1.0,1.0,1.0,1.0,1.0,1.0,1.0,1.0,1.0,1.0,1.0,1.0,1.0,1.0,1.0,1.0,1.0,1.0,1.0,1.0,1.0,1.0,1.0,1.0,1.0,1.0,1.0,1.0,1.0,1.0,1.0,1.0,1.0,1.0,1.0,1.0,1.0,1.0,1.0,1.0,1.0,1.0,1.0,1.0,1.0,1.0,1.0,1.0,1.0,1.0,1.0,1.0,1.0,1.0,1.0,1.0,1.0,1.0,1.0,1.0,1.0,1.0,1.0,1.0,1.0,1.0,1.0,1.0,1.0,1.0,1.0,1.0,1.0,1.0,1.0,1.0,1.0,1.0,1.0,1.0,1.0,1.0,1.0,1.0,1.0,1.0,1.0,1.0,1.0,1.0,1.0,1.0,1.0,1.0,1.0,1.0,1.0,1.0,1.0,1.0,1.0,1.0,1.0,1.0,1.0,1.0,1.0,1.0,1.0,1.0,1.0,1.0,1.0,1.0,1.0,1.0,1.0,1.0,1.0,1.0,1.0,1.0,1.0,1.0,1.0,1.0,1.0,1.0,1.0,1.0,1.0,1.0,1.0,1.0,1.0,1.0,1.0,1.0,1.0,1.0,1.0,1.0,1.0,1.0,1.0,1.0,1.0,1.0,1.0,1.0,1.0,1.0,1.0,1.0,1.0,1.0,1.0,1.0,1.0,1.0,1.0,1.0,1.0,1.0,1.0,1.0,1.0,1.0,1.0,1.0,1.0,1.0,1.0,1.0,1.0,1.0,1.0,1.0,1.0,1.0,1.0,1.0,1.0,1.0,1.0,1.0,1.0,1.0,1.0,1.0,1.0,1.0,1.0,1.0,1.0,1.0,1.0,1.0,1.0,1.0,1.0,1.0,1.0,1.0,1.0,1.0,1.0,1.0,1.0,1.0,1.0,1.0,1.0,1.0,1.0,1.0,1.0,1.0,1.0,1.0,1.0,1.0,1.0,1.0,1.0,1.0,1.0,1.0,1.0,1.0,1.0,1.0,1.0,1.0,1.0,1.0,1.0,1.0,1.0,1.0,1.0,1.0,1.0,1.0,1.0,1.0,1.0,1.0,1.0,1.0,1.0,1.0,1.0,1.0,1.0,1.0,1.0,1.0,1.0,1.0,1.0,1.0,1.0,1.0,1.0,1.0,1.0,1.0,1.0,1.0,1.0,1.0,1.0,1.0,1.0,1.0,1.0,1.0,1.0,1.0,1.0,1.0,1.0,1.0,1.0,1.0,1.0,1.0,1.0,1.0,1.0,1.0,1.0,1.0,1.0,1.0,1.0,1.0,1.0,1.0,1.0,1.0,1.0,1.0,1.0,1.0,1.0,1.0,1.0,1.0,1.0,1.0,1.0,1.0,1.0,1.0,1.0,1.0,1.0,1.0,1.0,1.0,1.0,1.0,1.0,1.0,1.0,1.0,1.0,1.0,1.0,1.0,1.0,1.0,1.0,1.0,1.0,1.0,1.0,1.0,1.0,1.0,1.0,1.0,1.0,1.0,1.0,1.0,1.0,1.0,1.0,1.0,1.0,1.0,1.0,1.0,1.0,1.0,1.0,1.0,1.0,1.0,1.0,1.0,1.0,1.0,1.0,1.0,1.0,1.0,1.0,1.0,1.0,1.0,1.0,1.0,1.0,1.0,1.0,1.0,1.0,1.0,1.0,1.0,1.0,1.0,1.0,1.0,1.0,1.0,1.0,1.0,1.0,1.0,1.0,1.0,1.0,1.0,1.0,1.0,1.0,1.0,1.0,1.0,1.0,1.0,1.0,1.0,1.0,1.0,1.0,1.0,1.0,1.0,1.0,1.0,1.0,1.0,1.0,1.0,1.0,1.0,1.0,1.0,1.0,1.0,1.0,1.0,1.0,1.0,1.0,1.0,1.0,1.0,1.0,1.0,1.0,1.0,1.0,1.0,1.0,1.0,1.0,1.0,1.0,1.0,1.0,1.0,1.0,1.0,1.0,1.0,1.0,1.0,1.0,1.0,1.0,1.0,1.0,1.0,1.0,1.0,1.0,1.0,1.0,1.0,1.0,1.0,1.0,1.0,1.0,1.0,1.0,1.0,1.0,1.0,1.0,1.0,1.0,1.0,1.0,1.0,1.0,1.0,1.0,1.0,1.0,1.0,1.0,1.0,1.0,1.0,1.0,1.0,1.0,1.0,1.0,1.0,1.0,1.0,1.0,1.0,1.0,1.0,1.0,1.0,1.0,1.0,1.0,1.0,1.0,1.0,1.0,1.0,1.0,1.0,1.0,1.0,1.0,1.0,1.0,1.0,1.0,1.0,1.0,1.0,1.0,1.0,1.0,1.0,1.0,1.0,1.0,1.0,1.0,1.0,1.0,1.0,1.0,1.0,1.0,1.0,1.0,1.0,1.0,1.0,1.0,1.0,1.0,1.0,1.0,1.0,1.0,1.0,1.0,1.0,1.0,1.0,1.0,1.0,1.0,1.0,1.0,1.0,1.0,1.0,1.0,1.0,1.0,1.0,1.0,1.0,1.0,1.0,1.0,1.0,1.0,1.0,1.0,1.0,1.0,1.0,1.0,1.0,1.0,1.0,1.0,1.0,1.0,1.0,1.0,1.0,1.0,1.0,1.0,1.0,1.0,1.0,1.0,1.0,1.0,1.0,1.0,1.0,1.0,1.0,1.0,1.0,1.0,1.0,1.0,1.0,1.0,1.0,1.0,1.0,1.0,1.0,1.0,1.0,1.0,1.0,1.0,1.0,1.0,1.0,1.0,1.0,1.0,1.0,1.0,1.0,1.0,1.0,1.0,1.0,1.0,1.0,1.0,1.0,1.0,1.0,1.0,1.0,1.0,1.0,1.0,1.0,1.0,1.0,1.0,1.0,1.0,1.0,1.0,1.0,1.0,1.0,1.0,1.0,1.0,1.0,1.0,1.0,1.0,1.0,1.0,1.0,1.0,1.0,1.0,1.0,1.0,1.0,1.0,1.0,1.0,1.0,1.0,1.0,1.0,1.0,1.0,1.0,1.0,1.0,1.0,1.0,1.0,1.0,1.0,1.0,1.0,1.0,1.0,1.0,1.0,1.0,1.0,1.0,1.0,1.0,1.0,1.0,1.0,1.0,1.0,1.0,1.0,1.0,1.0,1.0,1.0,1.0,1.0,1.0,1.0,1.0,1.0,1.0,1.0,1.0,1.0,1.0,1.0,1.0,1.0,1.0,1.0,1.0,1.0,1.0,1.0,1.0,1.0,1.0,1.0,1.0,1.0,1.0,1.0,1.0,1.0,1.0,1.0,1.0,1.0,1.0,1.0,1.0,1.0,1.0,1.0,1.0,1.0,1.0,1.0,1.0,1.0,1.0,1.0,1.0,1.0,1.0,1.0,1.0,1.0,1.0,1.0,1.0,1.0,1.0,1.0,1.0,1.0,1.0,1.0,1.0,1.0,1.0,1.0,1.0,1.0,1.0,1.0,1.0,1.0,1.0,1.0,1.0,1.0,1.0,1.0,1.0,1.0,1.0,1.0,1.0,1.0,1.0,1.0,1.0,1.0,1.0,1.0,1.0,1.0,1.0,1.0,1.0,1.0,1.0,1.0,1.0,1.0,1.0,1.0,1.0,1.0,1.0,1.0,1.0,1.0,1.0,1.0,1.0,1.0,1.0,1.0,1.0,1.0,1.0,1.0,1.0,1.0,1.0,1.0,1.0,1.0,1.0,1.0,1.0,1.0,1.0,1.0,1.0,1.0,1.0,1.0,1.0,1.0,1.0,1.0,1.0,1.0,1.0,1.0,1.0,1.0,1.0,1.0,1.0,1.0,1.0,1.0,1.0,1.0,1.0,1.0,1.0,1.0,1.0,1.0,1.0,1.0,1.0,1.0,1.0,1.0,1.0,1.0,1.0,1.0,1.0,1.0,1.0,1.0,1.0,1.0,1.0,1.0,1.0,1.0,1.0,1.0,1.0,1.0,1.0,1.0,1.0,1.0,1.0,1.0,1.0,1.0,1.0,1.0,1.0,1.0,1.0,1.0,1.0,1.0,1.0,1.0,1.0,1.0,1.0,1.0,1.0,1.0,1.0,1.0,1.0,1.0,1.0,1.0,1.0,1.0,1.0,1.0,1.0,1.0,1.0,1.0,1.0,1.0,1.0,1.0,1.0,1.0,1.0,1.0,1.0,1.0,1.0,1.0,1.0,1.0,1.0,1.0,1.0,1.0,1.0,1.0,1.0,1.0,1.0,1.0,1.0,1.0,1.0,1.0,1.0,1.0,1.0,1.0,1.0,1.0,1.0,1.0,1.0,1.0,1.0,1.0,1.0,1.0,1.0,1.0,1.0,1.0,1.0,1.0,1.0,1.0,1.0,1.0,1.0,1.0,1.0,1.0,1.0,1.0,1.0,1.0,1.0,1.0,1.0,1.0,1.0,1.0,1.0,1.0,1.0,1.0,1.0,1.0,1.0,1.0,1.0,1.0,1.0,1.0,1.0,1.0,1.0,1.0,1.0,1.0,1.0,1.0,1.0,1.0,1.0,1.0,1.0,1.0,1.0,1.0,1.0,1.0,1.0,1.0,1.0,1.0,1.0,1.0,1.0,1.0,1.0,1.0,1.0,1.0,1.0,1.0,1.0,1.0,1.0,1.0,1.0,1.0,1.0,1.0,1.0,1.0,1.0,1.0,1.0,1.0,1.0,1.0,1.0,1.0,1.0,1.0,1.0,1.0,1.0,1.0,1.0,1.0,1.0,1.0,1.0,1.0,1.0,1.0,1.0,1.0,1.0,1.0,1.0,1.0,1.0,1.0,1.0,1.0,1.0,1.0,1.0,1.0,1.0,1.0,1.0,1.0,1.0,1.0,1.0,1.0,1.0,1.0,1.0,1.0,1.0,1.0,1.0,1.0,1.0,1.0,1.0,1.0,1.0,1.0,1.0,1.0,1.0,1.0,1.0,1.0,1.0,1.0,1.0,1.0,1.0,1.0,1.0,1.0,1.0,1.0,1.0,1.0,1.0,1.0,1.0,1.0,1.0,1.0,1.0,1.0,1.0,1.0,1.0,1.0,1.0,1.0,1.0,1.0,1.0,1.0,1.0,1.0,1.0,1.0,1.0,1.0,1.0,1.0,1.0,1.0,1.0,1.0,1.0,1.0,1.0,1.0,1.0,1.0,1.0,1.0,1.0,1.0,1.0,1.0,1.0,1.0,1.0,1.0,1.0,1.0,1.0,1.0,1.0,1.0,1.0,1.0,1.0,1.0,1.0,1.0,1.0,1.0,1.0,1.0,1.0,1.0,1.0,1.0,1.0,1.0,1.0,1.0,1.0,1.0,1.0,1.0,1.0,1.0,1.0,1.0,1.0,1.0,1.0,1.0,1.0,1.0,1.0,1.0,1.0,1.0,1.0,1.0,1.0,1.0,1.0,1.0,1.0,1.0,1.0,1.0,1.0,1.0,1.0,1.0,1.0,1.0,1.0,1.0,1.0,1.0,1.0,1.0,1.0,1.0,1.0,1.0,1.0,1.0,1.0,1.0,1.0,1.0,1.0,1.0,1.0,1.0,1.0,1.0,1.0,1.0,1.0,1.0,1.0,1.0,1.0,1.0,1.0,1.0,1.0,1.0,1.0,1.0,1.0,1.0,1.0,1.0,1.0,1.0,1.0,1.0,1.0,1.0,1.0,1.0,1.0,1.0,1.0,1.0,1.0,1.0,1.0,1.0,1.0,1.0,1.0,1.0,1.0,1.0,1.0,1.0,1.0,1.0,1.0,1.0,1.0,1.0,1.0,1.0,1.0,1.0,1.0,1.0,1.0,1.0,1.0,1.0,1.0,1.0,1.0,1.0,1.0,1.0,1.0,1.0,1.0,1.0,1.0,1.0,1.0,1.0,1.0,1.0,1.0,1.0,1.0,1.0,1.0,1.0,1.0,1.0,1.0,1.0,1.0,1.0,1.0,1.0,1.0,1.0,1.0,1.0,1.0,1.0,1.0,1.0,1.0,1.0,1.0,1.0,1.0,1.0,1.0,1.0,1.0,1.0,1.0,1.0,1.0,1.0,1.0,1.0,1.0,1.0,1.0,1.0,1.0,1.0,1.0,1.0,1.0,1.0,1.0,1.0,1.0,1.0,1.0,1.0,1.0,1.0,1.0,1.0,1.0,1.0,1.0,1.0,1.0,1.0,1.0,1.0,1.0,1.0,1.0,1.0,1.0,1.0,1.0,1.0,1.0,1.0,1.0,1.0,1.0,1.0,1.0,1.0,1.0,1.0,1.0,1.0,1.0,1.0,1.0,1.0,1.0,1.0,1.0,1.0,1.0,1.0,1.0,1.0,1.0,1.0,1.0,1.0,1.0,1.0,1.0,1.0,1.0,1.0,1.0,1.0,1.0,1.0,1.0,1.0,1.0,1.0,1.0,1.0,1.0,1.0,1.0,1.0,1.0,1.0,1.0,1.0,1.0,1.0,1.0,1.0,1.0,1.0,1.0,1.0,1.0,1.0,1.0,1.0,1.0,1.0,1.0,1.0,1.0,1.0,1.0,1.0,1.0,1.0,1.0,1.0,1.0,1.0,1.0,1.0,1.0,1.0,1.0,1.0,1.0,1.0,1.0,1.0,1.0,1.0,1.0,1.0,1.0,1.0,1.0,1.0,1.0,1.0,1.0,1.0,1.0,1.0,1.0,1.0,1.0,1.0,1.0,1.0,1.0,1.0,1.0,1.0,1.0,1.0,1.0,1.0,1.0,1.0,1.0,1.0,1.0,1.0,1.0,1.0,1.0,1.0,1.0,1.0,1.0,1.0,1.0,1.0,1.0,1.0,1.0,1.0,1.0,1.0,1.0,1.0,1.0,1.0,1.0,1.0,1.0,1.0,1.0,1.0,1.0,1.0,1.0,1.0,1.0,1.0,1.0,1.0,1.0,1.0,1.0,1.0,1.0,1.0,1.0,1.0,1.0,1.0,1.0,1.0,1.0,1.0,1.0,1.0,1.0,1.0,1.0,1.0,1.0,1.0,1.0,1.0,1.0,1.0,1.0,1.0,1.0,1.0,1.0,1.0,1.0,1.0,1.0,1.0,1.0,1.0,1.0,1.0,1.0,1.0,1.0,1.0,1.0,1.0,1.0,1.0,1.0,1.0,1.0,1.0,1.0,1.0,1.0,1.0,1.0,1.0,1.0,1.0,1.0,1.0,1.0,1.0,1.0,1.0,1.0,1.0,1.0,1.0,1.0,1.0,1.0,1.0,1.0,1.0,1.0,1.0,1.0,1.0,1.0,1.0,1.0,1.0,1.0,1.0,1.0,1.0,1.0,1.0,1.0,1.0,1.0,1.0,1.0,1.0,1.0,1.0,1.0,1.0,1.0,1.0,1.0,1.0,1.0,1.0,1.0,1.0,1.0,1.0,1.0,1.0,1.0,1.0,1.0,1.0,1.0,1.0,1.0,1.0,1.0,1.0,1.0,1.0,1.0,1.0,1.0,1.0,1.0,1.0,1.0,1.0,1.0,1.0,1.0,1.0,1.0,1.0,1.0,1.0,1.0,1.0,1.0,1.0,1.0,1.0,1.0,1.0,1.0,1.0,1.0,1.0,1.0,1.0,1.0,1.0,1.0,1.0,1.0,1.0,1.0,1.0,1.0,1.0,1.0,1.0,1.0,1.0,1.0,1.0,1.0,1.0,1.0,1.0,1.0,1.0,1.0,1.0,1.0,1.0,1.0,1.0,1.0,1.0,1.0,1.0,1.0,1.0,1.0,1.0,1.0,1.0,1.0,1.0,1.0,1.0,1.0,1.0,1.0,1.0,1.0,1.0,1.0,1.0,1.0,1.0,1.0,1.0,1.0,1.0,1.0,1.0,1.0,1.0,1.0,1.0,1.0,1.0,1.0,1.0,1.0,1.0,1.0,1.0,1.0,1.0,1.0,1.0,1.0,1.0,1.0,1.0,1.0,1.0,1.0,1.0,1.0,1.0,1.0,1.0,1.0,1.0,1.0,1.0,1.0,1.0,1.0,1.0,1.0,1.0,1.0,1.0,1.0,1.0,1.0,1.0,1.0,1.0,1.0,1.0,1.0,1.0,1.0,1.0,1.0,1.0,1.0,1.0,1.0,1.0,1.0,1.0,1.0,1.0,1.0,1.0,1.0,1.0,1.0,1.0,1.0,1.0,1.0,1.0,1.0,1.0,1.0,1.0,1.0,1.0,1.0,1.0,1.0,1.0,1.0,1.0,1.0,1.0,1.0,1.0,1.0,1.0,1.0,1.0,1.0,1.0,1.0,1.0,1.0,1.0,1.0,1.0,1.0,1.0,1.0,1.0,1.0,1.0,1.0,1.0,1.0,1.0,1.0,1.0,1.0,1.0,1.0,1.0,1.0,1.0,1.0,1.0,1.0,1.0,1.0,1.0,1.0,1.0,1.0,1.0,1.0,1.0,1.0,1.0,1.0,1.0,1.0,1.0,1.0,1.0,1.0,1.0,1.0,1.0,1.0,1.0,1.0,1.0,1.0,1.0,1.0,1.0,1.0,1.0,1.0,1.0,1.0,1.0,1.0,1.0,1.0,1.0,1.0,1.0,1.0,1.0,1.0,1.0,1.0,1.0,1.0,1.0,1.0,1.0,1.0,1.0,1.0,1.0,1.0,1.0,1.0,1.0,1.0,1.0,1.0,1.0,1.0,1.0,1.0,1.0,1.0,1.0,1.0,1.0,1.0,1.0,1.0,1.0,1.0,1.0,1.0,1.0,1.0,1.0,1.0,1.0,1.0,1.0,1.0,1.0,1.0,1.0,1.0,1.0,1.0,1.0,1.0,1.0,1.0,1.0,1.0,1.0,1.0,1.0,1.0,1.0,1.0,1.0,1.0,1.0,1.0,1.0,1.0,1.0,1.0,1.0,1.0,1.0,1.0,1.0,1.0,1.0,1.0,1.0,1.0,1.0,1.0,1.0,1.0,1.0,1.0,1.0,1.0,1.0,1.0,1.0,1.0,1.0,1.0,1.0,1.0,1.0,1.0,1.0,1.0,1.0,1.0,1.0,1.0,1.0,1.0,1.0,1.0,1.0,1.0,1.0,1.0,1.0,1.0,1.0,1.0,1.0,1.0,1.0,1.0,1.0,1.0,1.0,1.0,1.0,1.0,1.0,1.0,1.0,1.0,1.0,1.0,1.0,1.0,1.0,1.0,1.0,1.0,1.0,1.0,1.0,1.0,1.0,1.0,1.0,1.0,1.0,1.0,1.0,1.0,1.0,1.0,1.0,1.0,1.0,1.0,1.0,1.0,1.0,1.0,1.0,1.0,1.0,1.0,1.0,1.0,1.0,1.0,1.0,1.0,1.0,1.0,1.0,1.0,1.0,1.0,1.0,1.0,1.0,1.0,1.0,1.0,1.0,1.0,1.0,1.0,1.0,1.0,1.0,1.0,1.0,1.0,1.0,1.0,1.0,1.0,1.0,1.0,1.0,1.0,1.0,1.0,1.0,1.0,1.0,1.0,1.0,1.0,1.0,1.0,1.0,1.0,1.0,1.0,1.0,1.0,1.0,1.0,1.0,1.0,1.0,1.0,1.0,1.0,1.0,1.0,1.0,1.0,1.0,1.0,1.0,1.0,1.0,1.0,1.0,1.0,1.0,1.0,1.0,1.0,1.0,1.0,1.0,1.0,1.0,1.0,1.0,1.0,1.0,1.0,1.0,1.0,1.0,1.0,1.0,1.0,1.0,1.0,1.0,1.0,1.0,1.0,1.0,1.0,1.0,1.0,1.0,1.0,1.0,1.0,1.0,1.0,1.0,1.0,1.0,1.0,1.0,1.0,1.0,1.0,1.0,1.0,1.0,1.0,1.0,1.0,1.0,1.0,1.0,1.0,1.0,1.0,1.0,1.0,1.0,1.0,1.0,1.0,1.0,1.0,1.0,1.0,1.0,1.0,1.0,1.0,1.0,1.0,1.0,1.0,1.0,1.0,1.0,1.0,1.0,1.0,1.0,1.0,1.0,1.0,1.0,1.0,1.0,1.0,1.0,1.0,1.0,1.0,1.0,1.0,1.0,1.0,1.0,1.0,1.0,1.0,1.0,1.0,1.0,1.0,1.0,1.0,1.0,1.0,1.0,1.0,1.0,1.0,1.0,1.0,1.0,1.0,1.0,1.0,1.0,1.0,1.0,1.0,1.0,1.0,1.0,1.0,1.0,1.0,1.0,1.0,1.0,1.0,1.0,1.0,1.0,1.0,1.0,1.0,1.0,1.0,1.0,1.0,1.0,1.0,1.0,1.0,1.0,1.0,1.0,1.0,1.0,1.0,1.0,1.0,1.0,1.0,1.0,1.0,1.0,1.0,1.0,1.0,1.0,1.0,1.0,1.0,1.0,1.0,1.0,1.0,1.0,1.0,1.0,1.0,1.0,1.0,1.0,1.0,1.0,1.0,1.0,1.0,1.0,1.0,1.0,1.0,1.0,1.0,1.0,1.0,1.0,1.0,1.0,1.0,1.0,1.0,1.0,1.0,1.0,1.0,1.0,1.0,1.0,1.0,1.0,1.0,1.0,1.0,1.0,1.0,1.0,1.0,1.0,1.0,1.0,1.0,1.0,1.0,1.0,1.0,1.0,1.0,1.0,1.0,1.0,1.0,1.0,1.0,1.0,1.0,1.0,1.0,1.0,1.0,1.0,1.0,1.0,1.0,1.0,1.0,1.0,1.0,1.0,1.0,1.0,1.0,1.0,1.0,1.0,1.0,1.0,1.0,1.0,1.0,1.0,1.0,1.0,1.0,1.0,1.0,1.0,1.0,1.0,1.0,1.0,1.0,1.0,1.0,1.0,1.0,1.0,1.0,1.0,1.0,1.0,1.0,1.0,1.0,1.0,1.0,1.0,1.0,1.0,1.0,1.0,1.0,1.0,1.0,1.0,1.0,1.0,1.0,1.0,1.0,1.0,1.0,1.0,1.0,1.0,1.0,1.0,1.0,1.0,1.0,1.0,1.0,1.0,1.0,1.0,1.0,1.0,1.0,1.0,1.0,1.0,1.0,1.0,1.0,1.0,1.0,1.0,1.0,1.0,1.0,1.0,1.0,1.0,1.0,1.0,1.0,1.0,1.0,1.0,1.0,1.0,1.0,1.0,1.0,1.0,1.0,1.0,1.0,1.0,1.0,1.0,1.0,1.0,1.0,1.0,1.0,1.0,1.0,1.0,1.0,1.0,1.0,1.0,1.0,1.0,1.0,1.0,1.0,1.0,1.0,1.0,1.0,1.0,1.0,1.0,1.0,1.0,1.0,1.0,1.0,1.0,1.0,1.0,1.0,1.0,1.0,1.0,1.0,1.0,1.0,1.0,1.0,1.0,1.0,1.0,1.0,1.0,1.0,1.0,1.0,1.0,1.0,1.0,1.0,1.0,1.0,1.0,1.0,1.0,1.0,1.0,1.0,1.0,1.0,1.0,1.0,1.0,1.0,1.0,1.0,1.0,1.0,1.0,1.0,1.0,1.0,1.0,1.0,1.0,1.0,1.0,1.0,1.0,1.0,1.0,1.0,1.0,1.0,1.0,1.0,1.0,1.0,1.0,1.0,1.0,1.0,1.0,1.0,1.0,1.0,1.0,1.0,1.0,1.0,1.0,1.0,1.0,1.0,1.0,1.0,1.0,1.0,1.0,1.0,1.0,1.0,1.0,1.0,1.0,1.0,1.0,1.0,1.0,1.0,1.0,1.0,1.0,1.0,1.0,1.0,1.0,1.0,1.0,1.0,1.0,1.0,1.0,1.0,1.0,1.0,1.0,1.0,1.0,1.0,1.0,1.0,1.0,1.0,1.0,1.0,1.0,1.0,1.0,1.0,1.0,1.0,1.0,1.0,1.0,1.0,1.0,1.0,1.0,1.0,1.0,1.0,1.0,1.0,1.0,1.0,1.0,1.0,1.0,1.0,1.0,1.0,1.0,1.0,1.0,1.0,1.0,1.0,1.0,1.0,1.0,1.0,1.0,1.0,1.0,1.0,1.0,1.0,1.0,1.0,1.0,1.0,1.0,1.0,1.0,1.0,1.0,1.0,1.0,1.0,1.0,1.0,1.0,1.0,1.0,1.0,1.0,1.0,1.0,1.0,1.0,1.0,1.0,1.0,1.0,1.0,1.0,1.0,1.0,1.0,1.0,1.0,1.0,1.0,1.0,1.0,1.0,1.0,1.0,1.0,1.0,1.0,1.0,1.0,1.0,1.0,1.0,1.0,1.0,1.0,1.0,1.0,1.0,1.0,1.0,1.0,1.0,1.0,1.0,1.0,1.0,1.0,1.0,1.0,1.0,1.0,1.0,1.0,1.0,1.0,1.0,1.0,1.0,1.0,1.0,1.0,1.0,1.0,1.0,1.0,1.0,1.0,1.0,1.0,1.0,1.0,1.0,1.0,1.0,1.0,1.0,1.0,1.0,1.0,1.0,1.0,1.0,1.0,1.0,1.0,1.0,1.0,1.0,1.0,1.0,1.0,1.0,1.0,1.0,1.0,1.0,1.0,1.0,1.0,1.0,1.0,1.0,1.0,1.0,1.0,1.0,1.0,1.0,1.0,1.0,1.0,1.0,1.0,1.0,1.0,1.0,1.0,1.0,1.0,1.0,1.0,1.0,1.0,1.0,1.0,1.0,1.0,1.0,1.0,1.0,1.0,1.0,1.0,1.0,1.0,1.0,1.0,1.0,1.0,1.0,1.0,1.0,1.0,1.0,1.0,1.0,1.0,1.0,1.0,1.0,1.0,1.0,1.0,1.0,1.0,1.0,1.0,1.0,1.0,1.0,1.0,1.0,1.0,1.0,1.0,1.0,1.0,1.0,1.0,1.0,1.0,1.0,1.0,1.0,1.0,1.0,1.0,1.0,1.0,1.0,1.0,1.0,1.0,1.0,1.0,1.0,1.0,1.0,1.0,1.0,1.0,1.0,1.0,1.0,1.0,1.0,1.0,1.0,1.0,1.0,1.0,1.0,1.0,1.0,1.0,1.0,1.0,1.0,1.0,1.0,1.0,1.0,1.0,1.0,1.0,1.0,1.0,1.0,1.0,1.0,1.0,1.0,1.0,1.0,1.0,1.0,1.0,1.0,1.0,1.0,1.0,1.0,1.0,1.0,1.0,1.0,1.0,1.0,1.0,1.0,1.0,1.0,1.0,1.0,1.0,1.0,1.0,1.0,1.0,1.0,1.0,1.0,1.0,1.0,1.0,1.0,1.0,1.0,1.0,1.0,1.0,1.0,1.0,1.0,1.0,1.0,1.0,1.0,1.0,1.0,1.0,1.0,1.0,1.0,1.0,1.0,1.0,1.0,1.0,1.0,1.0,1.0,1.0,1.0,1.0,1.0,1.0,1.0,1.0,1.0,1.0,1.0,1.0,1.0,1.0,1.0,1.0,1.0,1.0,1.0,1.0,1.0,1.0,1.0,1.0,1.0,1.0,1.0,1.0,1.0,1.0,1.0,1.0,1.0,1.0,1.0,1.0,1.0,1.0,1.0,1.0,1.0,1.0,1.0,1.0,1.0,1.0,1.0,1.0,1.0,1.0,1.0,1.0,1.0,1.0,1.0,1.0,1.0,1.0,1.0,1.0,1.0,1.0,1.0,1.0,1.0,1.0,1.0,1.0,1.0,1.0,1.0,1.0,1.0,1.0,1.0,1.0,1.0,1.0,1.0,1.0,1.0,1.0,1.0,1.0,1.0,1.0,1.0,1.0,1.0,1.0,1.0,1.0,1.0,1.0,1.0,1.0,1.0,1.0,1.0,1.0,1.0,1.0,1.0,1.0,1.0,1.0,1.0,1.0,1.0,1.0,1.0,1.0,1.0,1.0,1.0,1.0,1.0,1.0,1.0,1.0,1.0,1.0,1.0,1.0,1.0,1.0,1.0,1.0,1.0,1.0,1.0,1.0,1.0,1.0,1.0,1.0,1.0,1.0,1.0,1.0,1.0,1.0,1.0,1.0,1.0,1.0,1.0,1.0,1.0,1.0,1.0,1.0,1.0,1.0,1.0,1.0,1.0,1.0,1.0,1.0,1.0,1.0,1.0,1.0,1.0,1.0,1.0,1.0,1.0,1.0,1.0,1.0,1.0,1.0,1.0,1.0,1.0,1.0,1.0,1.0,1.0,1.0,1.0,1.0,1.0,1.0,1.0,1.0,1.0,1.0,1.0,1.0,1.0,1.0,1.0,1.0,1.0,1.0,1.0,1.0,1.0,1.0,1.0,1.0,1.0,1.0,1.0,1.0,1.0,1.0,1.0,1.0,1.0,1.0,1.0,1.0,1.0,1.0,1.0,1.0,1.0,1.0,1.0,1.0,1.0,1.0,1.0,1.0,1.0,1.0,1.0,1.0,1.0,1.0,1.0,1.0,1.0,1.0,1.0,1.0,1.0,1.0,1.0,1.0,1.0,1.0,1.0,1.0,1.0,1.0,1.0,1.0,1.0,1.0,1.0,1.0,1.0,1.0,1.0,1.0,1.0,1.0,1.0,1.0,1.0,1.0,1.0,1.0,1.0,1.0,1.0,1.0,1.0,1.0,1.0,1.0,1.0,1.0,1.0,1.0,1.0,1.0,1.0,1.0,1.0,1.0,1.0,1.0,1.0,1.0,1.0,1.0,1.0,1.0,1.0,1.0,1.0,1.0,1.0,1.0,1.0,1.0,1.0,1.0,1.0,1.0,1.0,1.0,1.0,1.0,1.0,1.0,1.0,1.0,1.0,1.0,1.0,1.0,1.0,1.0,1.0,1.0,1.0,1.0,1.0,1.0,1.0,1.0,1.0,1.0,1.0,1.0,1.0,1.0,1.0,1.0,1.0,1.0,1.0,1.0,1.0,1.0,1.0,1.0,1.0,1.0,1.0,1.0,1.0,1.0,1.0,1.0,1.0,1.0,1.0,1.0,1.0,1.0,1.0,1.0,1.0,1.0,1.0,1.0,1.0,1.0,1.0,1.0,1.0,1.0,1.0,1.0,1.0,1.0,1.0,1.0,1.0,1.0,1.0,1.0,1.0,1.0,1.0,1.0,1.0,1.0,1.0,1.0,1.0,1.0,1.0,1.0,1.0,1.0,1.0,1.0,1.0,1.0,1.0,1.0,1.0,1.0,1.0,1.0,1.0,1.0,1.0,1.0,1.0,1.0,1.0,1.0,1.0,1.0,1.0,1.0,1.0,1.0,1.0,1.0,1.0,1.0,1.0,1.0,1.0,1.0,1.0,1.0,1.0,1.0,1.0,1.0,1.0,1.0,1.0,1.0,1.0,1.0,1.0,1.0,1.0,1.0,1.0,1.0,1.0,1.0,1.0,1.0,1.0,1.0,1.0,1.0,1.0,1.0,1.0,1.0,1.0,1.0,1.0,1.0,1.0,1.0,1.0,1.0,1.0,1.0,1.0,1.0,1.0,1.0,1.0,1.0,1.0,1.0,1.0,1.0,1.0,1.0,1.0,1.0,1.0,1.0,1.0,1.0,1.0,1.0,1.0,1.0,1.0,1.0,1.0,1.0,1.0,1.0,1.0,1.0,1.0,1.0,1.0,1.0,1.0,1.0,1.0,1.0,1.0,1.0,1.0,1.0,1.0,1.0,1.0,1.0,1.0,1.0,1.0,1.0,1.0,1.0,1.0,1.0,1.0,1.0,1.0,1.0,1.0,1.0,1.0,1.0,1.0,1.0,1.0,1.0,1.0,1.0,1.0,1.0,1.0,1.0,1.0,1.0,1.0,1.0,1.0,1.0,1.0,1.0,1.0,1.0,1.0,1.0,1.0,1.0,1.0,1.0,1.0,1.0,1.0,1.0,1.0,1.0,1.0,1.0,1.0,1.0,1.0,1.0,1.0,1.0,1.0,1.0,1.0,1.0,1.0,1.0,1.0,1.0,1.0,1.0,1.0,1.0,1.0,1.0,1.0,1.0,1.0,1.0,1.0,1.0,1.0,1.0,1.0,1.0,1.0,1.0,1.0,1.0,1.0,1.0,1.0,1.0,1.0,1.0,1.0,1.0,1.0,1.0,1.0,1.0,1.0,1.0,1.0,1.0,1.0,1.0,1.0,1.0,1.0,1.0,1.0,1.0,1.0,1.0,1.0,1.0,1.0,1.0,1.0,1.0,1.0,1.0,1.0,1.0,1.0,1.0,1.0,1.0,1.0,1.0,1.0,1.0,1.0,1.0,1.0,1.0,1.0,1.0,1.0,1.0,1.0,1.0,1.0,1.0,1.0,1.0,1.0,1.0,1.0,1.0,1.0,1.0,1.0,1.0,1.0,1.0,1.0,1.0,1.0,1.0,1.0,1.0,1.0,1.0,1.0,1.0,1.0,1.0,1.0,1.0,1.0,1.0,1.0,1.0,1.0,1.0,1.0,1.0,1.0,1.0,1.0,1.0,1.0,1.0,1.0,1.0,1.0,1.0,1.0,1.0,1.0,1.0,1.0,1.0,1.0,1.0,1.0,1.0,1.0,1.0,1.0,1.0,1.0,1.0,1.0,1.0,1.0,1.0,1.0,1.0,1.0,1.0,1.0,1.0,1.0,1.0,1.0,1.0,1.0],\"type\":\"pie\"}],                        {\"template\":{\"data\":{\"histogram2dcontour\":[{\"type\":\"histogram2dcontour\",\"colorbar\":{\"outlinewidth\":0,\"ticks\":\"\"},\"colorscale\":[[0.0,\"#0d0887\"],[0.1111111111111111,\"#46039f\"],[0.2222222222222222,\"#7201a8\"],[0.3333333333333333,\"#9c179e\"],[0.4444444444444444,\"#bd3786\"],[0.5555555555555556,\"#d8576b\"],[0.6666666666666666,\"#ed7953\"],[0.7777777777777778,\"#fb9f3a\"],[0.8888888888888888,\"#fdca26\"],[1.0,\"#f0f921\"]]}],\"choropleth\":[{\"type\":\"choropleth\",\"colorbar\":{\"outlinewidth\":0,\"ticks\":\"\"}}],\"histogram2d\":[{\"type\":\"histogram2d\",\"colorbar\":{\"outlinewidth\":0,\"ticks\":\"\"},\"colorscale\":[[0.0,\"#0d0887\"],[0.1111111111111111,\"#46039f\"],[0.2222222222222222,\"#7201a8\"],[0.3333333333333333,\"#9c179e\"],[0.4444444444444444,\"#bd3786\"],[0.5555555555555556,\"#d8576b\"],[0.6666666666666666,\"#ed7953\"],[0.7777777777777778,\"#fb9f3a\"],[0.8888888888888888,\"#fdca26\"],[1.0,\"#f0f921\"]]}],\"heatmap\":[{\"type\":\"heatmap\",\"colorbar\":{\"outlinewidth\":0,\"ticks\":\"\"},\"colorscale\":[[0.0,\"#0d0887\"],[0.1111111111111111,\"#46039f\"],[0.2222222222222222,\"#7201a8\"],[0.3333333333333333,\"#9c179e\"],[0.4444444444444444,\"#bd3786\"],[0.5555555555555556,\"#d8576b\"],[0.6666666666666666,\"#ed7953\"],[0.7777777777777778,\"#fb9f3a\"],[0.8888888888888888,\"#fdca26\"],[1.0,\"#f0f921\"]]}],\"heatmapgl\":[{\"type\":\"heatmapgl\",\"colorbar\":{\"outlinewidth\":0,\"ticks\":\"\"},\"colorscale\":[[0.0,\"#0d0887\"],[0.1111111111111111,\"#46039f\"],[0.2222222222222222,\"#7201a8\"],[0.3333333333333333,\"#9c179e\"],[0.4444444444444444,\"#bd3786\"],[0.5555555555555556,\"#d8576b\"],[0.6666666666666666,\"#ed7953\"],[0.7777777777777778,\"#fb9f3a\"],[0.8888888888888888,\"#fdca26\"],[1.0,\"#f0f921\"]]}],\"contourcarpet\":[{\"type\":\"contourcarpet\",\"colorbar\":{\"outlinewidth\":0,\"ticks\":\"\"}}],\"contour\":[{\"type\":\"contour\",\"colorbar\":{\"outlinewidth\":0,\"ticks\":\"\"},\"colorscale\":[[0.0,\"#0d0887\"],[0.1111111111111111,\"#46039f\"],[0.2222222222222222,\"#7201a8\"],[0.3333333333333333,\"#9c179e\"],[0.4444444444444444,\"#bd3786\"],[0.5555555555555556,\"#d8576b\"],[0.6666666666666666,\"#ed7953\"],[0.7777777777777778,\"#fb9f3a\"],[0.8888888888888888,\"#fdca26\"],[1.0,\"#f0f921\"]]}],\"surface\":[{\"type\":\"surface\",\"colorbar\":{\"outlinewidth\":0,\"ticks\":\"\"},\"colorscale\":[[0.0,\"#0d0887\"],[0.1111111111111111,\"#46039f\"],[0.2222222222222222,\"#7201a8\"],[0.3333333333333333,\"#9c179e\"],[0.4444444444444444,\"#bd3786\"],[0.5555555555555556,\"#d8576b\"],[0.6666666666666666,\"#ed7953\"],[0.7777777777777778,\"#fb9f3a\"],[0.8888888888888888,\"#fdca26\"],[1.0,\"#f0f921\"]]}],\"mesh3d\":[{\"type\":\"mesh3d\",\"colorbar\":{\"outlinewidth\":0,\"ticks\":\"\"}}],\"scatter\":[{\"fillpattern\":{\"fillmode\":\"overlay\",\"size\":10,\"solidity\":0.2},\"type\":\"scatter\"}],\"parcoords\":[{\"type\":\"parcoords\",\"line\":{\"colorbar\":{\"outlinewidth\":0,\"ticks\":\"\"}}}],\"scatterpolargl\":[{\"type\":\"scatterpolargl\",\"marker\":{\"colorbar\":{\"outlinewidth\":0,\"ticks\":\"\"}}}],\"bar\":[{\"error_x\":{\"color\":\"#2a3f5f\"},\"error_y\":{\"color\":\"#2a3f5f\"},\"marker\":{\"line\":{\"color\":\"#E5ECF6\",\"width\":0.5},\"pattern\":{\"fillmode\":\"overlay\",\"size\":10,\"solidity\":0.2}},\"type\":\"bar\"}],\"scattergeo\":[{\"type\":\"scattergeo\",\"marker\":{\"colorbar\":{\"outlinewidth\":0,\"ticks\":\"\"}}}],\"scatterpolar\":[{\"type\":\"scatterpolar\",\"marker\":{\"colorbar\":{\"outlinewidth\":0,\"ticks\":\"\"}}}],\"histogram\":[{\"marker\":{\"pattern\":{\"fillmode\":\"overlay\",\"size\":10,\"solidity\":0.2}},\"type\":\"histogram\"}],\"scattergl\":[{\"type\":\"scattergl\",\"marker\":{\"colorbar\":{\"outlinewidth\":0,\"ticks\":\"\"}}}],\"scatter3d\":[{\"type\":\"scatter3d\",\"line\":{\"colorbar\":{\"outlinewidth\":0,\"ticks\":\"\"}},\"marker\":{\"colorbar\":{\"outlinewidth\":0,\"ticks\":\"\"}}}],\"scattermapbox\":[{\"type\":\"scattermapbox\",\"marker\":{\"colorbar\":{\"outlinewidth\":0,\"ticks\":\"\"}}}],\"scatterternary\":[{\"type\":\"scatterternary\",\"marker\":{\"colorbar\":{\"outlinewidth\":0,\"ticks\":\"\"}}}],\"scattercarpet\":[{\"type\":\"scattercarpet\",\"marker\":{\"colorbar\":{\"outlinewidth\":0,\"ticks\":\"\"}}}],\"carpet\":[{\"aaxis\":{\"endlinecolor\":\"#2a3f5f\",\"gridcolor\":\"white\",\"linecolor\":\"white\",\"minorgridcolor\":\"white\",\"startlinecolor\":\"#2a3f5f\"},\"baxis\":{\"endlinecolor\":\"#2a3f5f\",\"gridcolor\":\"white\",\"linecolor\":\"white\",\"minorgridcolor\":\"white\",\"startlinecolor\":\"#2a3f5f\"},\"type\":\"carpet\"}],\"table\":[{\"cells\":{\"fill\":{\"color\":\"#EBF0F8\"},\"line\":{\"color\":\"white\"}},\"header\":{\"fill\":{\"color\":\"#C8D4E3\"},\"line\":{\"color\":\"white\"}},\"type\":\"table\"}],\"barpolar\":[{\"marker\":{\"line\":{\"color\":\"#E5ECF6\",\"width\":0.5},\"pattern\":{\"fillmode\":\"overlay\",\"size\":10,\"solidity\":0.2}},\"type\":\"barpolar\"}],\"pie\":[{\"automargin\":true,\"type\":\"pie\"}]},\"layout\":{\"autotypenumbers\":\"strict\",\"colorway\":[\"#636efa\",\"#EF553B\",\"#00cc96\",\"#ab63fa\",\"#FFA15A\",\"#19d3f3\",\"#FF6692\",\"#B6E880\",\"#FF97FF\",\"#FECB52\"],\"font\":{\"color\":\"#2a3f5f\"},\"hovermode\":\"closest\",\"hoverlabel\":{\"align\":\"left\"},\"paper_bgcolor\":\"white\",\"plot_bgcolor\":\"#E5ECF6\",\"polar\":{\"bgcolor\":\"#E5ECF6\",\"angularaxis\":{\"gridcolor\":\"white\",\"linecolor\":\"white\",\"ticks\":\"\"},\"radialaxis\":{\"gridcolor\":\"white\",\"linecolor\":\"white\",\"ticks\":\"\"}},\"ternary\":{\"bgcolor\":\"#E5ECF6\",\"aaxis\":{\"gridcolor\":\"white\",\"linecolor\":\"white\",\"ticks\":\"\"},\"baxis\":{\"gridcolor\":\"white\",\"linecolor\":\"white\",\"ticks\":\"\"},\"caxis\":{\"gridcolor\":\"white\",\"linecolor\":\"white\",\"ticks\":\"\"}},\"coloraxis\":{\"colorbar\":{\"outlinewidth\":0,\"ticks\":\"\"}},\"colorscale\":{\"sequential\":[[0.0,\"#0d0887\"],[0.1111111111111111,\"#46039f\"],[0.2222222222222222,\"#7201a8\"],[0.3333333333333333,\"#9c179e\"],[0.4444444444444444,\"#bd3786\"],[0.5555555555555556,\"#d8576b\"],[0.6666666666666666,\"#ed7953\"],[0.7777777777777778,\"#fb9f3a\"],[0.8888888888888888,\"#fdca26\"],[1.0,\"#f0f921\"]],\"sequentialminus\":[[0.0,\"#0d0887\"],[0.1111111111111111,\"#46039f\"],[0.2222222222222222,\"#7201a8\"],[0.3333333333333333,\"#9c179e\"],[0.4444444444444444,\"#bd3786\"],[0.5555555555555556,\"#d8576b\"],[0.6666666666666666,\"#ed7953\"],[0.7777777777777778,\"#fb9f3a\"],[0.8888888888888888,\"#fdca26\"],[1.0,\"#f0f921\"]],\"diverging\":[[0,\"#8e0152\"],[0.1,\"#c51b7d\"],[0.2,\"#de77ae\"],[0.3,\"#f1b6da\"],[0.4,\"#fde0ef\"],[0.5,\"#f7f7f7\"],[0.6,\"#e6f5d0\"],[0.7,\"#b8e186\"],[0.8,\"#7fbc41\"],[0.9,\"#4d9221\"],[1,\"#276419\"]]},\"xaxis\":{\"gridcolor\":\"white\",\"linecolor\":\"white\",\"ticks\":\"\",\"title\":{\"standoff\":15},\"zerolinecolor\":\"white\",\"automargin\":true,\"zerolinewidth\":2},\"yaxis\":{\"gridcolor\":\"white\",\"linecolor\":\"white\",\"ticks\":\"\",\"title\":{\"standoff\":15},\"zerolinecolor\":\"white\",\"automargin\":true,\"zerolinewidth\":2},\"scene\":{\"xaxis\":{\"backgroundcolor\":\"#E5ECF6\",\"gridcolor\":\"white\",\"linecolor\":\"white\",\"showbackground\":true,\"ticks\":\"\",\"zerolinecolor\":\"white\",\"gridwidth\":2},\"yaxis\":{\"backgroundcolor\":\"#E5ECF6\",\"gridcolor\":\"white\",\"linecolor\":\"white\",\"showbackground\":true,\"ticks\":\"\",\"zerolinecolor\":\"white\",\"gridwidth\":2},\"zaxis\":{\"backgroundcolor\":\"#E5ECF6\",\"gridcolor\":\"white\",\"linecolor\":\"white\",\"showbackground\":true,\"ticks\":\"\",\"zerolinecolor\":\"white\",\"gridwidth\":2}},\"shapedefaults\":{\"line\":{\"color\":\"#2a3f5f\"}},\"annotationdefaults\":{\"arrowcolor\":\"#2a3f5f\",\"arrowhead\":0,\"arrowwidth\":1},\"geo\":{\"bgcolor\":\"white\",\"landcolor\":\"#E5ECF6\",\"subunitcolor\":\"white\",\"showland\":true,\"showlakes\":true,\"lakecolor\":\"white\"},\"title\":{\"x\":0.05},\"mapbox\":{\"style\":\"light\"}}},\"legend\":{\"tracegroupgap\":0},\"title\":{\"text\":\"Best Region\"},\"piecolorway\":[\"#0d0887\",\"#46039f\",\"#7201a8\",\"#9c179e\",\"#bd3786\",\"#d8576b\",\"#ed7953\",\"#fb9f3a\",\"#fdca26\",\"#f0f921\"]},                        {\"responsive\": true}                    ).then(function(){\n",
       "                            \n",
       "var gd = document.getElementById('c2187b2c-366e-4706-afdc-3b1b1f5b8b26');\n",
       "var x = new MutationObserver(function (mutations, observer) {{\n",
       "        var display = window.getComputedStyle(gd).display;\n",
       "        if (!display || display === 'none') {{\n",
       "            console.log([gd, 'removed!']);\n",
       "            Plotly.purge(gd);\n",
       "            observer.disconnect();\n",
       "        }}\n",
       "}});\n",
       "\n",
       "// Listen for the removal of the full notebook cells\n",
       "var notebookContainer = gd.closest('#notebook-container');\n",
       "if (notebookContainer) {{\n",
       "    x.observe(notebookContainer, {childList: true});\n",
       "}}\n",
       "\n",
       "// Listen for the clearing of the current output cell\n",
       "var outputEl = gd.closest('.output');\n",
       "if (outputEl) {{\n",
       "    x.observe(outputEl, {childList: true});\n",
       "}}\n",
       "\n",
       "                        })                };                });            </script>        </div>"
      ]
     },
     "metadata": {},
     "output_type": "display_data"
    }
   ],
   "source": [
    "df_region = px.pie(df, values=np.ones(9799),names='Region',title='Best Region',color_discrete_sequence=px.colors.sequential.Plasma)\n",
    "df_region.show()"
   ]
  },
  {
   "cell_type": "markdown",
   "id": "9b17a4c4",
   "metadata": {
    "papermill": {
     "duration": 0.025297,
     "end_time": "2023-08-03T15:12:49.923831",
     "exception": false,
     "start_time": "2023-08-03T15:12:49.898534",
     "status": "completed"
    },
    "tags": []
   },
   "source": [
    "<font size=\"5\">West region has the most sales</font>"
   ]
  },
  {
   "cell_type": "markdown",
   "id": "32787598",
   "metadata": {
    "papermill": {
     "duration": 0.024642,
     "end_time": "2023-08-03T15:12:49.974181",
     "exception": false,
     "start_time": "2023-08-03T15:12:49.949539",
     "status": "completed"
    },
    "tags": []
   },
   "source": [
    "**<font size=\"5\">Best Ship mode</font>**"
   ]
  },
  {
   "cell_type": "code",
   "execution_count": 27,
   "id": "4cfbba5a",
   "metadata": {
    "execution": {
     "iopub.execute_input": "2023-08-03T15:12:50.026642Z",
     "iopub.status.busy": "2023-08-03T15:12:50.026217Z",
     "iopub.status.idle": "2023-08-03T15:12:50.216262Z",
     "shell.execute_reply": "2023-08-03T15:12:50.214621Z"
    },
    "papermill": {
     "duration": 0.221508,
     "end_time": "2023-08-03T15:12:50.220871",
     "exception": false,
     "start_time": "2023-08-03T15:12:49.999363",
     "status": "completed"
    },
    "tags": []
   },
   "outputs": [
    {
     "data": {
      "text/plain": [
       "<Axes: ylabel='Ship Mode'>"
      ]
     },
     "execution_count": 27,
     "metadata": {},
     "output_type": "execute_result"
    },
    {
     "data": {
      "image/png": "[encoded data removed]",
      "text/plain": [
       "<Figure size 640x480 with 1 Axes>"
      ]
     },
     "metadata": {},
     "output_type": "display_data"
    }
   ],
   "source": [
    "df['Ship Mode'].value_counts().plot.pie()"
   ]
  },
  {
   "cell_type": "markdown",
   "id": "3d95b739",
   "metadata": {
    "papermill": {
     "duration": 0.026192,
     "end_time": "2023-08-03T15:12:50.302439",
     "exception": false,
     "start_time": "2023-08-03T15:12:50.276247",
     "status": "completed"
    },
    "tags": []
   },
   "source": [
    "<font size=\"5\">Standard Class is the most used ship mode</font>"
   ]
  },
  {
   "cell_type": "markdown",
   "id": "0e3999ae",
   "metadata": {
    "papermill": {
     "duration": 0.02589,
     "end_time": "2023-08-03T15:12:50.354456",
     "exception": false,
     "start_time": "2023-08-03T15:12:50.328566",
     "status": "completed"
    },
    "tags": []
   },
   "source": [
    "**<font size=\"5\">Best Category according to Region</font>**"
   ]
  },
  {
   "cell_type": "code",
   "execution_count": 28,
   "id": "62e37b63",
   "metadata": {
    "execution": {
     "iopub.execute_input": "2023-08-03T15:12:50.408627Z",
     "iopub.status.busy": "2023-08-03T15:12:50.407697Z",
     "iopub.status.idle": "2023-08-03T15:12:50.695751Z",
     "shell.execute_reply": "2023-08-03T15:12:50.694422Z"
    },
    "papermill": {
     "duration": 0.318234,
     "end_time": "2023-08-03T15:12:50.698300",
     "exception": false,
     "start_time": "2023-08-03T15:12:50.380066",
     "status": "completed"
    },
    "tags": []
   },
   "outputs": [
    {
     "name": "stderr",
     "output_type": "stream",
     "text": [
      "/tmp/ipykernel_20/3976042094.py:1: FutureWarning:\n",
      "\n",
      "The default value of numeric_only in DataFrameGroupBy.sum is deprecated. In a future version, numeric_only will default to False. Either specify numeric_only or select only columns which should be valid for the function.\n",
      "\n"
     ]
    },
    {
     "data": {
      "image/png": "[encoded data removed]",
      "text/plain": [
       "<Figure size 640x480 with 1 Axes>"
      ]
     },
     "metadata": {},
     "output_type": "display_data"
    }
   ],
   "source": [
    "top_region= df.groupby([\"Region\",\"Category\"]).sum().sort_values(\"Sales\",ascending=False).head(100)\n",
    "top_region= top_region[['Sales']].round(2)\n",
    "top_region.reset_index(inplace=True)\n",
    "sns.barplot(x='Region',y='Sales',hue='Category',data=top_region)\n",
    "plt.show()"
   ]
  },
  {
   "cell_type": "markdown",
   "id": "9f29bb4c",
   "metadata": {
    "papermill": {
     "duration": 0.025289,
     "end_time": "2023-08-03T15:12:50.748110",
     "exception": false,
     "start_time": "2023-08-03T15:12:50.722821",
     "status": "completed"
    },
    "tags": []
   },
   "source": [
    "****"
   ]
  },
  {
   "cell_type": "markdown",
   "id": "bab7f74e",
   "metadata": {
    "papermill": {
     "duration": 0.024485,
     "end_time": "2023-08-03T15:12:50.797342",
     "exception": false,
     "start_time": "2023-08-03T15:12:50.772857",
     "status": "completed"
    },
    "tags": []
   },
   "source": [
    "<font size=\"5\">In every region, Technological products have the most sales</font>"
   ]
  }
 ],
 "metadata": {
  "kernelspec": {
   "display_name": "Python 3",
   "language": "python",
   "name": "python3"
  },
  "language_info": {
   "codemirror_mode": {
    "name": "ipython",
    "version": 3
   },
   "file_extension": ".py",
   "mimetype": "text/x-python",
   "name": "python",
   "nbconvert_exporter": "python",
   "pygments_lexer": "ipython3",
   "version": "3.10.12"
  },
  "papermill": {
   "default_parameters": {},
   "duration": 23.403726,
   "end_time": "2023-08-03T15:12:52.148698",
   "environment_variables": {},
   "exception": null,
   "input_path": "__notebook__.ipynb",
   "output_path": "__notebook__.ipynb",
   "parameters": {},
   "start_time": "2023-08-03T15:12:28.744972",
   "version": "2.4.0"
  }
 },
 "nbformat": 4,
 "nbformat_minor": 5
}
